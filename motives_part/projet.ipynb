{
 "cells": [
  {
   "cell_type": "code",
   "execution_count": 1,
   "metadata": {},
   "outputs": [],
   "source": [
    "import pandas as pd\n",
    "import numpy as np\n",
    "import matplotlib.pyplot as plt\n",
    "\n",
    "from sklearn import preprocessing\n",
    "from sklearn.model_selection import train_test_split\n",
    "\n",
    "\n",
    "from sklearn.datasets import make_classification\n",
    "from sklearn.feature_selection import SelectKBest , f_classif ,VarianceThreshold\n",
    "from sklearn.preprocessing import PolynomialFeatures\n",
    "from sklearn.linear_model import LogisticRegression\n",
    "from sklearn.svm import LinearSVC ,SVC\n",
    "\n",
    "from sklearn import neighbors\n",
    "from sklearn import metrics\n",
    "\n",
    "\n",
    "from sklearn.model_selection import GridSearchCV ,validation_curve\n",
    "\n",
    "\n",
    "\n",
    "\n",
    "from sklearn.ensemble import RandomForestClassifier , AdaBoostClassifier\n",
    "\n",
    "from sklearn.pipeline import make_pipeline\n",
    "\n",
    "\n",
    "\n",
    "from sklearn.metrics import f1_score,confusion_matrix,classification_report\n",
    "from sklearn.model_selection import validation_curve\n",
    "from sklearn.model_selection import GridSearchCV\n",
    "\n",
    "from sklearn.neighbors import KNeighborsClassifier\n",
    "from sklearn.metrics import precision_recall_curve,recall_score\n",
    "from sklearn.model_selection import learning_curve\n",
    "\n"
   ]
  },
  {
   "cell_type": "code",
   "execution_count": 2,
   "metadata": {},
   "outputs": [],
   "source": [
    "#Lecture des données\n",
    "df = pd.read_excel(\"/home/congo/Bureau/2022-m1-staps/motives_part/data_motives_final.xlsx\",\"haller\") "
   ]
  },
  {
   "cell_type": "code",
   "execution_count": 3,
   "metadata": {},
   "outputs": [],
   "source": [
    "#stoker le nom des colonnes\n",
    "column_name = [c for c in df]\n"
   ]
  },
  {
   "cell_type": "code",
   "execution_count": 25,
   "metadata": {},
   "outputs": [
    {
     "data": {
      "text/plain": [
       "(1075, 36)"
      ]
     },
     "execution_count": 25,
     "metadata": {},
     "output_type": "execute_result"
    }
   ],
   "source": [
    "df_perso"
   ]
  },
  {
   "cell_type": "code",
   "execution_count": 5,
   "metadata": {},
   "outputs": [],
   "source": [
    "\n",
    "df['Sexe'] = df['Sexe'].map({'Boy': 0 ,\n",
    "                             'Girl': 1},\n",
    "                             na_action=None)\n",
    "                             \n",
    "\n",
    "newdf = df.sort_values(by='Sexe')\n",
    "\n",
    "\n"
   ]
  },
  {
   "cell_type": "code",
   "execution_count": 6,
   "metadata": {},
   "outputs": [],
   "source": [
    "# with pd.ExcelWriter('newdf.xlsx') as writer:\n",
    "#      newdf.to_excel(writer, freeze_panes=(1,1))"
   ]
  },
  {
   "cell_type": "code",
   "execution_count": 7,
   "metadata": {},
   "outputs": [
    {
     "name": "stdout",
     "output_type": "stream",
     "text": [
      "0.0\n",
      "1.0\n"
     ]
    }
   ],
   "source": [
    "print(newdf.loc[495,'Sexe'])\n",
    "print(newdf.loc[496,'Sexe'])\n"
   ]
  },
  {
   "cell_type": "code",
   "execution_count": 8,
   "metadata": {},
   "outputs": [],
   "source": [
    "# print(newdf.shape)"
   ]
  },
  {
   "cell_type": "code",
   "execution_count": 9,
   "metadata": {},
   "outputs": [],
   "source": [
    "df_boy = newdf[:495]\n",
    "# print(df_boy.loc[495,'Sexe'])\n",
    "# print(df_boy.shape)"
   ]
  },
  {
   "cell_type": "code",
   "execution_count": 10,
   "metadata": {},
   "outputs": [],
   "source": [
    "df_boy = newdf[:495]\n",
    "df_girl = newdf[495:]\n",
    "# print(df_girl.loc[:,'Sexe'])\n",
    "# print(df_girl.shape)"
   ]
  },
  {
   "cell_type": "code",
   "execution_count": 11,
   "metadata": {},
   "outputs": [],
   "source": [
    "# retour des nom des colonnes\n",
    "newdf['Sexe'] = newdf['Sexe'].map({0 : 'Boy' ,\n",
    "                             1 : 'Girl'\n",
    "                             },\n",
    "                             na_action=None)\n",
    "\n",
    "# print(newdf.loc[:,'Sexe'])"
   ]
  },
  {
   "cell_type": "markdown",
   "metadata": {},
   "source": [
    "##                            Preprosseccing with fonction"
   ]
  },
  {
   "cell_type": "code",
   "execution_count": 12,
   "metadata": {},
   "outputs": [],
   "source": [
    "# fonction !!\n",
    "def imputation(df):\n",
    "    # mise a zero des valeurs manquantes\n",
    "    return df.fillna(0)\n",
    "    \n",
    "\n",
    "def preprocessing(data):\n",
    "    data = imputation(data)\n",
    "    # garder les valeurs qui nous concerne\n",
    "    data = data.to_numpy()\n",
    "    data = data[:,39:]\n",
    "\n",
    "    # rendre toute les valeurs positives\n",
    "    data_correct = data\n",
    "    data = np.absolute(data)\n",
    "\n",
    "    #Supression des valeurs abérantes par rapport au seuil\n",
    "    seuil = 5*np.std(data,axis=0,dtype = np.float64)\n",
    "    \n",
    "    data = np.array(data)\n",
    "    data_tmp = np.zeros_like(data)\n",
    "    data_tmp[data < seuil] = data[data < seuil]\n",
    "    data = data_tmp\n",
    "    \n",
    "    return data , data_correct\n",
    "\n",
    "\n",
    "\n",
    "def Normalisation():\n",
    "    data_clean , data_correct = preprocessing(data)\n",
    "\n",
    "    #indices à suprimer\n",
    "    max = np.max(data_clean,axis = 1)\n",
    "    indices = [i for i, e in enumerate(max) if e == 0]\n",
    "    \n",
    "\n",
    "    #suppression des lignes\n",
    "    data_del = np.delete(data_clean,indices,axis = 0)\n",
    "    data_clean = data_del\n",
    "\n",
    "    #normalisation par ligne sans ecartype nul pour avoir des valeurs entre 0 et 1\n",
    "    min = np.min(data_clean,axis = 1)\n",
    "    max = np.max(data_clean,axis = 1)\n",
    "    data_clean = (data_clean-min[:,np.newaxis])/max[:,np.newaxis]\n",
    "\n",
    "    # retour des valeurs négatives\n",
    "\n",
    "    #suppression des lignes\n",
    "    data_del = np.delete(data_correct,indices,axis = 0)\n",
    "    data_correct = data_del\n",
    "\n",
    "    #indices des valeurs négatives\n",
    "    indices_val_neg_i = np.where(data_correct < 0)\n",
    "    \n",
    "    data_clean[indices_val_neg_i] = -1*data_clean[indices_val_neg_i]\n",
    "\n",
    "    return data_clean"
   ]
  },
  {
   "cell_type": "code",
   "execution_count": 13,
   "metadata": {},
   "outputs": [],
   "source": [
    "# utilisation des fonctions !!\n",
    "data = imputation(df)\n",
    "\n",
    "data_clean , data_correct = preprocessing(data)\n",
    "\n",
    "data_ready = Normalisation()\n"
   ]
  },
  {
   "cell_type": "code",
   "execution_count": null,
   "metadata": {},
   "outputs": [],
   "source": []
  },
  {
   "cell_type": "markdown",
   "metadata": {},
   "source": [
    "## Transfert of data in Rstudio for clustering"
   ]
  },
  {
   "cell_type": "code",
   "execution_count": 636,
   "metadata": {},
   "outputs": [],
   "source": [
    "def transfert (df):\n",
    "    # mettre data en df\n",
    "    df = pd.DataFrame(data_ready)\n",
    "\n",
    "    df_const = df.astype(float,errors='raise')\n",
    "    # renommer les colonne\n",
    "    df.columns = column_name[39:]\n",
    "    df_const.columns = column_name[39:]\n",
    "    #print(df.shape)\n",
    "\n",
    "    # 'Confiance en soi' par 'Confiance_en_soi'\n",
    "    # print(column_name[90])\n",
    "    column_name[90] = 'Confiance_en_soi'\n",
    "    # print(column_name[90])\n",
    "    df = df.rename(columns={'Confiance en soi':'Confiance_en_soi'}) \n",
    "\n",
    "    # print(df['Confiance_en_soi'])\n",
    "    # df_cluster.info()\n",
    "    # probleme de type alors on le change\n",
    "    df = df.astype(float,errors='raise')\n",
    "    # df_cluster.info()    \n",
    "\n",
    "    #renommer les lignes ( remplacer 0 par etudiant_0)\n",
    "    nlin,ncol = data_ready.shape\n",
    "    line_name = ['etudiant_' + str(i) for i in range(nlin)]\n",
    "    # print(line_name)\n",
    "    df.index = line_name\n",
    "    df_const.index = line_name\n",
    "    # print(df)\n",
    "\n",
    "    # with pd.ExcelWriter('data_ready.xlsx') as writer:\n",
    "    # df.to_excel(writer, freeze_panes=(1,1))\n",
    "\n",
    "    df.to_csv('data_ready.csv')"
   ]
  },
  {
   "cell_type": "code",
   "execution_count": null,
   "metadata": {},
   "outputs": [],
   "source": []
  },
  {
   "cell_type": "code",
   "execution_count": 651,
   "metadata": {},
   "outputs": [],
   "source": [
    "#transfert fille\n",
    "data = imputation(df_girl)\n",
    "\n",
    "data_clean , data_correct = preprocessing(data)\n",
    "\n",
    "data_ready = Normalisation()\n",
    "transfert(df_girl)"
   ]
  },
  {
   "cell_type": "code",
   "execution_count": 650,
   "metadata": {},
   "outputs": [],
   "source": [
    "#transfert garcon\n",
    "data = imputation(df_boy)\n",
    "\n",
    "data_clean , data_correct = preprocessing(data)\n",
    "\n",
    "data_ready = Normalisation()\n",
    "transfert(df_boy)"
   ]
  },
  {
   "cell_type": "code",
   "execution_count": null,
   "metadata": {},
   "outputs": [],
   "source": []
  },
  {
   "cell_type": "code",
   "execution_count": null,
   "metadata": {},
   "outputs": [],
   "source": []
  },
  {
   "cell_type": "markdown",
   "metadata": {},
   "source": [
    "##   autres"
   ]
  },
  {
   "cell_type": "code",
   "execution_count": 15,
   "metadata": {},
   "outputs": [],
   "source": [
    "# mettre data en df\n",
    "df = pd.DataFrame(data_ready)\n",
    "\n",
    "df_const = df.astype(float,errors='raise')\n",
    "# renommer les colonne\n",
    "df.columns = column_name[39:]\n",
    "df_const.columns = column_name[39:]\n",
    "#print(df.shape)\n",
    "\n"
   ]
  },
  {
   "cell_type": "code",
   "execution_count": 16,
   "metadata": {},
   "outputs": [],
   "source": [
    "# 'Confiance en soi' par 'Confiance_en_soi'\n",
    "# print(column_name[90])\n",
    "column_name[90] = 'Confiance_en_soi'\n",
    "# print(column_name[90])\n",
    "df = df.rename(columns={'Confiance en soi':'Confiance_en_soi'}) \n",
    "\n",
    "# print(df['Confiance_en_soi'])"
   ]
  },
  {
   "cell_type": "code",
   "execution_count": 17,
   "metadata": {},
   "outputs": [],
   "source": [
    "# df_cluster.info()\n",
    "# probleme de type alors on le change\n",
    "df = df.astype(float,errors='raise')\n",
    "# df_cluster.info()"
   ]
  },
  {
   "cell_type": "code",
   "execution_count": 18,
   "metadata": {},
   "outputs": [],
   "source": [
    "#renommer les lignes ( remplacer 0 par etudiant_0)\n",
    "nlin,ncol = data_ready.shape\n",
    "line_name = ['etudiant_' + str(i) for i in range(nlin)]\n",
    "# print(line_name)\n",
    "df.index = line_name\n",
    "df_const.index = line_name\n",
    "# print(df)"
   ]
  },
  {
   "cell_type": "code",
   "execution_count": 19,
   "metadata": {},
   "outputs": [],
   "source": [
    "# with pd.ExcelWriter('data_ready.xlsx') as writer:\n",
    "#     df.to_excel(writer, freeze_panes=(1,1))"
   ]
  },
  {
   "cell_type": "code",
   "execution_count": 20,
   "metadata": {},
   "outputs": [],
   "source": [
    "df.to_csv('data_ready.csv')"
   ]
  },
  {
   "cell_type": "code",
   "execution_count": null,
   "metadata": {},
   "outputs": [],
   "source": []
  },
  {
   "cell_type": "code",
   "execution_count": null,
   "metadata": {},
   "outputs": [],
   "source": []
  },
  {
   "cell_type": "code",
   "execution_count": 72,
   "metadata": {},
   "outputs": [],
   "source": [
    "# setwd(\"C:/Users/cschnitzler/Dropbox/staps/2021 2022/stage/master cmsi/job congo\")\n",
    "# library(readxl)\n",
    "\n",
    "# data_motus <- read_excel(\"data_motus.xlsx\")\n",
    "\n",
    "# library(FactoMineR)\n",
    "# library(Factoshiny)\n",
    "# PCAshiny(data_motus)"
   ]
  },
  {
   "cell_type": "code",
   "execution_count": null,
   "metadata": {},
   "outputs": [],
   "source": []
  },
  {
   "cell_type": "markdown",
   "metadata": {},
   "source": [
    "# classification "
   ]
  },
  {
   "cell_type": "code",
   "execution_count": 1,
   "metadata": {},
   "outputs": [],
   "source": [
    "from pydoc import describe\n",
    "import pandas as pd\n",
    "import numpy as np\n",
    "import matplotlib.pyplot as plt\n",
    "from sklearn.linear_model import SGDClassifier\n",
    "from sklearn.impute import SimpleImputer\n",
    "from sklearn import preprocessing\n",
    "from sklearn.model_selection import train_test_split\n",
    "\n",
    "import scipy.stats as stats\n",
    "import pandas as pd\n",
    "import statsmodels.api as sm\n",
    "from statsmodels.formula.api import ols\n",
    "\n",
    "# ANOVA feature selection for numeric input and categorical output\n",
    "from sklearn.datasets import make_classification\n",
    "from sklearn.feature_selection import SelectKBest ,f_classif\n",
    "from sklearn.preprocessing import PolynomialFeatures\n",
    "from sklearn.feature_selection import VarianceThreshold\n",
    "from sklearn.linear_model import LogisticRegression\n",
    "from sklearn.svm import LinearSVC ,SVC\n",
    "\n",
    "from sklearn.ensemble import RandomForestClassifier , AdaBoostClassifier\n",
    "\n",
    "from sklearn.pipeline import make_pipeline\n",
    "\n",
    "\n",
    "\n",
    "from sklearn import neighbors\n",
    "from sklearn import metrics\n",
    "\n",
    "from sklearn.metrics import f1_score,confusion_matrix,classification_report\n",
    "from sklearn.model_selection import validation_curve\n",
    "from sklearn.model_selection import GridSearchCV\n",
    "\n",
    "from sklearn.neighbors import KNeighborsClassifier\n",
    "from sklearn.metrics import precision_recall_curve,recall_score,precision_score\n",
    "from sklearn.model_selection import learning_curve\n",
    "\n"
   ]
  },
  {
   "cell_type": "code",
   "execution_count": 2,
   "metadata": {},
   "outputs": [],
   "source": [
    "#df = pd.read_csv(\"/home/congo/Bureau/2022-m1-staps/motives_part/clustering.csv\") \n"
   ]
  },
  {
   "cell_type": "code",
   "execution_count": 3,
   "metadata": {},
   "outputs": [],
   "source": [
    "#df = pd.read_csv(\"/home/congo/Bureau/2022-m1-staps/motives_part/boy.csv\") \n",
    "df = pd.read_csv(\"/home/congo/Bureau/2022-m1-staps/motives_part/girl.csv\") "
   ]
  },
  {
   "cell_type": "code",
   "execution_count": 4,
   "metadata": {},
   "outputs": [],
   "source": [
    "df.drop(df.columns[[0]], axis = 1, inplace = True) "
   ]
  },
  {
   "cell_type": "code",
   "execution_count": 5,
   "metadata": {},
   "outputs": [
    {
     "data": {
      "text/html": [
       "<div>\n",
       "<style scoped>\n",
       "    .dataframe tbody tr th:only-of-type {\n",
       "        vertical-align: middle;\n",
       "    }\n",
       "\n",
       "    .dataframe tbody tr th {\n",
       "        vertical-align: top;\n",
       "    }\n",
       "\n",
       "    .dataframe thead th {\n",
       "        text-align: right;\n",
       "    }\n",
       "</style>\n",
       "<table border=\"1\" class=\"dataframe\">\n",
       "  <thead>\n",
       "    <tr style=\"text-align: right;\">\n",
       "      <th></th>\n",
       "      <th>Confort</th>\n",
       "      <th>Securite</th>\n",
       "      <th>Qualite</th>\n",
       "      <th>Force</th>\n",
       "      <th>Maintien</th>\n",
       "      <th>Puissance</th>\n",
       "      <th>Competition</th>\n",
       "      <th>Muscle</th>\n",
       "      <th>Beaute</th>\n",
       "      <th>Galbant</th>\n",
       "      <th>...</th>\n",
       "      <th>Sexy</th>\n",
       "      <th>Plaisir</th>\n",
       "      <th>Groupe</th>\n",
       "      <th>Partage</th>\n",
       "      <th>Role</th>\n",
       "      <th>Performance</th>\n",
       "      <th>Meilleur</th>\n",
       "      <th>Individualiste</th>\n",
       "      <th>detente</th>\n",
       "      <th>clust</th>\n",
       "    </tr>\n",
       "  </thead>\n",
       "  <tbody>\n",
       "    <tr>\n",
       "      <th>0</th>\n",
       "      <td>0.140228</td>\n",
       "      <td>0.137599</td>\n",
       "      <td>0.120947</td>\n",
       "      <td>0.050248</td>\n",
       "      <td>0.200409</td>\n",
       "      <td>0.305288</td>\n",
       "      <td>0.353491</td>\n",
       "      <td>0.035933</td>\n",
       "      <td>0.150453</td>\n",
       "      <td>0.107800</td>\n",
       "      <td>...</td>\n",
       "      <td>0.131756</td>\n",
       "      <td>0.049664</td>\n",
       "      <td>0.784984</td>\n",
       "      <td>0.270231</td>\n",
       "      <td>0.153959</td>\n",
       "      <td>0.026293</td>\n",
       "      <td>0.237803</td>\n",
       "      <td>0.059305</td>\n",
       "      <td>0.192229</td>\n",
       "      <td>1</td>\n",
       "    </tr>\n",
       "    <tr>\n",
       "      <th>1</th>\n",
       "      <td>0.259847</td>\n",
       "      <td>0.063786</td>\n",
       "      <td>0.004703</td>\n",
       "      <td>0.020282</td>\n",
       "      <td>-0.101705</td>\n",
       "      <td>0.020282</td>\n",
       "      <td>0.185773</td>\n",
       "      <td>0.029394</td>\n",
       "      <td>0.034098</td>\n",
       "      <td>-0.176661</td>\n",
       "      <td>...</td>\n",
       "      <td>-0.278954</td>\n",
       "      <td>0.813639</td>\n",
       "      <td>0.098471</td>\n",
       "      <td>0.063198</td>\n",
       "      <td>-0.558789</td>\n",
       "      <td>0.573192</td>\n",
       "      <td>0.059377</td>\n",
       "      <td>-0.323045</td>\n",
       "      <td>0.215755</td>\n",
       "      <td>2</td>\n",
       "    </tr>\n",
       "    <tr>\n",
       "      <th>2</th>\n",
       "      <td>0.075472</td>\n",
       "      <td>0.043409</td>\n",
       "      <td>0.050007</td>\n",
       "      <td>0.035361</td>\n",
       "      <td>0.041166</td>\n",
       "      <td>0.045784</td>\n",
       "      <td>0.071250</td>\n",
       "      <td>0.069402</td>\n",
       "      <td>0.248714</td>\n",
       "      <td>0.951577</td>\n",
       "      <td>...</td>\n",
       "      <td>0.058451</td>\n",
       "      <td>0.035361</td>\n",
       "      <td>0.073493</td>\n",
       "      <td>0.023750</td>\n",
       "      <td>0.024541</td>\n",
       "      <td>0.034965</td>\n",
       "      <td>0.033118</td>\n",
       "      <td>0.035097</td>\n",
       "      <td>0.023882</td>\n",
       "      <td>1</td>\n",
       "    </tr>\n",
       "    <tr>\n",
       "      <th>3</th>\n",
       "      <td>0.082066</td>\n",
       "      <td>0.366603</td>\n",
       "      <td>0.101077</td>\n",
       "      <td>0.120089</td>\n",
       "      <td>0.360583</td>\n",
       "      <td>0.072560</td>\n",
       "      <td>0.085868</td>\n",
       "      <td>0.176489</td>\n",
       "      <td>0.000000</td>\n",
       "      <td>0.245247</td>\n",
       "      <td>...</td>\n",
       "      <td>0.525032</td>\n",
       "      <td>0.706274</td>\n",
       "      <td>0.397338</td>\n",
       "      <td>0.102662</td>\n",
       "      <td>0.116603</td>\n",
       "      <td>0.082383</td>\n",
       "      <td>0.047845</td>\n",
       "      <td>0.202155</td>\n",
       "      <td>0.065272</td>\n",
       "      <td>2</td>\n",
       "    </tr>\n",
       "    <tr>\n",
       "      <th>4</th>\n",
       "      <td>0.953540</td>\n",
       "      <td>0.047065</td>\n",
       "      <td>0.025557</td>\n",
       "      <td>0.000000</td>\n",
       "      <td>0.313533</td>\n",
       "      <td>0.010521</td>\n",
       "      <td>0.082212</td>\n",
       "      <td>0.002886</td>\n",
       "      <td>0.550952</td>\n",
       "      <td>0.207532</td>\n",
       "      <td>...</td>\n",
       "      <td>0.042316</td>\n",
       "      <td>0.015409</td>\n",
       "      <td>0.029747</td>\n",
       "      <td>0.016154</td>\n",
       "      <td>0.012011</td>\n",
       "      <td>0.046041</td>\n",
       "      <td>0.030120</td>\n",
       "      <td>0.056655</td>\n",
       "      <td>0.007029</td>\n",
       "      <td>1</td>\n",
       "    </tr>\n",
       "  </tbody>\n",
       "</table>\n",
       "<p>5 rows × 72 columns</p>\n",
       "</div>"
      ],
      "text/plain": [
       "    Confort  Securite   Qualite     Force  Maintien  Puissance  Competition  \\\n",
       "0  0.140228  0.137599  0.120947  0.050248  0.200409   0.305288     0.353491   \n",
       "1  0.259847  0.063786  0.004703  0.020282 -0.101705   0.020282     0.185773   \n",
       "2  0.075472  0.043409  0.050007  0.035361  0.041166   0.045784     0.071250   \n",
       "3  0.082066  0.366603  0.101077  0.120089  0.360583   0.072560     0.085868   \n",
       "4  0.953540  0.047065  0.025557  0.000000  0.313533   0.010521     0.082212   \n",
       "\n",
       "     Muscle    Beaute   Galbant  ...      Sexy   Plaisir    Groupe   Partage  \\\n",
       "0  0.035933  0.150453  0.107800  ...  0.131756  0.049664  0.784984  0.270231   \n",
       "1  0.029394  0.034098 -0.176661  ... -0.278954  0.813639  0.098471  0.063198   \n",
       "2  0.069402  0.248714  0.951577  ...  0.058451  0.035361  0.073493  0.023750   \n",
       "3  0.176489  0.000000  0.245247  ...  0.525032  0.706274  0.397338  0.102662   \n",
       "4  0.002886  0.550952  0.207532  ...  0.042316  0.015409  0.029747  0.016154   \n",
       "\n",
       "       Role  Performance  Meilleur  Individualiste   detente  clust  \n",
       "0  0.153959     0.026293  0.237803        0.059305  0.192229      1  \n",
       "1 -0.558789     0.573192  0.059377       -0.323045  0.215755      2  \n",
       "2  0.024541     0.034965  0.033118        0.035097  0.023882      1  \n",
       "3  0.116603     0.082383  0.047845        0.202155  0.065272      2  \n",
       "4  0.012011     0.046041  0.030120        0.056655  0.007029      1  \n",
       "\n",
       "[5 rows x 72 columns]"
      ]
     },
     "execution_count": 5,
     "metadata": {},
     "output_type": "execute_result"
    }
   ],
   "source": [
    "df.head()"
   ]
  },
  {
   "cell_type": "code",
   "execution_count": 6,
   "metadata": {},
   "outputs": [],
   "source": [
    "y_3 = df.loc[:,'clust']"
   ]
  },
  {
   "cell_type": "code",
   "execution_count": 7,
   "metadata": {},
   "outputs": [],
   "source": [
    "# y_3 = df.loc[:,'cluster3']\n",
    "# y_4 = df.loc[:,'cluster4']\n",
    "# y_5 = df.loc[:,'cluster5']"
   ]
  },
  {
   "cell_type": "code",
   "execution_count": 8,
   "metadata": {},
   "outputs": [],
   "source": [
    "X = df\n",
    "X.drop(df.columns[[71]], axis = 1, inplace = True) \n",
    "#X.head()"
   ]
  },
  {
   "cell_type": "code",
   "execution_count": 9,
   "metadata": {},
   "outputs": [
    {
     "name": "stdout",
     "output_type": "stream",
     "text": [
      "Index(['Confort', 'Securite', 'Qualite', 'Force', 'Maintien', 'Puissance',\n",
      "       'Competition', 'Muscle', 'Beaute', 'Galbant', 'Silhouette', 'Douceur',\n",
      "       'Se_defouler', 'Energie', 'Legerete', 'Technicite', 'Se_relaxer',\n",
      "       'Bien_etre', 'Liberte', 'Fluidite', 'Resistance', 'Inconfort',\n",
      "       'Repetition', 'Intensite', 'Ralentissement', 'Acceleration',\n",
      "       'Nouveaute', 'Endurance', 'Impact', 'Recuperation', 'Tolerance',\n",
      "       'Decouragement', 'Perseverance', 'Objectif', 'Passivite', 'Brulure',\n",
      "       'Fatigue', 'Transpiration', 'Rythme', 'Difficulte', 'Facilite', 'Lent',\n",
      "       'Rapide', 'Ennuyeux', 'Regulier', 'Equilibre', 'Culpabilite',\n",
      "       'Challenge', 'Progression', 'Accompagnement', 'Lassitude',\n",
      "       'Confiance_en_soi', 'Actif', 'Stretchcing', 'Efficacite', 'Discipline',\n",
      "       'Muscultation', 'Cardio', 'Vital', 'Depassement', 'Calme', 'Serenite',\n",
      "       'Sexy', 'Plaisir', 'Groupe', 'Partage', 'Role', 'Performance',\n",
      "       'Meilleur', 'Individualiste', 'detente'],\n",
      "      dtype='object')\n"
     ]
    }
   ],
   "source": [
    "col_total  = X.columns\n",
    "print(col_total)"
   ]
  },
  {
   "cell_type": "code",
   "execution_count": 10,
   "metadata": {},
   "outputs": [],
   "source": [
    "train_ratio = 0.80\n",
    "test_ratio = 0.20\n",
    "validation_ratio = 0.10\n",
    "\n",
    "X_train_3, X_test_3, y_train_3, y_test_3 = train_test_split(X, y_3, test_size=test_ratio)\n",
    "#X_train_3, X_valid_3, y_train_3, y_valid_3 = train_test_split(X_train_3, y_train_3, test_size=validation_ratio/(train_ratio+test_ratio))\n",
    "\n",
    "\n",
    "# X_train_4, X_test_4, y_train_4, y_test_4 = train_test_split(X, y_4, test_size=test_ratio)\n",
    "# X_train_4, X_valid_4, y_train_4, y_valid_4 = train_test_split(X_train_4, y_train_4, test_size=validation_ratio/(train_ratio+test_ratio))\n",
    "\n",
    "# X_train_5, X_test_5, y_train_5, y_test_5 = train_test_split(X, y_5, test_size=test_ratio)\n",
    "# X_train_5, X_valid_5, y_train_5, y_valid_5 = train_test_split(X_train_5, y_train_5, test_size=validation_ratio/(train_ratio+test_ratio))"
   ]
  },
  {
   "cell_type": "code",
   "execution_count": 11,
   "metadata": {},
   "outputs": [],
   "source": [
    "model = LogisticRegression(C= 1.0, penalty=\"l2\")\n",
    "parameters = {\"C\":1.0, \"penalty\":\"l2\"}"
   ]
  },
  {
   "cell_type": "markdown",
   "metadata": {},
   "source": [
    "## 1) Modelisation et choix de l'algorithme de sélection"
   ]
  },
  {
   "cell_type": "code",
   "execution_count": 12,
   "metadata": {},
   "outputs": [],
   "source": [
    "preprocessor = make_pipeline(PolynomialFeatures(2, include_bias = False) ,SelectKBest(f_classif , k=10))"
   ]
  },
  {
   "cell_type": "code",
   "execution_count": 13,
   "metadata": {},
   "outputs": [],
   "source": [
    "RandomForest_3 = make_pipeline(preprocessor,RandomForestClassifier(random_state=0))\n",
    "SVM_3 = make_pipeline(preprocessor,SVC(random_state=0))\n",
    "KNN_3 = make_pipeline(preprocessor,KNeighborsClassifier())\n",
    "logreg_3 = make_pipeline(preprocessor,LogisticRegression())\n",
    "svc_3 = make_pipeline(preprocessor,LinearSVC())\n"
   ]
  },
  {
   "cell_type": "code",
   "execution_count": 14,
   "metadata": {},
   "outputs": [],
   "source": [
    "dict_of_models ={ 'KNN' :KNN_3,\n",
    "                'logreg' :logreg_3,\n",
    "                'SVC' : svc_3,\n",
    "                #'RandomForest' :RandomForest_3,\n",
    "                'SVM': SVM_3}"
   ]
  },
  {
   "cell_type": "code",
   "execution_count": null,
   "metadata": {},
   "outputs": [],
   "source": []
  },
  {
   "cell_type": "markdown",
   "metadata": {},
   "source": [
    "Procédure d'évalution des modèles"
   ]
  },
  {
   "cell_type": "code",
   "execution_count": 15,
   "metadata": {},
   "outputs": [],
   "source": [
    "def evaluation(model):\n",
    "    model.fit(X_train_3,y_train_3)\n",
    "    y_pred_3 = model.predict(X_test_3)\n",
    "    print(confusion_matrix(y_test_3 , y_pred_3))\n",
    "    print(classification_report(y_test_3 , y_pred_3))\n",
    "\n",
    "    N, train_score ,val_score = learning_curve(model, X_train_3,y_train_3,\n",
    "                            train_sizes = np.linspace(0.1,1.0,10),cv=5)\n",
    "\n",
    "    plt.figure(figsize =(12,8))\n",
    "    plt.plot(N,train_score.mean(axis = 1), label ='train score')\n",
    "    plt.plot(N,val_score.mean(axis = 1), label ='validation score')\n",
    "    plt.xlabel('amount of data')\n",
    "    plt.ylabel('Performance of model')\n",
    "    plt.legend()"
   ]
  },
  {
   "cell_type": "code",
   "execution_count": 16,
   "metadata": {},
   "outputs": [
    {
     "name": "stdout",
     "output_type": "stream",
     "text": [
      "KNN\n",
      "[[51  6  0]\n",
      " [14 19  2]\n",
      " [ 0  4 17]]\n",
      "              precision    recall  f1-score   support\n",
      "\n",
      "           1       0.78      0.89      0.84        57\n",
      "           2       0.66      0.54      0.59        35\n",
      "           3       0.89      0.81      0.85        21\n",
      "\n",
      "    accuracy                           0.77       113\n",
      "   macro avg       0.78      0.75      0.76       113\n",
      "weighted avg       0.76      0.77      0.76       113\n",
      "\n",
      "logreg\n",
      "[[55  2  0]\n",
      " [21 12  2]\n",
      " [ 2  4 15]]\n",
      "              precision    recall  f1-score   support\n",
      "\n",
      "           1       0.71      0.96      0.81        57\n",
      "           2       0.67      0.34      0.45        35\n",
      "           3       0.88      0.71      0.79        21\n",
      "\n",
      "    accuracy                           0.73       113\n",
      "   macro avg       0.75      0.67      0.69       113\n",
      "weighted avg       0.73      0.73      0.70       113\n",
      "\n",
      "SVC\n",
      "[[55  1  1]\n",
      " [22 10  3]\n",
      " [ 2  5 14]]\n",
      "              precision    recall  f1-score   support\n",
      "\n",
      "           1       0.70      0.96      0.81        57\n",
      "           2       0.62      0.29      0.39        35\n",
      "           3       0.78      0.67      0.72        21\n",
      "\n",
      "    accuracy                           0.70       113\n",
      "   macro avg       0.70      0.64      0.64       113\n",
      "weighted avg       0.69      0.70      0.66       113\n",
      "\n",
      "SVM\n",
      "[[54  3  0]\n",
      " [16 17  2]\n",
      " [ 1  3 17]]\n",
      "              precision    recall  f1-score   support\n",
      "\n",
      "           1       0.76      0.95      0.84        57\n",
      "           2       0.74      0.49      0.59        35\n",
      "           3       0.89      0.81      0.85        21\n",
      "\n",
      "    accuracy                           0.78       113\n",
      "   macro avg       0.80      0.75      0.76       113\n",
      "weighted avg       0.78      0.78      0.77       113\n",
      "\n"
     ]
    },
    {
     "data": {
      "image/png": "[encoded data removed]",
      "text/plain": [
       "<Figure size 864x576 with 1 Axes>"
      ]
     },
     "metadata": {
      "needs_background": "light"
     },
     "output_type": "display_data"
    },
    {
     "data": {
      "image/png": "[encoded data removed]",
      "text/plain": [
       "<Figure size 864x576 with 1 Axes>"
      ]
     },
     "metadata": {
      "needs_background": "light"
     },
     "output_type": "display_data"
    },
    {
     "data": {
      "image/png": "[encoded data removed]",
      "text/plain": [
       "<Figure size 864x576 with 1 Axes>"
      ]
     },
     "metadata": {
      "needs_background": "light"
     },
     "output_type": "display_data"
    },
    {
     "data": {
      "image/png": "[encoded data removed]",
      "text/plain": [
       "<Figure size 864x576 with 1 Axes>"
      ]
     },
     "metadata": {
      "needs_background": "light"
     },
     "output_type": "display_data"
    }
   ],
   "source": [
    "for names,model in dict_of_models.items() :\n",
    "     print(names)\n",
    "     evaluation(model)"
   ]
  },
  {
   "cell_type": "markdown",
   "metadata": {},
   "source": [
    "Optimisation des hyperparametres du modèle SVC et logistic"
   ]
  },
  {
   "cell_type": "code",
   "execution_count": 17,
   "metadata": {},
   "outputs": [],
   "source": [
    "def optimiseur(model , parameters):\n",
    "    grid = GridSearchCV(model,parameters)\n",
    "    grid.fit(X_train_3,y_train_3)\n",
    "\n",
    "    print(\"best parameters \",grid.best_params_)\n",
    "    print(\"accuracy :\",grid.best_score_)\n",
    "\n"
   ]
  },
  {
   "cell_type": "code",
   "execution_count": 18,
   "metadata": {},
   "outputs": [],
   "source": [
    "# optimiser SVC\n",
    "parameters = {'kernel':('linear', 'rbf'), 'C':[1, 10]}\n",
    "model = SVC()\n",
    "# optimiseur(model , parameters)"
   ]
  },
  {
   "cell_type": "code",
   "execution_count": 19,
   "metadata": {},
   "outputs": [],
   "source": [
    "#bon parametre SVC\n",
    "model = SVC(kernel= 'rbf', C = 10)\n",
    "parameters = {'kernel':'rbf', 'C':10}"
   ]
  },
  {
   "cell_type": "code",
   "execution_count": 20,
   "metadata": {},
   "outputs": [],
   "source": [
    "# optimiser LogisticRegression\n",
    "parameters = {\"C\":np.logspace(-3,3,7), \"penalty\":[\"l1\",\"l2\"]}# l1 lasso l2 ridge\n",
    "model = LogisticRegression()\n",
    "#optimiseur(model , parameters)"
   ]
  },
  {
   "cell_type": "code",
   "execution_count": 21,
   "metadata": {},
   "outputs": [],
   "source": [
    "# bon parametre LogisticRegression\n",
    "model = LogisticRegression(C= 1.0, penalty=\"l2\")\n",
    "parameters = {\"C\":1.0, \"penalty\":\"l2\"}\n"
   ]
  },
  {
   "cell_type": "code",
   "execution_count": null,
   "metadata": {},
   "outputs": [],
   "source": []
  },
  {
   "cell_type": "code",
   "execution_count": null,
   "metadata": {},
   "outputs": [],
   "source": []
  },
  {
   "cell_type": "markdown",
   "metadata": {},
   "source": [
    "## 2) Feature selection (éliminer les colonnes à faible variance)"
   ]
  },
  {
   "cell_type": "code",
   "execution_count": 22,
   "metadata": {},
   "outputs": [
    {
     "data": {
      "text/plain": [
       "<AxesSubplot:>"
      ]
     },
     "execution_count": 22,
     "metadata": {},
     "output_type": "execute_result"
    },
    {
     "data": {
      "image/png": "[encoded data removed]",
      "text/plain": [
       "<Figure size 864x576 with 1 Axes>"
      ]
     },
     "metadata": {
      "needs_background": "light"
     },
     "output_type": "display_data"
    }
   ],
   "source": [
    "# quel seuil choisir ? \n",
    "# Sur X_test\n",
    "variance = X_test_3.var(axis = 0)\n",
    "pd.DataFrame(variance,index = X_test_3.columns ).plot.bar(figsize = (12,8))"
   ]
  },
  {
   "cell_type": "code",
   "execution_count": 23,
   "metadata": {},
   "outputs": [],
   "source": [
    "# Sur X_train\n",
    "#pd.DataFrame(X_train_3.var(axis = 0),index = X_train_3.columns ).plot.bar(figsize = (12,8))"
   ]
  },
  {
   "cell_type": "code",
   "execution_count": 24,
   "metadata": {},
   "outputs": [],
   "source": [
    "# Sur X\n",
    "# pd.DataFrame(X.var(axis = 0),index = X.columns ).plot.bar(figsize = (12,8))"
   ]
  },
  {
   "cell_type": "code",
   "execution_count": null,
   "metadata": {},
   "outputs": [],
   "source": []
  },
  {
   "cell_type": "code",
   "execution_count": 25,
   "metadata": {},
   "outputs": [],
   "source": [
    "def selection_feature(X_test,X_train,seuil ):\n",
    "    # élemination des colonnes à variances inferieur au seuil 0.8 ou 0.06 ou 0.04 ou 0.02\n",
    "    selector = VarianceThreshold(threshold=seuil)\n",
    "    selector.fit_transform(X_test)\n",
    "    colonne_garder = np.array(X_test.columns)[selector.get_support()]\n",
    "\n",
    "    colonne_suprimer = [i for i in col_total if not  i in colonne_garder ]\n",
    "\n",
    "    \n",
    "    print('colonne garder size = ',colonne_garder.shape)\n",
    "    # print('colonne suprimer size = ',len(colonne_suprimer))\n",
    "    print('colonne_garder = ',colonne_garder)\n",
    "\n",
    "\n",
    "    # print('colonne_suprime = ',colonne_suprimer)\n",
    "\n",
    "    # prediction avec uniquement les colonne garder\n",
    "    X_test_keep = X_test[colonne_garder] \n",
    "    X_train_keep = X_train[colonne_garder] \n",
    "\n",
    "    return X_train_keep,X_test_keep\n"
   ]
  },
  {
   "cell_type": "code",
   "execution_count": 26,
   "metadata": {},
   "outputs": [
    {
     "name": "stdout",
     "output_type": "stream",
     "text": [
      "colonne garder size =  (30,)\n",
      "colonne_garder =  ['Galbant' 'Passivite' 'Fatigue' 'Difficulte' 'Regulier' 'Equilibre'\n",
      " 'Culpabilite' 'Challenge' 'Progression' 'Accompagnement'\n",
      " 'Confiance_en_soi' 'Actif' 'Stretchcing' 'Efficacite' 'Discipline'\n",
      " 'Muscultation' 'Cardio' 'Vital' 'Depassement' 'Calme' 'Serenite' 'Sexy'\n",
      " 'Plaisir' 'Groupe' 'Partage' 'Role' 'Performance' 'Meilleur'\n",
      " 'Individualiste' 'detente']\n"
     ]
    }
   ],
   "source": [
    "#seuil = 0.12\n",
    "X_train_3,X_test_3 = selection_feature (X_test_3,X_train_3,seuil = 0.06)"
   ]
  },
  {
   "cell_type": "code",
   "execution_count": null,
   "metadata": {},
   "outputs": [],
   "source": []
  },
  {
   "cell_type": "code",
   "execution_count": 27,
   "metadata": {},
   "outputs": [],
   "source": [
    "dict_of_seuil ={ 'seuil = 0.02' : 0.02,\n",
    "                'seuil = 0.04' :0.04,\n",
    "                'seuil = 0.06' :0.06,\n",
    "                'seuil = 0.08' :0.08,\n",
    "                'seuil = 0.10' :0.10,\n",
    "                'seuil = 0.12' :0.12,\n",
    "                'seuil = 0.14' :0.14\n",
    "                }"
   ]
  },
  {
   "cell_type": "code",
   "execution_count": 28,
   "metadata": {},
   "outputs": [],
   "source": [
    "def evaluation_seuil(X_test,y_test_3,X_train,y_train_3,seuil):\n",
    "    X_train_3,X_test_3 = selection_feature(X_test,X_train,seuil )\n",
    "    # bon parametre LogisticRegression\n",
    "    model = SVC(kernel= 'rbf', C = 10)\n",
    "    fit_model(model,X_train_3,y_train_3)\n",
    "    y_pred_3_log = prediction(model ,X_test_3)\n",
    "    print_resulat(y_test_3,y_pred_3_log)\n",
    "    # matrice_confusion(y_test_3, y_pred_3_log)\n",
    "\n",
    "\n",
    "def give_precision ( y_test_3 ,y_pred_3_log) :\n",
    "    precision = precision_score(y_true = y_test_3, y_pred = y_pred_3_log, average ='macro')\n",
    "    return precision\n",
    "\n",
    "def give_recall( y_test_3 ,y_pred_3_log) :\n",
    "    recall = recall_score(y_true = y_test_3, y_pred = y_pred_3_log, average ='macro')\n",
    "    return recall  \n",
    "\n",
    "def give_f1score( y_test_3 ,y_pred_3_log) :\n",
    "    f1score= f1_score(y_true = y_test_3, y_pred = y_pred_3_log , average ='macro')\n",
    "    return f1score      \n",
    "\n",
    "\n",
    "\n",
    "def give_list_precision(X_test,y_test_3,X_train,y_train_3,seuil,list_precision):\n",
    "    X_train_3,X_test_3 = selection_feature(X_test,X_train,seuil )\n",
    "    # bon parametre LogisticRegression\n",
    "    model = SVC(kernel= 'rbf', C = 10)\n",
    "    fit_model(model,X_train_3,y_train_3)\n",
    "    y_pred_3_log = prediction(model ,X_test_3)\n",
    "\n",
    "    precision = give_precision ( y_test_3 ,y_pred_3_log) \n",
    "    list_precision.append(precision) \n",
    "\n",
    "    return list_precision\n",
    "\n",
    "def give_list_recall(X_test,y_test_3,X_train,y_train_3,seuil,list_recall):\n",
    "    X_train_3,X_test_3 = selection_feature(X_test,X_train,seuil )\n",
    "    # bon parametre LogisticRegression\n",
    "    model = SVC(kernel= 'rbf', C = 10)\n",
    "    fit_model(model,X_train_3,y_train_3)\n",
    "    y_pred_3_log = prediction(model ,X_test_3)\n",
    "\n",
    "    recall = give_recall( y_test_3 ,y_pred_3_log) \n",
    "    list_recall.append(recall)\n",
    "\n",
    "    return list_recall\n",
    "\n",
    "\n",
    "def give_list_f1score(X_test,y_test_3,X_train,y_train_3,seuil,list_f1score):\n",
    "    X_train_3,X_test_3 = selection_feature(X_test,X_train,seuil )\n",
    "    model = SVC(kernel= 'rbf', C = 10)\n",
    "    fit_model(model,X_train_3,y_train_3)\n",
    "    y_pred_3_log = prediction(model ,X_test_3)\n",
    "\n",
    "    f1score = give_f1score( y_test_3 ,y_pred_3_log) \n",
    "    list_f1score.append(f1score)\n",
    "\n",
    "    return list_f1score\n",
    "\n"
   ]
  },
  {
   "cell_type": "code",
   "execution_count": 29,
   "metadata": {},
   "outputs": [
    {
     "name": "stdout",
     "output_type": "stream",
     "text": [
      "colonne garder size =  (30,)\n",
      "colonne_garder =  ['Galbant' 'Passivite' 'Fatigue' 'Difficulte' 'Regulier' 'Equilibre'\n",
      " 'Culpabilite' 'Challenge' 'Progression' 'Accompagnement'\n",
      " 'Confiance_en_soi' 'Actif' 'Stretchcing' 'Efficacite' 'Discipline'\n",
      " 'Muscultation' 'Cardio' 'Vital' 'Depassement' 'Calme' 'Serenite' 'Sexy'\n",
      " 'Plaisir' 'Groupe' 'Partage' 'Role' 'Performance' 'Meilleur'\n",
      " 'Individualiste' 'detente']\n"
     ]
    },
    {
     "ename": "NameError",
     "evalue": "name 'fit_model' is not defined",
     "output_type": "error",
     "traceback": [
      "\u001b[0;31m---------------------------------------------------------------------------\u001b[0m",
      "\u001b[0;31mNameError\u001b[0m                                 Traceback (most recent call last)",
      "\u001b[0;32m<ipython-input-29-d917601495f3>\u001b[0m in \u001b[0;36m<module>\u001b[0;34m\u001b[0m\n\u001b[1;32m      4\u001b[0m \u001b[0mlist_seuil\u001b[0m \u001b[0;34m=\u001b[0m \u001b[0mnp\u001b[0m\u001b[0;34m.\u001b[0m\u001b[0mlinspace\u001b[0m\u001b[0;34m(\u001b[0m\u001b[0;36m0.02\u001b[0m\u001b[0;34m,\u001b[0m\u001b[0;36m0.14\u001b[0m\u001b[0;34m,\u001b[0m\u001b[0;36m50\u001b[0m\u001b[0;34m)\u001b[0m\u001b[0;34m\u001b[0m\u001b[0;34m\u001b[0m\u001b[0m\n\u001b[1;32m      5\u001b[0m \u001b[0;32mfor\u001b[0m \u001b[0mseuil\u001b[0m  \u001b[0;32min\u001b[0m \u001b[0mlist_seuil\u001b[0m \u001b[0;34m:\u001b[0m\u001b[0;34m\u001b[0m\u001b[0;34m\u001b[0m\u001b[0m\n\u001b[0;32m----> 6\u001b[0;31m     \u001b[0mlist_precision\u001b[0m \u001b[0;34m=\u001b[0m \u001b[0mgive_list_precision\u001b[0m\u001b[0;34m(\u001b[0m\u001b[0mX_test_3\u001b[0m\u001b[0;34m,\u001b[0m\u001b[0my_test_3\u001b[0m\u001b[0;34m,\u001b[0m\u001b[0mX_train_3\u001b[0m\u001b[0;34m,\u001b[0m\u001b[0my_train_3\u001b[0m\u001b[0;34m,\u001b[0m\u001b[0mseuil\u001b[0m\u001b[0;34m,\u001b[0m\u001b[0mlist_precision\u001b[0m \u001b[0;34m)\u001b[0m\u001b[0;34m\u001b[0m\u001b[0;34m\u001b[0m\u001b[0m\n\u001b[0m\u001b[1;32m      7\u001b[0m     \u001b[0mlist_recall\u001b[0m \u001b[0;34m=\u001b[0m \u001b[0mgive_list_recall\u001b[0m\u001b[0;34m(\u001b[0m\u001b[0mX_test_3\u001b[0m\u001b[0;34m,\u001b[0m\u001b[0my_test_3\u001b[0m\u001b[0;34m,\u001b[0m\u001b[0mX_train_3\u001b[0m\u001b[0;34m,\u001b[0m\u001b[0my_train_3\u001b[0m\u001b[0;34m,\u001b[0m\u001b[0mseuil\u001b[0m\u001b[0;34m,\u001b[0m\u001b[0mlist_recall\u001b[0m \u001b[0;34m)\u001b[0m\u001b[0;34m\u001b[0m\u001b[0;34m\u001b[0m\u001b[0m\n\u001b[1;32m      8\u001b[0m     \u001b[0mlist_f1score\u001b[0m \u001b[0;34m=\u001b[0m \u001b[0mgive_list_f1score\u001b[0m\u001b[0;34m(\u001b[0m\u001b[0mX_test_3\u001b[0m\u001b[0;34m,\u001b[0m\u001b[0my_test_3\u001b[0m\u001b[0;34m,\u001b[0m\u001b[0mX_train_3\u001b[0m\u001b[0;34m,\u001b[0m\u001b[0my_train_3\u001b[0m\u001b[0;34m,\u001b[0m\u001b[0mseuil\u001b[0m\u001b[0;34m,\u001b[0m\u001b[0mlist_f1score\u001b[0m\u001b[0;34m)\u001b[0m\u001b[0;34m\u001b[0m\u001b[0;34m\u001b[0m\u001b[0m\n",
      "\u001b[0;32m<ipython-input-28-773cc26a9605>\u001b[0m in \u001b[0;36mgive_list_precision\u001b[0;34m(X_test, y_test_3, X_train, y_train_3, seuil, list_precision)\u001b[0m\n\u001b[1;32m     27\u001b[0m     \u001b[0;31m# bon parametre LogisticRegression\u001b[0m\u001b[0;34m\u001b[0m\u001b[0;34m\u001b[0m\u001b[0;34m\u001b[0m\u001b[0m\n\u001b[1;32m     28\u001b[0m     \u001b[0mmodel\u001b[0m \u001b[0;34m=\u001b[0m \u001b[0mSVC\u001b[0m\u001b[0;34m(\u001b[0m\u001b[0mkernel\u001b[0m\u001b[0;34m=\u001b[0m \u001b[0;34m'rbf'\u001b[0m\u001b[0;34m,\u001b[0m \u001b[0mC\u001b[0m \u001b[0;34m=\u001b[0m \u001b[0;36m10\u001b[0m\u001b[0;34m)\u001b[0m\u001b[0;34m\u001b[0m\u001b[0;34m\u001b[0m\u001b[0m\n\u001b[0;32m---> 29\u001b[0;31m     \u001b[0mfit_model\u001b[0m\u001b[0;34m(\u001b[0m\u001b[0mmodel\u001b[0m\u001b[0;34m,\u001b[0m\u001b[0mX_train_3\u001b[0m\u001b[0;34m,\u001b[0m\u001b[0my_train_3\u001b[0m\u001b[0;34m)\u001b[0m\u001b[0;34m\u001b[0m\u001b[0;34m\u001b[0m\u001b[0m\n\u001b[0m\u001b[1;32m     30\u001b[0m     \u001b[0my_pred_3_log\u001b[0m \u001b[0;34m=\u001b[0m \u001b[0mprediction\u001b[0m\u001b[0;34m(\u001b[0m\u001b[0mmodel\u001b[0m \u001b[0;34m,\u001b[0m\u001b[0mX_test_3\u001b[0m\u001b[0;34m)\u001b[0m\u001b[0;34m\u001b[0m\u001b[0;34m\u001b[0m\u001b[0m\n\u001b[1;32m     31\u001b[0m \u001b[0;34m\u001b[0m\u001b[0m\n",
      "\u001b[0;31mNameError\u001b[0m: name 'fit_model' is not defined"
     ]
    }
   ],
   "source": [
    "list_precision = []\n",
    "list_recall = []\n",
    "list_f1score = []\n",
    "list_seuil = np.linspace(0.02,0.14,50)\n",
    "for seuil  in list_seuil :\n",
    "    list_precision = give_list_precision(X_test_3,y_test_3,X_train_3,y_train_3,seuil,list_precision )\n",
    "    list_recall = give_list_recall(X_test_3,y_test_3,X_train_3,y_train_3,seuil,list_recall )\n",
    "    list_f1score = give_list_f1score(X_test_3,y_test_3,X_train_3,y_train_3,seuil,list_f1score)\n",
    "\n",
    "\n",
    "\n",
    "\n",
    "plt.figure(figsize =(12,8))\n",
    "plt.plot(list_seuil,list_precision,label = 'precission')\n",
    "plt.plot(list_seuil,list_recall,label = 'recall')\n",
    "plt.plot(list_seuil,list_f1score ,label = 'f1score')\n",
    "plt.legend()\n",
    "plt.title('Performance de SVC en fonction du seuil')\n",
    "plt.xlabel('seuil')\n",
    "plt.ylabel('Performance ')\n",
    "plt.show()\n",
    "\n",
    "\n"
   ]
  },
  {
   "cell_type": "code",
   "execution_count": 30,
   "metadata": {},
   "outputs": [
    {
     "data": {
      "image/png": "[encoded data removed]",
      "text/plain": [
       "<Figure size 864x576 with 1 Axes>"
      ]
     },
     "metadata": {
      "needs_background": "light"
     },
     "output_type": "display_data"
    }
   ],
   "source": [
    "def col_selection(X_test,seuil):\n",
    "    # élemination des colonnes à variances inferieur au seuil 0.8 ou 0.06 ou 0.04 ou 0.02\n",
    "    selector = VarianceThreshold(threshold=seuil)\n",
    "    selector.fit_transform(X_test)\n",
    "\n",
    "    colonne_garder = np.array(X_test.columns)[selector.get_support()]\n",
    "    colonne_suprimer = [i for i in col_total if not  i in colonne_garder ]\n",
    "\n",
    "    N_keep = len(colonne_garder)\n",
    "    N_suprim = len(colonne_suprimer)\n",
    "\n",
    "    return N_suprim , N_keep\n",
    "\n",
    "list_seuil = np.linspace(0.02,0.14,50)\n",
    "list_col_sup = []\n",
    "list_col_keep = []\n",
    "for seuil in list_seuil :\n",
    "    N_suprim , N_keep = col_selection(X_test_3,seuil)\n",
    "    list_col_sup.append(N_suprim)\n",
    "    list_col_keep.append(N_keep)\n",
    "\n",
    "plt.figure(figsize =(12,8))\n",
    "plt.plot(list_seuil,list_col_keep,label = 'garder')\n",
    "plt.plot(list_seuil,list_col_sup ,label = 'supprimé')\n",
    "plt.legend()\n",
    "plt.title('Nombre de variables en fonction du seuil')\n",
    "plt.xlabel('seuil')\n",
    "plt.ylabel('Nombre de variables ')\n",
    "plt.show()\n"
   ]
  },
  {
   "cell_type": "code",
   "execution_count": 31,
   "metadata": {},
   "outputs": [
    {
     "ename": "ValueError",
     "evalue": "x and y must have same first dimension, but have shapes (50,) and (0,)",
     "output_type": "error",
     "traceback": [
      "\u001b[0;31m---------------------------------------------------------------------------\u001b[0m",
      "\u001b[0;31mValueError\u001b[0m                                Traceback (most recent call last)",
      "\u001b[0;32m<ipython-input-31-b38a7cb762df>\u001b[0m in \u001b[0;36m<module>\u001b[0;34m\u001b[0m\n\u001b[1;32m      1\u001b[0m \u001b[0mplt\u001b[0m\u001b[0;34m.\u001b[0m\u001b[0mfigure\u001b[0m\u001b[0;34m(\u001b[0m\u001b[0mfigsize\u001b[0m \u001b[0;34m=\u001b[0m\u001b[0;34m(\u001b[0m\u001b[0;36m12\u001b[0m\u001b[0;34m,\u001b[0m\u001b[0;36m8\u001b[0m\u001b[0;34m)\u001b[0m\u001b[0;34m)\u001b[0m\u001b[0;34m\u001b[0m\u001b[0;34m\u001b[0m\u001b[0m\n\u001b[0;32m----> 2\u001b[0;31m \u001b[0mplt\u001b[0m\u001b[0;34m.\u001b[0m\u001b[0mplot\u001b[0m\u001b[0;34m(\u001b[0m\u001b[0mlist_col_keep\u001b[0m\u001b[0;34m,\u001b[0m\u001b[0mlist_precision\u001b[0m\u001b[0;34m,\u001b[0m\u001b[0mlabel\u001b[0m \u001b[0;34m=\u001b[0m \u001b[0;34m'garder'\u001b[0m\u001b[0;34m)\u001b[0m\u001b[0;34m\u001b[0m\u001b[0;34m\u001b[0m\u001b[0m\n\u001b[0m\u001b[1;32m      3\u001b[0m \u001b[0mplt\u001b[0m\u001b[0;34m.\u001b[0m\u001b[0mplot\u001b[0m\u001b[0;34m(\u001b[0m\u001b[0mlist_col_sup\u001b[0m\u001b[0;34m,\u001b[0m\u001b[0mlist_precision\u001b[0m \u001b[0;34m,\u001b[0m\u001b[0mlabel\u001b[0m \u001b[0;34m=\u001b[0m \u001b[0;34m'supprimé'\u001b[0m\u001b[0;34m)\u001b[0m\u001b[0;34m\u001b[0m\u001b[0;34m\u001b[0m\u001b[0m\n\u001b[1;32m      4\u001b[0m \u001b[0mplt\u001b[0m\u001b[0;34m.\u001b[0m\u001b[0mlegend\u001b[0m\u001b[0;34m(\u001b[0m\u001b[0;34m)\u001b[0m\u001b[0;34m\u001b[0m\u001b[0;34m\u001b[0m\u001b[0m\n\u001b[1;32m      5\u001b[0m \u001b[0mplt\u001b[0m\u001b[0;34m.\u001b[0m\u001b[0mtitle\u001b[0m\u001b[0;34m(\u001b[0m\u001b[0;34m'Precicion en fonction du Nombre de colonnes '\u001b[0m\u001b[0;34m)\u001b[0m\u001b[0;34m\u001b[0m\u001b[0;34m\u001b[0m\u001b[0m\n",
      "\u001b[0;32m~/.local/lib/python3.8/site-packages/matplotlib/pyplot.py\u001b[0m in \u001b[0;36mplot\u001b[0;34m(scalex, scaley, data, *args, **kwargs)\u001b[0m\n\u001b[1;32m   2755\u001b[0m \u001b[0;34m@\u001b[0m\u001b[0m_copy_docstring_and_deprecators\u001b[0m\u001b[0;34m(\u001b[0m\u001b[0mAxes\u001b[0m\u001b[0;34m.\u001b[0m\u001b[0mplot\u001b[0m\u001b[0;34m)\u001b[0m\u001b[0;34m\u001b[0m\u001b[0;34m\u001b[0m\u001b[0m\n\u001b[1;32m   2756\u001b[0m \u001b[0;32mdef\u001b[0m \u001b[0mplot\u001b[0m\u001b[0;34m(\u001b[0m\u001b[0;34m*\u001b[0m\u001b[0margs\u001b[0m\u001b[0;34m,\u001b[0m \u001b[0mscalex\u001b[0m\u001b[0;34m=\u001b[0m\u001b[0;32mTrue\u001b[0m\u001b[0;34m,\u001b[0m \u001b[0mscaley\u001b[0m\u001b[0;34m=\u001b[0m\u001b[0;32mTrue\u001b[0m\u001b[0;34m,\u001b[0m \u001b[0mdata\u001b[0m\u001b[0;34m=\u001b[0m\u001b[0;32mNone\u001b[0m\u001b[0;34m,\u001b[0m \u001b[0;34m**\u001b[0m\u001b[0mkwargs\u001b[0m\u001b[0;34m)\u001b[0m\u001b[0;34m:\u001b[0m\u001b[0;34m\u001b[0m\u001b[0;34m\u001b[0m\u001b[0m\n\u001b[0;32m-> 2757\u001b[0;31m     return gca().plot(\n\u001b[0m\u001b[1;32m   2758\u001b[0m         \u001b[0;34m*\u001b[0m\u001b[0margs\u001b[0m\u001b[0;34m,\u001b[0m \u001b[0mscalex\u001b[0m\u001b[0;34m=\u001b[0m\u001b[0mscalex\u001b[0m\u001b[0;34m,\u001b[0m \u001b[0mscaley\u001b[0m\u001b[0;34m=\u001b[0m\u001b[0mscaley\u001b[0m\u001b[0;34m,\u001b[0m\u001b[0;34m\u001b[0m\u001b[0;34m\u001b[0m\u001b[0m\n\u001b[1;32m   2759\u001b[0m         **({\"data\": data} if data is not None else {}), **kwargs)\n",
      "\u001b[0;32m~/.local/lib/python3.8/site-packages/matplotlib/axes/_axes.py\u001b[0m in \u001b[0;36mplot\u001b[0;34m(self, scalex, scaley, data, *args, **kwargs)\u001b[0m\n\u001b[1;32m   1630\u001b[0m         \"\"\"\n\u001b[1;32m   1631\u001b[0m         \u001b[0mkwargs\u001b[0m \u001b[0;34m=\u001b[0m \u001b[0mcbook\u001b[0m\u001b[0;34m.\u001b[0m\u001b[0mnormalize_kwargs\u001b[0m\u001b[0;34m(\u001b[0m\u001b[0mkwargs\u001b[0m\u001b[0;34m,\u001b[0m \u001b[0mmlines\u001b[0m\u001b[0;34m.\u001b[0m\u001b[0mLine2D\u001b[0m\u001b[0;34m)\u001b[0m\u001b[0;34m\u001b[0m\u001b[0;34m\u001b[0m\u001b[0m\n\u001b[0;32m-> 1632\u001b[0;31m         \u001b[0mlines\u001b[0m \u001b[0;34m=\u001b[0m \u001b[0;34m[\u001b[0m\u001b[0;34m*\u001b[0m\u001b[0mself\u001b[0m\u001b[0;34m.\u001b[0m\u001b[0m_get_lines\u001b[0m\u001b[0;34m(\u001b[0m\u001b[0;34m*\u001b[0m\u001b[0margs\u001b[0m\u001b[0;34m,\u001b[0m \u001b[0mdata\u001b[0m\u001b[0;34m=\u001b[0m\u001b[0mdata\u001b[0m\u001b[0;34m,\u001b[0m \u001b[0;34m**\u001b[0m\u001b[0mkwargs\u001b[0m\u001b[0;34m)\u001b[0m\u001b[0;34m]\u001b[0m\u001b[0;34m\u001b[0m\u001b[0;34m\u001b[0m\u001b[0m\n\u001b[0m\u001b[1;32m   1633\u001b[0m         \u001b[0;32mfor\u001b[0m \u001b[0mline\u001b[0m \u001b[0;32min\u001b[0m \u001b[0mlines\u001b[0m\u001b[0;34m:\u001b[0m\u001b[0;34m\u001b[0m\u001b[0;34m\u001b[0m\u001b[0m\n\u001b[1;32m   1634\u001b[0m             \u001b[0mself\u001b[0m\u001b[0;34m.\u001b[0m\u001b[0madd_line\u001b[0m\u001b[0;34m(\u001b[0m\u001b[0mline\u001b[0m\u001b[0;34m)\u001b[0m\u001b[0;34m\u001b[0m\u001b[0;34m\u001b[0m\u001b[0m\n",
      "\u001b[0;32m~/.local/lib/python3.8/site-packages/matplotlib/axes/_base.py\u001b[0m in \u001b[0;36m__call__\u001b[0;34m(self, data, *args, **kwargs)\u001b[0m\n\u001b[1;32m    310\u001b[0m                 \u001b[0mthis\u001b[0m \u001b[0;34m+=\u001b[0m \u001b[0margs\u001b[0m\u001b[0;34m[\u001b[0m\u001b[0;36m0\u001b[0m\u001b[0;34m]\u001b[0m\u001b[0;34m,\u001b[0m\u001b[0;34m\u001b[0m\u001b[0;34m\u001b[0m\u001b[0m\n\u001b[1;32m    311\u001b[0m                 \u001b[0margs\u001b[0m \u001b[0;34m=\u001b[0m \u001b[0margs\u001b[0m\u001b[0;34m[\u001b[0m\u001b[0;36m1\u001b[0m\u001b[0;34m:\u001b[0m\u001b[0;34m]\u001b[0m\u001b[0;34m\u001b[0m\u001b[0;34m\u001b[0m\u001b[0m\n\u001b[0;32m--> 312\u001b[0;31m             \u001b[0;32myield\u001b[0m \u001b[0;32mfrom\u001b[0m \u001b[0mself\u001b[0m\u001b[0;34m.\u001b[0m\u001b[0m_plot_args\u001b[0m\u001b[0;34m(\u001b[0m\u001b[0mthis\u001b[0m\u001b[0;34m,\u001b[0m \u001b[0mkwargs\u001b[0m\u001b[0;34m)\u001b[0m\u001b[0;34m\u001b[0m\u001b[0;34m\u001b[0m\u001b[0m\n\u001b[0m\u001b[1;32m    313\u001b[0m \u001b[0;34m\u001b[0m\u001b[0m\n\u001b[1;32m    314\u001b[0m     \u001b[0;32mdef\u001b[0m \u001b[0mget_next_color\u001b[0m\u001b[0;34m(\u001b[0m\u001b[0mself\u001b[0m\u001b[0;34m)\u001b[0m\u001b[0;34m:\u001b[0m\u001b[0;34m\u001b[0m\u001b[0;34m\u001b[0m\u001b[0m\n",
      "\u001b[0;32m~/.local/lib/python3.8/site-packages/matplotlib/axes/_base.py\u001b[0m in \u001b[0;36m_plot_args\u001b[0;34m(self, tup, kwargs, return_kwargs)\u001b[0m\n\u001b[1;32m    496\u001b[0m \u001b[0;34m\u001b[0m\u001b[0m\n\u001b[1;32m    497\u001b[0m         \u001b[0;32mif\u001b[0m \u001b[0mx\u001b[0m\u001b[0;34m.\u001b[0m\u001b[0mshape\u001b[0m\u001b[0;34m[\u001b[0m\u001b[0;36m0\u001b[0m\u001b[0;34m]\u001b[0m \u001b[0;34m!=\u001b[0m \u001b[0my\u001b[0m\u001b[0;34m.\u001b[0m\u001b[0mshape\u001b[0m\u001b[0;34m[\u001b[0m\u001b[0;36m0\u001b[0m\u001b[0;34m]\u001b[0m\u001b[0;34m:\u001b[0m\u001b[0;34m\u001b[0m\u001b[0;34m\u001b[0m\u001b[0m\n\u001b[0;32m--> 498\u001b[0;31m             raise ValueError(f\"x and y must have same first dimension, but \"\n\u001b[0m\u001b[1;32m    499\u001b[0m                              f\"have shapes {x.shape} and {y.shape}\")\n\u001b[1;32m    500\u001b[0m         \u001b[0;32mif\u001b[0m \u001b[0mx\u001b[0m\u001b[0;34m.\u001b[0m\u001b[0mndim\u001b[0m \u001b[0;34m>\u001b[0m \u001b[0;36m2\u001b[0m \u001b[0;32mor\u001b[0m \u001b[0my\u001b[0m\u001b[0;34m.\u001b[0m\u001b[0mndim\u001b[0m \u001b[0;34m>\u001b[0m \u001b[0;36m2\u001b[0m\u001b[0;34m:\u001b[0m\u001b[0;34m\u001b[0m\u001b[0;34m\u001b[0m\u001b[0m\n",
      "\u001b[0;31mValueError\u001b[0m: x and y must have same first dimension, but have shapes (50,) and (0,)"
     ]
    },
    {
     "data": {
      "image/png": "[encoded data removed]",
      "text/plain": [
       "<Figure size 864x576 with 1 Axes>"
      ]
     },
     "metadata": {
      "needs_background": "light"
     },
     "output_type": "display_data"
    }
   ],
   "source": [
    "plt.figure(figsize =(12,8))\n",
    "plt.plot(list_col_keep,list_precision,label = 'garder')\n",
    "plt.plot(list_col_sup,list_precision ,label = 'supprimé')\n",
    "plt.legend()\n",
    "plt.title('Precicion en fonction du Nombre de colonnes ')\n",
    "plt.ylabel('Precision')\n",
    "plt.xlabel('Nombre de colonnes  ')\n",
    "plt.show()"
   ]
  },
  {
   "cell_type": "code",
   "execution_count": null,
   "metadata": {},
   "outputs": [],
   "source": []
  },
  {
   "cell_type": "code",
   "execution_count": null,
   "metadata": {},
   "outputs": [],
   "source": [
    "\n",
    "# for names,seuil in dict_of_seuil.items() :\n",
    "#     print(names)\n",
    "   \n",
    "#     evaluation_seuil(X_test_3,y_test_3,X_train_3,y_train_3,seuil)"
   ]
  },
  {
   "cell_type": "code",
   "execution_count": null,
   "metadata": {},
   "outputs": [],
   "source": []
  },
  {
   "cell_type": "code",
   "execution_count": null,
   "metadata": {},
   "outputs": [],
   "source": []
  },
  {
   "cell_type": "markdown",
   "metadata": {},
   "source": [
    "## 3) Tester avec le modèle final"
   ]
  },
  {
   "cell_type": "code",
   "execution_count": 32,
   "metadata": {},
   "outputs": [],
   "source": [
    "def fit_model (model,X_train_3,y_train_3):\n",
    "    model.fit(X_train_3,y_train_3)\n",
    "\n",
    "def prediction ( model ,X_test_3):\n",
    "    # prediction\n",
    "    y_pred_3_log = model.predict(X_test_3)\n",
    "    return y_pred_3_log\n",
    "    \n",
    "def print_resulat(y_test_3,y_pred_3_log):\n",
    "    print( 'recall_score = ' ,recall_score(y_true = y_test_3, y_pred = y_pred_3_log, average ='macro'))\n",
    "    print( 'f1-score = ' ,f1_score(y_true = y_test_3, y_pred = y_pred_3_log , average ='macro'))\n",
    "    print( 'precision_score = ' ,precision_score(y_true = y_test_3, y_pred = y_pred_3_log, average ='macro'))\n",
    "    \n",
    "\n",
    "def matrice_confusion(y_test_3, y_pred_3_log):\n",
    "    # Matrice de confusion\n",
    "    confusion_3 = metrics.confusion_matrix(y_true = y_test_3,y_pred = y_pred_3_log)\n",
    "    \n",
    "    confusion = pd.DataFrame(confusion_3, index =['y_true: 0','y_true: 1','y_true: 2'] ,columns=['y_pred : 0','y_pred : 1','y_pred : 2'] )\n",
    "    print('confusion  log_3 \\n' ,confusion_3)\n",
    "    print('tab log_3 \\n' ,confusion)\n",
    "\n",
    "    plt.matshow(confusion_3, cmap=plt.cm.gray)\n",
    "    plt.xlabel('y_true')\n",
    "    plt.ylabel('y_pred')\n",
    "    plt.show()\n"
   ]
  },
  {
   "cell_type": "code",
   "execution_count": 47,
   "metadata": {},
   "outputs": [],
   "source": [
    "# bon parametre LogisticRegression\n",
    "model = LogisticRegression(C= 1.0, penalty=\"l2\")\n",
    "model = SVC(kernel= 'rbf', C = 10,probability=True)\n",
    "parameters = {\"C\":1.0, \"penalty\":\"l2\"}"
   ]
  },
  {
   "cell_type": "code",
   "execution_count": 48,
   "metadata": {},
   "outputs": [],
   "source": [
    "fit_model(model,X_train_3,y_train_3)\n",
    "y_pred_3_log = prediction(model ,X_test_3)"
   ]
  },
  {
   "cell_type": "code",
   "execution_count": 49,
   "metadata": {},
   "outputs": [
    {
     "name": "stdout",
     "output_type": "stream",
     "text": [
      "recall_score =  0.814202172096909\n",
      "f1-score =  0.8305431941795578\n",
      "precision_score =  0.854129330943847\n"
     ]
    }
   ],
   "source": [
    "print_resulat(y_test_3,y_pred_3_log)"
   ]
  },
  {
   "cell_type": "code",
   "execution_count": 52,
   "metadata": {},
   "outputs": [
    {
     "data": {
      "text/plain": [
       "array([[8.78908939e-01, 1.20436908e-01, 6.54153693e-04],\n",
       "       [3.43123423e-03, 1.45240218e-03, 9.95116364e-01],\n",
       "       [9.33883222e-01, 6.60127841e-02, 1.03994156e-04],\n",
       "       [9.86121660e-02, 7.16990033e-01, 1.84397801e-01],\n",
       "       [2.03883594e-01, 6.26948253e-01, 1.69168153e-01],\n",
       "       [7.91608096e-02, 6.11826651e-01, 3.09012539e-01],\n",
       "       [5.87218564e-01, 4.11571404e-01, 1.21003177e-03],\n",
       "       [8.83763261e-01, 1.16077654e-01, 1.59084391e-04],\n",
       "       [5.35619097e-02, 6.13382190e-01, 3.33055900e-01],\n",
       "       [4.48499471e-03, 5.85028645e-03, 9.89664719e-01],\n",
       "       [8.11046441e-01, 1.88718666e-01, 2.34893736e-04],\n",
       "       [9.17092623e-01, 8.28281232e-02, 7.92534806e-05],\n",
       "       [6.48002862e-02, 8.55414381e-01, 7.97853327e-02],\n",
       "       [8.37871464e-01, 1.62009206e-01, 1.19329721e-04],\n",
       "       [8.60204090e-01, 1.38981021e-01, 8.14889049e-04],\n",
       "       [2.04802736e-01, 7.92126625e-01, 3.07063926e-03],\n",
       "       [8.91230314e-03, 5.54464845e-02, 9.35641212e-01],\n",
       "       [5.44799920e-01, 4.54498633e-01, 7.01447427e-04],\n",
       "       [8.84143880e-01, 1.15748277e-01, 1.07843074e-04],\n",
       "       [8.70001378e-01, 1.29934425e-01, 6.41977471e-05],\n",
       "       [9.48571313e-01, 5.13628610e-02, 6.58255418e-05],\n",
       "       [8.99959303e-03, 1.47153177e-02, 9.76285089e-01],\n",
       "       [6.93546461e-01, 2.91976889e-01, 1.44766501e-02],\n",
       "       [7.52849248e-01, 2.46590778e-01, 5.59973779e-04],\n",
       "       [1.40871999e-02, 9.59201331e-02, 8.89992667e-01],\n",
       "       [1.37998197e-02, 3.83785973e-02, 9.47821583e-01],\n",
       "       [9.01075307e-01, 9.86051896e-02, 3.19503679e-04],\n",
       "       [2.64851700e-02, 9.61940950e-01, 1.15738804e-02],\n",
       "       [9.01670691e-01, 9.80061976e-02, 3.23111712e-04],\n",
       "       [9.15611785e-01, 8.34482281e-02, 9.39986989e-04],\n",
       "       [6.55111915e-01, 3.40648604e-01, 4.23948145e-03],\n",
       "       [9.45140501e-01, 5.47659181e-02, 9.35809988e-05],\n",
       "       [8.36412304e-01, 1.63408190e-01, 1.79506472e-04],\n",
       "       [9.17119354e-01, 8.15262617e-02, 1.35438400e-03],\n",
       "       [8.10373025e-01, 1.89575453e-01, 5.15220580e-05],\n",
       "       [9.43617024e-01, 5.63220866e-02, 6.08896463e-05],\n",
       "       [7.19800916e-01, 2.79893610e-01, 3.05474461e-04],\n",
       "       [8.79938519e-01, 1.19689537e-01, 3.71944752e-04],\n",
       "       [3.06029345e-01, 6.93010473e-01, 9.60182057e-04],\n",
       "       [8.46640588e-01, 1.48643819e-01, 4.71559366e-03],\n",
       "       [3.20785769e-02, 9.64790989e-01, 3.13043412e-03],\n",
       "       [6.48200464e-01, 3.51440562e-01, 3.58974185e-04],\n",
       "       [9.66454922e-02, 8.99479457e-01, 3.87505121e-03],\n",
       "       [9.43510236e-01, 5.63666388e-02, 1.23124949e-04],\n",
       "       [4.11809953e-02, 3.55988857e-01, 6.02830147e-01],\n",
       "       [8.33279234e-01, 1.54695880e-01, 1.20248864e-02],\n",
       "       [4.37466762e-01, 5.61527783e-01, 1.00545566e-03],\n",
       "       [8.40503811e-01, 1.59133967e-01, 3.62222250e-04],\n",
       "       [3.70759420e-03, 1.14023896e-03, 9.95152167e-01],\n",
       "       [4.05708698e-03, 7.20442796e-03, 9.88738485e-01],\n",
       "       [6.30418109e-01, 3.68251555e-01, 1.33033563e-03],\n",
       "       [2.69097325e-02, 5.95983531e-01, 3.77106737e-01],\n",
       "       [3.45643521e-02, 9.03906584e-01, 6.15290640e-02],\n",
       "       [3.29158114e-01, 6.70392240e-01, 4.49645557e-04],\n",
       "       [4.80434295e-03, 3.25818106e-03, 9.91937476e-01],\n",
       "       [6.90333652e-01, 3.09552158e-01, 1.14190201e-04],\n",
       "       [8.55644406e-01, 1.43953773e-01, 4.01820847e-04],\n",
       "       [7.57913288e-03, 9.72694453e-01, 1.97264144e-02],\n",
       "       [1.10538802e-01, 7.41013700e-01, 1.48447498e-01],\n",
       "       [9.41459664e-01, 5.84155613e-02, 1.24774571e-04],\n",
       "       [9.02501706e-01, 9.69182817e-02, 5.80012336e-04],\n",
       "       [2.25180161e-01, 7.72957536e-01, 1.86230310e-03],\n",
       "       [7.31874497e-01, 2.68003555e-01, 1.21947774e-04],\n",
       "       [6.92245781e-01, 3.07384563e-01, 3.69655903e-04],\n",
       "       [9.46369378e-01, 5.23820439e-02, 1.24857776e-03],\n",
       "       [1.38791559e-01, 8.55160073e-01, 6.04836852e-03],\n",
       "       [7.42253943e-01, 2.57077266e-01, 6.68790959e-04],\n",
       "       [3.55913609e-02, 6.98298100e-01, 2.66110539e-01],\n",
       "       [9.52949595e-01, 4.68889808e-02, 1.61424083e-04],\n",
       "       [4.23541813e-02, 5.85675485e-01, 3.71970334e-01],\n",
       "       [9.28839133e-02, 4.92101477e-01, 4.15014610e-01],\n",
       "       [1.61707736e-02, 1.86784809e-01, 7.97044417e-01],\n",
       "       [7.76051804e-01, 2.23393990e-01, 5.54205700e-04],\n",
       "       [9.02877280e-01, 9.68827796e-02, 2.39940007e-04],\n",
       "       [8.78768877e-01, 1.20757446e-01, 4.73676867e-04],\n",
       "       [9.17638850e-01, 8.22934046e-02, 6.77457940e-05],\n",
       "       [7.16075504e-01, 2.81412620e-01, 2.51187691e-03],\n",
       "       [9.47621955e-01, 5.21958797e-02, 1.82164920e-04],\n",
       "       [9.46662100e-01, 5.26532021e-02, 6.84698264e-04],\n",
       "       [4.79787411e-01, 5.13671526e-01, 6.54106316e-03],\n",
       "       [3.80596335e-02, 2.74422186e-01, 6.87518181e-01],\n",
       "       [1.14324821e-02, 3.92044852e-02, 9.49363033e-01],\n",
       "       [1.60521957e-01, 7.75561681e-01, 6.39163619e-02],\n",
       "       [9.35316960e-01, 6.37850103e-02, 8.98029764e-04],\n",
       "       [2.13981105e-01, 7.68393191e-01, 1.76257045e-02],\n",
       "       [7.49351796e-01, 2.43052062e-01, 7.59614166e-03],\n",
       "       [3.93284146e-02, 3.94743249e-01, 5.65928336e-01],\n",
       "       [6.65947614e-01, 3.33257289e-01, 7.95096654e-04],\n",
       "       [9.23930447e-01, 7.58143364e-02, 2.55216710e-04],\n",
       "       [2.89848455e-01, 7.08678970e-01, 1.47257474e-03],\n",
       "       [9.63664404e-01, 3.62789260e-02, 5.66697904e-05],\n",
       "       [1.64825782e-02, 1.25048161e-01, 8.58469261e-01],\n",
       "       [8.48744931e-01, 1.51147206e-01, 1.07862450e-04],\n",
       "       [9.22906649e-01, 7.65834594e-02, 5.09891192e-04],\n",
       "       [2.55114086e-02, 9.68935086e-01, 5.55350492e-03],\n",
       "       [9.03426740e-01, 9.64832052e-02, 9.00549510e-05],\n",
       "       [9.54755265e-01, 4.51905920e-02, 5.41431944e-05],\n",
       "       [6.09809043e-01, 3.89325253e-01, 8.65704254e-04],\n",
       "       [1.65772107e-01, 4.67456869e-01, 3.66771024e-01],\n",
       "       [8.71214494e-01, 1.28379945e-01, 4.05561058e-04],\n",
       "       [3.54060318e-01, 6.39098987e-01, 6.84069497e-03],\n",
       "       [8.59024509e-01, 1.38956701e-01, 2.01879036e-03],\n",
       "       [9.19088795e-01, 8.08381859e-02, 7.30187529e-05],\n",
       "       [4.15182850e-02, 2.52709665e-01, 7.05772050e-01],\n",
       "       [1.63126200e-01, 6.70541389e-01, 1.66332412e-01],\n",
       "       [4.97824519e-03, 2.61638512e-03, 9.92405370e-01],\n",
       "       [9.13029354e-01, 8.67303715e-02, 2.40274361e-04],\n",
       "       [9.71928546e-01, 2.79031868e-02, 1.68267037e-04],\n",
       "       [6.67389250e-01, 3.31243261e-01, 1.36748940e-03],\n",
       "       [2.33260305e-02, 1.20795549e-01, 8.55878421e-01],\n",
       "       [7.70225401e-01, 2.29679867e-01, 9.47319585e-05],\n",
       "       [1.75622221e-01, 7.99382126e-01, 2.49956523e-02],\n",
       "       [5.79774257e-02, 9.30263895e-01, 1.17586798e-02]])"
      ]
     },
     "execution_count": 52,
     "metadata": {},
     "output_type": "execute_result"
    }
   ],
   "source": [
    "model.predict_proba(X_test_3)"
   ]
  },
  {
   "cell_type": "code",
   "execution_count": 240,
   "metadata": {},
   "outputs": [
    {
     "name": "stdout",
     "output_type": "stream",
     "text": [
      "confusion  log_3 \n",
      " [[58  4  0]\n",
      " [10 18  3]\n",
      " [ 0  1 19]]\n",
      "tab log_3 \n",
      "            y_pred : 0  y_pred : 1  y_pred : 2\n",
      "y_true: 0          58           4           0\n",
      "y_true: 1          10          18           3\n",
      "y_true: 2           0           1          19\n"
     ]
    },
    {
     "data": {
      "image/png": "[encoded data removed]",
      "text/plain": [
       "<Figure size 288x288 with 1 Axes>"
      ]
     },
     "metadata": {
      "needs_background": "light"
     },
     "output_type": "display_data"
    }
   ],
   "source": [
    "matrice_confusion(y_test_3, y_pred_3_log)"
   ]
  },
  {
   "cell_type": "code",
   "execution_count": null,
   "metadata": {},
   "outputs": [],
   "source": []
  },
  {
   "cell_type": "code",
   "execution_count": null,
   "metadata": {},
   "outputs": [],
   "source": []
  },
  {
   "cell_type": "code",
   "execution_count": null,
   "metadata": {},
   "outputs": [],
   "source": []
  },
  {
   "cell_type": "code",
   "execution_count": 154,
   "metadata": {},
   "outputs": [],
   "source": [
    "# __init__.py pour creer les package \n",
    "\n",
    "# pour test :pip3 install pytest\n",
    "# import pytest"
   ]
  },
  {
   "cell_type": "code",
   "execution_count": null,
   "metadata": {},
   "outputs": [],
   "source": []
  }
 ],
 "metadata": {
  "interpreter": {
   "hash": "31f2aee4e71d21fbe5cf8b01ff0e069b9275f58929596ceb00d14d90e3e16cd6"
  },
  "kernelspec": {
   "display_name": "Python 3.8.10 64-bit",
   "language": "python",
   "name": "python3"
  },
  "language_info": {
   "codemirror_mode": {
    "name": "ipython",
    "version": 3
   },
   "file_extension": ".py",
   "mimetype": "text/x-python",
   "name": "python",
   "nbconvert_exporter": "python",
   "pygments_lexer": "ipython3",
   "version": "3.8.10"
  }
 },
 "nbformat": 4,
 "nbformat_minor": 4
}
