{
 "cells": [
  {
   "cell_type": "code",
   "execution_count": 44,
   "metadata": {},
   "outputs": [],
   "source": [
    "from pydoc import describe\n",
    "import pandas as pd\n",
    "import numpy as np\n",
    "import matplotlib.pyplot as plt\n",
    "from sklearn.linear_model import SGDClassifier\n",
    "from sklearn.impute import SimpleImputer\n",
    "from sklearn import preprocessing\n",
    "from sklearn.model_selection import train_test_split\n",
    "\n",
    "import scipy.stats as stats\n",
    "import pandas as pd\n",
    "import statsmodels.api as sm\n",
    "from statsmodels.formula.api import ols\n",
    "\n",
    "# ANOVA feature selection for numeric input and categorical output\n",
    "from sklearn.datasets import make_classification\n",
    "from sklearn.feature_selection import SelectKBest\n",
    "from sklearn.feature_selection import f_classif\n",
    "from sklearn.feature_selection import VarianceThreshold\n",
    "from sklearn.linear_model import LogisticRegression\n",
    "from sklearn.svm import LinearSVC\n",
    "\n",
    "from sklearn import neighbors\n",
    "from sklearn import metrics\n",
    "\n",
    "from sklearn.model_selection import validation_curve\n",
    "from sklearn.model_selection import GridSearchCV\n",
    "\n",
    "import scipy.cluster.hierarchy as sch\n",
    "from sklearn.cluster import AgglomerativeClustering\n",
    "import matplotlib.pyplot as plt\n",
    "import pandas as pd \n",
    "import pandas as pd"
   ]
  },
  {
   "cell_type": "code",
   "execution_count": 69,
   "metadata": {},
   "outputs": [],
   "source": [
    "#Lecture des données\n",
    "df = pd.read_excel(\"/home/congo/Bureau/2022-m1-staps/motives_part/data_motives_final.xlsx\",\"haller\") "
   ]
  },
  {
   "cell_type": "code",
   "execution_count": 71,
   "metadata": {},
   "outputs": [],
   "source": [
    "#stoker le nom des colonnes\n",
    "column_name = [c for c in df]"
   ]
  },
  {
   "cell_type": "markdown",
   "metadata": {},
   "source": [
    "##                            Preprosseccing with fonction"
   ]
  },
  {
   "cell_type": "code",
   "execution_count": 29,
   "metadata": {},
   "outputs": [],
   "source": [
    "# fonction !!\n",
    "def imputation(df):\n",
    "    # mise a zero des valeurs manquantes\n",
    "    return df.fillna(0)\n",
    "    \n",
    "\n",
    "def preprocessing(data):\n",
    "    data = imputation(data)\n",
    "    # garder les valeurs qui nous concerne\n",
    "    data = data.to_numpy()\n",
    "    data = data[:,39:]\n",
    "\n",
    "    # rendre toute les valeurs positives\n",
    "    data_correct = data\n",
    "    data = np.absolute(data)\n",
    "\n",
    "    #Supression des valeurs abérantes par rapport au seuil\n",
    "    seuil = 5*np.std(data,axis=0,dtype = np.float64)\n",
    "    \n",
    "    data = np.array(data)\n",
    "    data_tmp = np.zeros_like(data)\n",
    "    data_tmp[data < seuil] = data[data < seuil]\n",
    "    data = data_tmp\n",
    "    \n",
    "    return data , data_correct\n",
    "\n",
    "\n",
    "\n",
    "def Normalisation():\n",
    "    data_clean , data_correct = preprocessing(data)\n",
    "\n",
    "    #indices à suprimer\n",
    "    max = np.max(data_clean,axis = 1)\n",
    "    indices = [i for i, e in enumerate(max) if e == 0]\n",
    "    \n",
    "\n",
    "    #suppression des lignes\n",
    "    data_del = np.delete(data_clean,indices,axis = 0)\n",
    "    data_clean = data_del\n",
    "\n",
    "    #normalisation par ligne sans ecartype nul pour avoir des valeurs entre 0 et 1\n",
    "    min = np.min(data_clean,axis = 1)\n",
    "    max = np.max(data_clean,axis = 1)\n",
    "    data_clean = (data_clean-min[:,np.newaxis])/max[:,np.newaxis]\n",
    "\n",
    "    # retour des valeurs négatives\n",
    "\n",
    "    #suppression des lignes\n",
    "    data_del = np.delete(data_correct,indices,axis = 0)\n",
    "    data_correct = data_del\n",
    "\n",
    "    #indices des valeurs négatives\n",
    "    indices_val_neg_i = np.where(data_correct < 0)\n",
    "    \n",
    "    data_clean[indices_val_neg_i] = -1*data_clean[indices_val_neg_i]\n",
    "\n",
    "    return data_clean"
   ]
  },
  {
   "cell_type": "code",
   "execution_count": 32,
   "metadata": {},
   "outputs": [],
   "source": [
    "# utilisation des fonctions !!\n",
    "data = imputation(df)\n",
    "\n",
    "data_clean , data_correct = preprocessing(data)\n",
    "\n",
    "data_ready = Normalisation()\n"
   ]
  },
  {
   "cell_type": "code",
   "execution_count": null,
   "metadata": {},
   "outputs": [],
   "source": []
  },
  {
   "cell_type": "markdown",
   "metadata": {},
   "source": [
    "## Transfert of data in Rstudio for clustering"
   ]
  },
  {
   "cell_type": "code",
   "execution_count": 81,
   "metadata": {},
   "outputs": [],
   "source": [
    "# mettre data en df\n",
    "df = pd.DataFrame(data_ready)\n",
    "\n",
    "df_const = df.astype(float,errors='raise')\n",
    "# renommer les colonne\n",
    "df.columns = column_name[39:]\n",
    "df_const.columns = column_name[39:]\n",
    "#print(df.shape)\n",
    "\n"
   ]
  },
  {
   "cell_type": "code",
   "execution_count": 75,
   "metadata": {},
   "outputs": [],
   "source": [
    "# 'Confiance en soi' par 'Confiance_en_soi'\n",
    "# print(column_name[90])\n",
    "column_name[90] = 'Confiance_en_soi'\n",
    "# print(column_name[90])\n",
    "df = df.rename(columns={'Confiance en soi':'Confiance_en_soi'}) \n",
    "\n",
    "# print(df['Confiance_en_soi'])"
   ]
  },
  {
   "cell_type": "code",
   "execution_count": 89,
   "metadata": {},
   "outputs": [],
   "source": [
    "# df_cluster.info()\n",
    "# probleme de type alors on le change\n",
    "df = df.astype(float,errors='raise')\n",
    "# df_cluster.info()"
   ]
  },
  {
   "cell_type": "code",
   "execution_count": 85,
   "metadata": {},
   "outputs": [],
   "source": [
    "#renommer les lignes ( remplacer 0 par etudiant_0)\n",
    "nlin,ncol = data_ready.shape\n",
    "line_name = ['etudiant_' + str(i) for i in range(nlin)]\n",
    "# print(line_name)\n",
    "df.index = line_name\n",
    "df_const.index = line_name\n",
    "# print(df)"
   ]
  },
  {
   "cell_type": "code",
   "execution_count": 86,
   "metadata": {},
   "outputs": [],
   "source": [
    "# with pd.ExcelWriter('data_ready.xlsx') as writer:\n",
    "#     df.to_excel(writer, freeze_panes=(1,1))"
   ]
  },
  {
   "cell_type": "code",
   "execution_count": 90,
   "metadata": {},
   "outputs": [],
   "source": [
    "df.to_csv('data_ready.csv')"
   ]
  },
  {
   "cell_type": "code",
   "execution_count": null,
   "metadata": {},
   "outputs": [],
   "source": []
  },
  {
   "cell_type": "markdown",
   "metadata": {},
   "source": [
    "##                            Preprosseccing"
   ]
  },
  {
   "cell_type": "code",
   "execution_count": null,
   "metadata": {},
   "outputs": [],
   "source": []
  },
  {
   "cell_type": "code",
   "execution_count": 72,
   "metadata": {},
   "outputs": [],
   "source": [
    "# mise a zero des valeurs manquantes\n",
    "data = df.fillna(0)\n",
    "\n",
    "#stoker le nom des colonnes\n",
    "column_name = [c for c in data]\n"
   ]
  },
  {
   "cell_type": "code",
   "execution_count": 54,
   "metadata": {},
   "outputs": [
    {
     "name": "stdout",
     "output_type": "stream",
     "text": [
      "data (1075, 71)\n"
     ]
    }
   ],
   "source": [
    "# garder les valeurs qui nous concerne\n",
    "data = data.to_numpy()\n",
    "data = data[:,39:]\n",
    "nlin ,ncol =data.shape\n",
    "print('data' ,data.shape)"
   ]
  },
  {
   "cell_type": "code",
   "execution_count": 55,
   "metadata": {},
   "outputs": [],
   "source": [
    "# rendre toute les valeurs positives\n",
    "data_correct = data\n",
    "data = np.absolute(data)"
   ]
  },
  {
   "cell_type": "code",
   "execution_count": 56,
   "metadata": {},
   "outputs": [],
   "source": [
    "#Supression des valeurs abérantes par rapport au seuil\n",
    "seuil = 5*np.std(data,axis=0,dtype = np.float64)\n",
    "#print(seuil)\n",
    "data = np.array(data)\n",
    "data_tmp = np.zeros_like(data)\n",
    "data_tmp[data < seuil] = data[data < seuil]\n",
    "data = data_tmp\n",
    "#print(data)"
   ]
  },
  {
   "cell_type": "code",
   "execution_count": 57,
   "metadata": {},
   "outputs": [],
   "source": [
    "#normalisation par ligne (avec ecartype nul) our avoir des valeurs entre 0 et 1\n",
    "\n",
    "#indices à suprimer\n",
    "max = np.max(data,axis = 1)\n",
    "indices = [i for i, e in enumerate(max) if e == 0]\n",
    "#print(indices)\n",
    "\n",
    "#suppression des lignes\n",
    "data_del = np.delete(data,indices,axis = 0)\n",
    "data = data_del\n",
    "\n",
    "#normalisation par ligne sans ecartype nul pour avoir des valeurs entre 0 et 1\n",
    "min = np.min(data,axis = 1)\n",
    "max = np.max(data,axis = 1)\n",
    "data = (data-min[:,np.newaxis])/max[:,np.newaxis]\n",
    "\n",
    "#print(data)\n"
   ]
  },
  {
   "cell_type": "code",
   "execution_count": 58,
   "metadata": {},
   "outputs": [
    {
     "name": "stdout",
     "output_type": "stream",
     "text": [
      "1050 71\n"
     ]
    }
   ],
   "source": [
    "# retour des valeurs négatives\n",
    "\n",
    "#suppression des lignes\n",
    "data_del = np.delete(data_correct,indices,axis = 0)\n",
    "data_correct = data_del\n",
    "\n",
    "#print(\"data before = \", data[data < 0])\n",
    "\n",
    "#indices des valeurs négatives\n",
    "indices_val_neg_i = np.where(data_correct < 0)\n",
    "#print(\"indices_val_neg_i = \",indices_val_neg_i)\n",
    "\n",
    "data[indices_val_neg_i] = -1*data[indices_val_neg_i]\n",
    "\n",
    "\n",
    "#print(\"data after = \", data[data < 0] )\n",
    "nlin ,ncol =data.shape\n",
    "\n",
    "print(nlin,ncol)\n"
   ]
  },
  {
   "cell_type": "code",
   "execution_count": null,
   "metadata": {},
   "outputs": [],
   "source": []
  },
  {
   "cell_type": "code",
   "execution_count": null,
   "metadata": {},
   "outputs": [],
   "source": []
  },
  {
   "cell_type": "markdown",
   "metadata": {},
   "source": [
    "##   autres"
   ]
  },
  {
   "cell_type": "code",
   "execution_count": null,
   "metadata": {},
   "outputs": [],
   "source": []
  },
  {
   "cell_type": "code",
   "execution_count": null,
   "metadata": {},
   "outputs": [],
   "source": []
  },
  {
   "cell_type": "code",
   "execution_count": 72,
   "metadata": {},
   "outputs": [],
   "source": [
    "# setwd(\"C:/Users/cschnitzler/Dropbox/staps/2021 2022/stage/master cmsi/job congo\")\n",
    "# library(readxl)\n",
    "\n",
    "# data_motus <- read_excel(\"data_motus.xlsx\")\n",
    "\n",
    "# library(FactoMineR)\n",
    "# library(Factoshiny)\n",
    "# PCAshiny(data_motus)"
   ]
  },
  {
   "cell_type": "code",
   "execution_count": null,
   "metadata": {},
   "outputs": [],
   "source": []
  },
  {
   "cell_type": "code",
   "execution_count": null,
   "metadata": {},
   "outputs": [],
   "source": []
  },
  {
   "cell_type": "code",
   "execution_count": null,
   "metadata": {},
   "outputs": [],
   "source": []
  },
  {
   "cell_type": "markdown",
   "metadata": {},
   "source": [
    "## Tester la solidité de chaque cluster"
   ]
  },
  {
   "cell_type": "code",
   "execution_count": 120,
   "metadata": {},
   "outputs": [],
   "source": [
    "df = pd.read_csv(\"/home/congo/Bureau/2022-m1-staps/data_motives/clustering.csv\") "
   ]
  },
  {
   "cell_type": "code",
   "execution_count": 121,
   "metadata": {},
   "outputs": [],
   "source": [
    "df.drop(df.columns[[0]], axis = 1, inplace = True) "
   ]
  },
  {
   "cell_type": "code",
   "execution_count": 122,
   "metadata": {},
   "outputs": [
    {
     "data": {
      "text/html": [
       "<div>\n",
       "<style scoped>\n",
       "    .dataframe tbody tr th:only-of-type {\n",
       "        vertical-align: middle;\n",
       "    }\n",
       "\n",
       "    .dataframe tbody tr th {\n",
       "        vertical-align: top;\n",
       "    }\n",
       "\n",
       "    .dataframe thead th {\n",
       "        text-align: right;\n",
       "    }\n",
       "</style>\n",
       "<table border=\"1\" class=\"dataframe\">\n",
       "  <thead>\n",
       "    <tr style=\"text-align: right;\">\n",
       "      <th></th>\n",
       "      <th>cluster3</th>\n",
       "      <th>cluster4</th>\n",
       "      <th>cluster5</th>\n",
       "      <th>Confort</th>\n",
       "      <th>Securite</th>\n",
       "      <th>Qualite</th>\n",
       "      <th>Force</th>\n",
       "      <th>Maintien</th>\n",
       "      <th>Puissance</th>\n",
       "      <th>Competition</th>\n",
       "      <th>...</th>\n",
       "      <th>Serenite</th>\n",
       "      <th>Sexy</th>\n",
       "      <th>Plaisir</th>\n",
       "      <th>Groupe</th>\n",
       "      <th>Partage</th>\n",
       "      <th>Role</th>\n",
       "      <th>Performance</th>\n",
       "      <th>Meilleur</th>\n",
       "      <th>Individualiste</th>\n",
       "      <th>detente</th>\n",
       "    </tr>\n",
       "  </thead>\n",
       "  <tbody>\n",
       "    <tr>\n",
       "      <th>0</th>\n",
       "      <td>1</td>\n",
       "      <td>1</td>\n",
       "      <td>1</td>\n",
       "      <td>0.072732</td>\n",
       "      <td>0.065028</td>\n",
       "      <td>0.079676</td>\n",
       "      <td>0.098327</td>\n",
       "      <td>0.029093</td>\n",
       "      <td>0.032083</td>\n",
       "      <td>0.030411</td>\n",
       "      <td>...</td>\n",
       "      <td>0.015611</td>\n",
       "      <td>0.079372</td>\n",
       "      <td>0.206386</td>\n",
       "      <td>0.169235</td>\n",
       "      <td>0.004866</td>\n",
       "      <td>0.031171</td>\n",
       "      <td>0.010998</td>\n",
       "      <td>0.035884</td>\n",
       "      <td>0.025494</td>\n",
       "      <td>0.024582</td>\n",
       "    </tr>\n",
       "    <tr>\n",
       "      <th>1</th>\n",
       "      <td>2</td>\n",
       "      <td>3</td>\n",
       "      <td>4</td>\n",
       "      <td>0.978229</td>\n",
       "      <td>0.256652</td>\n",
       "      <td>0.370343</td>\n",
       "      <td>0.252782</td>\n",
       "      <td>0.323174</td>\n",
       "      <td>0.327528</td>\n",
       "      <td>0.252540</td>\n",
       "      <td>...</td>\n",
       "      <td>0.017417</td>\n",
       "      <td>0.015723</td>\n",
       "      <td>0.019110</td>\n",
       "      <td>0.021287</td>\n",
       "      <td>0.021529</td>\n",
       "      <td>0.018868</td>\n",
       "      <td>0.021287</td>\n",
       "      <td>0.017900</td>\n",
       "      <td>0.024432</td>\n",
       "      <td>0.017658</td>\n",
       "    </tr>\n",
       "    <tr>\n",
       "      <th>2</th>\n",
       "      <td>1</td>\n",
       "      <td>1</td>\n",
       "      <td>1</td>\n",
       "      <td>0.070048</td>\n",
       "      <td>0.054323</td>\n",
       "      <td>0.062636</td>\n",
       "      <td>0.087573</td>\n",
       "      <td>0.090062</td>\n",
       "      <td>0.152751</td>\n",
       "      <td>0.101287</td>\n",
       "      <td>...</td>\n",
       "      <td>0.013713</td>\n",
       "      <td>0.285805</td>\n",
       "      <td>0.022343</td>\n",
       "      <td>0.007677</td>\n",
       "      <td>0.103828</td>\n",
       "      <td>0.133054</td>\n",
       "      <td>0.031556</td>\n",
       "      <td>0.070207</td>\n",
       "      <td>0.135014</td>\n",
       "      <td>0.175676</td>\n",
       "    </tr>\n",
       "    <tr>\n",
       "      <th>3</th>\n",
       "      <td>1</td>\n",
       "      <td>2</td>\n",
       "      <td>2</td>\n",
       "      <td>0.290419</td>\n",
       "      <td>0.741154</td>\n",
       "      <td>0.153511</td>\n",
       "      <td>0.216930</td>\n",
       "      <td>0.167392</td>\n",
       "      <td>0.185084</td>\n",
       "      <td>0.305117</td>\n",
       "      <td>...</td>\n",
       "      <td>0.136636</td>\n",
       "      <td>0.339412</td>\n",
       "      <td>0.185084</td>\n",
       "      <td>0.300490</td>\n",
       "      <td>0.092270</td>\n",
       "      <td>0.079750</td>\n",
       "      <td>0.236255</td>\n",
       "      <td>0.249864</td>\n",
       "      <td>0.272183</td>\n",
       "      <td>0.333696</td>\n",
       "    </tr>\n",
       "    <tr>\n",
       "      <th>4</th>\n",
       "      <td>1</td>\n",
       "      <td>1</td>\n",
       "      <td>1</td>\n",
       "      <td>0.029809</td>\n",
       "      <td>0.098887</td>\n",
       "      <td>0.045072</td>\n",
       "      <td>0.158585</td>\n",
       "      <td>0.116455</td>\n",
       "      <td>0.067727</td>\n",
       "      <td>0.050238</td>\n",
       "      <td>...</td>\n",
       "      <td>0.121065</td>\n",
       "      <td>0.029650</td>\n",
       "      <td>0.045072</td>\n",
       "      <td>0.216773</td>\n",
       "      <td>0.060254</td>\n",
       "      <td>0.059221</td>\n",
       "      <td>0.069078</td>\n",
       "      <td>0.077822</td>\n",
       "      <td>0.063037</td>\n",
       "      <td>0.159777</td>\n",
       "    </tr>\n",
       "  </tbody>\n",
       "</table>\n",
       "<p>5 rows × 74 columns</p>\n",
       "</div>"
      ],
      "text/plain": [
       "   cluster3  cluster4  cluster5   Confort  Securite   Qualite     Force  \\\n",
       "0         1         1         1  0.072732  0.065028  0.079676  0.098327   \n",
       "1         2         3         4  0.978229  0.256652  0.370343  0.252782   \n",
       "2         1         1         1  0.070048  0.054323  0.062636  0.087573   \n",
       "3         1         2         2  0.290419  0.741154  0.153511  0.216930   \n",
       "4         1         1         1  0.029809  0.098887  0.045072  0.158585   \n",
       "\n",
       "   Maintien  Puissance  Competition  ...  Serenite      Sexy   Plaisir  \\\n",
       "0  0.029093   0.032083     0.030411  ...  0.015611  0.079372  0.206386   \n",
       "1  0.323174   0.327528     0.252540  ...  0.017417  0.015723  0.019110   \n",
       "2  0.090062   0.152751     0.101287  ...  0.013713  0.285805  0.022343   \n",
       "3  0.167392   0.185084     0.305117  ...  0.136636  0.339412  0.185084   \n",
       "4  0.116455   0.067727     0.050238  ...  0.121065  0.029650  0.045072   \n",
       "\n",
       "     Groupe   Partage      Role  Performance  Meilleur  Individualiste  \\\n",
       "0  0.169235  0.004866  0.031171     0.010998  0.035884        0.025494   \n",
       "1  0.021287  0.021529  0.018868     0.021287  0.017900        0.024432   \n",
       "2  0.007677  0.103828  0.133054     0.031556  0.070207        0.135014   \n",
       "3  0.300490  0.092270  0.079750     0.236255  0.249864        0.272183   \n",
       "4  0.216773  0.060254  0.059221     0.069078  0.077822        0.063037   \n",
       "\n",
       "    detente  \n",
       "0  0.024582  \n",
       "1  0.017658  \n",
       "2  0.175676  \n",
       "3  0.333696  \n",
       "4  0.159777  \n",
       "\n",
       "[5 rows x 74 columns]"
      ]
     },
     "execution_count": 122,
     "metadata": {},
     "output_type": "execute_result"
    }
   ],
   "source": [
    "df.head()"
   ]
  },
  {
   "cell_type": "code",
   "execution_count": 123,
   "metadata": {},
   "outputs": [],
   "source": [
    "df_colonne = df.columns[ 3:]"
   ]
  },
  {
   "cell_type": "markdown",
   "metadata": {},
   "source": [
    "données Train et validation"
   ]
  },
  {
   "cell_type": "code",
   "execution_count": 124,
   "metadata": {},
   "outputs": [],
   "source": [
    "y_3 = df.loc[:,'cluster3']\n",
    "y_4 = df.loc[:,'cluster4']\n",
    "y_5 = df.loc[:,'cluster5']"
   ]
  },
  {
   "cell_type": "code",
   "execution_count": 170,
   "metadata": {},
   "outputs": [
    {
     "name": "stdout",
     "output_type": "stream",
     "text": [
      "<class 'pandas.core.frame.DataFrame'>\n"
     ]
    }
   ],
   "source": [
    "X = df\n",
    "X.drop(df.columns[[0,1,2]], axis = 1, inplace = True) "
   ]
  },
  {
   "cell_type": "code",
   "execution_count": 126,
   "metadata": {},
   "outputs": [],
   "source": [
    "\n",
    "nelem = len(df)\n",
    "X_train, X_test , y_train_3, y_test_3 = train_test_split (X,y_3, train_size = int(nelem*(2/3)), test_size = int(nelem*(1/3)),random_state = 0)\n",
    "X_train_4, X_test_4 , y_train_4, y_test_4 = train_test_split (X,y_4, train_size = int(nelem*(2/3)), test_size = int(nelem*(1/3)),random_state = 0)\n",
    "X_train_5, X_test_5 , y_train_5, y_test_5 = train_test_split (X,y_5, train_size = int(nelem*(2/3)), test_size = int(nelem*(1/3)),random_state = 0)\n",
    "\n"
   ]
  },
  {
   "cell_type": "code",
   "execution_count": null,
   "metadata": {},
   "outputs": [],
   "source": []
  },
  {
   "cell_type": "code",
   "execution_count": 129,
   "metadata": {},
   "outputs": [
    {
     "data": {
      "text/plain": [
       "LogisticRegression()"
      ]
     },
     "execution_count": 129,
     "metadata": {},
     "output_type": "execute_result"
    }
   ],
   "source": [
    "logreg = LogisticRegression()\n",
    "logreg_4 = LogisticRegression()\n",
    "logreg_5 = LogisticRegression()\n",
    "logreg.fit(X_train,y_train_3)\n",
    "logreg_4.fit(X_train_4,y_train_4)\n",
    "logreg_5.fit(X_train_5,y_train_5)"
   ]
  },
  {
   "cell_type": "code",
   "execution_count": 130,
   "metadata": {},
   "outputs": [
    {
     "name": "stdout",
     "output_type": "stream",
     "text": [
      "0.9428571428571428\n",
      "confusion  \n",
      " [[242   0   1]\n",
      " [ 14  22   0]\n",
      " [  4   1  66]]\n"
     ]
    }
   ],
   "source": [
    "from sklearn import neighbors\n",
    "knn = neighbors.KNeighborsClassifier()\n",
    "from sklearn import metrics\n",
    "\n",
    "knn.fit(X_train,y_train_3)\n",
    "y_pred_3_knn = knn.predict(X_test)\n",
    "print( metrics.accuracy_score(y_test_3,y_pred_3_knn))\n",
    "\n",
    "confusion = metrics.confusion_matrix(y_test_3, y_pred_3_knn)\n",
    "print('confusion  \\n' ,confusion)"
   ]
  },
  {
   "cell_type": "code",
   "execution_count": 131,
   "metadata": {},
   "outputs": [],
   "source": [
    "# prediction pour le donner val\n",
    "y_pred_3_class = logreg.predict(X_test)\n",
    "y_pred_4_class = logreg.predict(X_test_4)\n",
    "y_pred_5_class = logreg.predict(X_test_5)"
   ]
  },
  {
   "cell_type": "markdown",
   "metadata": {},
   "source": [
    "calcul de l'accuracy"
   ]
  },
  {
   "cell_type": "code",
   "execution_count": 132,
   "metadata": {},
   "outputs": [
    {
     "name": "stdout",
     "output_type": "stream",
     "text": [
      "0.9657142857142857\n",
      "0.31142857142857144\n",
      "0.2542857142857143\n"
     ]
    }
   ],
   "source": [
    "\n",
    "print( metrics.accuracy_score(y_test_3,y_pred_3_class))\n",
    "print( metrics.accuracy_score(y_test_4,y_pred_4_class))\n",
    "print( metrics.accuracy_score(y_test_5,y_pred_5_class))"
   ]
  },
  {
   "cell_type": "code",
   "execution_count": 133,
   "metadata": {},
   "outputs": [
    {
     "name": "stdout",
     "output_type": "stream",
     "text": [
      "True [1 3 1 1 3 1 1 1 1 3 1 3 2 1 1 1 3 1 1 2 1 1 1 1 1]\n",
      "True 4 [2 4 1 1 4 1 1 2 1 4 2 4 3 2 1 1 4 1 2 3 2 2 2 1 2]\n",
      "True 5  [2 5 1 1 5 1 1 2 1 5 2 5 4 2 1 1 5 1 2 4 2 2 2 1 2]\n",
      "Pred [1 3 1 1 3 1 1 1 1 3 1 3 2 1 1 1 3 1 1 2 1 1 1 1 1]\n",
      "Pred 4  [1 3 1 1 3 1 1 1 1 3 1 3 2 1 1 1 3 1 1 2 1 1 1 1 1]\n",
      "Pred 5  [1 3 1 1 3 1 1 1 1 3 1 3 2 1 1 1 3 1 1 2 1 1 1 1 1]\n"
     ]
    }
   ],
   "source": [
    "# comparer true and predicted response values\n",
    "print('True' , y_test_3.values[0:25])\n",
    "print('True 4' , y_test_4.values[0:25])\n",
    "print('True 5 ' , y_test_5.values[0:25])\n",
    "# y_pred_3_class  = y_pred_3_class.to_numpy()\n",
    "\n",
    "print('Pred' , y_pred_3_class[0:25])\n",
    "print('Pred 4 ' , y_pred_4_class[0:25])\n",
    "print('Pred 5 ' , y_pred_5_class[0:25])"
   ]
  },
  {
   "cell_type": "code",
   "execution_count": 134,
   "metadata": {},
   "outputs": [
    {
     "name": "stdout",
     "output_type": "stream",
     "text": [
      "confusion  \n",
      " [[237   5   1]\n",
      " [  4  32   0]\n",
      " [  2   0  69]]\n",
      "confusion 4 \n",
      " [[106   2   0   0]\n",
      " [131   3   1   0]\n",
      " [  4  32   0   0]\n",
      " [  2   0  69   0]]\n",
      "confusion 5 \n",
      " [[ 86   0   0   0   0]\n",
      " [131   3   1   0   0]\n",
      " [ 20   2   0   0   0]\n",
      " [  4  32   0   0   0]\n",
      " [  2   0  69   0   0]]\n"
     ]
    }
   ],
   "source": [
    "confusion = metrics.confusion_matrix(y_test_3, y_pred_3_class)\n",
    "confusion_4 = metrics.confusion_matrix(y_test_4, y_pred_4_class)\n",
    "confusion_5  = metrics.confusion_matrix(y_test_5, y_pred_5_class)\n",
    "print('confusion  \\n' ,confusion)\n",
    "print('confusion 4 \\n' ,confusion_4)\n",
    "print('confusion 5 \\n' ,confusion_5)"
   ]
  },
  {
   "cell_type": "code",
   "execution_count": 135,
   "metadata": {},
   "outputs": [
    {
     "data": {
      "image/png": "[encoded data removed]",
      "text/plain": [
       "<Figure size 288x288 with 1 Axes>"
      ]
     },
     "metadata": {
      "needs_background": "light"
     },
     "output_type": "display_data"
    }
   ],
   "source": [
    "plt.matshow(confusion, cmap=plt.cm.gray)\n",
    "plt.show()"
   ]
  },
  {
   "cell_type": "code",
   "execution_count": 136,
   "metadata": {},
   "outputs": [
    {
     "data": {
      "image/png": "[encoded data removed]",
      "text/plain": [
       "<Figure size 288x288 with 1 Axes>"
      ]
     },
     "metadata": {
      "needs_background": "light"
     },
     "output_type": "display_data"
    }
   ],
   "source": [
    "plt.matshow(confusion_4, cmap=plt.cm.gray)\n",
    "plt.show()"
   ]
  },
  {
   "cell_type": "code",
   "execution_count": 137,
   "metadata": {},
   "outputs": [
    {
     "data": {
      "image/png": "[encoded data removed]",
      "text/plain": [
       "<Figure size 288x288 with 1 Axes>"
      ]
     },
     "metadata": {
      "needs_background": "light"
     },
     "output_type": "display_data"
    }
   ],
   "source": [
    "plt.matshow(confusion_5, cmap=plt.cm.gray)\n",
    "plt.show()"
   ]
  },
  {
   "cell_type": "code",
   "execution_count": null,
   "metadata": {},
   "outputs": [],
   "source": []
  },
  {
   "cell_type": "code",
   "execution_count": 138,
   "metadata": {},
   "outputs": [
    {
     "name": "stdout",
     "output_type": "stream",
     "text": [
      "recall_score :  [0.97530864 0.88888889 0.97183099]\n",
      "recall_score 4 :  [0.98148148 0.02222222 0.         0.        ]\n",
      "recall_score 5 :  [1.         0.02222222 0.         0.         0.        ]\n"
     ]
    }
   ],
   "source": [
    "print( 'recall_score : ',metrics.recall_score(y_test_3, y_pred_3_class,average=None))\n",
    "print( 'recall_score 4 : ' ,metrics.recall_score(y_test_4, y_pred_4_class,average=None))\n",
    "print( 'recall_score 5 : ' ,metrics.recall_score(y_test_5, y_pred_5_class,average=None))"
   ]
  },
  {
   "cell_type": "code",
   "execution_count": 139,
   "metadata": {},
   "outputs": [
    {
     "name": "stdout",
     "output_type": "stream",
     "text": [
      "precision_score : [0.97530864 0.86486486 0.98571429]\n",
      "precision_score 4: [0.43621399 0.08108108 0.         0.        ]\n",
      "precision_score 5: [0.35390947 0.08108108 0.         0.         0.        ]\n"
     ]
    },
    {
     "name": "stderr",
     "output_type": "stream",
     "text": [
      "/home/congo/.local/lib/python3.8/site-packages/sklearn/metrics/_classification.py:1318: UndefinedMetricWarning: Precision is ill-defined and being set to 0.0 in labels with no predicted samples. Use `zero_division` parameter to control this behavior.\n",
      "  _warn_prf(average, modifier, msg_start, len(result))\n",
      "/home/congo/.local/lib/python3.8/site-packages/sklearn/metrics/_classification.py:1318: UndefinedMetricWarning: Precision is ill-defined and being set to 0.0 in labels with no predicted samples. Use `zero_division` parameter to control this behavior.\n",
      "  _warn_prf(average, modifier, msg_start, len(result))\n"
     ]
    }
   ],
   "source": [
    "print('precision_score :' ,metrics.precision_score(y_test_3, y_pred_3_class,average=None))\n",
    "print('precision_score 4:' ,metrics.precision_score(y_test_4, y_pred_4_class,average=None))\n",
    "print('precision_score 5:' ,metrics.precision_score(y_test_5, y_pred_5_class,average=None))"
   ]
  },
  {
   "cell_type": "code",
   "execution_count": null,
   "metadata": {},
   "outputs": [],
   "source": []
  },
  {
   "cell_type": "code",
   "execution_count": null,
   "metadata": {},
   "outputs": [],
   "source": []
  },
  {
   "cell_type": "code",
   "execution_count": 1,
   "metadata": {},
   "outputs": [],
   "source": [
    "\n",
    "# setwd(\"C:/Users/cschnitzler/Dropbox/staps/2021 2022/stage/master cmsi/job congo\")\n",
    "# library(readxl)\n",
    "\n",
    "# data_motus <- read_excel(\"data_motus.xlsx\")\n",
    "\n",
    "# library(FactoMineR)\n",
    "# library(Factoshiny)\n",
    "# PCAshiny(data_motus) "
   ]
  },
  {
   "cell_type": "code",
   "execution_count": null,
   "metadata": {},
   "outputs": [],
   "source": []
  },
  {
   "cell_type": "markdown",
   "metadata": {},
   "source": [
    "# classification "
   ]
  },
  {
   "cell_type": "code",
   "execution_count": 91,
   "metadata": {},
   "outputs": [],
   "source": [
    "from pydoc import describe\n",
    "import pandas as pd\n",
    "import numpy as np\n",
    "import matplotlib.pyplot as plt\n",
    "from sklearn.linear_model import SGDClassifier\n",
    "from sklearn.impute import SimpleImputer\n",
    "from sklearn import preprocessing\n",
    "from sklearn.model_selection import train_test_split\n",
    "\n",
    "import scipy.stats as stats\n",
    "import pandas as pd\n",
    "import statsmodels.api as sm\n",
    "from statsmodels.formula.api import ols\n",
    "\n",
    "# ANOVA feature selection for numeric input and categorical output\n",
    "from sklearn.datasets import make_classification\n",
    "from sklearn.feature_selection import SelectKBest ,f_classif\n",
    "from sklearn.preprocessing import PolynomialFeatures\n",
    "from sklearn.feature_selection import VarianceThreshold\n",
    "from sklearn.linear_model import LogisticRegression\n",
    "from sklearn.svm import LinearSVC ,SVC\n",
    "\n",
    "from sklearn.ensemble import RandomForestClassifier , AdaBoostClassifier\n",
    "\n",
    "from sklearn.pipeline import make_pipeline\n",
    "\n",
    "\n",
    "\n",
    "from sklearn import neighbors\n",
    "from sklearn import metrics\n",
    "\n",
    "from sklearn.metrics import f1_score,confusion_matrix,classification_report\n",
    "from sklearn.model_selection import validation_curve\n",
    "from sklearn.model_selection import GridSearchCV\n",
    "\n",
    "from sklearn.neighbors import KNeighborsClassifier\n",
    "from sklearn.metrics import precision_recall_curve,recall_score\n",
    "from sklearn.model_selection import learning_curve\n",
    "\n"
   ]
  },
  {
   "cell_type": "code",
   "execution_count": 92,
   "metadata": {},
   "outputs": [],
   "source": [
    "df = pd.read_csv(\"/home/congo/Bureau/2022-m1-staps/motives_part/clustering.csv\") \n"
   ]
  },
  {
   "cell_type": "code",
   "execution_count": 93,
   "metadata": {},
   "outputs": [],
   "source": [
    "df.drop(df.columns[[0]], axis = 1, inplace = True) "
   ]
  },
  {
   "cell_type": "code",
   "execution_count": 94,
   "metadata": {},
   "outputs": [
    {
     "data": {
      "text/html": [
       "<div>\n",
       "<style scoped>\n",
       "    .dataframe tbody tr th:only-of-type {\n",
       "        vertical-align: middle;\n",
       "    }\n",
       "\n",
       "    .dataframe tbody tr th {\n",
       "        vertical-align: top;\n",
       "    }\n",
       "\n",
       "    .dataframe thead th {\n",
       "        text-align: right;\n",
       "    }\n",
       "</style>\n",
       "<table border=\"1\" class=\"dataframe\">\n",
       "  <thead>\n",
       "    <tr style=\"text-align: right;\">\n",
       "      <th></th>\n",
       "      <th>cluster3</th>\n",
       "      <th>cluster4</th>\n",
       "      <th>cluster5</th>\n",
       "      <th>Confort</th>\n",
       "      <th>Securite</th>\n",
       "      <th>Qualite</th>\n",
       "      <th>Force</th>\n",
       "      <th>Maintien</th>\n",
       "      <th>Puissance</th>\n",
       "      <th>Competition</th>\n",
       "      <th>...</th>\n",
       "      <th>Serenite</th>\n",
       "      <th>Sexy</th>\n",
       "      <th>Plaisir</th>\n",
       "      <th>Groupe</th>\n",
       "      <th>Partage</th>\n",
       "      <th>Role</th>\n",
       "      <th>Performance</th>\n",
       "      <th>Meilleur</th>\n",
       "      <th>Individualiste</th>\n",
       "      <th>detente</th>\n",
       "    </tr>\n",
       "  </thead>\n",
       "  <tbody>\n",
       "    <tr>\n",
       "      <th>0</th>\n",
       "      <td>1</td>\n",
       "      <td>1</td>\n",
       "      <td>1</td>\n",
       "      <td>0.072732</td>\n",
       "      <td>0.065028</td>\n",
       "      <td>0.079676</td>\n",
       "      <td>0.098327</td>\n",
       "      <td>0.029093</td>\n",
       "      <td>0.032083</td>\n",
       "      <td>0.030411</td>\n",
       "      <td>...</td>\n",
       "      <td>0.015611</td>\n",
       "      <td>0.079372</td>\n",
       "      <td>0.206386</td>\n",
       "      <td>0.169235</td>\n",
       "      <td>0.004866</td>\n",
       "      <td>0.031171</td>\n",
       "      <td>0.010998</td>\n",
       "      <td>0.035884</td>\n",
       "      <td>0.025494</td>\n",
       "      <td>0.024582</td>\n",
       "    </tr>\n",
       "    <tr>\n",
       "      <th>1</th>\n",
       "      <td>2</td>\n",
       "      <td>3</td>\n",
       "      <td>4</td>\n",
       "      <td>0.978229</td>\n",
       "      <td>0.256652</td>\n",
       "      <td>0.370343</td>\n",
       "      <td>0.252782</td>\n",
       "      <td>0.323174</td>\n",
       "      <td>0.327528</td>\n",
       "      <td>0.252540</td>\n",
       "      <td>...</td>\n",
       "      <td>0.017417</td>\n",
       "      <td>0.015723</td>\n",
       "      <td>0.019110</td>\n",
       "      <td>0.021287</td>\n",
       "      <td>0.021529</td>\n",
       "      <td>0.018868</td>\n",
       "      <td>0.021287</td>\n",
       "      <td>0.017900</td>\n",
       "      <td>0.024432</td>\n",
       "      <td>0.017658</td>\n",
       "    </tr>\n",
       "    <tr>\n",
       "      <th>2</th>\n",
       "      <td>1</td>\n",
       "      <td>1</td>\n",
       "      <td>1</td>\n",
       "      <td>0.070048</td>\n",
       "      <td>0.054323</td>\n",
       "      <td>0.062636</td>\n",
       "      <td>0.087573</td>\n",
       "      <td>0.090062</td>\n",
       "      <td>0.152751</td>\n",
       "      <td>0.101287</td>\n",
       "      <td>...</td>\n",
       "      <td>0.013713</td>\n",
       "      <td>0.285805</td>\n",
       "      <td>0.022343</td>\n",
       "      <td>0.007677</td>\n",
       "      <td>0.103828</td>\n",
       "      <td>0.133054</td>\n",
       "      <td>0.031556</td>\n",
       "      <td>0.070207</td>\n",
       "      <td>0.135014</td>\n",
       "      <td>0.175676</td>\n",
       "    </tr>\n",
       "    <tr>\n",
       "      <th>3</th>\n",
       "      <td>1</td>\n",
       "      <td>2</td>\n",
       "      <td>2</td>\n",
       "      <td>0.290419</td>\n",
       "      <td>0.741154</td>\n",
       "      <td>0.153511</td>\n",
       "      <td>0.216930</td>\n",
       "      <td>0.167392</td>\n",
       "      <td>0.185084</td>\n",
       "      <td>0.305117</td>\n",
       "      <td>...</td>\n",
       "      <td>0.136636</td>\n",
       "      <td>0.339412</td>\n",
       "      <td>0.185084</td>\n",
       "      <td>0.300490</td>\n",
       "      <td>0.092270</td>\n",
       "      <td>0.079750</td>\n",
       "      <td>0.236255</td>\n",
       "      <td>0.249864</td>\n",
       "      <td>0.272183</td>\n",
       "      <td>0.333696</td>\n",
       "    </tr>\n",
       "    <tr>\n",
       "      <th>4</th>\n",
       "      <td>1</td>\n",
       "      <td>1</td>\n",
       "      <td>1</td>\n",
       "      <td>0.029809</td>\n",
       "      <td>0.098887</td>\n",
       "      <td>0.045072</td>\n",
       "      <td>0.158585</td>\n",
       "      <td>0.116455</td>\n",
       "      <td>0.067727</td>\n",
       "      <td>0.050238</td>\n",
       "      <td>...</td>\n",
       "      <td>0.121065</td>\n",
       "      <td>0.029650</td>\n",
       "      <td>0.045072</td>\n",
       "      <td>0.216773</td>\n",
       "      <td>0.060254</td>\n",
       "      <td>0.059221</td>\n",
       "      <td>0.069078</td>\n",
       "      <td>0.077822</td>\n",
       "      <td>0.063037</td>\n",
       "      <td>0.159777</td>\n",
       "    </tr>\n",
       "  </tbody>\n",
       "</table>\n",
       "<p>5 rows × 74 columns</p>\n",
       "</div>"
      ],
      "text/plain": [
       "   cluster3  cluster4  cluster5   Confort  Securite   Qualite     Force  \\\n",
       "0         1         1         1  0.072732  0.065028  0.079676  0.098327   \n",
       "1         2         3         4  0.978229  0.256652  0.370343  0.252782   \n",
       "2         1         1         1  0.070048  0.054323  0.062636  0.087573   \n",
       "3         1         2         2  0.290419  0.741154  0.153511  0.216930   \n",
       "4         1         1         1  0.029809  0.098887  0.045072  0.158585   \n",
       "\n",
       "   Maintien  Puissance  Competition  ...  Serenite      Sexy   Plaisir  \\\n",
       "0  0.029093   0.032083     0.030411  ...  0.015611  0.079372  0.206386   \n",
       "1  0.323174   0.327528     0.252540  ...  0.017417  0.015723  0.019110   \n",
       "2  0.090062   0.152751     0.101287  ...  0.013713  0.285805  0.022343   \n",
       "3  0.167392   0.185084     0.305117  ...  0.136636  0.339412  0.185084   \n",
       "4  0.116455   0.067727     0.050238  ...  0.121065  0.029650  0.045072   \n",
       "\n",
       "     Groupe   Partage      Role  Performance  Meilleur  Individualiste  \\\n",
       "0  0.169235  0.004866  0.031171     0.010998  0.035884        0.025494   \n",
       "1  0.021287  0.021529  0.018868     0.021287  0.017900        0.024432   \n",
       "2  0.007677  0.103828  0.133054     0.031556  0.070207        0.135014   \n",
       "3  0.300490  0.092270  0.079750     0.236255  0.249864        0.272183   \n",
       "4  0.216773  0.060254  0.059221     0.069078  0.077822        0.063037   \n",
       "\n",
       "    detente  \n",
       "0  0.024582  \n",
       "1  0.017658  \n",
       "2  0.175676  \n",
       "3  0.333696  \n",
       "4  0.159777  \n",
       "\n",
       "[5 rows x 74 columns]"
      ]
     },
     "execution_count": 94,
     "metadata": {},
     "output_type": "execute_result"
    }
   ],
   "source": [
    "df.head()"
   ]
  },
  {
   "cell_type": "code",
   "execution_count": 95,
   "metadata": {},
   "outputs": [],
   "source": [
    "y_3 = df.loc[:,'cluster3']\n",
    "y_4 = df.loc[:,'cluster4']\n",
    "y_5 = df.loc[:,'cluster5']"
   ]
  },
  {
   "cell_type": "code",
   "execution_count": 96,
   "metadata": {},
   "outputs": [],
   "source": [
    "X = df\n",
    "X.drop(df.columns[[0,1,2]], axis = 1, inplace = True) "
   ]
  },
  {
   "cell_type": "code",
   "execution_count": 97,
   "metadata": {},
   "outputs": [],
   "source": [
    "train_ratio = 0.80\n",
    "test_ratio = 0.10\n",
    "validation_ratio = 0.10\n",
    "\n",
    "X_train_3, X_test_3, y_train_3, y_test_3 = train_test_split(X, y_3, test_size=test_ratio)\n",
    "X_train_3, X_valid_3, y_train_3, y_valid_3 = train_test_split(X_train_3, y_train_3, test_size=validation_ratio/(train_ratio+test_ratio))\n",
    "\n",
    "\n",
    "X_train_4, X_test_4, y_train_4, y_test_4 = train_test_split(X, y_4, test_size=test_ratio)\n",
    "X_train_4, X_valid_4, y_train_4, y_valid_4 = train_test_split(X_train_4, y_train_4, test_size=validation_ratio/(train_ratio+test_ratio))\n",
    "\n",
    "X_train_5, X_test_5, y_train_5, y_test_5 = train_test_split(X, y_5, test_size=test_ratio)\n",
    "X_train_5, X_valid_5, y_train_5, y_valid_5 = train_test_split(X_train_5, y_train_5, test_size=validation_ratio/(train_ratio+test_ratio))"
   ]
  },
  {
   "cell_type": "code",
   "execution_count": 173,
   "metadata": {},
   "outputs": [],
   "source": [
    "model = LogisticRegression(C= 1.0, penalty=\"l2\")\n",
    "parameters = {\"C\":1.0, \"penalty\":\"l2\"}"
   ]
  },
  {
   "cell_type": "markdown",
   "metadata": {},
   "source": [
    "## 1) Modelisation et choix de l'algorithme de sélection"
   ]
  },
  {
   "cell_type": "code",
   "execution_count": 99,
   "metadata": {},
   "outputs": [],
   "source": [
    "preprocessor = make_pipeline(PolynomialFeatures(2, include_bias = False) ,SelectKBest(f_classif , k=10))"
   ]
  },
  {
   "cell_type": "code",
   "execution_count": 100,
   "metadata": {},
   "outputs": [],
   "source": [
    "RandomForest_3 = make_pipeline(preprocessor,RandomForestClassifier(random_state=0))\n",
    "SVM_3 = make_pipeline(preprocessor,SVC(random_state=0))\n",
    "KNN_3 = make_pipeline(preprocessor,KNeighborsClassifier())\n",
    "logreg_3 = make_pipeline(preprocessor,LogisticRegression())\n",
    "svc_3 = make_pipeline(preprocessor,LinearSVC())\n"
   ]
  },
  {
   "cell_type": "code",
   "execution_count": 132,
   "metadata": {},
   "outputs": [],
   "source": [
    "dict_of_models ={ 'KNN' :KNN_3,\n",
    "                'logreg' :logreg_3,\n",
    "                'SVC' : svc_3,\n",
    "                #'RandomForest' :RandomForest_3,\n",
    "                'SVM': SVM_3}"
   ]
  },
  {
   "cell_type": "code",
   "execution_count": null,
   "metadata": {},
   "outputs": [],
   "source": []
  },
  {
   "cell_type": "markdown",
   "metadata": {},
   "source": [
    "Procédure d'évalution des modèles"
   ]
  },
  {
   "cell_type": "code",
   "execution_count": 133,
   "metadata": {},
   "outputs": [],
   "source": [
    "def evaluation(model):\n",
    "    model.fit(X_train_3,y_train_3)\n",
    "    y_pred_3 = model.predict(X_test_3)\n",
    "    print(confusion_matrix(y_test_3 , y_pred_3))\n",
    "    print(classification_report(y_test_3 , y_pred_3))\n",
    "\n",
    "    N, train_score ,val_score = learning_curve(model, X_train_3,y_train_3,train_sizes = np.linspace(0.1,1.0,10) ,cv=4)\n",
    "\n",
    "    plt.figure(figsize =(12,8))\n",
    "    plt.plot(N,train_score.mean(axis = 1), label ='train')\n",
    "    plt.plot(N,val_score.mean(axis = 1), label ='validation')\n",
    "    plt.legend()"
   ]
  },
  {
   "cell_type": "code",
   "execution_count": 134,
   "metadata": {},
   "outputs": [
    {
     "name": "stdout",
     "output_type": "stream",
     "text": [
      "KNN\n",
      "[[70  4  1]\n",
      " [ 7  5  0]\n",
      " [ 1  0 17]]\n",
      "              precision    recall  f1-score   support\n",
      "\n",
      "           1       0.90      0.93      0.92        75\n",
      "           2       0.56      0.42      0.48        12\n",
      "           3       0.94      0.94      0.94        18\n",
      "\n",
      "    accuracy                           0.88       105\n",
      "   macro avg       0.80      0.76      0.78       105\n",
      "weighted avg       0.87      0.88      0.87       105\n",
      "\n",
      "logreg\n",
      "[[74  0  1]\n",
      " [12  0  0]\n",
      " [ 3  0 15]]\n",
      "              precision    recall  f1-score   support\n",
      "\n",
      "           1       0.83      0.99      0.90        75\n",
      "           2       0.00      0.00      0.00        12\n",
      "           3       0.94      0.83      0.88        18\n",
      "\n",
      "    accuracy                           0.85       105\n",
      "   macro avg       0.59      0.61      0.59       105\n",
      "weighted avg       0.75      0.85      0.80       105\n",
      "\n"
     ]
    },
    {
     "name": "stderr",
     "output_type": "stream",
     "text": [
      "/home/congo/.local/lib/python3.8/site-packages/sklearn/metrics/_classification.py:1318: UndefinedMetricWarning: Precision and F-score are ill-defined and being set to 0.0 in labels with no predicted samples. Use `zero_division` parameter to control this behavior.\n",
      "  _warn_prf(average, modifier, msg_start, len(result))\n",
      "/home/congo/.local/lib/python3.8/site-packages/sklearn/metrics/_classification.py:1318: UndefinedMetricWarning: Precision and F-score are ill-defined and being set to 0.0 in labels with no predicted samples. Use `zero_division` parameter to control this behavior.\n",
      "  _warn_prf(average, modifier, msg_start, len(result))\n",
      "/home/congo/.local/lib/python3.8/site-packages/sklearn/metrics/_classification.py:1318: UndefinedMetricWarning: Precision and F-score are ill-defined and being set to 0.0 in labels with no predicted samples. Use `zero_division` parameter to control this behavior.\n",
      "  _warn_prf(average, modifier, msg_start, len(result))\n"
     ]
    },
    {
     "name": "stdout",
     "output_type": "stream",
     "text": [
      "SVC\n",
      "[[73  1  1]\n",
      " [ 2 10  0]\n",
      " [ 2  0 16]]\n",
      "              precision    recall  f1-score   support\n",
      "\n",
      "           1       0.95      0.97      0.96        75\n",
      "           2       0.91      0.83      0.87        12\n",
      "           3       0.94      0.89      0.91        18\n",
      "\n",
      "    accuracy                           0.94       105\n",
      "   macro avg       0.93      0.90      0.91       105\n",
      "weighted avg       0.94      0.94      0.94       105\n",
      "\n",
      "SVM\n",
      "[[72  2  1]\n",
      " [10  2  0]\n",
      " [ 1  0 17]]\n",
      "              precision    recall  f1-score   support\n",
      "\n",
      "           1       0.87      0.96      0.91        75\n",
      "           2       0.50      0.17      0.25        12\n",
      "           3       0.94      0.94      0.94        18\n",
      "\n",
      "    accuracy                           0.87       105\n",
      "   macro avg       0.77      0.69      0.70       105\n",
      "weighted avg       0.84      0.87      0.84       105\n",
      "\n"
     ]
    },
    {
     "data": {
      "image/png": "[encoded data removed]",
      "text/plain": [
       "<Figure size 864x576 with 1 Axes>"
      ]
     },
     "metadata": {
      "needs_background": "light"
     },
     "output_type": "display_data"
    },
    {
     "data": {
      "image/png": "[encoded data removed]",
      "text/plain": [
       "<Figure size 864x576 with 1 Axes>"
      ]
     },
     "metadata": {
      "needs_background": "light"
     },
     "output_type": "display_data"
    },
    {
     "data": {
      "image/png": "[encoded data removed]",
      "text/plain": [
       "<Figure size 864x576 with 1 Axes>"
      ]
     },
     "metadata": {
      "needs_background": "light"
     },
     "output_type": "display_data"
    },
    {
     "data": {
      "image/png": "[encoded data removed]",
      "text/plain": [
       "<Figure size 864x576 with 1 Axes>"
      ]
     },
     "metadata": {
      "needs_background": "light"
     },
     "output_type": "display_data"
    }
   ],
   "source": [
    "for names,model in dict_of_models.items() :\n",
    "     print(names)\n",
    "     evaluation(model)"
   ]
  },
  {
   "cell_type": "code",
   "execution_count": null,
   "metadata": {},
   "outputs": [],
   "source": []
  },
  {
   "cell_type": "markdown",
   "metadata": {},
   "source": [
    "Optimisation des hyperparametres du modèle SVC et logistic"
   ]
  },
  {
   "cell_type": "code",
   "execution_count": 155,
   "metadata": {},
   "outputs": [],
   "source": [
    "def optimiseur(model , parameters):\n",
    "    grid = GridSearchCV(model,parameters)\n",
    "    grid.fit(X_train_3,y_train_3)\n",
    "\n",
    "    print(\"best parameters \",grid.best_params_)\n",
    "    print(\"accuracy :\",grid.best_score_)\n",
    "\n"
   ]
  },
  {
   "cell_type": "code",
   "execution_count": 165,
   "metadata": {},
   "outputs": [
    {
     "name": "stdout",
     "output_type": "stream",
     "text": [
      "best parameters  {'C': 10, 'kernel': 'rbf'}\n",
      "accuracy : 0.9535215283718278\n"
     ]
    }
   ],
   "source": [
    "# optimiser SVC\n",
    "parameters = {'kernel':('linear', 'rbf'), 'C':[1, 10]}\n",
    "model = SVC()\n",
    "# optimiseur(model , parameters)"
   ]
  },
  {
   "cell_type": "code",
   "execution_count": 167,
   "metadata": {},
   "outputs": [],
   "source": [
    "#bon parametre SVC\n",
    "model = SVC(kernel= 'rbf', C = 10)\n",
    "parameters = {'kernel':'rbf', 'C':10}"
   ]
  },
  {
   "cell_type": "code",
   "execution_count": 160,
   "metadata": {},
   "outputs": [],
   "source": [
    "# optimiser LogisticRegression\n",
    "parameters = {\"C\":np.logspace(-3,3,7), \"penalty\":[\"l1\",\"l2\"]}# l1 lasso l2 ridge\n",
    "model = LogisticRegression()\n",
    "#optimiseur(model , parameters)"
   ]
  },
  {
   "cell_type": "code",
   "execution_count": null,
   "metadata": {},
   "outputs": [],
   "source": [
    "# bon parametre LogisticRegression\n",
    "model = LogisticRegression(C= 1.0, penalty=\"l2\")\n",
    "parameters = {\"C\":1.0, \"penalty\":\"l2\"}\n"
   ]
  },
  {
   "cell_type": "code",
   "execution_count": null,
   "metadata": {},
   "outputs": [],
   "source": []
  },
  {
   "cell_type": "code",
   "execution_count": 144,
   "metadata": {},
   "outputs": [
    {
     "name": "stdout",
     "output_type": "stream",
     "text": [
      "              precision    recall  f1-score   support\n",
      "\n",
      "           1       0.96      0.97      0.97        75\n",
      "           2       0.92      0.92      0.92        12\n",
      "           3       0.94      0.89      0.91        18\n",
      "\n",
      "    accuracy                           0.95       105\n",
      "   macro avg       0.94      0.93      0.93       105\n",
      "weighted avg       0.95      0.95      0.95       105\n",
      "\n"
     ]
    }
   ],
   "source": [
    "# SVC semble mieux !!!\n",
    "parameters = {'kernel':('linear', 'rbf'), 'C':[1, 10]}\n",
    "svc_3 = SVC()\n",
    "\n",
    "grid = GridSearchCV(svc_3,parameters)\n",
    "\n",
    "grid.fit(X_train_3,y_train_3)\n",
    "\n",
    "\n",
    "y_pred_3 = grid.predict(X_test_3)\n",
    "\n",
    "print(classification_report(y_test_3,y_pred_3))\n"
   ]
  },
  {
   "cell_type": "code",
   "execution_count": null,
   "metadata": {},
   "outputs": [],
   "source": []
  },
  {
   "cell_type": "code",
   "execution_count": 143,
   "metadata": {},
   "outputs": [
    {
     "name": "stderr",
     "output_type": "stream",
     "text": [
      "/home/congo/.local/lib/python3.8/site-packages/sklearn/linear_model/_logistic.py:814: ConvergenceWarning: lbfgs failed to converge (status=1):\n",
      "STOP: TOTAL NO. of ITERATIONS REACHED LIMIT.\n",
      "\n",
      "Increase the number of iterations (max_iter) or scale the data as shown in:\n",
      "    https://scikit-learn.org/stable/modules/preprocessing.html\n",
      "Please also refer to the documentation for alternative solver options:\n",
      "    https://scikit-learn.org/stable/modules/linear_model.html#logistic-regression\n",
      "  n_iter_i = _check_optimize_result(\n",
      "/home/congo/.local/lib/python3.8/site-packages/sklearn/linear_model/_logistic.py:814: ConvergenceWarning: lbfgs failed to converge (status=1):\n",
      "STOP: TOTAL NO. of ITERATIONS REACHED LIMIT.\n",
      "\n",
      "Increase the number of iterations (max_iter) or scale the data as shown in:\n",
      "    https://scikit-learn.org/stable/modules/preprocessing.html\n",
      "Please also refer to the documentation for alternative solver options:\n",
      "    https://scikit-learn.org/stable/modules/linear_model.html#logistic-regression\n",
      "  n_iter_i = _check_optimize_result(\n",
      "/home/congo/.local/lib/python3.8/site-packages/sklearn/linear_model/_logistic.py:814: ConvergenceWarning: lbfgs failed to converge (status=1):\n",
      "STOP: TOTAL NO. of ITERATIONS REACHED LIMIT.\n",
      "\n",
      "Increase the number of iterations (max_iter) or scale the data as shown in:\n",
      "    https://scikit-learn.org/stable/modules/preprocessing.html\n",
      "Please also refer to the documentation for alternative solver options:\n",
      "    https://scikit-learn.org/stable/modules/linear_model.html#logistic-regression\n",
      "  n_iter_i = _check_optimize_result(\n",
      "/home/congo/.local/lib/python3.8/site-packages/sklearn/linear_model/_logistic.py:814: ConvergenceWarning: lbfgs failed to converge (status=1):\n",
      "STOP: TOTAL NO. of ITERATIONS REACHED LIMIT.\n",
      "\n",
      "Increase the number of iterations (max_iter) or scale the data as shown in:\n",
      "    https://scikit-learn.org/stable/modules/preprocessing.html\n",
      "Please also refer to the documentation for alternative solver options:\n",
      "    https://scikit-learn.org/stable/modules/linear_model.html#logistic-regression\n",
      "  n_iter_i = _check_optimize_result(\n",
      "/home/congo/.local/lib/python3.8/site-packages/sklearn/linear_model/_logistic.py:814: ConvergenceWarning: lbfgs failed to converge (status=1):\n",
      "STOP: TOTAL NO. of ITERATIONS REACHED LIMIT.\n",
      "\n",
      "Increase the number of iterations (max_iter) or scale the data as shown in:\n",
      "    https://scikit-learn.org/stable/modules/preprocessing.html\n",
      "Please also refer to the documentation for alternative solver options:\n",
      "    https://scikit-learn.org/stable/modules/linear_model.html#logistic-regression\n",
      "  n_iter_i = _check_optimize_result(\n",
      "/home/congo/.local/lib/python3.8/site-packages/sklearn/linear_model/_logistic.py:814: ConvergenceWarning: lbfgs failed to converge (status=1):\n",
      "STOP: TOTAL NO. of ITERATIONS REACHED LIMIT.\n",
      "\n",
      "Increase the number of iterations (max_iter) or scale the data as shown in:\n",
      "    https://scikit-learn.org/stable/modules/preprocessing.html\n",
      "Please also refer to the documentation for alternative solver options:\n",
      "    https://scikit-learn.org/stable/modules/linear_model.html#logistic-regression\n",
      "  n_iter_i = _check_optimize_result(\n",
      "/home/congo/.local/lib/python3.8/site-packages/sklearn/linear_model/_logistic.py:814: ConvergenceWarning: lbfgs failed to converge (status=1):\n",
      "STOP: TOTAL NO. of ITERATIONS REACHED LIMIT.\n",
      "\n",
      "Increase the number of iterations (max_iter) or scale the data as shown in:\n",
      "    https://scikit-learn.org/stable/modules/preprocessing.html\n",
      "Please also refer to the documentation for alternative solver options:\n",
      "    https://scikit-learn.org/stable/modules/linear_model.html#logistic-regression\n",
      "  n_iter_i = _check_optimize_result(\n",
      "/home/congo/.local/lib/python3.8/site-packages/sklearn/linear_model/_logistic.py:814: ConvergenceWarning: lbfgs failed to converge (status=1):\n",
      "STOP: TOTAL NO. of ITERATIONS REACHED LIMIT.\n",
      "\n",
      "Increase the number of iterations (max_iter) or scale the data as shown in:\n",
      "    https://scikit-learn.org/stable/modules/preprocessing.html\n",
      "Please also refer to the documentation for alternative solver options:\n",
      "    https://scikit-learn.org/stable/modules/linear_model.html#logistic-regression\n",
      "  n_iter_i = _check_optimize_result(\n",
      "/home/congo/.local/lib/python3.8/site-packages/sklearn/linear_model/_logistic.py:814: ConvergenceWarning: lbfgs failed to converge (status=1):\n",
      "STOP: TOTAL NO. of ITERATIONS REACHED LIMIT.\n",
      "\n",
      "Increase the number of iterations (max_iter) or scale the data as shown in:\n",
      "    https://scikit-learn.org/stable/modules/preprocessing.html\n",
      "Please also refer to the documentation for alternative solver options:\n",
      "    https://scikit-learn.org/stable/modules/linear_model.html#logistic-regression\n",
      "  n_iter_i = _check_optimize_result(\n",
      "/home/congo/.local/lib/python3.8/site-packages/sklearn/linear_model/_logistic.py:814: ConvergenceWarning: lbfgs failed to converge (status=1):\n",
      "STOP: TOTAL NO. of ITERATIONS REACHED LIMIT.\n",
      "\n",
      "Increase the number of iterations (max_iter) or scale the data as shown in:\n",
      "    https://scikit-learn.org/stable/modules/preprocessing.html\n",
      "Please also refer to the documentation for alternative solver options:\n",
      "    https://scikit-learn.org/stable/modules/linear_model.html#logistic-regression\n",
      "  n_iter_i = _check_optimize_result(\n",
      "/home/congo/.local/lib/python3.8/site-packages/sklearn/linear_model/_logistic.py:814: ConvergenceWarning: lbfgs failed to converge (status=1):\n",
      "STOP: TOTAL NO. of ITERATIONS REACHED LIMIT.\n",
      "\n",
      "Increase the number of iterations (max_iter) or scale the data as shown in:\n",
      "    https://scikit-learn.org/stable/modules/preprocessing.html\n",
      "Please also refer to the documentation for alternative solver options:\n",
      "    https://scikit-learn.org/stable/modules/linear_model.html#logistic-regression\n",
      "  n_iter_i = _check_optimize_result(\n",
      "/home/congo/.local/lib/python3.8/site-packages/sklearn/linear_model/_logistic.py:814: ConvergenceWarning: lbfgs failed to converge (status=1):\n",
      "STOP: TOTAL NO. of ITERATIONS REACHED LIMIT.\n",
      "\n",
      "Increase the number of iterations (max_iter) or scale the data as shown in:\n",
      "    https://scikit-learn.org/stable/modules/preprocessing.html\n",
      "Please also refer to the documentation for alternative solver options:\n",
      "    https://scikit-learn.org/stable/modules/linear_model.html#logistic-regression\n",
      "  n_iter_i = _check_optimize_result(\n",
      "/home/congo/.local/lib/python3.8/site-packages/sklearn/linear_model/_logistic.py:814: ConvergenceWarning: lbfgs failed to converge (status=1):\n",
      "STOP: TOTAL NO. of ITERATIONS REACHED LIMIT.\n",
      "\n",
      "Increase the number of iterations (max_iter) or scale the data as shown in:\n",
      "    https://scikit-learn.org/stable/modules/preprocessing.html\n",
      "Please also refer to the documentation for alternative solver options:\n",
      "    https://scikit-learn.org/stable/modules/linear_model.html#logistic-regression\n",
      "  n_iter_i = _check_optimize_result(\n",
      "/home/congo/.local/lib/python3.8/site-packages/sklearn/linear_model/_logistic.py:814: ConvergenceWarning: lbfgs failed to converge (status=1):\n",
      "STOP: TOTAL NO. of ITERATIONS REACHED LIMIT.\n",
      "\n",
      "Increase the number of iterations (max_iter) or scale the data as shown in:\n",
      "    https://scikit-learn.org/stable/modules/preprocessing.html\n",
      "Please also refer to the documentation for alternative solver options:\n",
      "    https://scikit-learn.org/stable/modules/linear_model.html#logistic-regression\n",
      "  n_iter_i = _check_optimize_result(\n",
      "/home/congo/.local/lib/python3.8/site-packages/sklearn/linear_model/_logistic.py:814: ConvergenceWarning: lbfgs failed to converge (status=1):\n",
      "STOP: TOTAL NO. of ITERATIONS REACHED LIMIT.\n",
      "\n",
      "Increase the number of iterations (max_iter) or scale the data as shown in:\n",
      "    https://scikit-learn.org/stable/modules/preprocessing.html\n",
      "Please also refer to the documentation for alternative solver options:\n",
      "    https://scikit-learn.org/stable/modules/linear_model.html#logistic-regression\n",
      "  n_iter_i = _check_optimize_result(\n",
      "/home/congo/.local/lib/python3.8/site-packages/sklearn/linear_model/_logistic.py:814: ConvergenceWarning: lbfgs failed to converge (status=1):\n",
      "STOP: TOTAL NO. of ITERATIONS REACHED LIMIT.\n",
      "\n",
      "Increase the number of iterations (max_iter) or scale the data as shown in:\n",
      "    https://scikit-learn.org/stable/modules/preprocessing.html\n",
      "Please also refer to the documentation for alternative solver options:\n",
      "    https://scikit-learn.org/stable/modules/linear_model.html#logistic-regression\n",
      "  n_iter_i = _check_optimize_result(\n",
      "/home/congo/.local/lib/python3.8/site-packages/sklearn/linear_model/_logistic.py:814: ConvergenceWarning: lbfgs failed to converge (status=1):\n",
      "STOP: TOTAL NO. of ITERATIONS REACHED LIMIT.\n",
      "\n",
      "Increase the number of iterations (max_iter) or scale the data as shown in:\n",
      "    https://scikit-learn.org/stable/modules/preprocessing.html\n",
      "Please also refer to the documentation for alternative solver options:\n",
      "    https://scikit-learn.org/stable/modules/linear_model.html#logistic-regression\n",
      "  n_iter_i = _check_optimize_result(\n",
      "/home/congo/.local/lib/python3.8/site-packages/sklearn/linear_model/_logistic.py:814: ConvergenceWarning: lbfgs failed to converge (status=1):\n",
      "STOP: TOTAL NO. of ITERATIONS REACHED LIMIT.\n",
      "\n",
      "Increase the number of iterations (max_iter) or scale the data as shown in:\n",
      "    https://scikit-learn.org/stable/modules/preprocessing.html\n",
      "Please also refer to the documentation for alternative solver options:\n",
      "    https://scikit-learn.org/stable/modules/linear_model.html#logistic-regression\n",
      "  n_iter_i = _check_optimize_result(\n",
      "/home/congo/.local/lib/python3.8/site-packages/sklearn/linear_model/_logistic.py:814: ConvergenceWarning: lbfgs failed to converge (status=1):\n",
      "STOP: TOTAL NO. of ITERATIONS REACHED LIMIT.\n",
      "\n",
      "Increase the number of iterations (max_iter) or scale the data as shown in:\n",
      "    https://scikit-learn.org/stable/modules/preprocessing.html\n",
      "Please also refer to the documentation for alternative solver options:\n",
      "    https://scikit-learn.org/stable/modules/linear_model.html#logistic-regression\n",
      "  n_iter_i = _check_optimize_result(\n",
      "/home/congo/.local/lib/python3.8/site-packages/sklearn/linear_model/_logistic.py:814: ConvergenceWarning: lbfgs failed to converge (status=1):\n",
      "STOP: TOTAL NO. of ITERATIONS REACHED LIMIT.\n",
      "\n",
      "Increase the number of iterations (max_iter) or scale the data as shown in:\n",
      "    https://scikit-learn.org/stable/modules/preprocessing.html\n",
      "Please also refer to the documentation for alternative solver options:\n",
      "    https://scikit-learn.org/stable/modules/linear_model.html#logistic-regression\n",
      "  n_iter_i = _check_optimize_result(\n",
      "/home/congo/.local/lib/python3.8/site-packages/sklearn/model_selection/_validation.py:372: FitFailedWarning: \n",
      "70 fits failed out of a total of 140.\n",
      "The score on these train-test partitions for these parameters will be set to nan.\n",
      "If these failures are not expected, you can try to debug them by setting error_score='raise'.\n",
      "\n",
      "Below are more details about the failures:\n",
      "--------------------------------------------------------------------------------\n",
      "70 fits failed with the following error:\n",
      "Traceback (most recent call last):\n",
      "  File \"/home/congo/.local/lib/python3.8/site-packages/sklearn/model_selection/_validation.py\", line 680, in _fit_and_score\n",
      "    estimator.fit(X_train, y_train, **fit_params)\n",
      "  File \"/home/congo/.local/lib/python3.8/site-packages/sklearn/linear_model/_logistic.py\", line 1461, in fit\n",
      "    solver = _check_solver(self.solver, self.penalty, self.dual)\n",
      "  File \"/home/congo/.local/lib/python3.8/site-packages/sklearn/linear_model/_logistic.py\", line 447, in _check_solver\n",
      "    raise ValueError(\n",
      "ValueError: Solver lbfgs supports only 'l2' or 'none' penalties, got l1 penalty.\n",
      "\n",
      "  warnings.warn(some_fits_failed_message, FitFailedWarning)\n",
      "/home/congo/.local/lib/python3.8/site-packages/sklearn/model_selection/_search.py:969: UserWarning: One or more of the test scores are non-finite: [       nan 0.69847963        nan 0.86771371        nan 0.94515204\n",
      "        nan 0.95949512        nan 0.94401893        nan 0.94400459\n",
      "        nan 0.94162364]\n",
      "  warnings.warn(\n"
     ]
    },
    {
     "data": {
      "text/plain": [
       "GridSearchCV(cv=10, estimator=LogisticRegression(),\n",
       "             param_grid={'C': array([1.e-03, 1.e-02, 1.e-01, 1.e+00, 1.e+01, 1.e+02, 1.e+03]),\n",
       "                         'penalty': ['l1', 'l2']})"
      ]
     },
     "execution_count": 143,
     "metadata": {},
     "output_type": "execute_result"
    }
   ],
   "source": [
    "# logistic\n",
    "grid={\"C\":np.logspace(-3,3,7), \"penalty\":[\"l1\",\"l2\"]}# l1 lasso l2 ridge\n",
    "logreg=LogisticRegression()\n",
    "grid = GridSearchCV(logreg,grid,cv=10)\n",
    "grid.fit(X_train_3,y_train_3)\n",
    "\n",
    "\n",
    "# print(grid.best_params_)\n",
    "\n",
    "# y_pred_3 = grid.predict(X_test_3)\n",
    "\n",
    "# print(classification_report(y_test_3,y_pred_3))\n",
    "\n"
   ]
  },
  {
   "cell_type": "code",
   "execution_count": null,
   "metadata": {},
   "outputs": [],
   "source": []
  },
  {
   "cell_type": "code",
   "execution_count": 138,
   "metadata": {},
   "outputs": [
    {
     "name": "stdout",
     "output_type": "stream",
     "text": [
      "score 0.9619047619047619\n"
     ]
    }
   ],
   "source": [
    "logreg2=LogisticRegression(C=1,penalty=\"l2\")\n",
    "logreg2.fit(X_train_3,y_train_3)\n",
    "print(\"score\",logreg2.score(X_test_3,y_test_3))"
   ]
  },
  {
   "cell_type": "code",
   "execution_count": null,
   "metadata": {},
   "outputs": [],
   "source": []
  },
  {
   "cell_type": "markdown",
   "metadata": {},
   "source": [
    "Precision recall"
   ]
  },
  {
   "cell_type": "code",
   "execution_count": 45,
   "metadata": {},
   "outputs": [],
   "source": [
    "#precision ,recall,threshold =  precision_recall_curve(y_test_3,grid.best_estimator_)\n",
    "\n",
    "# plt.plot(threshold,precision[::-1], label ='precision')\n",
    "# plt.plot(threshold,recall[::-1], label ='recall')\n",
    "# plt.legend()\n",
    "\n",
    "#def model_final(model , X,threshold= 0.05):\n",
    "#     return model.decision_function(X) > threshold\n",
    "\n",
    "\n",
    "# y_pred_3 = model_final(grid.best_estimator_,X_test_3, threshold=-1)\n",
    "\n",
    "# print(y_pred_3.shape)"
   ]
  },
  {
   "cell_type": "code",
   "execution_count": 129,
   "metadata": {},
   "outputs": [
    {
     "data": {
      "text/plain": [
       "0.9481638879808215"
      ]
     },
     "execution_count": 129,
     "metadata": {},
     "output_type": "execute_result"
    }
   ],
   "source": [
    "f1_score(y_test_3,y_pred_3,average = 'macro')\n"
   ]
  },
  {
   "cell_type": "code",
   "execution_count": 131,
   "metadata": {},
   "outputs": [
    {
     "data": {
      "text/plain": [
       "0.9307407407407408"
      ]
     },
     "execution_count": 131,
     "metadata": {},
     "output_type": "execute_result"
    }
   ],
   "source": [
    "recall_score(y_test_3,y_pred_3,average = 'macro')"
   ]
  },
  {
   "cell_type": "code",
   "execution_count": null,
   "metadata": {},
   "outputs": [],
   "source": []
  },
  {
   "cell_type": "markdown",
   "metadata": {},
   "source": [
    "## 2) Feature selection (éliminer les colonnes à faible variance)"
   ]
  },
  {
   "cell_type": "code",
   "execution_count": 146,
   "metadata": {},
   "outputs": [],
   "source": [
    "# X_valid_3.var(axis = 0).sort_values()"
   ]
  },
  {
   "cell_type": "code",
   "execution_count": null,
   "metadata": {},
   "outputs": [],
   "source": []
  },
  {
   "cell_type": "code",
   "execution_count": null,
   "metadata": {},
   "outputs": [],
   "source": [
    "def selection_feature (X_test_3,seuil = 0.05):\n",
    "    # élemination des colonnes à variances inferieur au seuil 0.1 ou 0.05\n",
    "    selector = VarianceThreshold(threshold=seuil)\n",
    "    selector.fit_transform(X_test_3)\n",
    "    colonne_garder = np.array(X_test_3.columns)[selector.get_support()]\n",
    "\n",
    "    print(colonne_garder)\n"
   ]
  },
  {
   "cell_type": "code",
   "execution_count": 222,
   "metadata": {},
   "outputs": [
    {
     "name": "stdout",
     "output_type": "stream",
     "text": [
      "['Galbant' 'Stretchcing' 'Plaisir' 'Partage' 'Performance' 'Meilleur'\n",
      " 'detente']\n"
     ]
    }
   ],
   "source": [
    "# élemination des colonnes à variances inferieur au seuil 0.1 ou 0.05\n",
    "selector = VarianceThreshold(threshold=0.05)\n",
    "selector.fit_transform(X_test_3)\n",
    "colonne_garder = np.array(X_test_3.columns)[selector.get_support()]\n",
    "\n",
    "print(colonne_garder)"
   ]
  },
  {
   "cell_type": "code",
   "execution_count": 221,
   "metadata": {},
   "outputs": [
    {
     "name": "stdout",
     "output_type": "stream",
     "text": [
      "['Galbant' 'Stretchcing' 'Plaisir' 'Partage' 'Performance' 'Meilleur'\n",
      " 'detente']\n"
     ]
    }
   ],
   "source": [
    "# élemination des colonnes à variances inferieur au seuil 0.1 ou 0.05\n",
    "selector = VarianceThreshold(0.05)\n",
    "selector.fit_transform(X_test_3)\n",
    "colonne_garder = np.array(X_test_3.columns)[selector.get_support()]\n",
    "\n",
    "print(colonne_garder)"
   ]
  },
  {
   "cell_type": "code",
   "execution_count": null,
   "metadata": {},
   "outputs": [],
   "source": []
  },
  {
   "cell_type": "markdown",
   "metadata": {},
   "source": [
    "## 3) tester avec le modèle final"
   ]
  },
  {
   "cell_type": "code",
   "execution_count": 219,
   "metadata": {},
   "outputs": [
    {
     "name": "stdout",
     "output_type": "stream",
     "text": [
      "(105, 7)\n"
     ]
    }
   ],
   "source": [
    "# prediction avec uniquement les colonne garder\n",
    "X_test_3 = X_test_3[colonne_garder] \n",
    "X_train_3 = X_train_3[colonne_garder] \n",
    "\n",
    "print(X_test_3.shape)"
   ]
  },
  {
   "cell_type": "code",
   "execution_count": null,
   "metadata": {},
   "outputs": [],
   "source": []
  },
  {
   "cell_type": "code",
   "execution_count": 214,
   "metadata": {},
   "outputs": [],
   "source": [
    "def fit_model (model):\n",
    "    model.fit(X_train_3,y_train_3)\n",
    "\n",
    "def prediction ( model ,X_test_3,y_test_3 ):\n",
    "    # prediction\n",
    "    y_pred_3_log = model.predict(X_test_3)\n",
    "    print( 'accuracy log_3' ,metrics.accuracy_score(y_true = y_test_3, y_pred = y_pred_3_log))\n",
    "    return y_pred_3_log\n",
    "\n",
    "def matrice_confusion(y_test_3, y_pred_3_log):\n",
    "    # Matrice de confusion\n",
    "    confusion_3 = metrics.confusion_matrix(y_true = y_test_3,y_pred = y_pred_3_log)\n",
    "    print('confusion  log_3 \\n' ,confusion_3)\n",
    "\n",
    "    plt.matshow(confusion_3, cmap=plt.cm.gray)\n",
    "    plt.show()\n"
   ]
  },
  {
   "cell_type": "code",
   "execution_count": 215,
   "metadata": {},
   "outputs": [],
   "source": [
    "# bon parametre LogisticRegression\n",
    "model = LogisticRegression(C= 1.0, penalty=\"l2\")\n",
    "parameters = {\"C\":1.0, \"penalty\":\"l2\"}"
   ]
  },
  {
   "cell_type": "code",
   "execution_count": 216,
   "metadata": {},
   "outputs": [
    {
     "name": "stdout",
     "output_type": "stream",
     "text": [
      "accuracy log_3 0.8476190476190476\n"
     ]
    }
   ],
   "source": [
    "fit_model(model)\n",
    "y_pred_3_log = prediction(model ,X_test_3,y_test_3)"
   ]
  },
  {
   "cell_type": "code",
   "execution_count": 217,
   "metadata": {},
   "outputs": [
    {
     "name": "stdout",
     "output_type": "stream",
     "text": [
      "confusion  log_3 \n",
      " [[74  0  1]\n",
      " [12  0  0]\n",
      " [ 2  1 15]]\n"
     ]
    },
    {
     "data": {
      "image/png": "[encoded data removed]",
      "text/plain": [
       "<Figure size 288x288 with 1 Axes>"
      ]
     },
     "metadata": {
      "needs_background": "light"
     },
     "output_type": "display_data"
    }
   ],
   "source": [
    "matrice_confusion(y_test_3, y_pred_3_log)"
   ]
  },
  {
   "cell_type": "code",
   "execution_count": null,
   "metadata": {},
   "outputs": [],
   "source": []
  },
  {
   "cell_type": "code",
   "execution_count": null,
   "metadata": {},
   "outputs": [],
   "source": [
    "# entrainement avec le modele garder \n",
    "model = LogisticRegression()\n",
    "parameters = {\"C\":1.0, \"penalty\":\"l2\"}\n",
    "model.fit(X_train_3,y_train_3)\n",
    "\n",
    "# prediction\n",
    "y_pred_3_log = model.predict(X_test_3)\n",
    "print( 'accuracy log_3' ,metrics.accuracy_score(y_test_3,y_pred_3_log))\n",
    "\n",
    "\n",
    "# Matrice de confusion\n",
    "confusion_3 = metrics.confusion_matrix(y_test_3, y_pred_3_log)\n",
    "print('confusion  log_3 \\n' ,confusion_3)\n",
    "\n",
    "plt.matshow(confusion_3, cmap=plt.cm.gray)\n",
    "plt.show()"
   ]
  },
  {
   "cell_type": "code",
   "execution_count": null,
   "metadata": {},
   "outputs": [],
   "source": []
  },
  {
   "cell_type": "code",
   "execution_count": null,
   "metadata": {},
   "outputs": [],
   "source": []
  },
  {
   "cell_type": "code",
   "execution_count": null,
   "metadata": {},
   "outputs": [],
   "source": []
  },
  {
   "cell_type": "code",
   "execution_count": 151,
   "metadata": {},
   "outputs": [
    {
     "data": {
      "text/plain": [
       "Pipeline(steps=[('pipeline',\n",
       "                 Pipeline(steps=[('polynomialfeatures',\n",
       "                                  PolynomialFeatures(include_bias=False)),\n",
       "                                 ('selectkbest', SelectKBest())])),\n",
       "                ('logisticregression', LogisticRegression())])"
      ]
     },
     "execution_count": 151,
     "metadata": {},
     "output_type": "execute_result"
    }
   ],
   "source": [
    "# entrainement avec le modele garder \n",
    "logreg_3.fit(X_train_3,y_train_3)"
   ]
  },
  {
   "cell_type": "code",
   "execution_count": 152,
   "metadata": {},
   "outputs": [
    {
     "ename": "NameError",
     "evalue": "name 'y_pred_3_knn' is not defined",
     "output_type": "error",
     "traceback": [
      "\u001b[0;31m---------------------------------------------------------------------------\u001b[0m",
      "\u001b[0;31mNameError\u001b[0m                                 Traceback (most recent call last)",
      "\u001b[0;32m<ipython-input-152-386da7e5ee4e>\u001b[0m in \u001b[0;36m<module>\u001b[0;34m\u001b[0m\n\u001b[1;32m      1\u001b[0m \u001b[0my_pred_3_log\u001b[0m \u001b[0;34m=\u001b[0m \u001b[0mlogreg_3\u001b[0m\u001b[0;34m.\u001b[0m\u001b[0mpredict\u001b[0m\u001b[0;34m(\u001b[0m\u001b[0mX_test_3\u001b[0m\u001b[0;34m)\u001b[0m\u001b[0;34m\u001b[0m\u001b[0;34m\u001b[0m\u001b[0m\n\u001b[0;32m----> 2\u001b[0;31m \u001b[0mprint\u001b[0m\u001b[0;34m(\u001b[0m \u001b[0;34m'accuracy log_3'\u001b[0m \u001b[0;34m,\u001b[0m\u001b[0mmetrics\u001b[0m\u001b[0;34m.\u001b[0m\u001b[0maccuracy_score\u001b[0m\u001b[0;34m(\u001b[0m\u001b[0my_test_3\u001b[0m\u001b[0;34m,\u001b[0m\u001b[0my_pred_3_knn\u001b[0m\u001b[0;34m)\u001b[0m\u001b[0;34m)\u001b[0m\u001b[0;34m\u001b[0m\u001b[0;34m\u001b[0m\u001b[0m\n\u001b[0m\u001b[1;32m      3\u001b[0m \u001b[0;34m\u001b[0m\u001b[0m\n\u001b[1;32m      4\u001b[0m \u001b[0mconfusion_3\u001b[0m \u001b[0;34m=\u001b[0m \u001b[0mmetrics\u001b[0m\u001b[0;34m.\u001b[0m\u001b[0mconfusion_matrix\u001b[0m\u001b[0;34m(\u001b[0m\u001b[0my_test_3\u001b[0m\u001b[0;34m,\u001b[0m \u001b[0my_pred_3_knn\u001b[0m\u001b[0;34m)\u001b[0m\u001b[0;34m\u001b[0m\u001b[0;34m\u001b[0m\u001b[0m\n\u001b[1;32m      5\u001b[0m \u001b[0mprint\u001b[0m\u001b[0;34m(\u001b[0m\u001b[0;34m'confusion  log_3 \\n'\u001b[0m \u001b[0;34m,\u001b[0m\u001b[0mconfusion_3\u001b[0m\u001b[0;34m)\u001b[0m\u001b[0;34m\u001b[0m\u001b[0;34m\u001b[0m\u001b[0m\n",
      "\u001b[0;31mNameError\u001b[0m: name 'y_pred_3_knn' is not defined"
     ]
    }
   ],
   "source": [
    "y_pred_3_log = logreg_3.predict(X_test_3)\n",
    "print( 'accuracy log_3' ,metrics.accuracy_score(y_test_3,y_pred_3_knn))\n",
    "\n",
    "confusion_3 = metrics.confusion_matrix(y_test_3, y_pred_3_knn)\n",
    "print('confusion  log_3 \\n' ,confusion_3)"
   ]
  },
  {
   "cell_type": "code",
   "execution_count": 153,
   "metadata": {},
   "outputs": [
    {
     "ename": "NameError",
     "evalue": "name 'confusion_3' is not defined",
     "output_type": "error",
     "traceback": [
      "\u001b[0;31m---------------------------------------------------------------------------\u001b[0m",
      "\u001b[0;31mNameError\u001b[0m                                 Traceback (most recent call last)",
      "\u001b[0;32m<ipython-input-153-a2179014c3f8>\u001b[0m in \u001b[0;36m<module>\u001b[0;34m\u001b[0m\n\u001b[0;32m----> 1\u001b[0;31m \u001b[0mplt\u001b[0m\u001b[0;34m.\u001b[0m\u001b[0mmatshow\u001b[0m\u001b[0;34m(\u001b[0m\u001b[0mconfusion_3\u001b[0m\u001b[0;34m,\u001b[0m \u001b[0mcmap\u001b[0m\u001b[0;34m=\u001b[0m\u001b[0mplt\u001b[0m\u001b[0;34m.\u001b[0m\u001b[0mcm\u001b[0m\u001b[0;34m.\u001b[0m\u001b[0mgray\u001b[0m\u001b[0;34m)\u001b[0m\u001b[0;34m\u001b[0m\u001b[0;34m\u001b[0m\u001b[0m\n\u001b[0m\u001b[1;32m      2\u001b[0m \u001b[0mplt\u001b[0m\u001b[0;34m.\u001b[0m\u001b[0mshow\u001b[0m\u001b[0;34m(\u001b[0m\u001b[0;34m)\u001b[0m\u001b[0;34m\u001b[0m\u001b[0;34m\u001b[0m\u001b[0m\n",
      "\u001b[0;31mNameError\u001b[0m: name 'confusion_3' is not defined"
     ]
    }
   ],
   "source": [
    "plt.matshow(confusion_3, cmap=plt.cm.gray)\n",
    "plt.show()"
   ]
  },
  {
   "cell_type": "code",
   "execution_count": null,
   "metadata": {},
   "outputs": [],
   "source": []
  },
  {
   "cell_type": "code",
   "execution_count": 154,
   "metadata": {},
   "outputs": [],
   "source": [
    "# __init__.py pour creer les package \n",
    "\n",
    "# pour test :pip3 install pytest\n",
    "# import pytest"
   ]
  },
  {
   "cell_type": "code",
   "execution_count": null,
   "metadata": {},
   "outputs": [],
   "source": []
  }
 ],
 "metadata": {
  "interpreter": {
   "hash": "31f2aee4e71d21fbe5cf8b01ff0e069b9275f58929596ceb00d14d90e3e16cd6"
  },
  "kernelspec": {
   "display_name": "Python 3.8.10 64-bit",
   "language": "python",
   "name": "python3"
  },
  "language_info": {
   "codemirror_mode": {
    "name": "ipython",
    "version": 3
   },
   "file_extension": ".py",
   "mimetype": "text/x-python",
   "name": "python",
   "nbconvert_exporter": "python",
   "pygments_lexer": "ipython3",
   "version": "3.8.10"
  }
 },
 "nbformat": 4,
 "nbformat_minor": 4
}
