{
 "cells": [
  {
   "cell_type": "code",
   "execution_count": 1,
   "metadata": {},
   "outputs": [],
   "source": [
    "import pandas as pd\n",
    "import numpy as np\n",
    "import matplotlib.pyplot as plt\n",
    "\n",
    "from sklearn import preprocessing\n",
    "from sklearn.model_selection import train_test_split\n",
    "\n",
    "\n",
    "from sklearn.datasets import make_classification\n",
    "from sklearn.feature_selection import SelectKBest , f_classif ,VarianceThreshold\n",
    "from sklearn.preprocessing import PolynomialFeatures\n",
    "from sklearn.linear_model import LogisticRegression\n",
    "from sklearn.svm import LinearSVC ,SVC\n",
    "\n",
    "from sklearn import neighbors\n",
    "from sklearn import metrics\n",
    "\n",
    "\n",
    "from sklearn.model_selection import GridSearchCV ,validation_curve\n",
    "\n",
    "\n",
    "\n",
    "\n",
    "from sklearn.ensemble import RandomForestClassifier , AdaBoostClassifier\n",
    "\n",
    "from sklearn.pipeline import make_pipeline\n",
    "\n",
    "\n",
    "\n",
    "from sklearn.metrics import f1_score,confusion_matrix,classification_report\n",
    "from sklearn.model_selection import validation_curve\n",
    "from sklearn.model_selection import GridSearchCV\n",
    "\n",
    "from sklearn.neighbors import KNeighborsClassifier\n",
    "from sklearn.metrics import precision_recall_curve,recall_score\n",
    "from sklearn.model_selection import learning_curve\n",
    "\n"
   ]
  },
  {
   "cell_type": "code",
   "execution_count": 2,
   "metadata": {},
   "outputs": [],
   "source": [
    "#Lecture des données\n",
    "df = pd.read_excel(\"/home/congo/Bureau/2022-m1-staps/motives_part/data_motives_final.xlsx\",\"haller\") "
   ]
  },
  {
   "cell_type": "code",
   "execution_count": 3,
   "metadata": {},
   "outputs": [],
   "source": [
    "#stoker le nom des colonnes\n",
    "column_name = [c for c in df]\n"
   ]
  },
  {
   "cell_type": "code",
   "execution_count": 25,
   "metadata": {},
   "outputs": [
    {
     "data": {
      "text/plain": [
       "(1075, 36)"
      ]
     },
     "execution_count": 25,
     "metadata": {},
     "output_type": "execute_result"
    }
   ],
   "source": [
    "#df_perso"
   ]
  },
  {
   "cell_type": "code",
   "execution_count": 5,
   "metadata": {},
   "outputs": [],
   "source": [
    "# transformer boy en 0 et Girl en 1\n",
    "df['Sexe'] = df['Sexe'].map({'Boy': 0 ,\n",
    "                             'Girl': 1},\n",
    "                             na_action=None)\n",
    "                             \n",
    "\n",
    "newdf = df.sort_values(by='Sexe')\n",
    "\n"
   ]
  },
  {
   "cell_type": "code",
   "execution_count": 6,
   "metadata": {},
   "outputs": [],
   "source": [
    "# with pd.ExcelWriter('newdf.xlsx') as writer:\n",
    "#      newdf.to_excel(writer, freeze_panes=(1,1))"
   ]
  },
  {
   "cell_type": "code",
   "execution_count": 7,
   "metadata": {},
   "outputs": [
    {
     "name": "stdout",
     "output_type": "stream",
     "text": [
      "0.0\n",
      "1.0\n"
     ]
    }
   ],
   "source": [
    "print(newdf.loc[495,'Sexe'])\n",
    "print(newdf.loc[496,'Sexe'])\n"
   ]
  },
  {
   "cell_type": "code",
   "execution_count": 8,
   "metadata": {},
   "outputs": [],
   "source": [
    "# print(newdf.shape)"
   ]
  },
  {
   "cell_type": "code",
   "execution_count": 9,
   "metadata": {},
   "outputs": [],
   "source": [
    "df_boy = newdf[:495]\n",
    "# print(df_boy.loc[495,'Sexe'])\n",
    "# print(df_boy.shape)"
   ]
  },
  {
   "cell_type": "code",
   "execution_count": 10,
   "metadata": {},
   "outputs": [],
   "source": [
    "df_boy = newdf[:495]\n",
    "df_girl = newdf[495:]\n",
    "# print(df_girl.loc[:,'Sexe'])\n",
    "# print(df_girl.shape)"
   ]
  },
  {
   "cell_type": "code",
   "execution_count": 11,
   "metadata": {},
   "outputs": [],
   "source": [
    "# retour des nom des colonnes\n",
    "newdf['Sexe'] = newdf['Sexe'].map({0 : 'Boy' ,\n",
    "                             1 : 'Girl'\n",
    "                             },\n",
    "                             na_action=None)\n",
    "\n",
    "# print(newdf.loc[:,'Sexe'])"
   ]
  },
  {
   "cell_type": "markdown",
   "metadata": {},
   "source": [
    "##                            Preprosseccing with fonction"
   ]
  },
  {
   "cell_type": "code",
   "execution_count": 12,
   "metadata": {},
   "outputs": [],
   "source": [
    "# fonction !!\n",
    "def imputation(df):\n",
    "    # mise a zero des valeurs manquantes\n",
    "    return df.fillna(0)\n",
    "    \n",
    "\n",
    "def preprocessing(data):\n",
    "    data = imputation(data)\n",
    "    # garder les valeurs qui nous concerne\n",
    "    data = data.to_numpy()\n",
    "    data = data[:,39:]\n",
    "\n",
    "    # rendre toute les valeurs positives\n",
    "    data_correct = data\n",
    "    data = np.absolute(data)\n",
    "\n",
    "    #Supression des valeurs abérantes par rapport au seuil\n",
    "    seuil = 5*np.std(data,axis=0,dtype = np.float64)\n",
    "    \n",
    "    data = np.array(data)\n",
    "    data_tmp = np.zeros_like(data)\n",
    "    data_tmp[data < seuil] = data[data < seuil]\n",
    "    data = data_tmp\n",
    "    \n",
    "    return data , data_correct\n",
    "\n",
    "\n",
    "\n",
    "def Normalisation(data):\n",
    "    data_clean , data_correct = preprocessing(data)\n",
    "\n",
    "    #indices à suprimer\n",
    "    max = np.max(data_clean,axis = 1)\n",
    "    indices = [i for i, e in enumerate(max) if e == 0]\n",
    "    \n",
    "\n",
    "    #suppression des lignes\n",
    "    data_del = np.delete(data_clean,indices,axis = 0)\n",
    "    data_clean = data_del\n",
    "\n",
    "    #normalisation par ligne sans ecartype nul pour avoir des valeurs entre 0 et 1\n",
    "    min = np.min(data_clean,axis = 1)\n",
    "    max = np.max(data_clean,axis = 1)\n",
    "    data_clean = (data_clean-min[:,np.newaxis])/max[:,np.newaxis]\n",
    "\n",
    "    # retour des valeurs négatives\n",
    "\n",
    "    #suppression des lignes\n",
    "    data_del = np.delete(data_correct,indices,axis = 0)\n",
    "    data_correct = data_del\n",
    "\n",
    "    #indices des valeurs négatives\n",
    "    indices_val_neg_i = np.where(data_correct < 0)\n",
    "    \n",
    "    data_clean[indices_val_neg_i] = -1*data_clean[indices_val_neg_i]\n",
    "\n",
    "    return data_clean"
   ]
  },
  {
   "cell_type": "code",
   "execution_count": 13,
   "metadata": {},
   "outputs": [],
   "source": [
    "# utilisation des fonctions !!\n",
    "data = imputation(df)\n",
    "\n",
    "data_clean , data_correct = preprocessing(data)\n",
    "\n",
    "data_ready = Normalisation(data)\n"
   ]
  },
  {
   "cell_type": "code",
   "execution_count": null,
   "metadata": {},
   "outputs": [],
   "source": []
  },
  {
   "cell_type": "markdown",
   "metadata": {},
   "source": [
    "## Transfert of data in Rstudio for clustering"
   ]
  },
  {
   "cell_type": "code",
   "execution_count": 636,
   "metadata": {},
   "outputs": [],
   "source": [
    "def transfert (df):\n",
    "    # mettre data en df\n",
    "    df = pd.DataFrame(data_ready)\n",
    "\n",
    "    df_const = df.astype(float,errors='raise')\n",
    "    # renommer les colonne\n",
    "    df.columns = column_name[39:]\n",
    "    df_const.columns = column_name[39:]\n",
    "    #print(df.shape)\n",
    "\n",
    "    # 'Confiance en soi' par 'Confiance_en_soi'\n",
    "    # print(column_name[90])\n",
    "    column_name[90] = 'Confiance_en_soi'\n",
    "    # print(column_name[90])\n",
    "    df = df.rename(columns={'Confiance en soi':'Confiance_en_soi'}) \n",
    "\n",
    "    # print(df['Confiance_en_soi'])\n",
    "    # df_cluster.info()\n",
    "    # probleme de type alors on le change\n",
    "    df = df.astype(float,errors='raise')\n",
    "    # df_cluster.info()    \n",
    "\n",
    "    #renommer les lignes ( remplacer 0 par etudiant_0)\n",
    "    nlin,ncol = data_ready.shape\n",
    "    line_name = ['etudiant_' + str(i) for i in range(nlin)]\n",
    "    # print(line_name)\n",
    "    df.index = line_name\n",
    "    df_const.index = line_name\n",
    "    # print(df)\n",
    "\n",
    "    # with pd.ExcelWriter('data_ready.xlsx') as writer:\n",
    "    # df.to_excel(writer, freeze_panes=(1,1))\n",
    "\n",
    "    df.to_csv('data_ready.csv')"
   ]
  },
  {
   "cell_type": "code",
   "execution_count": null,
   "metadata": {},
   "outputs": [],
   "source": []
  },
  {
   "cell_type": "code",
   "execution_count": 651,
   "metadata": {},
   "outputs": [],
   "source": [
    "#transfert fille\n",
    "data = imputation(df_girl)\n",
    "\n",
    "data_clean , data_correct = preprocessing(data)\n",
    "\n",
    "data_ready = Normalisation()\n",
    "transfert(df_girl)"
   ]
  },
  {
   "cell_type": "code",
   "execution_count": 650,
   "metadata": {},
   "outputs": [],
   "source": [
    "#transfert garcon\n",
    "data = imputation(df_boy)\n",
    "\n",
    "data_clean , data_correct = preprocessing(data)\n",
    "\n",
    "data_ready = Normalisation()\n",
    "transfert(df_boy)"
   ]
  },
  {
   "cell_type": "code",
   "execution_count": null,
   "metadata": {},
   "outputs": [],
   "source": []
  },
  {
   "cell_type": "code",
   "execution_count": null,
   "metadata": {},
   "outputs": [],
   "source": []
  },
  {
   "cell_type": "markdown",
   "metadata": {},
   "source": [
    "##   autres"
   ]
  },
  {
   "cell_type": "code",
   "execution_count": 15,
   "metadata": {},
   "outputs": [],
   "source": [
    "# mettre data en df\n",
    "df = pd.DataFrame(data_ready)\n",
    "\n",
    "df_const = df.astype(float,errors='raise')\n",
    "# renommer les colonne\n",
    "df.columns = column_name[39:]\n",
    "df_const.columns = column_name[39:]\n",
    "#print(df.shape)\n",
    "\n"
   ]
  },
  {
   "cell_type": "code",
   "execution_count": 16,
   "metadata": {},
   "outputs": [],
   "source": [
    "# 'Confiance en soi' par 'Confiance_en_soi'\n",
    "# print(column_name[90])\n",
    "column_name[90] = 'Confiance_en_soi'\n",
    "# print(column_name[90])\n",
    "df = df.rename(columns={'Confiance en soi':'Confiance_en_soi'}) \n",
    "\n",
    "# print(df['Confiance_en_soi'])"
   ]
  },
  {
   "cell_type": "code",
   "execution_count": 17,
   "metadata": {},
   "outputs": [],
   "source": [
    "# df_cluster.info()\n",
    "# probleme de type alors on le change\n",
    "df = df.astype(float,errors='raise')\n",
    "# df_cluster.info()"
   ]
  },
  {
   "cell_type": "code",
   "execution_count": 18,
   "metadata": {},
   "outputs": [],
   "source": [
    "#renommer les lignes ( remplacer 0 par etudiant_0)\n",
    "nlin,ncol = data_ready.shape\n",
    "line_name = ['etudiant_' + str(i) for i in range(nlin)]\n",
    "# print(line_name)\n",
    "df.index = line_name\n",
    "df_const.index = line_name\n",
    "# print(df)"
   ]
  },
  {
   "cell_type": "code",
   "execution_count": 19,
   "metadata": {},
   "outputs": [],
   "source": [
    "# with pd.ExcelWriter('data_ready.xlsx') as writer:\n",
    "#     df.to_excel(writer, freeze_panes=(1,1))"
   ]
  },
  {
   "cell_type": "code",
   "execution_count": 20,
   "metadata": {},
   "outputs": [],
   "source": [
    "df.to_csv('data_ready.csv')"
   ]
  },
  {
   "cell_type": "code",
   "execution_count": null,
   "metadata": {},
   "outputs": [],
   "source": []
  },
  {
   "cell_type": "code",
   "execution_count": null,
   "metadata": {},
   "outputs": [],
   "source": []
  },
  {
   "cell_type": "code",
   "execution_count": 72,
   "metadata": {},
   "outputs": [],
   "source": [
    "# setwd(\"C:/Users/cschnitzler/Dropbox/staps/2021 2022/stage/master cmsi/job congo\")\n",
    "# library(readxl)\n",
    "\n",
    "# data_motus <- read_excel(\"data_motus.xlsx\")\n",
    "\n",
    "# library(FactoMineR)\n",
    "# library(Factoshiny)\n",
    "# PCAshiny(data_motus)"
   ]
  },
  {
   "cell_type": "code",
   "execution_count": null,
   "metadata": {},
   "outputs": [],
   "source": []
  },
  {
   "cell_type": "markdown",
   "metadata": {},
   "source": [
    "# classification "
   ]
  },
  {
   "cell_type": "code",
   "execution_count": 1,
   "metadata": {},
   "outputs": [],
   "source": [
    "from pydoc import describe\n",
    "import pandas as pd\n",
    "import numpy as np\n",
    "import matplotlib.pyplot as plt\n",
    "from sklearn.linear_model import SGDClassifier\n",
    "from sklearn.impute import SimpleImputer\n",
    "from sklearn import preprocessing\n",
    "from sklearn.model_selection import train_test_split\n",
    "\n",
    "import scipy.stats as stats\n",
    "import pandas as pd\n",
    "import statsmodels.api as sm\n",
    "from statsmodels.formula.api import ols\n",
    "\n",
    "# ANOVA feature selection for numeric input and categorical output\n",
    "from sklearn.datasets import make_classification\n",
    "from sklearn.feature_selection import SelectKBest ,f_classif\n",
    "from sklearn.preprocessing import PolynomialFeatures\n",
    "from sklearn.feature_selection import VarianceThreshold\n",
    "from sklearn.linear_model import LogisticRegression\n",
    "from sklearn.svm import LinearSVC ,SVC\n",
    "\n",
    "from sklearn.ensemble import RandomForestClassifier , AdaBoostClassifier\n",
    "\n",
    "from sklearn.pipeline import make_pipeline\n",
    "\n",
    "\n",
    "\n",
    "from sklearn import neighbors\n",
    "from sklearn import metrics\n",
    "\n",
    "from sklearn.metrics import f1_score,confusion_matrix,classification_report\n",
    "from sklearn.model_selection import validation_curve\n",
    "from sklearn.model_selection import GridSearchCV\n",
    "\n",
    "from sklearn.neighbors import KNeighborsClassifier\n",
    "from sklearn.metrics import precision_recall_curve,recall_score,precision_score\n",
    "from sklearn.model_selection import learning_curve\n",
    "\n"
   ]
  },
  {
   "cell_type": "code",
   "execution_count": 24,
   "metadata": {},
   "outputs": [],
   "source": [
    "df = pd.read_csv(\"/home/congo/Bureau/2022-m1-staps/motives_part/clustering.csv\") "
   ]
  },
  {
   "cell_type": "code",
   "execution_count": 25,
   "metadata": {},
   "outputs": [],
   "source": [
    "#df = pd.read_csv(\"/home/congo/Bureau/2022-m1-staps/motives_part/boy.csv\") \n",
    "#df = pd.read_csv(\"/home/congo/Bureau/2022-m1-staps/motives_part/girl.csv\") "
   ]
  },
  {
   "cell_type": "code",
   "execution_count": 26,
   "metadata": {},
   "outputs": [],
   "source": [
    "df.drop(df.columns[[0]], axis = 1, inplace = True) "
   ]
  },
  {
   "cell_type": "code",
   "execution_count": 27,
   "metadata": {},
   "outputs": [
    {
     "data": {
      "text/html": [
       "<div>\n",
       "<style scoped>\n",
       "    .dataframe tbody tr th:only-of-type {\n",
       "        vertical-align: middle;\n",
       "    }\n",
       "\n",
       "    .dataframe tbody tr th {\n",
       "        vertical-align: top;\n",
       "    }\n",
       "\n",
       "    .dataframe thead th {\n",
       "        text-align: right;\n",
       "    }\n",
       "</style>\n",
       "<table border=\"1\" class=\"dataframe\">\n",
       "  <thead>\n",
       "    <tr style=\"text-align: right;\">\n",
       "      <th></th>\n",
       "      <th>cluster3</th>\n",
       "      <th>cluster4</th>\n",
       "      <th>cluster5</th>\n",
       "      <th>Confort</th>\n",
       "      <th>Securite</th>\n",
       "      <th>Qualite</th>\n",
       "      <th>Force</th>\n",
       "      <th>Maintien</th>\n",
       "      <th>Puissance</th>\n",
       "      <th>Competition</th>\n",
       "      <th>...</th>\n",
       "      <th>Serenite</th>\n",
       "      <th>Sexy</th>\n",
       "      <th>Plaisir</th>\n",
       "      <th>Groupe</th>\n",
       "      <th>Partage</th>\n",
       "      <th>Role</th>\n",
       "      <th>Performance</th>\n",
       "      <th>Meilleur</th>\n",
       "      <th>Individualiste</th>\n",
       "      <th>detente</th>\n",
       "    </tr>\n",
       "  </thead>\n",
       "  <tbody>\n",
       "    <tr>\n",
       "      <th>0</th>\n",
       "      <td>1</td>\n",
       "      <td>1</td>\n",
       "      <td>1</td>\n",
       "      <td>0.072732</td>\n",
       "      <td>0.065028</td>\n",
       "      <td>0.079676</td>\n",
       "      <td>0.098327</td>\n",
       "      <td>0.029093</td>\n",
       "      <td>0.032083</td>\n",
       "      <td>0.030411</td>\n",
       "      <td>...</td>\n",
       "      <td>0.015611</td>\n",
       "      <td>0.079372</td>\n",
       "      <td>0.206386</td>\n",
       "      <td>0.169235</td>\n",
       "      <td>0.004866</td>\n",
       "      <td>0.031171</td>\n",
       "      <td>0.010998</td>\n",
       "      <td>0.035884</td>\n",
       "      <td>0.025494</td>\n",
       "      <td>0.024582</td>\n",
       "    </tr>\n",
       "    <tr>\n",
       "      <th>1</th>\n",
       "      <td>2</td>\n",
       "      <td>3</td>\n",
       "      <td>4</td>\n",
       "      <td>0.978229</td>\n",
       "      <td>0.256652</td>\n",
       "      <td>0.370343</td>\n",
       "      <td>0.252782</td>\n",
       "      <td>0.323174</td>\n",
       "      <td>0.327528</td>\n",
       "      <td>0.252540</td>\n",
       "      <td>...</td>\n",
       "      <td>0.017417</td>\n",
       "      <td>0.015723</td>\n",
       "      <td>0.019110</td>\n",
       "      <td>0.021287</td>\n",
       "      <td>0.021529</td>\n",
       "      <td>0.018868</td>\n",
       "      <td>0.021287</td>\n",
       "      <td>0.017900</td>\n",
       "      <td>0.024432</td>\n",
       "      <td>0.017658</td>\n",
       "    </tr>\n",
       "    <tr>\n",
       "      <th>2</th>\n",
       "      <td>1</td>\n",
       "      <td>1</td>\n",
       "      <td>1</td>\n",
       "      <td>0.070048</td>\n",
       "      <td>0.054323</td>\n",
       "      <td>0.062636</td>\n",
       "      <td>0.087573</td>\n",
       "      <td>0.090062</td>\n",
       "      <td>0.152751</td>\n",
       "      <td>0.101287</td>\n",
       "      <td>...</td>\n",
       "      <td>0.013713</td>\n",
       "      <td>0.285805</td>\n",
       "      <td>0.022343</td>\n",
       "      <td>0.007677</td>\n",
       "      <td>0.103828</td>\n",
       "      <td>0.133054</td>\n",
       "      <td>0.031556</td>\n",
       "      <td>0.070207</td>\n",
       "      <td>0.135014</td>\n",
       "      <td>0.175676</td>\n",
       "    </tr>\n",
       "    <tr>\n",
       "      <th>3</th>\n",
       "      <td>1</td>\n",
       "      <td>2</td>\n",
       "      <td>2</td>\n",
       "      <td>0.290419</td>\n",
       "      <td>0.741154</td>\n",
       "      <td>0.153511</td>\n",
       "      <td>0.216930</td>\n",
       "      <td>0.167392</td>\n",
       "      <td>0.185084</td>\n",
       "      <td>0.305117</td>\n",
       "      <td>...</td>\n",
       "      <td>0.136636</td>\n",
       "      <td>0.339412</td>\n",
       "      <td>0.185084</td>\n",
       "      <td>0.300490</td>\n",
       "      <td>0.092270</td>\n",
       "      <td>0.079750</td>\n",
       "      <td>0.236255</td>\n",
       "      <td>0.249864</td>\n",
       "      <td>0.272183</td>\n",
       "      <td>0.333696</td>\n",
       "    </tr>\n",
       "    <tr>\n",
       "      <th>4</th>\n",
       "      <td>1</td>\n",
       "      <td>1</td>\n",
       "      <td>1</td>\n",
       "      <td>0.029809</td>\n",
       "      <td>0.098887</td>\n",
       "      <td>0.045072</td>\n",
       "      <td>0.158585</td>\n",
       "      <td>0.116455</td>\n",
       "      <td>0.067727</td>\n",
       "      <td>0.050238</td>\n",
       "      <td>...</td>\n",
       "      <td>0.121065</td>\n",
       "      <td>0.029650</td>\n",
       "      <td>0.045072</td>\n",
       "      <td>0.216773</td>\n",
       "      <td>0.060254</td>\n",
       "      <td>0.059221</td>\n",
       "      <td>0.069078</td>\n",
       "      <td>0.077822</td>\n",
       "      <td>0.063037</td>\n",
       "      <td>0.159777</td>\n",
       "    </tr>\n",
       "  </tbody>\n",
       "</table>\n",
       "<p>5 rows × 74 columns</p>\n",
       "</div>"
      ],
      "text/plain": [
       "   cluster3  cluster4  cluster5   Confort  Securite   Qualite     Force  \\\n",
       "0         1         1         1  0.072732  0.065028  0.079676  0.098327   \n",
       "1         2         3         4  0.978229  0.256652  0.370343  0.252782   \n",
       "2         1         1         1  0.070048  0.054323  0.062636  0.087573   \n",
       "3         1         2         2  0.290419  0.741154  0.153511  0.216930   \n",
       "4         1         1         1  0.029809  0.098887  0.045072  0.158585   \n",
       "\n",
       "   Maintien  Puissance  Competition  ...  Serenite      Sexy   Plaisir  \\\n",
       "0  0.029093   0.032083     0.030411  ...  0.015611  0.079372  0.206386   \n",
       "1  0.323174   0.327528     0.252540  ...  0.017417  0.015723  0.019110   \n",
       "2  0.090062   0.152751     0.101287  ...  0.013713  0.285805  0.022343   \n",
       "3  0.167392   0.185084     0.305117  ...  0.136636  0.339412  0.185084   \n",
       "4  0.116455   0.067727     0.050238  ...  0.121065  0.029650  0.045072   \n",
       "\n",
       "     Groupe   Partage      Role  Performance  Meilleur  Individualiste  \\\n",
       "0  0.169235  0.004866  0.031171     0.010998  0.035884        0.025494   \n",
       "1  0.021287  0.021529  0.018868     0.021287  0.017900        0.024432   \n",
       "2  0.007677  0.103828  0.133054     0.031556  0.070207        0.135014   \n",
       "3  0.300490  0.092270  0.079750     0.236255  0.249864        0.272183   \n",
       "4  0.216773  0.060254  0.059221     0.069078  0.077822        0.063037   \n",
       "\n",
       "    detente  \n",
       "0  0.024582  \n",
       "1  0.017658  \n",
       "2  0.175676  \n",
       "3  0.333696  \n",
       "4  0.159777  \n",
       "\n",
       "[5 rows x 74 columns]"
      ]
     },
     "execution_count": 27,
     "metadata": {},
     "output_type": "execute_result"
    }
   ],
   "source": [
    "df.head()"
   ]
  },
  {
   "cell_type": "code",
   "execution_count": 28,
   "metadata": {},
   "outputs": [],
   "source": [
    "#y_3 = df.loc[:,'clust']"
   ]
  },
  {
   "cell_type": "code",
   "execution_count": 29,
   "metadata": {},
   "outputs": [],
   "source": [
    "y_3 = df.loc[:,'cluster3']\n",
    "# y_4 = df.loc[:,'cluster4']\n",
    "# y_5 = df.loc[:,'cluster5']"
   ]
  },
  {
   "cell_type": "code",
   "execution_count": 30,
   "metadata": {},
   "outputs": [
    {
     "data": {
      "text/html": [
       "<div>\n",
       "<style scoped>\n",
       "    .dataframe tbody tr th:only-of-type {\n",
       "        vertical-align: middle;\n",
       "    }\n",
       "\n",
       "    .dataframe tbody tr th {\n",
       "        vertical-align: top;\n",
       "    }\n",
       "\n",
       "    .dataframe thead th {\n",
       "        text-align: right;\n",
       "    }\n",
       "</style>\n",
       "<table border=\"1\" class=\"dataframe\">\n",
       "  <thead>\n",
       "    <tr style=\"text-align: right;\">\n",
       "      <th></th>\n",
       "      <th>Confort</th>\n",
       "      <th>Securite</th>\n",
       "      <th>Qualite</th>\n",
       "      <th>Force</th>\n",
       "      <th>Maintien</th>\n",
       "      <th>Puissance</th>\n",
       "      <th>Competition</th>\n",
       "      <th>Muscle</th>\n",
       "      <th>Beaute</th>\n",
       "      <th>Galbant</th>\n",
       "      <th>...</th>\n",
       "      <th>Serenite</th>\n",
       "      <th>Sexy</th>\n",
       "      <th>Plaisir</th>\n",
       "      <th>Groupe</th>\n",
       "      <th>Partage</th>\n",
       "      <th>Role</th>\n",
       "      <th>Performance</th>\n",
       "      <th>Meilleur</th>\n",
       "      <th>Individualiste</th>\n",
       "      <th>detente</th>\n",
       "    </tr>\n",
       "  </thead>\n",
       "  <tbody>\n",
       "    <tr>\n",
       "      <th>0</th>\n",
       "      <td>0.072732</td>\n",
       "      <td>0.065028</td>\n",
       "      <td>0.079676</td>\n",
       "      <td>0.098327</td>\n",
       "      <td>0.029093</td>\n",
       "      <td>0.032083</td>\n",
       "      <td>0.030411</td>\n",
       "      <td>0.019767</td>\n",
       "      <td>0.034415</td>\n",
       "      <td>0.318550</td>\n",
       "      <td>...</td>\n",
       "      <td>0.015611</td>\n",
       "      <td>0.079372</td>\n",
       "      <td>0.206386</td>\n",
       "      <td>0.169235</td>\n",
       "      <td>0.004866</td>\n",
       "      <td>0.031171</td>\n",
       "      <td>0.010998</td>\n",
       "      <td>0.035884</td>\n",
       "      <td>0.025494</td>\n",
       "      <td>0.024582</td>\n",
       "    </tr>\n",
       "    <tr>\n",
       "      <th>1</th>\n",
       "      <td>0.978229</td>\n",
       "      <td>0.256652</td>\n",
       "      <td>0.370343</td>\n",
       "      <td>0.252782</td>\n",
       "      <td>0.323174</td>\n",
       "      <td>0.327528</td>\n",
       "      <td>0.252540</td>\n",
       "      <td>0.299710</td>\n",
       "      <td>0.315433</td>\n",
       "      <td>0.299710</td>\n",
       "      <td>...</td>\n",
       "      <td>0.017417</td>\n",
       "      <td>0.015723</td>\n",
       "      <td>0.019110</td>\n",
       "      <td>0.021287</td>\n",
       "      <td>0.021529</td>\n",
       "      <td>0.018868</td>\n",
       "      <td>0.021287</td>\n",
       "      <td>0.017900</td>\n",
       "      <td>0.024432</td>\n",
       "      <td>0.017658</td>\n",
       "    </tr>\n",
       "    <tr>\n",
       "      <th>2</th>\n",
       "      <td>0.070048</td>\n",
       "      <td>0.054323</td>\n",
       "      <td>0.062636</td>\n",
       "      <td>0.087573</td>\n",
       "      <td>0.090062</td>\n",
       "      <td>0.152751</td>\n",
       "      <td>0.101287</td>\n",
       "      <td>0.090168</td>\n",
       "      <td>0.100387</td>\n",
       "      <td>0.435167</td>\n",
       "      <td>...</td>\n",
       "      <td>0.013713</td>\n",
       "      <td>0.285805</td>\n",
       "      <td>0.022343</td>\n",
       "      <td>0.007677</td>\n",
       "      <td>0.103828</td>\n",
       "      <td>0.133054</td>\n",
       "      <td>0.031556</td>\n",
       "      <td>0.070207</td>\n",
       "      <td>0.135014</td>\n",
       "      <td>0.175676</td>\n",
       "    </tr>\n",
       "    <tr>\n",
       "      <th>3</th>\n",
       "      <td>0.290419</td>\n",
       "      <td>0.741154</td>\n",
       "      <td>0.153511</td>\n",
       "      <td>0.216930</td>\n",
       "      <td>0.167392</td>\n",
       "      <td>0.185084</td>\n",
       "      <td>0.305117</td>\n",
       "      <td>0.275449</td>\n",
       "      <td>0.425966</td>\n",
       "      <td>0.380240</td>\n",
       "      <td>...</td>\n",
       "      <td>0.136636</td>\n",
       "      <td>0.339412</td>\n",
       "      <td>0.185084</td>\n",
       "      <td>0.300490</td>\n",
       "      <td>0.092270</td>\n",
       "      <td>0.079750</td>\n",
       "      <td>0.236255</td>\n",
       "      <td>0.249864</td>\n",
       "      <td>0.272183</td>\n",
       "      <td>0.333696</td>\n",
       "    </tr>\n",
       "    <tr>\n",
       "      <th>4</th>\n",
       "      <td>0.029809</td>\n",
       "      <td>0.098887</td>\n",
       "      <td>0.045072</td>\n",
       "      <td>0.158585</td>\n",
       "      <td>0.116455</td>\n",
       "      <td>0.067727</td>\n",
       "      <td>0.050238</td>\n",
       "      <td>0.072496</td>\n",
       "      <td>0.076948</td>\n",
       "      <td>0.212560</td>\n",
       "      <td>...</td>\n",
       "      <td>0.121065</td>\n",
       "      <td>0.029650</td>\n",
       "      <td>0.045072</td>\n",
       "      <td>0.216773</td>\n",
       "      <td>0.060254</td>\n",
       "      <td>0.059221</td>\n",
       "      <td>0.069078</td>\n",
       "      <td>0.077822</td>\n",
       "      <td>0.063037</td>\n",
       "      <td>0.159777</td>\n",
       "    </tr>\n",
       "  </tbody>\n",
       "</table>\n",
       "<p>5 rows × 71 columns</p>\n",
       "</div>"
      ],
      "text/plain": [
       "    Confort  Securite   Qualite     Force  Maintien  Puissance  Competition  \\\n",
       "0  0.072732  0.065028  0.079676  0.098327  0.029093   0.032083     0.030411   \n",
       "1  0.978229  0.256652  0.370343  0.252782  0.323174   0.327528     0.252540   \n",
       "2  0.070048  0.054323  0.062636  0.087573  0.090062   0.152751     0.101287   \n",
       "3  0.290419  0.741154  0.153511  0.216930  0.167392   0.185084     0.305117   \n",
       "4  0.029809  0.098887  0.045072  0.158585  0.116455   0.067727     0.050238   \n",
       "\n",
       "     Muscle    Beaute   Galbant  ...  Serenite      Sexy   Plaisir    Groupe  \\\n",
       "0  0.019767  0.034415  0.318550  ...  0.015611  0.079372  0.206386  0.169235   \n",
       "1  0.299710  0.315433  0.299710  ...  0.017417  0.015723  0.019110  0.021287   \n",
       "2  0.090168  0.100387  0.435167  ...  0.013713  0.285805  0.022343  0.007677   \n",
       "3  0.275449  0.425966  0.380240  ...  0.136636  0.339412  0.185084  0.300490   \n",
       "4  0.072496  0.076948  0.212560  ...  0.121065  0.029650  0.045072  0.216773   \n",
       "\n",
       "    Partage      Role  Performance  Meilleur  Individualiste   detente  \n",
       "0  0.004866  0.031171     0.010998  0.035884        0.025494  0.024582  \n",
       "1  0.021529  0.018868     0.021287  0.017900        0.024432  0.017658  \n",
       "2  0.103828  0.133054     0.031556  0.070207        0.135014  0.175676  \n",
       "3  0.092270  0.079750     0.236255  0.249864        0.272183  0.333696  \n",
       "4  0.060254  0.059221     0.069078  0.077822        0.063037  0.159777  \n",
       "\n",
       "[5 rows x 71 columns]"
      ]
     },
     "execution_count": 30,
     "metadata": {},
     "output_type": "execute_result"
    }
   ],
   "source": [
    "X = df\n",
    "X.drop(df.columns[[0,1,2]], axis = 1, inplace = True) \n",
    "X.head()"
   ]
  },
  {
   "cell_type": "code",
   "execution_count": 31,
   "metadata": {},
   "outputs": [],
   "source": [
    "# X = df\n",
    "# X.drop(df.columns[[71]], axis = 1, inplace = True) \n",
    "# #X.head()"
   ]
  },
  {
   "cell_type": "code",
   "execution_count": 32,
   "metadata": {},
   "outputs": [
    {
     "name": "stdout",
     "output_type": "stream",
     "text": [
      "Index(['Confort', 'Securite', 'Qualite', 'Force', 'Maintien', 'Puissance',\n",
      "       'Competition', 'Muscle', 'Beaute', 'Galbant', 'Silhouette', 'Douceur',\n",
      "       'Se_defouler', 'Energie', 'Legerete', 'Technicite', 'Se_relaxer',\n",
      "       'Bien_etre', 'Liberte', 'Fluidite', 'Resistance', 'Inconfort',\n",
      "       'Repetition', 'Intensite', 'Ralentissement', 'Acceleration',\n",
      "       'Nouveaute', 'Endurance', 'Impact', 'Recuperation', 'Tolerance',\n",
      "       'Decouragement', 'Perseverance', 'Objectif', 'Passivite', 'Brulure',\n",
      "       'Fatigue', 'Transpiration', 'Rythme', 'Difficulte', 'Facilite', 'Lent',\n",
      "       'Rapide', 'Ennuyeux', 'Regulier', 'Equilibre', 'Culpabilite',\n",
      "       'Challenge', 'Progression', 'Accompagnement', 'Lassitude',\n",
      "       'Confiance_en_soi', 'Actif', 'Stretchcing', 'Efficacite', 'Discipline',\n",
      "       'Muscultation', 'Cardio', 'Vital', 'Depassement', 'Calme', 'Serenite',\n",
      "       'Sexy', 'Plaisir', 'Groupe', 'Partage', 'Role', 'Performance',\n",
      "       'Meilleur', 'Individualiste', 'detente'],\n",
      "      dtype='object')\n"
     ]
    }
   ],
   "source": [
    "col_total  = X.columns\n",
    "print(col_total)"
   ]
  },
  {
   "cell_type": "code",
   "execution_count": 33,
   "metadata": {},
   "outputs": [],
   "source": [
    "train_ratio = 0.80\n",
    "test_ratio = 0.20\n",
    "validation_ratio = 0.10\n",
    "\n",
    "X_train_3, X_test_3, y_train_3, y_test_3 = train_test_split(X, y_3, test_size=test_ratio)\n",
    "#X_train_3, X_valid_3, y_train_3, y_valid_3 = train_test_split(X_train_3, y_train_3, test_size=validation_ratio/(train_ratio+test_ratio))\n",
    "\n",
    "\n",
    "# X_train_4, X_test_4, y_train_4, y_test_4 = train_test_split(X, y_4, test_size=test_ratio)\n",
    "# X_train_4, X_valid_4, y_train_4, y_valid_4 = train_test_split(X_train_4, y_train_4, test_size=validation_ratio/(train_ratio+test_ratio))\n",
    "\n",
    "# X_train_5, X_test_5, y_train_5, y_test_5 = train_test_split(X, y_5, test_size=test_ratio)\n",
    "# X_train_5, X_valid_5, y_train_5, y_valid_5 = train_test_split(X_train_5, y_train_5, test_size=validation_ratio/(train_ratio+test_ratio))"
   ]
  },
  {
   "cell_type": "code",
   "execution_count": 34,
   "metadata": {},
   "outputs": [],
   "source": [
    "model = LogisticRegression(C= 1.0, penalty=\"l2\")\n",
    "parameters = {\"C\":1.0, \"penalty\":\"l2\"}"
   ]
  },
  {
   "cell_type": "markdown",
   "metadata": {},
   "source": [
    "## 1) Modelisation et choix de l'algorithme de sélection"
   ]
  },
  {
   "cell_type": "code",
   "execution_count": 35,
   "metadata": {},
   "outputs": [],
   "source": [
    "preprocessor = make_pipeline(PolynomialFeatures(2, include_bias = False) ,SelectKBest(f_classif , k=10))"
   ]
  },
  {
   "cell_type": "code",
   "execution_count": 36,
   "metadata": {},
   "outputs": [],
   "source": [
    "RandomForest_3 = make_pipeline(preprocessor,RandomForestClassifier(random_state=0))\n",
    "SVC_3 = make_pipeline(preprocessor,SVC(random_state=0))\n",
    "KNN_3 = make_pipeline(preprocessor,KNeighborsClassifier())\n",
    "logreg_3 = make_pipeline(preprocessor,LogisticRegression())\n",
    "LSVC_3 = make_pipeline(preprocessor,LinearSVC())\n"
   ]
  },
  {
   "cell_type": "code",
   "execution_count": 37,
   "metadata": {},
   "outputs": [],
   "source": [
    "dict_of_models ={ 'KNN' :KNN_3,\n",
    "                'logreg' :logreg_3,\n",
    "                'LSVC' : LSVC_3,\n",
    "                #'RandomForest' :RandomForest_3,\n",
    "                'SVC': SVC_3}"
   ]
  },
  {
   "cell_type": "code",
   "execution_count": null,
   "metadata": {},
   "outputs": [],
   "source": []
  },
  {
   "cell_type": "markdown",
   "metadata": {},
   "source": [
    "Procédure d'évalution des modèles"
   ]
  },
  {
   "cell_type": "code",
   "execution_count": 38,
   "metadata": {},
   "outputs": [],
   "source": [
    "def evaluation(model):\n",
    "    model.fit(X_train_3,y_train_3)\n",
    "    y_pred_3 = model.predict(X_test_3)\n",
    "    print(confusion_matrix(y_test_3 , y_pred_3))\n",
    "    print(classification_report(y_test_3 , y_pred_3))\n",
    "\n",
    "    N, train_score ,val_score = learning_curve(model, X_train_3,y_train_3,\n",
    "                            train_sizes = np.linspace(0.1,1.0,10),cv=5)\n",
    "\n",
    "    plt.figure(figsize =(12,8))\n",
    "    plt.plot(N,train_score.mean(axis = 1), label ='train score')\n",
    "    plt.plot(N,val_score.mean(axis = 1), label ='validation score')\n",
    "    plt.xlabel('amount of data')\n",
    "    plt.ylabel('Performance of model')\n",
    "    plt.legend()"
   ]
  },
  {
   "cell_type": "code",
   "execution_count": 39,
   "metadata": {},
   "outputs": [
    {
     "name": "stdout",
     "output_type": "stream",
     "text": [
      "KNN\n",
      "[[126   7   4]\n",
      " [ 16  12   0]\n",
      " [  2   0  43]]\n",
      "              precision    recall  f1-score   support\n",
      "\n",
      "           1       0.88      0.92      0.90       137\n",
      "           2       0.63      0.43      0.51        28\n",
      "           3       0.91      0.96      0.93        45\n",
      "\n",
      "    accuracy                           0.86       210\n",
      "   macro avg       0.81      0.77      0.78       210\n",
      "weighted avg       0.85      0.86      0.85       210\n",
      "\n",
      "logreg\n",
      "[[134   0   3]\n",
      " [ 26   1   1]\n",
      " [  5   0  40]]\n",
      "              precision    recall  f1-score   support\n",
      "\n",
      "           1       0.81      0.98      0.89       137\n",
      "           2       1.00      0.04      0.07        28\n",
      "           3       0.91      0.89      0.90        45\n",
      "\n",
      "    accuracy                           0.83       210\n",
      "   macro avg       0.91      0.63      0.62       210\n",
      "weighted avg       0.86      0.83      0.78       210\n",
      "\n",
      "SVC\n",
      "[[133   1   3]\n",
      " [ 25   2   1]\n",
      " [  5   0  40]]\n",
      "              precision    recall  f1-score   support\n",
      "\n",
      "           1       0.82      0.97      0.89       137\n",
      "           2       0.67      0.07      0.13        28\n",
      "           3       0.91      0.89      0.90        45\n",
      "\n",
      "    accuracy                           0.83       210\n",
      "   macro avg       0.80      0.64      0.64       210\n",
      "weighted avg       0.82      0.83      0.79       210\n",
      "\n",
      "SVM\n",
      "[[133   2   2]\n",
      " [ 23   5   0]\n",
      " [  3   0  42]]\n",
      "              precision    recall  f1-score   support\n",
      "\n",
      "           1       0.84      0.97      0.90       137\n",
      "           2       0.71      0.18      0.29        28\n",
      "           3       0.95      0.93      0.94        45\n",
      "\n",
      "    accuracy                           0.86       210\n",
      "   macro avg       0.84      0.69      0.71       210\n",
      "weighted avg       0.85      0.86      0.83       210\n",
      "\n"
     ]
    },
    {
     "data": {
      "image/png": "[encoded data removed]",
      "text/plain": [
       "<Figure size 864x576 with 1 Axes>"
      ]
     },
     "metadata": {
      "needs_background": "light"
     },
     "output_type": "display_data"
    },
    {
     "data": {
      "image/png": "[encoded data removed]",
      "text/plain": [
       "<Figure size 864x576 with 1 Axes>"
      ]
     },
     "metadata": {
      "needs_background": "light"
     },
     "output_type": "display_data"
    },
    {
     "data": {
      "image/png": "[encoded data removed]",
      "text/plain": [
       "<Figure size 864x576 with 1 Axes>"
      ]
     },
     "metadata": {
      "needs_background": "light"
     },
     "output_type": "display_data"
    },
    {
     "data": {
      "image/png": "[encoded data removed]",
      "text/plain": [
       "<Figure size 864x576 with 1 Axes>"
      ]
     },
     "metadata": {
      "needs_background": "light"
     },
     "output_type": "display_data"
    }
   ],
   "source": [
    "for names,model in dict_of_models.items() :\n",
    "     print(names)\n",
    "     evaluation(model)"
   ]
  },
  {
   "cell_type": "markdown",
   "metadata": {},
   "source": [
    "Optimisation des hyperparametres du modèle SVC et logistic"
   ]
  },
  {
   "cell_type": "code",
   "execution_count": 40,
   "metadata": {},
   "outputs": [],
   "source": [
    "def optimiseur(model , parameters):\n",
    "    grid = GridSearchCV(model,parameters)\n",
    "    grid.fit(X_train_3,y_train_3)\n",
    "\n",
    "    print(\"best parameters \",grid.best_params_)\n",
    "    print(\"accuracy :\",grid.best_score_)\n",
    "\n"
   ]
  },
  {
   "cell_type": "code",
   "execution_count": 41,
   "metadata": {},
   "outputs": [],
   "source": [
    "# optimiser SVC\n",
    "parameters = {'kernel':('linear', 'rbf'), 'C':[1, 10]}\n",
    "model = SVC()\n",
    "# optimiseur(model , parameters)"
   ]
  },
  {
   "cell_type": "code",
   "execution_count": 42,
   "metadata": {},
   "outputs": [],
   "source": [
    "#bon parametre SVC\n",
    "model = SVC(kernel= 'rbf', C = 10)\n",
    "parameters = {'kernel':'rbf', 'C':10}"
   ]
  },
  {
   "cell_type": "code",
   "execution_count": 43,
   "metadata": {},
   "outputs": [],
   "source": [
    "# optimiser LogisticRegression\n",
    "parameters = {\"C\":np.logspace(-3,3,7), \"penalty\":[\"l1\",\"l2\"]}# l1 lasso l2 ridge\n",
    "model = LogisticRegression()\n",
    "#optimiseur(model , parameters)"
   ]
  },
  {
   "cell_type": "code",
   "execution_count": 44,
   "metadata": {},
   "outputs": [],
   "source": [
    "# bon parametre LogisticRegression\n",
    "model = LogisticRegression(C= 1.0, penalty=\"l2\")\n",
    "parameters = {\"C\":1.0, \"penalty\":\"l2\"}\n"
   ]
  },
  {
   "cell_type": "code",
   "execution_count": null,
   "metadata": {},
   "outputs": [],
   "source": []
  },
  {
   "cell_type": "code",
   "execution_count": null,
   "metadata": {},
   "outputs": [],
   "source": []
  },
  {
   "cell_type": "markdown",
   "metadata": {},
   "source": [
    "## 2) Feature selection (éliminer les colonnes à faible variance)"
   ]
  },
  {
   "cell_type": "code",
   "execution_count": 45,
   "metadata": {},
   "outputs": [
    {
     "data": {
      "text/plain": [
       "<AxesSubplot:>"
      ]
     },
     "execution_count": 45,
     "metadata": {},
     "output_type": "execute_result"
    },
    {
     "data": {
      "image/png": "[encoded data removed]",
      "text/plain": [
       "<Figure size 864x576 with 1 Axes>"
      ]
     },
     "metadata": {
      "needs_background": "light"
     },
     "output_type": "display_data"
    }
   ],
   "source": [
    "# quel seuil choisir ? \n",
    "# Sur X_test\n",
    "variance = X_test_3.var(axis = 0)\n",
    "pd.DataFrame(variance,index = X_test_3.columns ).plot.bar(figsize = (12,8))"
   ]
  },
  {
   "cell_type": "code",
   "execution_count": 46,
   "metadata": {},
   "outputs": [],
   "source": [
    "# Sur X_train\n",
    "#pd.DataFrame(X_train_3.var(axis = 0),index = X_train_3.columns ).plot.bar(figsize = (12,8))"
   ]
  },
  {
   "cell_type": "code",
   "execution_count": 47,
   "metadata": {},
   "outputs": [],
   "source": [
    "# Sur X\n",
    "# pd.DataFrame(X.var(axis = 0),index = X.columns ).plot.bar(figsize = (12,8))"
   ]
  },
  {
   "cell_type": "code",
   "execution_count": null,
   "metadata": {},
   "outputs": [],
   "source": []
  },
  {
   "cell_type": "code",
   "execution_count": 48,
   "metadata": {},
   "outputs": [],
   "source": [
    "def selection_feature(X_test,X_train,seuil ):\n",
    "    # élemination des colonnes à variances inferieur au seuil 0.8 ou 0.06 ou 0.04 ou 0.02\n",
    "    selector = VarianceThreshold(threshold=seuil)\n",
    "    selector.fit_transform(X_test)\n",
    "    colonne_garder = np.array(X_test.columns)[selector.get_support()]\n",
    "\n",
    "    colonne_suprimer = [i for i in col_total if not  i in colonne_garder ]\n",
    "\n",
    "    \n",
    "    print('colonne garder size = ',colonne_garder.shape)\n",
    "    # print('colonne suprimer size = ',len(colonne_suprimer))\n",
    "    print('colonne_garder = ',colonne_garder)\n",
    "\n",
    "\n",
    "    # print('colonne_suprime = ',colonne_suprimer)\n",
    "\n",
    "    # prediction avec uniquement les colonne garder\n",
    "    X_test_keep = X_test[colonne_garder] \n",
    "    X_train_keep = X_train[colonne_garder] \n",
    "\n",
    "    return X_train_keep,X_test_keep\n"
   ]
  },
  {
   "cell_type": "code",
   "execution_count": 49,
   "metadata": {},
   "outputs": [
    {
     "name": "stdout",
     "output_type": "stream",
     "text": [
      "colonne garder size =  (29,)\n",
      "colonne_garder =  ['Galbant' 'Rythme' 'Difficulte' 'Rapide' 'Regulier' 'Equilibre'\n",
      " 'Challenge' 'Progression' 'Accompagnement' 'Confiance_en_soi' 'Actif'\n",
      " 'Stretchcing' 'Efficacite' 'Discipline' 'Muscultation' 'Cardio' 'Vital'\n",
      " 'Depassement' 'Calme' 'Serenite' 'Sexy' 'Plaisir' 'Groupe' 'Partage'\n",
      " 'Role' 'Performance' 'Meilleur' 'Individualiste' 'detente']\n"
     ]
    }
   ],
   "source": [
    "#seuil = 0.12\n",
    "X_train_3,X_test_3 = selection_feature (X_test_3,X_train_3,seuil = 0.06)"
   ]
  },
  {
   "cell_type": "code",
   "execution_count": null,
   "metadata": {},
   "outputs": [],
   "source": []
  },
  {
   "cell_type": "code",
   "execution_count": 27,
   "metadata": {},
   "outputs": [],
   "source": [
    "dict_of_seuil ={ 'seuil = 0.02' : 0.02,\n",
    "                'seuil = 0.04' :0.04,\n",
    "                'seuil = 0.06' :0.06,\n",
    "                'seuil = 0.08' :0.08,\n",
    "                'seuil = 0.10' :0.10,\n",
    "                'seuil = 0.12' :0.12,\n",
    "                'seuil = 0.14' :0.14\n",
    "                }"
   ]
  },
  {
   "cell_type": "code",
   "execution_count": 28,
   "metadata": {},
   "outputs": [],
   "source": [
    "def evaluation_seuil(X_test,y_test_3,X_train,y_train_3,seuil):\n",
    "    X_train_3,X_test_3 = selection_feature(X_test,X_train,seuil )\n",
    "    # bon parametre LogisticRegression\n",
    "    model = SVC(kernel= 'rbf', C = 10)\n",
    "    fit_model(model,X_train_3,y_train_3)\n",
    "    y_pred_3_log = prediction(model ,X_test_3)\n",
    "    print_resulat(y_test_3,y_pred_3_log)\n",
    "    # matrice_confusion(y_test_3, y_pred_3_log)\n",
    "\n",
    "\n",
    "def give_precision ( y_test_3 ,y_pred_3_log) :\n",
    "    precision = precision_score(y_true = y_test_3, y_pred = y_pred_3_log, average ='macro')\n",
    "    return precision\n",
    "\n",
    "def give_recall( y_test_3 ,y_pred_3_log) :\n",
    "    recall = recall_score(y_true = y_test_3, y_pred = y_pred_3_log, average ='macro')\n",
    "    return recall  \n",
    "\n",
    "def give_f1score( y_test_3 ,y_pred_3_log) :\n",
    "    f1score= f1_score(y_true = y_test_3, y_pred = y_pred_3_log , average ='macro')\n",
    "    return f1score      \n",
    "\n",
    "\n",
    "\n",
    "def give_list_precision(X_test,y_test_3,X_train,y_train_3,seuil,list_precision):\n",
    "    X_train_3,X_test_3 = selection_feature(X_test,X_train,seuil )\n",
    "    # bon parametre LogisticRegression\n",
    "    model = SVC(kernel= 'rbf', C = 10)\n",
    "    fit_model(model,X_train_3,y_train_3)\n",
    "    y_pred_3_log = prediction(model ,X_test_3)\n",
    "\n",
    "    precision = give_precision ( y_test_3 ,y_pred_3_log) \n",
    "    list_precision.append(precision) \n",
    "\n",
    "    return list_precision\n",
    "\n",
    "def give_list_recall(X_test,y_test_3,X_train,y_train_3,seuil,list_recall):\n",
    "    X_train_3,X_test_3 = selection_feature(X_test,X_train,seuil )\n",
    "    # bon parametre LogisticRegression\n",
    "    model = SVC(kernel= 'rbf', C = 10)\n",
    "    fit_model(model,X_train_3,y_train_3)\n",
    "    y_pred_3_log = prediction(model ,X_test_3)\n",
    "\n",
    "    recall = give_recall( y_test_3 ,y_pred_3_log) \n",
    "    list_recall.append(recall)\n",
    "\n",
    "    return list_recall\n",
    "\n",
    "\n",
    "def give_list_f1score(X_test,y_test_3,X_train,y_train_3,seuil,list_f1score):\n",
    "    X_train_3,X_test_3 = selection_feature(X_test,X_train,seuil )\n",
    "    model = SVC(kernel= 'rbf', C = 10)\n",
    "    fit_model(model,X_train_3,y_train_3)\n",
    "    y_pred_3_log = prediction(model ,X_test_3)\n",
    "\n",
    "    f1score = give_f1score( y_test_3 ,y_pred_3_log) \n",
    "    list_f1score.append(f1score)\n",
    "\n",
    "    return list_f1score\n",
    "\n"
   ]
  },
  {
   "cell_type": "code",
   "execution_count": 29,
   "metadata": {},
   "outputs": [
    {
     "name": "stdout",
     "output_type": "stream",
     "text": [
      "colonne garder size =  (30,)\n",
      "colonne_garder =  ['Galbant' 'Passivite' 'Fatigue' 'Difficulte' 'Regulier' 'Equilibre'\n",
      " 'Culpabilite' 'Challenge' 'Progression' 'Accompagnement'\n",
      " 'Confiance_en_soi' 'Actif' 'Stretchcing' 'Efficacite' 'Discipline'\n",
      " 'Muscultation' 'Cardio' 'Vital' 'Depassement' 'Calme' 'Serenite' 'Sexy'\n",
      " 'Plaisir' 'Groupe' 'Partage' 'Role' 'Performance' 'Meilleur'\n",
      " 'Individualiste' 'detente']\n"
     ]
    },
    {
     "ename": "NameError",
     "evalue": "name 'fit_model' is not defined",
     "output_type": "error",
     "traceback": [
      "\u001b[0;31m---------------------------------------------------------------------------\u001b[0m",
      "\u001b[0;31mNameError\u001b[0m                                 Traceback (most recent call last)",
      "\u001b[0;32m<ipython-input-29-d917601495f3>\u001b[0m in \u001b[0;36m<module>\u001b[0;34m\u001b[0m\n\u001b[1;32m      4\u001b[0m \u001b[0mlist_seuil\u001b[0m \u001b[0;34m=\u001b[0m \u001b[0mnp\u001b[0m\u001b[0;34m.\u001b[0m\u001b[0mlinspace\u001b[0m\u001b[0;34m(\u001b[0m\u001b[0;36m0.02\u001b[0m\u001b[0;34m,\u001b[0m\u001b[0;36m0.14\u001b[0m\u001b[0;34m,\u001b[0m\u001b[0;36m50\u001b[0m\u001b[0;34m)\u001b[0m\u001b[0;34m\u001b[0m\u001b[0;34m\u001b[0m\u001b[0m\n\u001b[1;32m      5\u001b[0m \u001b[0;32mfor\u001b[0m \u001b[0mseuil\u001b[0m  \u001b[0;32min\u001b[0m \u001b[0mlist_seuil\u001b[0m \u001b[0;34m:\u001b[0m\u001b[0;34m\u001b[0m\u001b[0;34m\u001b[0m\u001b[0m\n\u001b[0;32m----> 6\u001b[0;31m     \u001b[0mlist_precision\u001b[0m \u001b[0;34m=\u001b[0m \u001b[0mgive_list_precision\u001b[0m\u001b[0;34m(\u001b[0m\u001b[0mX_test_3\u001b[0m\u001b[0;34m,\u001b[0m\u001b[0my_test_3\u001b[0m\u001b[0;34m,\u001b[0m\u001b[0mX_train_3\u001b[0m\u001b[0;34m,\u001b[0m\u001b[0my_train_3\u001b[0m\u001b[0;34m,\u001b[0m\u001b[0mseuil\u001b[0m\u001b[0;34m,\u001b[0m\u001b[0mlist_precision\u001b[0m \u001b[0;34m)\u001b[0m\u001b[0;34m\u001b[0m\u001b[0;34m\u001b[0m\u001b[0m\n\u001b[0m\u001b[1;32m      7\u001b[0m     \u001b[0mlist_recall\u001b[0m \u001b[0;34m=\u001b[0m \u001b[0mgive_list_recall\u001b[0m\u001b[0;34m(\u001b[0m\u001b[0mX_test_3\u001b[0m\u001b[0;34m,\u001b[0m\u001b[0my_test_3\u001b[0m\u001b[0;34m,\u001b[0m\u001b[0mX_train_3\u001b[0m\u001b[0;34m,\u001b[0m\u001b[0my_train_3\u001b[0m\u001b[0;34m,\u001b[0m\u001b[0mseuil\u001b[0m\u001b[0;34m,\u001b[0m\u001b[0mlist_recall\u001b[0m \u001b[0;34m)\u001b[0m\u001b[0;34m\u001b[0m\u001b[0;34m\u001b[0m\u001b[0m\n\u001b[1;32m      8\u001b[0m     \u001b[0mlist_f1score\u001b[0m \u001b[0;34m=\u001b[0m \u001b[0mgive_list_f1score\u001b[0m\u001b[0;34m(\u001b[0m\u001b[0mX_test_3\u001b[0m\u001b[0;34m,\u001b[0m\u001b[0my_test_3\u001b[0m\u001b[0;34m,\u001b[0m\u001b[0mX_train_3\u001b[0m\u001b[0;34m,\u001b[0m\u001b[0my_train_3\u001b[0m\u001b[0;34m,\u001b[0m\u001b[0mseuil\u001b[0m\u001b[0;34m,\u001b[0m\u001b[0mlist_f1score\u001b[0m\u001b[0;34m)\u001b[0m\u001b[0;34m\u001b[0m\u001b[0;34m\u001b[0m\u001b[0m\n",
      "\u001b[0;32m<ipython-input-28-773cc26a9605>\u001b[0m in \u001b[0;36mgive_list_precision\u001b[0;34m(X_test, y_test_3, X_train, y_train_3, seuil, list_precision)\u001b[0m\n\u001b[1;32m     27\u001b[0m     \u001b[0;31m# bon parametre LogisticRegression\u001b[0m\u001b[0;34m\u001b[0m\u001b[0;34m\u001b[0m\u001b[0;34m\u001b[0m\u001b[0m\n\u001b[1;32m     28\u001b[0m     \u001b[0mmodel\u001b[0m \u001b[0;34m=\u001b[0m \u001b[0mSVC\u001b[0m\u001b[0;34m(\u001b[0m\u001b[0mkernel\u001b[0m\u001b[0;34m=\u001b[0m \u001b[0;34m'rbf'\u001b[0m\u001b[0;34m,\u001b[0m \u001b[0mC\u001b[0m \u001b[0;34m=\u001b[0m \u001b[0;36m10\u001b[0m\u001b[0;34m)\u001b[0m\u001b[0;34m\u001b[0m\u001b[0;34m\u001b[0m\u001b[0m\n\u001b[0;32m---> 29\u001b[0;31m     \u001b[0mfit_model\u001b[0m\u001b[0;34m(\u001b[0m\u001b[0mmodel\u001b[0m\u001b[0;34m,\u001b[0m\u001b[0mX_train_3\u001b[0m\u001b[0;34m,\u001b[0m\u001b[0my_train_3\u001b[0m\u001b[0;34m)\u001b[0m\u001b[0;34m\u001b[0m\u001b[0;34m\u001b[0m\u001b[0m\n\u001b[0m\u001b[1;32m     30\u001b[0m     \u001b[0my_pred_3_log\u001b[0m \u001b[0;34m=\u001b[0m \u001b[0mprediction\u001b[0m\u001b[0;34m(\u001b[0m\u001b[0mmodel\u001b[0m \u001b[0;34m,\u001b[0m\u001b[0mX_test_3\u001b[0m\u001b[0;34m)\u001b[0m\u001b[0;34m\u001b[0m\u001b[0;34m\u001b[0m\u001b[0m\n\u001b[1;32m     31\u001b[0m \u001b[0;34m\u001b[0m\u001b[0m\n",
      "\u001b[0;31mNameError\u001b[0m: name 'fit_model' is not defined"
     ]
    }
   ],
   "source": [
    "list_precision = []\n",
    "list_recall = []\n",
    "list_f1score = []\n",
    "list_seuil = np.linspace(0.02,0.14,50)\n",
    "for seuil  in list_seuil :\n",
    "    list_precision = give_list_precision(X_test_3,y_test_3,X_train_3,y_train_3,seuil,list_precision )\n",
    "    list_recall = give_list_recall(X_test_3,y_test_3,X_train_3,y_train_3,seuil,list_recall )\n",
    "    list_f1score = give_list_f1score(X_test_3,y_test_3,X_train_3,y_train_3,seuil,list_f1score)\n",
    "\n",
    "\n",
    "\n",
    "\n",
    "plt.figure(figsize =(12,8))\n",
    "plt.plot(list_seuil,list_precision,label = 'precission')\n",
    "plt.plot(list_seuil,list_recall,label = 'recall')\n",
    "plt.plot(list_seuil,list_f1score ,label = 'f1score')\n",
    "plt.legend()\n",
    "plt.title('Performance de SVC en fonction du seuil')\n",
    "plt.xlabel('seuil')\n",
    "plt.ylabel('Performance ')\n",
    "plt.show()\n",
    "\n",
    "\n"
   ]
  },
  {
   "cell_type": "code",
   "execution_count": 30,
   "metadata": {},
   "outputs": [
    {
     "data": {
      "image/png": "[encoded data removed]",
      "text/plain": [
       "<Figure size 864x576 with 1 Axes>"
      ]
     },
     "metadata": {
      "needs_background": "light"
     },
     "output_type": "display_data"
    }
   ],
   "source": [
    "def col_selection(X_test,seuil):\n",
    "    # élemination des colonnes à variances inferieur au seuil 0.8 ou 0.06 ou 0.04 ou 0.02\n",
    "    selector = VarianceThreshold(threshold=seuil)\n",
    "    selector.fit_transform(X_test)\n",
    "\n",
    "    colonne_garder = np.array(X_test.columns)[selector.get_support()]\n",
    "    colonne_suprimer = [i for i in col_total if not  i in colonne_garder ]\n",
    "\n",
    "    N_keep = len(colonne_garder)\n",
    "    N_suprim = len(colonne_suprimer)\n",
    "\n",
    "    return N_suprim , N_keep\n",
    "\n",
    "list_seuil = np.linspace(0.02,0.14,50)\n",
    "list_col_sup = []\n",
    "list_col_keep = []\n",
    "for seuil in list_seuil :\n",
    "    N_suprim , N_keep = col_selection(X_test_3,seuil)\n",
    "    list_col_sup.append(N_suprim)\n",
    "    list_col_keep.append(N_keep)\n",
    "\n",
    "plt.figure(figsize =(12,8))\n",
    "plt.plot(list_seuil,list_col_keep,label = 'garder')\n",
    "plt.plot(list_seuil,list_col_sup ,label = 'supprimé')\n",
    "plt.legend()\n",
    "plt.title('Nombre de variables en fonction du seuil')\n",
    "plt.xlabel('seuil')\n",
    "plt.ylabel('Nombre de variables ')\n",
    "plt.show()\n"
   ]
  },
  {
   "cell_type": "code",
   "execution_count": 31,
   "metadata": {},
   "outputs": [
    {
     "ename": "ValueError",
     "evalue": "x and y must have same first dimension, but have shapes (50,) and (0,)",
     "output_type": "error",
     "traceback": [
      "\u001b[0;31m---------------------------------------------------------------------------\u001b[0m",
      "\u001b[0;31mValueError\u001b[0m                                Traceback (most recent call last)",
      "\u001b[0;32m<ipython-input-31-b38a7cb762df>\u001b[0m in \u001b[0;36m<module>\u001b[0;34m\u001b[0m\n\u001b[1;32m      1\u001b[0m \u001b[0mplt\u001b[0m\u001b[0;34m.\u001b[0m\u001b[0mfigure\u001b[0m\u001b[0;34m(\u001b[0m\u001b[0mfigsize\u001b[0m \u001b[0;34m=\u001b[0m\u001b[0;34m(\u001b[0m\u001b[0;36m12\u001b[0m\u001b[0;34m,\u001b[0m\u001b[0;36m8\u001b[0m\u001b[0;34m)\u001b[0m\u001b[0;34m)\u001b[0m\u001b[0;34m\u001b[0m\u001b[0;34m\u001b[0m\u001b[0m\n\u001b[0;32m----> 2\u001b[0;31m \u001b[0mplt\u001b[0m\u001b[0;34m.\u001b[0m\u001b[0mplot\u001b[0m\u001b[0;34m(\u001b[0m\u001b[0mlist_col_keep\u001b[0m\u001b[0;34m,\u001b[0m\u001b[0mlist_precision\u001b[0m\u001b[0;34m,\u001b[0m\u001b[0mlabel\u001b[0m \u001b[0;34m=\u001b[0m \u001b[0;34m'garder'\u001b[0m\u001b[0;34m)\u001b[0m\u001b[0;34m\u001b[0m\u001b[0;34m\u001b[0m\u001b[0m\n\u001b[0m\u001b[1;32m      3\u001b[0m \u001b[0mplt\u001b[0m\u001b[0;34m.\u001b[0m\u001b[0mplot\u001b[0m\u001b[0;34m(\u001b[0m\u001b[0mlist_col_sup\u001b[0m\u001b[0;34m,\u001b[0m\u001b[0mlist_precision\u001b[0m \u001b[0;34m,\u001b[0m\u001b[0mlabel\u001b[0m \u001b[0;34m=\u001b[0m \u001b[0;34m'supprimé'\u001b[0m\u001b[0;34m)\u001b[0m\u001b[0;34m\u001b[0m\u001b[0;34m\u001b[0m\u001b[0m\n\u001b[1;32m      4\u001b[0m \u001b[0mplt\u001b[0m\u001b[0;34m.\u001b[0m\u001b[0mlegend\u001b[0m\u001b[0;34m(\u001b[0m\u001b[0;34m)\u001b[0m\u001b[0;34m\u001b[0m\u001b[0;34m\u001b[0m\u001b[0m\n\u001b[1;32m      5\u001b[0m \u001b[0mplt\u001b[0m\u001b[0;34m.\u001b[0m\u001b[0mtitle\u001b[0m\u001b[0;34m(\u001b[0m\u001b[0;34m'Precicion en fonction du Nombre de colonnes '\u001b[0m\u001b[0;34m)\u001b[0m\u001b[0;34m\u001b[0m\u001b[0;34m\u001b[0m\u001b[0m\n",
      "\u001b[0;32m~/.local/lib/python3.8/site-packages/matplotlib/pyplot.py\u001b[0m in \u001b[0;36mplot\u001b[0;34m(scalex, scaley, data, *args, **kwargs)\u001b[0m\n\u001b[1;32m   2755\u001b[0m \u001b[0;34m@\u001b[0m\u001b[0m_copy_docstring_and_deprecators\u001b[0m\u001b[0;34m(\u001b[0m\u001b[0mAxes\u001b[0m\u001b[0;34m.\u001b[0m\u001b[0mplot\u001b[0m\u001b[0;34m)\u001b[0m\u001b[0;34m\u001b[0m\u001b[0;34m\u001b[0m\u001b[0m\n\u001b[1;32m   2756\u001b[0m \u001b[0;32mdef\u001b[0m \u001b[0mplot\u001b[0m\u001b[0;34m(\u001b[0m\u001b[0;34m*\u001b[0m\u001b[0margs\u001b[0m\u001b[0;34m,\u001b[0m \u001b[0mscalex\u001b[0m\u001b[0;34m=\u001b[0m\u001b[0;32mTrue\u001b[0m\u001b[0;34m,\u001b[0m \u001b[0mscaley\u001b[0m\u001b[0;34m=\u001b[0m\u001b[0;32mTrue\u001b[0m\u001b[0;34m,\u001b[0m \u001b[0mdata\u001b[0m\u001b[0;34m=\u001b[0m\u001b[0;32mNone\u001b[0m\u001b[0;34m,\u001b[0m \u001b[0;34m**\u001b[0m\u001b[0mkwargs\u001b[0m\u001b[0;34m)\u001b[0m\u001b[0;34m:\u001b[0m\u001b[0;34m\u001b[0m\u001b[0;34m\u001b[0m\u001b[0m\n\u001b[0;32m-> 2757\u001b[0;31m     return gca().plot(\n\u001b[0m\u001b[1;32m   2758\u001b[0m         \u001b[0;34m*\u001b[0m\u001b[0margs\u001b[0m\u001b[0;34m,\u001b[0m \u001b[0mscalex\u001b[0m\u001b[0;34m=\u001b[0m\u001b[0mscalex\u001b[0m\u001b[0;34m,\u001b[0m \u001b[0mscaley\u001b[0m\u001b[0;34m=\u001b[0m\u001b[0mscaley\u001b[0m\u001b[0;34m,\u001b[0m\u001b[0;34m\u001b[0m\u001b[0;34m\u001b[0m\u001b[0m\n\u001b[1;32m   2759\u001b[0m         **({\"data\": data} if data is not None else {}), **kwargs)\n",
      "\u001b[0;32m~/.local/lib/python3.8/site-packages/matplotlib/axes/_axes.py\u001b[0m in \u001b[0;36mplot\u001b[0;34m(self, scalex, scaley, data, *args, **kwargs)\u001b[0m\n\u001b[1;32m   1630\u001b[0m         \"\"\"\n\u001b[1;32m   1631\u001b[0m         \u001b[0mkwargs\u001b[0m \u001b[0;34m=\u001b[0m \u001b[0mcbook\u001b[0m\u001b[0;34m.\u001b[0m\u001b[0mnormalize_kwargs\u001b[0m\u001b[0;34m(\u001b[0m\u001b[0mkwargs\u001b[0m\u001b[0;34m,\u001b[0m \u001b[0mmlines\u001b[0m\u001b[0;34m.\u001b[0m\u001b[0mLine2D\u001b[0m\u001b[0;34m)\u001b[0m\u001b[0;34m\u001b[0m\u001b[0;34m\u001b[0m\u001b[0m\n\u001b[0;32m-> 1632\u001b[0;31m         \u001b[0mlines\u001b[0m \u001b[0;34m=\u001b[0m \u001b[0;34m[\u001b[0m\u001b[0;34m*\u001b[0m\u001b[0mself\u001b[0m\u001b[0;34m.\u001b[0m\u001b[0m_get_lines\u001b[0m\u001b[0;34m(\u001b[0m\u001b[0;34m*\u001b[0m\u001b[0margs\u001b[0m\u001b[0;34m,\u001b[0m \u001b[0mdata\u001b[0m\u001b[0;34m=\u001b[0m\u001b[0mdata\u001b[0m\u001b[0;34m,\u001b[0m \u001b[0;34m**\u001b[0m\u001b[0mkwargs\u001b[0m\u001b[0;34m)\u001b[0m\u001b[0;34m]\u001b[0m\u001b[0;34m\u001b[0m\u001b[0;34m\u001b[0m\u001b[0m\n\u001b[0m\u001b[1;32m   1633\u001b[0m         \u001b[0;32mfor\u001b[0m \u001b[0mline\u001b[0m \u001b[0;32min\u001b[0m \u001b[0mlines\u001b[0m\u001b[0;34m:\u001b[0m\u001b[0;34m\u001b[0m\u001b[0;34m\u001b[0m\u001b[0m\n\u001b[1;32m   1634\u001b[0m             \u001b[0mself\u001b[0m\u001b[0;34m.\u001b[0m\u001b[0madd_line\u001b[0m\u001b[0;34m(\u001b[0m\u001b[0mline\u001b[0m\u001b[0;34m)\u001b[0m\u001b[0;34m\u001b[0m\u001b[0;34m\u001b[0m\u001b[0m\n",
      "\u001b[0;32m~/.local/lib/python3.8/site-packages/matplotlib/axes/_base.py\u001b[0m in \u001b[0;36m__call__\u001b[0;34m(self, data, *args, **kwargs)\u001b[0m\n\u001b[1;32m    310\u001b[0m                 \u001b[0mthis\u001b[0m \u001b[0;34m+=\u001b[0m \u001b[0margs\u001b[0m\u001b[0;34m[\u001b[0m\u001b[0;36m0\u001b[0m\u001b[0;34m]\u001b[0m\u001b[0;34m,\u001b[0m\u001b[0;34m\u001b[0m\u001b[0;34m\u001b[0m\u001b[0m\n\u001b[1;32m    311\u001b[0m                 \u001b[0margs\u001b[0m \u001b[0;34m=\u001b[0m \u001b[0margs\u001b[0m\u001b[0;34m[\u001b[0m\u001b[0;36m1\u001b[0m\u001b[0;34m:\u001b[0m\u001b[0;34m]\u001b[0m\u001b[0;34m\u001b[0m\u001b[0;34m\u001b[0m\u001b[0m\n\u001b[0;32m--> 312\u001b[0;31m             \u001b[0;32myield\u001b[0m \u001b[0;32mfrom\u001b[0m \u001b[0mself\u001b[0m\u001b[0;34m.\u001b[0m\u001b[0m_plot_args\u001b[0m\u001b[0;34m(\u001b[0m\u001b[0mthis\u001b[0m\u001b[0;34m,\u001b[0m \u001b[0mkwargs\u001b[0m\u001b[0;34m)\u001b[0m\u001b[0;34m\u001b[0m\u001b[0;34m\u001b[0m\u001b[0m\n\u001b[0m\u001b[1;32m    313\u001b[0m \u001b[0;34m\u001b[0m\u001b[0m\n\u001b[1;32m    314\u001b[0m     \u001b[0;32mdef\u001b[0m \u001b[0mget_next_color\u001b[0m\u001b[0;34m(\u001b[0m\u001b[0mself\u001b[0m\u001b[0;34m)\u001b[0m\u001b[0;34m:\u001b[0m\u001b[0;34m\u001b[0m\u001b[0;34m\u001b[0m\u001b[0m\n",
      "\u001b[0;32m~/.local/lib/python3.8/site-packages/matplotlib/axes/_base.py\u001b[0m in \u001b[0;36m_plot_args\u001b[0;34m(self, tup, kwargs, return_kwargs)\u001b[0m\n\u001b[1;32m    496\u001b[0m \u001b[0;34m\u001b[0m\u001b[0m\n\u001b[1;32m    497\u001b[0m         \u001b[0;32mif\u001b[0m \u001b[0mx\u001b[0m\u001b[0;34m.\u001b[0m\u001b[0mshape\u001b[0m\u001b[0;34m[\u001b[0m\u001b[0;36m0\u001b[0m\u001b[0;34m]\u001b[0m \u001b[0;34m!=\u001b[0m \u001b[0my\u001b[0m\u001b[0;34m.\u001b[0m\u001b[0mshape\u001b[0m\u001b[0;34m[\u001b[0m\u001b[0;36m0\u001b[0m\u001b[0;34m]\u001b[0m\u001b[0;34m:\u001b[0m\u001b[0;34m\u001b[0m\u001b[0;34m\u001b[0m\u001b[0m\n\u001b[0;32m--> 498\u001b[0;31m             raise ValueError(f\"x and y must have same first dimension, but \"\n\u001b[0m\u001b[1;32m    499\u001b[0m                              f\"have shapes {x.shape} and {y.shape}\")\n\u001b[1;32m    500\u001b[0m         \u001b[0;32mif\u001b[0m \u001b[0mx\u001b[0m\u001b[0;34m.\u001b[0m\u001b[0mndim\u001b[0m \u001b[0;34m>\u001b[0m \u001b[0;36m2\u001b[0m \u001b[0;32mor\u001b[0m \u001b[0my\u001b[0m\u001b[0;34m.\u001b[0m\u001b[0mndim\u001b[0m \u001b[0;34m>\u001b[0m \u001b[0;36m2\u001b[0m\u001b[0;34m:\u001b[0m\u001b[0;34m\u001b[0m\u001b[0;34m\u001b[0m\u001b[0m\n",
      "\u001b[0;31mValueError\u001b[0m: x and y must have same first dimension, but have shapes (50,) and (0,)"
     ]
    },
    {
     "data": {
      "image/png": "[encoded data removed]",
      "text/plain": [
       "<Figure size 864x576 with 1 Axes>"
      ]
     },
     "metadata": {
      "needs_background": "light"
     },
     "output_type": "display_data"
    }
   ],
   "source": [
    "plt.figure(figsize =(12,8))\n",
    "plt.plot(list_col_keep,list_precision,label = 'garder')\n",
    "plt.plot(list_col_sup,list_precision ,label = 'supprimé')\n",
    "plt.legend()\n",
    "plt.title('Precicion en fonction du Nombre de colonnes ')\n",
    "plt.ylabel('Precision')\n",
    "plt.xlabel('Nombre de colonnes  ')\n",
    "plt.show()"
   ]
  },
  {
   "cell_type": "code",
   "execution_count": null,
   "metadata": {},
   "outputs": [],
   "source": []
  },
  {
   "cell_type": "code",
   "execution_count": null,
   "metadata": {},
   "outputs": [],
   "source": [
    "\n",
    "# for names,seuil in dict_of_seuil.items() :\n",
    "#     print(names)\n",
    "   \n",
    "#     evaluation_seuil(X_test_3,y_test_3,X_train_3,y_train_3,seuil)"
   ]
  },
  {
   "cell_type": "code",
   "execution_count": null,
   "metadata": {},
   "outputs": [],
   "source": []
  },
  {
   "cell_type": "code",
   "execution_count": null,
   "metadata": {},
   "outputs": [],
   "source": []
  },
  {
   "cell_type": "markdown",
   "metadata": {},
   "source": [
    "## 3) Tester avec le modèle final"
   ]
  },
  {
   "cell_type": "code",
   "execution_count": 50,
   "metadata": {},
   "outputs": [],
   "source": [
    "def fit_model (model,X_train_3,y_train_3):\n",
    "    model.fit(X_train_3,y_train_3)\n",
    "\n",
    "def prediction ( model ,X_test_3):\n",
    "    # prediction\n",
    "    y_pred_3_log = model.predict(X_test_3)\n",
    "    return y_pred_3_log\n",
    "    \n",
    "def print_resulat(y_test_3,y_pred_3_log):\n",
    "    print( 'recall_score = ' ,recall_score(y_true = y_test_3, y_pred = y_pred_3_log, average ='macro'))\n",
    "    print( 'f1-score = ' ,f1_score(y_true = y_test_3, y_pred = y_pred_3_log , average ='macro'))\n",
    "    print( 'precision_score = ' ,precision_score(y_true = y_test_3, y_pred = y_pred_3_log, average ='macro'))\n",
    "    \n",
    "\n",
    "def matrice_confusion(y_test_3, y_pred_3_log):\n",
    "    # Matrice de confusion\n",
    "    confusion_3 = metrics.confusion_matrix(y_true = y_test_3,y_pred = y_pred_3_log)\n",
    "    \n",
    "    confusion = pd.DataFrame(confusion_3, index =['y_true: 0','y_true: 1','y_true: 2'] ,columns=['y_pred : 0','y_pred : 1','y_pred : 2'] )\n",
    "    print('confusion  log_3 \\n' ,confusion_3)\n",
    "    print('tab log_3 \\n' ,confusion)\n",
    "\n",
    "    plt.matshow(confusion_3, cmap=plt.cm.gray)\n",
    "    plt.xlabel('y_true')\n",
    "    plt.ylabel('y_pred')\n",
    "    plt.show()\n"
   ]
  },
  {
   "cell_type": "code",
   "execution_count": 51,
   "metadata": {},
   "outputs": [],
   "source": [
    "# bon parametre LogisticRegression\n",
    "model = LogisticRegression(C= 1.0, penalty=\"l2\")\n",
    "model = SVC(kernel= 'rbf', C = 10,probability=True)\n",
    "parameters = {\"C\":1.0, \"penalty\":\"l2\"}"
   ]
  },
  {
   "cell_type": "code",
   "execution_count": 52,
   "metadata": {},
   "outputs": [],
   "source": [
    "fit_model(model,X_train_3,y_train_3)\n",
    "y_pred_3_log = prediction(model ,X_test_3)"
   ]
  },
  {
   "cell_type": "code",
   "execution_count": 53,
   "metadata": {},
   "outputs": [
    {
     "name": "stdout",
     "output_type": "stream",
     "text": [
      "recall_score =  0.8015950256826169\n",
      "f1-score =  0.8133213859020311\n",
      "precision_score =  0.8370109546165884\n"
     ]
    }
   ],
   "source": [
    "print_resulat(y_test_3,y_pred_3_log)"
   ]
  },
  {
   "cell_type": "code",
   "execution_count": 54,
   "metadata": {},
   "outputs": [
    {
     "ename": "AttributeError",
     "evalue": "'SVC' object has no attribute 'center_'",
     "output_type": "error",
     "traceback": [
      "\u001b[0;31m---------------------------------------------------------------------------\u001b[0m",
      "\u001b[0;31mAttributeError\u001b[0m                            Traceback (most recent call last)",
      "\u001b[0;32m<ipython-input-54-1bf700819d5f>\u001b[0m in \u001b[0;36m<module>\u001b[0;34m\u001b[0m\n\u001b[0;32m----> 1\u001b[0;31m \u001b[0mmodel\u001b[0m\u001b[0;34m.\u001b[0m\u001b[0mcenter_\u001b[0m\u001b[0;34m\u001b[0m\u001b[0;34m\u001b[0m\u001b[0m\n\u001b[0m",
      "\u001b[0;31mAttributeError\u001b[0m: 'SVC' object has no attribute 'center_'"
     ]
    }
   ],
   "source": []
  },
  {
   "cell_type": "code",
   "execution_count": 240,
   "metadata": {},
   "outputs": [
    {
     "name": "stdout",
     "output_type": "stream",
     "text": [
      "confusion  log_3 \n",
      " [[58  4  0]\n",
      " [10 18  3]\n",
      " [ 0  1 19]]\n",
      "tab log_3 \n",
      "            y_pred : 0  y_pred : 1  y_pred : 2\n",
      "y_true: 0          58           4           0\n",
      "y_true: 1          10          18           3\n",
      "y_true: 2           0           1          19\n"
     ]
    },
    {
     "data": {
      "image/png": "[encoded data removed]",
      "text/plain": [
       "<Figure size 288x288 with 1 Axes>"
      ]
     },
     "metadata": {
      "needs_background": "light"
     },
     "output_type": "display_data"
    }
   ],
   "source": [
    "matrice_confusion(y_test_3, y_pred_3_log)"
   ]
  },
  {
   "cell_type": "code",
   "execution_count": null,
   "metadata": {},
   "outputs": [],
   "source": []
  },
  {
   "cell_type": "code",
   "execution_count": null,
   "metadata": {},
   "outputs": [],
   "source": []
  },
  {
   "cell_type": "code",
   "execution_count": null,
   "metadata": {},
   "outputs": [],
   "source": []
  },
  {
   "cell_type": "code",
   "execution_count": 154,
   "metadata": {},
   "outputs": [],
   "source": [
    "# __init__.py pour creer les package \n",
    "\n",
    "# pour test :pip3 install pytest\n",
    "# import pytest"
   ]
  },
  {
   "cell_type": "code",
   "execution_count": null,
   "metadata": {},
   "outputs": [],
   "source": []
  }
 ],
 "metadata": {
  "interpreter": {
   "hash": "31f2aee4e71d21fbe5cf8b01ff0e069b9275f58929596ceb00d14d90e3e16cd6"
  },
  "kernelspec": {
   "display_name": "Python 3.8.10 64-bit",
   "language": "python",
   "name": "python3"
  },
  "language_info": {
   "codemirror_mode": {
    "name": "ipython",
    "version": 3
   },
   "file_extension": ".py",
   "mimetype": "text/x-python",
   "name": "python",
   "nbconvert_exporter": "python",
   "pygments_lexer": "ipython3",
   "version": "3.8.10"
  }
 },
 "nbformat": 4,
 "nbformat_minor": 4
}
