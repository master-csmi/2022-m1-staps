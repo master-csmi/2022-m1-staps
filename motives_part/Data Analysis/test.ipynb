{
 "cells": [
  {
   "cell_type": "code",
   "execution_count": 1,
   "metadata": {},
   "outputs": [],
   "source": [
    "import pandas as pd\n",
    "import preprocessing as prep"
   ]
  },
  {
   "cell_type": "markdown",
   "metadata": {},
   "source": [
    "## Initialisation"
   ]
  },
  {
   "cell_type": "code",
   "execution_count": 2,
   "metadata": {},
   "outputs": [],
   "source": [
    "df = pd.read_excel(\"/home/congo/Bureau/2022-m1-staps/motives_part/data_motives/data_motives_final.xlsx\",\"haller\") \n",
    "#renommer les lignes ( remplacer 0 par etudiant_0)\n",
    "df_const =df\n",
    "nlin,ncol = df.shape\n",
    "line_name = ['etudiant_' + str(i) for i in range(nlin)]\n",
    "# print(line_name)\n",
    "df.index = line_name\n",
    "df_const.index = line_name\n",
    "#df"
   ]
  },
  {
   "cell_type": "code",
   "execution_count": 3,
   "metadata": {},
   "outputs": [],
   "source": [
    "# partie donné rejeter dans l'analyse\n",
    "df_perso =df.iloc[:,:39]\n",
    "#df_perso"
   ]
  },
  {
   "cell_type": "code",
   "execution_count": 4,
   "metadata": {},
   "outputs": [],
   "source": [
    "#stoker le nom des colonnes\n",
    "column_name = [c for c in df]"
   ]
  },
  {
   "cell_type": "code",
   "execution_count": 10,
   "metadata": {},
   "outputs": [],
   "source": [
    "#                 ALL data\n",
    "# donnée qualif et cluster \n",
    "df_qualif =pd.read_csv(\"/home/congo/Bureau/2022-m1-staps/motives_part/data_motives/clustering.csv\")\n",
    "df_qualif.index = df_qualif.iloc[:,0]\n",
    "df_qualif = df_qualif.iloc[:,:73]\n",
    "\n",
    "df_qualif = df_qualif.iloc[:,1:]\n",
    "df_qualif.rename(columns = {'clust':'profil'})\n",
    "\n",
    "with pd.ExcelWriter(\"/home/congo/Bureau/2022-m1-staps/motives_part/data_motives/df_qualif.xlsx\") as writer:\n",
    "   df_qualif.to_excel(writer, freeze_panes=(1,1))\n",
    "#df_qualif\n",
    "\n",
    "# concater les données perso et qualificatif\n",
    "df_final = pd.concat([df_perso,df_qualif] , axis= 1)\n",
    "with pd.ExcelWriter(\"/home/congo/Bureau/2022-m1-staps/motives_part/data_motives/df_final.xlsx\") as writer:\n",
    "   df_final.to_excel(writer, freeze_panes=(1,1))\n",
    "#df_final"
   ]
  },
  {
   "cell_type": "code",
   "execution_count": null,
   "metadata": {},
   "outputs": [],
   "source": []
  },
  {
   "cell_type": "markdown",
   "metadata": {},
   "source": [
    "## Preprocessing "
   ]
  },
  {
   "cell_type": "code",
   "execution_count": 25,
   "metadata": {},
   "outputs": [],
   "source": [
    "# preprocessing wih all data\n",
    "data = prep.imputation(df)\n",
    "\n",
    "data_clean , data_correct = prep.preprocessing(data)\n",
    "\n",
    "data_ready = prep.Normalisation(data)\n",
    "#print(data_ready)"
   ]
  },
  {
   "cell_type": "code",
   "execution_count": null,
   "metadata": {},
   "outputs": [],
   "source": []
  },
  {
   "cell_type": "markdown",
   "metadata": {},
   "source": [
    "## Transfert of data python to Rstudio for clustering"
   ]
  },
  {
   "cell_type": "code",
   "execution_count": 25,
   "metadata": {},
   "outputs": [],
   "source": [
    "def transfert (data_ready,column_name,file_name):\n",
    "    # mettre data en df\n",
    "    df = pd.DataFrame(data_ready)\n",
    "\n",
    "\n",
    "    df_const = df.astype(float,errors='raise')\n",
    "    # renommer les colonne\n",
    "    df.columns = column_name[39:]\n",
    "    df_const.columns = column_name[39:]\n",
    "    #print(df.shape)\n",
    "\n",
    "    # 'Confiance en soi' par 'Confiance_en_soi'\n",
    "    # print(column_name[90])\n",
    "    column_name[90] = 'Confiance_en_soi'\n",
    "    # print(column_name[90])\n",
    "    df = df.rename(columns={'Confiance en soi':'Confiance_en_soi'}) \n",
    "\n",
    "    # print(df['Confiance_en_soi'])\n",
    "    # df_cluster.info()\n",
    "    # probleme de type alors on le change\n",
    "    df = df.astype(float,errors='raise')\n",
    "    # df_cluster.info()    \n",
    "    \n",
    "\n",
    "    # with pd.ExcelWriter(file_name) as writer:\n",
    "    #   df.to_excel(writer, freeze_panes=(1,1))\n",
    "\n",
    "    df.to_csv(file_name)"
   ]
  },
  {
   "cell_type": "code",
   "execution_count": null,
   "metadata": {},
   "outputs": [],
   "source": []
  },
  {
   "cell_type": "code",
   "execution_count": 28,
   "metadata": {},
   "outputs": [],
   "source": [
    "#                                          ALL data\n",
    "data_ready = data_ready\n",
    "column_name = column_name\n",
    "file_name = '/home/congo/Bureau/2022-m1-staps/motives_part/data_motives/data_ready.xlsx'\n",
    "file_name = '/home/congo/Bureau/2022-m1-staps/motives_part/data_motives/data_ready.csv'\n",
    "transfert(data_ready,column_name,file_name)\n"
   ]
  }
 ],
 "metadata": {
  "interpreter": {
   "hash": "31f2aee4e71d21fbe5cf8b01ff0e069b9275f58929596ceb00d14d90e3e16cd6"
  },
  "kernelspec": {
   "display_name": "Python 3.8.10 64-bit",
   "language": "python",
   "name": "python3"
  },
  "language_info": {
   "codemirror_mode": {
    "name": "ipython",
    "version": 3
   },
   "file_extension": ".py",
   "mimetype": "text/x-python",
   "name": "python",
   "nbconvert_exporter": "python",
   "pygments_lexer": "ipython3",
   "version": "3.8.10"
  },
  "orig_nbformat": 4
 },
 "nbformat": 4,
 "nbformat_minor": 2
}
