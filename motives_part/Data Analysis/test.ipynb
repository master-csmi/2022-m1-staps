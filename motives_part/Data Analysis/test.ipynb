{
 "cells": [
  {
   "cell_type": "code",
   "execution_count": 50,
   "metadata": {},
   "outputs": [],
   "source": [
    "import pandas as pd\n",
    "import preprocessing as prep"
   ]
  },
  {
   "cell_type": "markdown",
   "metadata": {},
   "source": [
    "## Initialisation"
   ]
  },
  {
   "cell_type": "code",
   "execution_count": 51,
   "metadata": {},
   "outputs": [],
   "source": [
    "#Lecture des données\n",
    "df = pd.read_excel(\"/home/congo/Bureau/2022-m1-staps/motives_part/data_motives/data_motives_final.xlsx\",\"haller\") \n"
   ]
  },
  {
   "cell_type": "code",
   "execution_count": 52,
   "metadata": {},
   "outputs": [],
   "source": [
    "#stoker le nom des colonnes\n",
    "column_name = [c for c in df]"
   ]
  },
  {
   "cell_type": "code",
   "execution_count": 53,
   "metadata": {},
   "outputs": [],
   "source": [
    "# transformer boy en 0 et Girl en 1\n",
    "df['Sexe'] = df['Sexe'].map({'Boy': 0 ,'Girl': 1}, na_action=None)\n",
    "newdf = df.sort_values(by='Sexe')"
   ]
  },
  {
   "cell_type": "code",
   "execution_count": 54,
   "metadata": {},
   "outputs": [],
   "source": [
    "# pont entre boy et girl\n",
    "# print(newdf.loc[495,'Sexe'])\n",
    "# print(newdf.loc[496,'Sexe'])"
   ]
  },
  {
   "cell_type": "code",
   "execution_count": 55,
   "metadata": {},
   "outputs": [],
   "source": [
    "df_boy = newdf[:495]\n",
    "# print(df_boy.loc[495,'Sexe'])\n",
    "# print(df_boy.shape)"
   ]
  },
  {
   "cell_type": "code",
   "execution_count": 56,
   "metadata": {},
   "outputs": [],
   "source": [
    "df_boy = newdf[:495]\n",
    "df_girl = newdf[495:]\n",
    "# print(df_girl.loc[:,'Sexe'])\n",
    "# print(df_girl.shape)"
   ]
  },
  {
   "cell_type": "code",
   "execution_count": 57,
   "metadata": {},
   "outputs": [],
   "source": [
    "# retour des nom des colonnes\n",
    "newdf['Sexe'] = newdf['Sexe'].map({0 : 'Boy' ,\n",
    "                             1 : 'Girl'\n",
    "                             },\n",
    "                             na_action=None)\n",
    "\n",
    "# print(newdf.loc[:,'Sexe'])\n"
   ]
  },
  {
   "cell_type": "markdown",
   "metadata": {},
   "source": [
    "## Preprocessing "
   ]
  },
  {
   "cell_type": "code",
   "execution_count": 58,
   "metadata": {},
   "outputs": [],
   "source": [
    "# utilisation des fonctions sur l'initialisation !!\n",
    "data = prep.imputation(df)\n",
    "\n",
    "data_clean , data_correct = prep.preprocessing(data)\n",
    "\n",
    "data_ready = prep.Normalisation(data)\n",
    "#print(data_ready)"
   ]
  },
  {
   "cell_type": "code",
   "execution_count": null,
   "metadata": {},
   "outputs": [],
   "source": []
  },
  {
   "cell_type": "markdown",
   "metadata": {},
   "source": [
    "## Transfert of data python to Rstudio for clustering"
   ]
  },
  {
   "cell_type": "code",
   "execution_count": 59,
   "metadata": {},
   "outputs": [],
   "source": [
    "def transfert (data_ready,column_name,file_name):\n",
    "    # mettre data en df\n",
    "    df = pd.DataFrame(data_ready)\n",
    "\n",
    "\n",
    "    df_const = df.astype(float,errors='raise')\n",
    "    # renommer les colonne\n",
    "    df.columns = column_name[39:]\n",
    "    df_const.columns = column_name[39:]\n",
    "    #print(df.shape)\n",
    "\n",
    "    # 'Confiance en soi' par 'Confiance_en_soi'\n",
    "    # print(column_name[90])\n",
    "    column_name[90] = 'Confiance_en_soi'\n",
    "    # print(column_name[90])\n",
    "    df = df.rename(columns={'Confiance en soi':'Confiance_en_soi'}) \n",
    "\n",
    "    # print(df['Confiance_en_soi'])\n",
    "    # df_cluster.info()\n",
    "    # probleme de type alors on le change\n",
    "    df = df.astype(float,errors='raise')\n",
    "    # df_cluster.info()    \n",
    "\n",
    "    #renommer les lignes ( remplacer 0 par etudiant_0)\n",
    "    nlin,ncol = data_ready.shape\n",
    "    line_name = ['etudiant_' + str(i) for i in range(nlin)]\n",
    "    # print(line_name)\n",
    "    df.index = line_name\n",
    "    df_const.index = line_name\n",
    "    # print(df)\n",
    "\n",
    "    with pd.ExcelWriter(file_name) as writer:\n",
    "      df.to_excel(writer, freeze_panes=(1,1))\n",
    "\n",
    "    #df.to_csv(file_name)"
   ]
  },
  {
   "cell_type": "code",
   "execution_count": 60,
   "metadata": {},
   "outputs": [],
   "source": [
    "\n",
    "data_ready = data_ready\n",
    "column_name = column_name\n",
    "file_name = '/home/congo/Bureau/2022-m1-staps/motives_part/data_motives/data_ready.xlsx'\n",
    "transfert(data_ready,column_name,file_name)\n"
   ]
  },
  {
   "cell_type": "code",
   "execution_count": 39,
   "metadata": {},
   "outputs": [],
   "source": [
    "# girl part \n",
    "#data_ready = data_ready_girl\n",
    "column_name = column_name\n",
    "file_name = '/home/congo/Bureau/2022-m1-staps/motives_part/data_motives/girl.csv'\n",
    "#transfert(data_ready,column_name,file_name)"
   ]
  },
  {
   "cell_type": "code",
   "execution_count": 40,
   "metadata": {},
   "outputs": [],
   "source": [
    "# boy part \n",
    "#data_ready = data_ready_boy\n",
    "column_name = column_name\n",
    "file_name = '/home/congo/Bureau/2022-m1-staps/motives_part/data_motives/boy.csv'\n",
    "#transfert(data_ready,column_name,file_name)"
   ]
  },
  {
   "cell_type": "code",
   "execution_count": null,
   "metadata": {},
   "outputs": [],
   "source": []
  },
  {
   "cell_type": "code",
   "execution_count": null,
   "metadata": {},
   "outputs": [],
   "source": []
  },
  {
   "cell_type": "code",
   "execution_count": null,
   "metadata": {},
   "outputs": [],
   "source": []
  },
  {
   "cell_type": "code",
   "execution_count": null,
   "metadata": {},
   "outputs": [],
   "source": []
  },
  {
   "cell_type": "code",
   "execution_count": null,
   "metadata": {},
   "outputs": [],
   "source": []
  },
  {
   "cell_type": "code",
   "execution_count": null,
   "metadata": {},
   "outputs": [],
   "source": []
  },
  {
   "cell_type": "code",
   "execution_count": null,
   "metadata": {},
   "outputs": [],
   "source": []
  },
  {
   "cell_type": "code",
   "execution_count": null,
   "metadata": {},
   "outputs": [],
   "source": []
  },
  {
   "cell_type": "code",
   "execution_count": null,
   "metadata": {},
   "outputs": [],
   "source": []
  },
  {
   "cell_type": "code",
   "execution_count": null,
   "metadata": {},
   "outputs": [],
   "source": []
  },
  {
   "cell_type": "code",
   "execution_count": null,
   "metadata": {},
   "outputs": [],
   "source": []
  },
  {
   "cell_type": "code",
   "execution_count": null,
   "metadata": {},
   "outputs": [],
   "source": []
  },
  {
   "cell_type": "code",
   "execution_count": null,
   "metadata": {},
   "outputs": [],
   "source": []
  },
  {
   "cell_type": "code",
   "execution_count": null,
   "metadata": {},
   "outputs": [],
   "source": []
  },
  {
   "cell_type": "code",
   "execution_count": null,
   "metadata": {},
   "outputs": [],
   "source": []
  },
  {
   "cell_type": "code",
   "execution_count": null,
   "metadata": {},
   "outputs": [],
   "source": []
  },
  {
   "cell_type": "code",
   "execution_count": null,
   "metadata": {},
   "outputs": [],
   "source": []
  },
  {
   "cell_type": "code",
   "execution_count": null,
   "metadata": {},
   "outputs": [],
   "source": []
  },
  {
   "cell_type": "code",
   "execution_count": null,
   "metadata": {},
   "outputs": [],
   "source": []
  }
 ],
 "metadata": {
  "interpreter": {
   "hash": "31f2aee4e71d21fbe5cf8b01ff0e069b9275f58929596ceb00d14d90e3e16cd6"
  },
  "kernelspec": {
   "display_name": "Python 3.8.10 64-bit",
   "language": "python",
   "name": "python3"
  },
  "language_info": {
   "codemirror_mode": {
    "name": "ipython",
    "version": 3
   },
   "file_extension": ".py",
   "mimetype": "text/x-python",
   "name": "python",
   "nbconvert_exporter": "python",
   "pygments_lexer": "ipython3",
   "version": "3.8.10"
  },
  "orig_nbformat": 4
 },
 "nbformat": 4,
 "nbformat_minor": 2
}
