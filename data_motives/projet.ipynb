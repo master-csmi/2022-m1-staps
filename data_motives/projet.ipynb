{
 "cells": [
  {
   "cell_type": "code",
   "execution_count": 37,
   "metadata": {},
   "outputs": [],
   "source": [
    "from pydoc import describe\n",
    "import pandas as pd\n",
    "import numpy as np\n",
    "import matplotlib.pyplot as plt\n",
    "from sklearn.linear_model import SGDClassifier\n",
    "from sklearn.impute import SimpleImputer\n",
    "from sklearn import preprocessing\n",
    "\n",
    "\n",
    "import scipy.stats as stats\n",
    "import pandas as pd\n",
    "import statsmodels.api as sm\n",
    "from statsmodels.formula.api import ols\n",
    "\n"
   ]
  },
  {
   "cell_type": "code",
   "execution_count": 38,
   "metadata": {},
   "outputs": [],
   "source": [
    "#Lecture des données\n",
    "data = pd.read_excel(\"/home/congo/Bureau/2022-m1-staps/data_motives/data_motives_final.xlsx\",\"haller\",) "
   ]
  },
  {
   "cell_type": "code",
   "execution_count": 39,
   "metadata": {},
   "outputs": [],
   "source": [
    "# mise a zero des valeurs manquantes\n",
    "data = data.fillna(0)\n",
    "\n",
    "#stoker le nom des colonnes\n",
    "column_name = [c for c in data]"
   ]
  },
  {
   "cell_type": "code",
   "execution_count": 40,
   "metadata": {},
   "outputs": [
    {
     "name": "stdout",
     "output_type": "stream",
     "text": [
      "data (1075, 71)\n"
     ]
    }
   ],
   "source": [
    "data = data.to_numpy()\n",
    "data = data[:,39:]\n",
    "nlin ,ncol =data.shape\n",
    "print('data' ,data.shape)"
   ]
  },
  {
   "cell_type": "markdown",
   "metadata": {},
   "source": [
    "##                            Preprosseccing"
   ]
  },
  {
   "cell_type": "code",
   "execution_count": 41,
   "metadata": {},
   "outputs": [],
   "source": [
    "# rendre toute les valeurs positives\n",
    "data_correct = data\n",
    "data = np.absolute(data)"
   ]
  },
  {
   "cell_type": "code",
   "execution_count": 42,
   "metadata": {},
   "outputs": [],
   "source": [
    "#Supression des valeurs abérantes par rapport au seuil\n",
    "seuil = 5*np.std(data,axis=0,dtype = np.float64)\n",
    "#print(seuil)\n",
    "data = np.array(data)\n",
    "data_tmp = np.zeros_like(data)\n",
    "data_tmp[data < seuil] = data[data < seuil]\n",
    "data = data_tmp\n",
    "#print(data)"
   ]
  },
  {
   "cell_type": "code",
   "execution_count": 43,
   "metadata": {},
   "outputs": [],
   "source": [
    "#normalisation par ligne (avec ecartype nul) our avoir des valeurs entre 0 et 1\n",
    "\n",
    "#indices à suprimer\n",
    "max = np.max(data,axis = 1)\n",
    "indices = [i for i, e in enumerate(max) if e == 0]\n",
    "#print(indices)\n",
    "\n",
    "#suppression des lignes\n",
    "data_del = np.delete(data,indices,axis = 0)\n",
    "data = data_del\n",
    "\n",
    "#normalisation par ligne sans ecartype nul pour avoir des valeurs entre 0 et 1\n",
    "min = np.min(data,axis = 1)\n",
    "max = np.max(data,axis = 1)\n",
    "data = (data-min[:,np.newaxis])/max[:,np.newaxis]\n",
    "\n",
    "#print(data)\n"
   ]
  },
  {
   "cell_type": "code",
   "execution_count": 44,
   "metadata": {},
   "outputs": [],
   "source": [
    "import pandas as pd\n",
    "import openpyxl"
   ]
  },
  {
   "cell_type": "code",
   "execution_count": 45,
   "metadata": {},
   "outputs": [],
   "source": [
    "# retour des valeurs négatives\n",
    "\n",
    "#suppression des lignes\n",
    "data_del = np.delete(data_correct,indices,axis = 0)\n",
    "data_correct = data_del\n",
    "\n",
    "#print(\"data before = \", data[data < 0])\n",
    "\n",
    "#indices des valeurs négatives\n",
    "indices_val_neg_i = np.where(data_correct < 0)\n",
    "#print(\"indices_val_neg_i = \",indices_val_neg_i)\n",
    "\n",
    "data[indices_val_neg_i] = -1*data[indices_val_neg_i]\n",
    "\n",
    "\n",
    "#print(\"data after = \", data[data < 0] )\n",
    "nlin ,ncol =data.shape\n",
    "\n"
   ]
  },
  {
   "cell_type": "markdown",
   "metadata": {},
   "source": [
    " Cluster Algorithm "
   ]
  },
  {
   "cell_type": "markdown",
   "metadata": {},
   "source": [
    "## 1) CAH algorithm "
   ]
  },
  {
   "cell_type": "code",
   "execution_count": 46,
   "metadata": {},
   "outputs": [],
   "source": [
    "import scipy.cluster.hierarchy as sch\n",
    "from sklearn.cluster import AgglomerativeClustering\n",
    "import matplotlib.pyplot as plt\n",
    "import pandas as pd \n"
   ]
  },
  {
   "cell_type": "code",
   "execution_count": 47,
   "metadata": {},
   "outputs": [
    {
     "data": {
      "image/png": "[encoded data removed]",
      "text/plain": [
       "<Figure size 432x288 with 1 Axes>"
      ]
     },
     "metadata": {
      "needs_background": "light"
     },
     "output_type": "display_data"
    }
   ],
   "source": [
    "#create a dendrogram\n",
    "dendrogram = sch.dendrogram(sch.linkage(data,method='ward'))"
   ]
  },
  {
   "cell_type": "code",
   "execution_count": 48,
   "metadata": {},
   "outputs": [],
   "source": [
    "hc = AgglomerativeClustering(n_clusters=3,affinity= 'euclidean',linkage='ward' )\n"
   ]
  },
  {
   "cell_type": "code",
   "execution_count": 49,
   "metadata": {},
   "outputs": [
    {
     "data": {
      "text/plain": [
       "<matplotlib.collections.PathCollection at 0x7f0f175c3100>"
      ]
     },
     "execution_count": 49,
     "metadata": {},
     "output_type": "execute_result"
    },
    {
     "data": {
      "image/png": "[encoded data removed]",
      "text/plain": [
       "<Figure size 432x288 with 1 Axes>"
      ]
     },
     "metadata": {
      "needs_background": "light"
     },
     "output_type": "display_data"
    }
   ],
   "source": [
    "y_hc = hc.fit_predict(data)\n",
    "plt.scatter(data[y_hc == 0,28],data[ y_hc == 0,28],s= 100,c = 'cyan')\n",
    "plt.scatter(data[y_hc == 1,0],data[ y_hc == 1,1],s= 100,c = 'red')\n",
    "plt.scatter(data[y_hc == 2,0],data[ y_hc == 2,1],s= 100,c = 'yellow')\n",
    "plt.scatter(data[y_hc == 3,0],data[ y_hc == 3,1],s= 100,c = 'black')\n",
    "plt.scatter(data[y_hc == 4,0],data[ y_hc == 4,1],s= 100,c = 'green')\n",
    "plt.scatter(data[y_hc == 5,0],data[ y_hc == 5,1],s= 100,c = 'green')\n"
   ]
  },
  {
   "cell_type": "markdown",
   "metadata": {},
   "source": [
    "## K-means"
   ]
  },
  {
   "cell_type": "code",
   "execution_count": 50,
   "metadata": {},
   "outputs": [],
   "source": [
    "from sklearn.cluster import KMeans\n"
   ]
  },
  {
   "cell_type": "code",
   "execution_count": 51,
   "metadata": {},
   "outputs": [
    {
     "data": {
      "text/plain": [
       "Text(0, 0.5, ' Cout du modele inertia')"
      ]
     },
     "execution_count": 51,
     "metadata": {},
     "output_type": "execute_result"
    },
    {
     "data": {
      "image/png": "[encoded data removed]",
      "text/plain": [
       "<Figure size 432x288 with 1 Axes>"
      ]
     },
     "metadata": {
      "needs_background": "light"
     },
     "output_type": "display_data"
    }
   ],
   "source": [
    "#nombre de cluster optimal \n",
    "# inertia calcule le cout (somme des distance entre les points d'un cluster et du centroide )\n",
    "# methode shadow aur=tre indicateur\n",
    "inertia =[]\n",
    "K_range =range(1,20)\n",
    "for k in K_range:\n",
    "    model = KMeans(n_clusters=k).fit(data)\n",
    "    inertia.append(model.inertia_)\n",
    "\n",
    "\n",
    "plt.plot(K_range,inertia)\n",
    "plt.xlabel(\" nombre de cluster\")\n",
    "plt.ylabel(\" Cout du modele inertia\")\n",
    "\n",
    "\n",
    "# 2-6 clusters ? la zone de \"coude\""
   ]
  },
  {
   "cell_type": "code",
   "execution_count": 52,
   "metadata": {},
   "outputs": [
    {
     "data": {
      "text/plain": [
       "Text(0.5, 0, \" nombre d'étudiant\")"
      ]
     },
     "execution_count": 52,
     "metadata": {},
     "output_type": "execute_result"
    },
    {
     "data": {
      "image/png": "[encoded data removed]",
      "text/plain": [
       "<Figure size 432x288 with 1 Axes>"
      ]
     },
     "metadata": {
      "needs_background": "light"
     },
     "output_type": "display_data"
    }
   ],
   "source": [
    "x_etudiant=range(0,nlin)\n",
    "\n",
    "n_cluster = 6\n",
    "model = KMeans(n_clusters= n_cluster)\n",
    "y_pred = model.fit_predict(data)\n",
    "\n",
    "plt.scatter(x_etudiant,y_pred)\n",
    "plt.ylabel(\" nombre de cluster\")\n",
    "plt.xlabel(\" nombre d'étudiant\")"
   ]
  },
  {
   "cell_type": "markdown",
   "metadata": {},
   "source": [
    "##                            Statistique Inférentielle sur chaque cluster 1"
   ]
  },
  {
   "cell_type": "code",
   "execution_count": 53,
   "metadata": {},
   "outputs": [],
   "source": [
    "# mettre data en df\n",
    "df_cluster = pd.DataFrame(data)\n",
    "\n",
    "df_cluster_const = df_cluster.astype(float,errors='raise')\n",
    "# renommer les colonne\n",
    "df_cluster.columns = column_name[39:]\n",
    "df_cluster_const.columns = column_name[39:]\n",
    "#print(df_cluster.shape)\n",
    "\n",
    "# # création d'une colonne cluster \n",
    "df_cluster['cluster'] = y_pred\n",
    "# #print(df_cluster.shape)"
   ]
  },
  {
   "cell_type": "code",
   "execution_count": 54,
   "metadata": {},
   "outputs": [],
   "source": [
    "# df_cluster.groupby('cluster').describe()"
   ]
  },
  {
   "cell_type": "code",
   "execution_count": null,
   "metadata": {},
   "outputs": [],
   "source": []
  },
  {
   "cell_type": "code",
   "execution_count": 55,
   "metadata": {},
   "outputs": [],
   "source": [
    "\n",
    "y_pred_0 = np.zeros(len(y_pred), dtype= int)\n",
    "y_pred_1 = np.zeros(len(y_pred), dtype= int)\n",
    "y_pred_2 = np.zeros(len(y_pred), dtype= int)\n",
    "y_pred_3 = np.zeros(len(y_pred), dtype= int)\n",
    "y_pred_4 = np.zeros(len(y_pred), dtype= int)\n",
    "y_pred_5 = np.zeros(len(y_pred), dtype= int)\n",
    "\n",
    "# print(y_pred[ y_pred == 5])\n",
    "\n",
    "for i in range (len(y_pred)) :\n",
    "    if ( y_pred[i] == 0) :\n",
    "        y_pred_0[i] = 1 \n",
    "    if ( y_pred[i] == 1) :\n",
    "        y_pred_1[i] = 1 \n",
    "\n",
    "    if ( y_pred[i] == 2) :\n",
    "        y_pred_2[i] = 1 \n",
    "\n",
    "    if ( y_pred[i] == 3) :\n",
    "        y_pred_3[i] = 1 \n",
    "\n",
    "    if ( y_pred[i] == 4) :\n",
    "        y_pred_4[i] = 1 \n",
    "\n",
    "    if ( y_pred[i] == 5) :\n",
    "        y_pred_5[i] = 1\n",
    "             \n",
    "        \n",
    "# print(y_pred_5[y_pred_5 == 1])\n",
    "\n",
    "# # création d'une colonne cluster0 ,1 ,2  \n",
    "df_cluster['cluster_0'] = y_pred_0\n",
    "df_cluster['cluster_1'] = y_pred_1\n",
    "df_cluster['cluster_2'] = y_pred_2\n",
    "df_cluster['cluster_3'] = y_pred_3\n",
    "df_cluster['cluster_4'] = y_pred_4\n",
    "df_cluster['cluster_5'] = y_pred_5\n",
    "\n",
    "# print(df_cluster.shape)\n"
   ]
  },
  {
   "cell_type": "code",
   "execution_count": 56,
   "metadata": {},
   "outputs": [],
   "source": [
    "# 'Confiance en soi' par 'Confiance_en_soi'\n",
    "# print(column_name[90])\n",
    "column_name[90] = 'Confiance_en_soi'\n",
    "# print(column_name[90])\n",
    "df_cluster = df_cluster.rename(columns={'Confiance en soi':'Confiance_en_soi'}) \n",
    "\n",
    "# print(df_cluster['Confiance_en_soi'])"
   ]
  },
  {
   "cell_type": "code",
   "execution_count": 57,
   "metadata": {},
   "outputs": [],
   "source": [
    "# df_cluster.info()\n",
    "# probleme de type alors on le change\n",
    "df_cluster = df_cluster.astype(float,errors='raise')\n",
    "# df_cluster.info()"
   ]
  },
  {
   "cell_type": "markdown",
   "metadata": {},
   "source": [
    "renommer les lignes ( remplacer 0 par etudiant0)"
   ]
  },
  {
   "cell_type": "code",
   "execution_count": 58,
   "metadata": {},
   "outputs": [],
   "source": [
    "line_name = ['etudiant' + str(i) for i in range(nlin)]\n",
    "# print(line_name)\n",
    "df_cluster.index = line_name\n",
    "df_cluster_const.index = line_name\n",
    "# print(df_cluster)"
   ]
  },
  {
   "cell_type": "code",
   "execution_count": null,
   "metadata": {},
   "outputs": [],
   "source": []
  },
  {
   "cell_type": "code",
   "execution_count": 59,
   "metadata": {},
   "outputs": [],
   "source": [
    "with pd.ExcelWriter('test.xlsx') as writer:\n",
    "    df_cluster.to_excel(writer, freeze_panes=(1,1))"
   ]
  },
  {
   "cell_type": "code",
   "execution_count": 60,
   "metadata": {},
   "outputs": [],
   "source": [
    "# Çağatay Demiralp <cagatay@cs.stanford.edu>"
   ]
  },
  {
   "cell_type": "code",
   "execution_count": 61,
   "metadata": {},
   "outputs": [],
   "source": [
    "import statsmodels.formula.api as smf\n"
   ]
  },
  {
   "cell_type": "code",
   "execution_count": 62,
   "metadata": {},
   "outputs": [],
   "source": [
    "# \"cluster_0 ~ detente + Confort + .... \"\n",
    "\n",
    "List_qualif = column_name[39:]\n",
    "chaine = \"cluster_0 ~ \"\n",
    "for qualif in List_qualif : # pour chaque qualité \n",
    "    chaine += '+'\n",
    "    chaine +=  str(qualif) \n",
    "\n",
    "# print(chaine)"
   ]
  },
  {
   "cell_type": "code",
   "execution_count": 63,
   "metadata": {},
   "outputs": [
    {
     "name": "stdout",
     "output_type": "stream",
     "text": [
      "                            OLS Regression Results                            \n",
      "==============================================================================\n",
      "Dep. Variable:              cluster_0   R-squared:                       0.443\n",
      "Model:                            OLS   Adj. R-squared:                  0.402\n",
      "Method:                 Least Squares   F-statistic:                     10.95\n",
      "Date:                Fri, 13 May 2022   Prob (F-statistic):           4.55e-83\n",
      "Time:                        17:49:15   Log-Likelihood:                 192.81\n",
      "No. Observations:                1050   AIC:                            -241.6\n",
      "Df Residuals:                     978   BIC:                             115.3\n",
      "Df Model:                          71                                         \n",
      "Covariance Type:            nonrobust                                         \n",
      "====================================================================================\n",
      "                       coef    std err          t      P>|t|      [0.025      0.975]\n",
      "------------------------------------------------------------------------------------\n",
      "Intercept            0.1156      0.017      6.611      0.000       0.081       0.150\n",
      "Confort              0.0299      0.036      0.832      0.405      -0.041       0.100\n",
      "Securite            -0.1147      0.036     -3.224      0.001      -0.185      -0.045\n",
      "Qualite              0.0510      0.040      1.264      0.207      -0.028       0.130\n",
      "Force                0.0289      0.044      0.660      0.509      -0.057       0.115\n",
      "Maintien            -0.0521      0.040     -1.297      0.195      -0.131       0.027\n",
      "Puissance            0.0835      0.050      1.677      0.094      -0.014       0.181\n",
      "Competition         -0.0019      0.053     -0.036      0.971      -0.107       0.103\n",
      "Muscle               0.1083      0.050      2.169      0.030       0.010       0.206\n",
      "Beaute              -0.1048      0.040     -2.606      0.009      -0.184      -0.026\n",
      "Galbant             -0.2220      0.026     -8.625      0.000      -0.272      -0.171\n",
      "Silhouette          -0.0205      0.038     -0.547      0.585      -0.094       0.053\n",
      "Douceur             -0.1291      0.044     -2.904      0.004      -0.216      -0.042\n",
      "Se_defouler          0.1637      0.048      3.413      0.001       0.070       0.258\n",
      "Energie              0.1639      0.051      3.197      0.001       0.063       0.264\n",
      "Legerete            -0.0239      0.042     -0.568      0.570      -0.106       0.059\n",
      "Technicite           0.1571      0.045      3.471      0.001       0.068       0.246\n",
      "Se_relaxer          -0.0001      0.045     -0.002      0.998      -0.089       0.089\n",
      "Bien_etre           -0.1084      0.045     -2.432      0.015      -0.196      -0.021\n",
      "Liberte              0.1262      0.042      3.038      0.002       0.045       0.208\n",
      "Fluidite            -0.0580      0.040     -1.451      0.147      -0.136       0.020\n",
      "Resistance           0.1046      0.041      2.524      0.012       0.023       0.186\n",
      "Inconfort            0.0847      0.038      2.204      0.028       0.009       0.160\n",
      "Repetition          -0.0558      0.032     -1.745      0.081      -0.119       0.007\n",
      "Intensite            0.1747      0.044      3.998      0.000       0.089       0.261\n",
      "Ralentissement      -0.0836      0.039     -2.163      0.031      -0.160      -0.008\n",
      "Acceleration        -0.0117      0.047     -0.247      0.805      -0.105       0.081\n",
      "Nouveaute           -0.0154      0.039     -0.400      0.689      -0.091       0.060\n",
      "Endurance           -0.0229      0.044     -0.525      0.600      -0.109       0.063\n",
      "Impact               0.0449      0.035      1.300      0.194      -0.023       0.113\n",
      "Recuperation         0.0058      0.034      0.170      0.865      -0.062       0.073\n",
      "Tolerance           -0.0796      0.032     -2.509      0.012      -0.142      -0.017\n",
      "Decouragement       -0.0101      0.038     -0.264      0.792      -0.085       0.065\n",
      "Perseverance        -0.0057      0.042     -0.137      0.891      -0.087       0.076\n",
      "Objectif             0.1036      0.044      2.375      0.018       0.018       0.189\n",
      "Passivite           -0.1070      0.036     -2.945      0.003      -0.178      -0.036\n",
      "Brulure             -0.0463      0.033     -1.390      0.165      -0.112       0.019\n",
      "Fatigue              0.1129      0.036      3.134      0.002       0.042       0.184\n",
      "Transpiration       -0.0462      0.045     -1.024      0.306      -0.135       0.042\n",
      "Rythme               0.0159      0.035      0.454      0.650      -0.053       0.085\n",
      "Difficulte           0.0233      0.035      0.670      0.503      -0.045       0.091\n",
      "Facilite             0.1177      0.035      3.409      0.001       0.050       0.185\n",
      "Lent                -0.1023      0.035     -2.887      0.004      -0.172      -0.033\n",
      "Rapide              -0.1141      0.041     -2.807      0.005      -0.194      -0.034\n",
      "Ennuyeux            -0.0392      0.043     -0.905      0.365      -0.124       0.046\n",
      "Regulier            -0.0497      0.029     -1.737      0.083      -0.106       0.006\n",
      "Equilibre            0.0537      0.030      1.768      0.077      -0.006       0.113\n",
      "Culpabilite         -0.0796      0.039     -2.030      0.043      -0.157      -0.003\n",
      "Challenge           -0.0316      0.040     -0.791      0.429      -0.110       0.047\n",
      "Progression          0.0652      0.039      1.665      0.096      -0.012       0.142\n",
      "Accompagnement       0.0022      0.027      0.083      0.934      -0.050       0.055\n",
      "Lassitude            0.0817      0.040      2.022      0.043       0.002       0.161\n",
      "Confiance_en_soi    -0.0197      0.033     -0.598      0.550      -0.084       0.045\n",
      "Actif                0.0732      0.037      1.985      0.047       0.001       0.146\n",
      "Stretchcing         -0.0852      0.019     -4.379      0.000      -0.123      -0.047\n",
      "Efficacite          -0.0434      0.030     -1.442      0.150      -0.102       0.016\n",
      "Discipline           0.0702      0.029      2.436      0.015       0.014       0.127\n",
      "Muscultation        -0.0886      0.028     -3.169      0.002      -0.144      -0.034\n",
      "Cardio              -0.1595      0.035     -4.612      0.000      -0.227      -0.092\n",
      "Vital               -0.0141      0.029     -0.486      0.627      -0.071       0.043\n",
      "Depassement          0.0280      0.029      0.953      0.341      -0.030       0.086\n",
      "Calme                0.0095      0.030      0.319      0.750      -0.049       0.068\n",
      "Serenite            -0.0469      0.029     -1.639      0.102      -0.103       0.009\n",
      "Sexy                -0.0006      0.026     -0.025      0.980      -0.051       0.050\n",
      "Plaisir             -0.0349      0.029     -1.204      0.229      -0.092       0.022\n",
      "Groupe               0.0847      0.030      2.818      0.005       0.026       0.144\n",
      "Partage              0.0085      0.030      0.289      0.772      -0.049       0.066\n",
      "Role                 0.0323      0.022      1.492      0.136      -0.010       0.075\n",
      "Performance         -0.0460      0.032     -1.429      0.153      -0.109       0.017\n",
      "Meilleur            -0.1063      0.025     -4.288      0.000      -0.155      -0.058\n",
      "Individualiste      -0.0181      0.022     -0.809      0.419      -0.062       0.026\n",
      "detente             -0.0220      0.024     -0.911      0.362      -0.069       0.025\n",
      "==============================================================================\n",
      "Omnibus:                      341.770   Durbin-Watson:                   2.003\n",
      "Prob(Omnibus):                  0.000   Jarque-Bera (JB):             1133.890\n",
      "Skew:                           1.586   Prob(JB):                    6.01e-247\n",
      "Kurtosis:                       6.982   Cond. No.                         19.9\n",
      "==============================================================================\n",
      "\n",
      "Notes:\n",
      "[1] Standard Errors assume that the covariance matrix of the errors is correctly specified.\n"
     ]
    }
   ],
   "source": [
    "\n",
    "model = smf.ols(chaine, data=df_cluster).fit()\n",
    "print(model.summary())"
   ]
  },
  {
   "cell_type": "code",
   "execution_count": null,
   "metadata": {},
   "outputs": [],
   "source": []
  },
  {
   "cell_type": "markdown",
   "metadata": {},
   "source": [
    "## OLS with dummy variables"
   ]
  },
  {
   "cell_type": "code",
   "execution_count": 64,
   "metadata": {},
   "outputs": [],
   "source": [
    "import matplotlib.pyplot as plt\n",
    "import numpy as np\n",
    "import pandas as pd\n",
    "import statsmodels.api as sm"
   ]
  },
  {
   "cell_type": "code",
   "execution_count": 65,
   "metadata": {},
   "outputs": [],
   "source": [
    "# rendre y_pred_0 en dummy variables ???\n",
    "\n",
    "dummy = pd.get_dummies(y_pred).values\n",
    "# print(dummy)"
   ]
  },
  {
   "cell_type": "code",
   "execution_count": null,
   "metadata": {},
   "outputs": [],
   "source": []
  },
  {
   "cell_type": "markdown",
   "metadata": {},
   "source": [
    "cluster 0"
   ]
  },
  {
   "cell_type": "code",
   "execution_count": 66,
   "metadata": {},
   "outputs": [
    {
     "name": "stdout",
     "output_type": "stream",
     "text": [
      "                                 OLS Regression Results                                \n",
      "=======================================================================================\n",
      "Dep. Variable:                      y   R-squared (uncentered):                   0.464\n",
      "Model:                            OLS   Adj. R-squared (uncentered):              0.425\n",
      "Method:                 Least Squares   F-statistic:                              11.94\n",
      "Date:                Fri, 13 May 2022   Prob (F-statistic):                    1.06e-90\n",
      "Time:                        17:49:16   Log-Likelihood:                          169.86\n",
      "No. Observations:                1050   AIC:                                     -197.7\n",
      "Df Residuals:                     979   BIC:                                      154.2\n",
      "Df Model:                          71                                                  \n",
      "Covariance Type:            nonrobust                                                  \n",
      "====================================================================================\n",
      "                       coef    std err          t      P>|t|      [0.025      0.975]\n",
      "------------------------------------------------------------------------------------\n",
      "Confort              0.0636      0.036      1.754      0.080      -0.008       0.135\n",
      "Securite            -0.0954      0.036     -2.634      0.009      -0.167      -0.024\n",
      "Qualite              0.0606      0.041      1.470      0.142      -0.020       0.141\n",
      "Force                0.0733      0.044      1.659      0.098      -0.013       0.160\n",
      "Maintien            -0.0274      0.041     -0.671      0.502      -0.108       0.053\n",
      "Puissance            0.0948      0.051      1.866      0.062      -0.005       0.195\n",
      "Competition         -0.0015      0.055     -0.027      0.978      -0.109       0.106\n",
      "Muscle               0.0953      0.051      1.870      0.062      -0.005       0.195\n",
      "Beaute              -0.0989      0.041     -2.408      0.016      -0.179      -0.018\n",
      "Galbant             -0.1731      0.025     -6.873      0.000      -0.222      -0.124\n",
      "Silhouette          -0.0089      0.038     -0.233      0.816      -0.084       0.066\n",
      "Douceur             -0.1255      0.045     -2.765      0.006      -0.215      -0.036\n",
      "Se_defouler          0.1856      0.049      3.796      0.000       0.090       0.282\n",
      "Energie              0.1684      0.052      3.217      0.001       0.066       0.271\n",
      "Legerete            -0.0074      0.043     -0.173      0.863      -0.091       0.077\n",
      "Technicite           0.1576      0.046      3.408      0.001       0.067       0.248\n",
      "Se_relaxer           0.0115      0.046      0.249      0.803      -0.079       0.102\n",
      "Bien_etre           -0.1102      0.046     -2.420      0.016      -0.200      -0.021\n",
      "Liberte              0.1411      0.042      3.330      0.001       0.058       0.224\n",
      "Fluidite            -0.0512      0.041     -1.254      0.210      -0.131       0.029\n",
      "Resistance           0.1145      0.042      2.706      0.007       0.031       0.198\n",
      "Inconfort            0.0872      0.039      2.221      0.027       0.010       0.164\n",
      "Repetition          -0.0355      0.033     -1.092      0.275      -0.099       0.028\n",
      "Intensite            0.1906      0.045      4.275      0.000       0.103       0.278\n",
      "Ralentissement      -0.0855      0.040     -2.165      0.031      -0.163      -0.008\n",
      "Acceleration        -0.0199      0.048     -0.411      0.681      -0.115       0.075\n",
      "Nouveaute           -0.0070      0.039     -0.177      0.860      -0.084       0.070\n",
      "Endurance           -0.0451      0.045     -1.011      0.312      -0.132       0.042\n",
      "Impact               0.0428      0.035      1.214      0.225      -0.026       0.112\n",
      "Recuperation         0.0106      0.035      0.302      0.763      -0.058       0.080\n",
      "Tolerance           -0.0867      0.032     -2.676      0.008      -0.150      -0.023\n",
      "Decouragement        0.0145      0.039      0.372      0.710      -0.062       0.091\n",
      "Perseverance         0.0014      0.043      0.033      0.974      -0.082       0.085\n",
      "Objectif             0.1146      0.045      2.573      0.010       0.027       0.202\n",
      "Passivite           -0.1069      0.037     -2.879      0.004      -0.180      -0.034\n",
      "Brulure             -0.0486      0.034     -1.427      0.154      -0.115       0.018\n",
      "Fatigue              0.1194      0.037      3.246      0.001       0.047       0.192\n",
      "Transpiration       -0.0453      0.046     -0.983      0.326      -0.136       0.045\n",
      "Rythme               0.0135      0.036      0.379      0.705      -0.057       0.084\n",
      "Difficulte           0.0454      0.035      1.287      0.199      -0.024       0.115\n",
      "Facilite             0.1252      0.035      3.551      0.000       0.056       0.194\n",
      "Lent                -0.0868      0.036     -2.404      0.016      -0.158      -0.016\n",
      "Rapide              -0.1178      0.042     -2.836      0.005      -0.199      -0.036\n",
      "Ennuyeux            -0.0292      0.044     -0.661      0.509      -0.116       0.058\n",
      "Regulier            -0.0427      0.029     -1.465      0.143      -0.100       0.015\n",
      "Equilibre            0.0606      0.031      1.953      0.051      -0.000       0.122\n",
      "Culpabilite         -0.0619      0.040     -1.549      0.122      -0.140       0.017\n",
      "Challenge           -0.0070      0.041     -0.174      0.862      -0.087       0.073\n",
      "Progression          0.0884      0.040      2.221      0.027       0.010       0.167\n",
      "Accompagnement      -0.0039      0.027     -0.142      0.887      -0.057       0.050\n",
      "Lassitude            0.0806      0.041      1.952      0.051      -0.000       0.162\n",
      "Confiance en soi    -0.0264      0.034     -0.785      0.433      -0.092       0.040\n",
      "Actif                0.0776      0.038      2.060      0.040       0.004       0.152\n",
      "Stretchcing         -0.0783      0.020     -3.944      0.000      -0.117      -0.039\n",
      "Efficacite          -0.0301      0.031     -0.982      0.326      -0.090       0.030\n",
      "Discipline           0.0662      0.029      2.250      0.025       0.008       0.124\n",
      "Muscultation        -0.1008      0.029     -3.534      0.000      -0.157      -0.045\n",
      "Cardio              -0.1519      0.035     -4.302      0.000      -0.221      -0.083\n",
      "Vital               -0.0181      0.030     -0.611      0.542      -0.076       0.040\n",
      "Depassement          0.0324      0.030      1.080      0.280      -0.026       0.091\n",
      "Calme                0.0119      0.031      0.390      0.697      -0.048       0.072\n",
      "Serenite            -0.0456      0.029     -1.558      0.119      -0.103       0.012\n",
      "Sexy                -0.0004      0.026     -0.014      0.989      -0.052       0.052\n",
      "Plaisir             -0.0134      0.029     -0.454      0.650      -0.071       0.044\n",
      "Groupe               0.1026      0.031      3.355      0.001       0.043       0.163\n",
      "Partage              0.0033      0.030      0.111      0.912      -0.056       0.063\n",
      "Role                 0.0305      0.022      1.381      0.168      -0.013       0.074\n",
      "Performance         -0.0491      0.033     -1.492      0.136      -0.114       0.015\n",
      "Meilleur            -0.1088      0.025     -4.298      0.000      -0.158      -0.059\n",
      "Individualiste      -0.0090      0.023     -0.395      0.693      -0.054       0.036\n",
      "detente             -0.0172      0.025     -0.699      0.485      -0.066       0.031\n",
      "==============================================================================\n",
      "Omnibus:                      340.093   Durbin-Watson:                   1.988\n",
      "Prob(Omnibus):                  0.000   Jarque-Bera (JB):             1168.541\n",
      "Skew:                           1.562   Prob(JB):                    1.80e-254\n",
      "Kurtosis:                       7.118   Cond. No.                         18.1\n",
      "==============================================================================\n",
      "\n",
      "Notes:\n",
      "[1] R² is computed without centering (uncentered) since the model does not contain a constant.\n",
      "[2] Standard Errors assume that the covariance matrix of the errors is correctly specified.\n"
     ]
    }
   ],
   "source": [
    "\n",
    "model = sm.OLS(y_pred_0, df_cluster_const)\n",
    "results = model.fit()\n",
    "print(results.summary())\n"
   ]
  },
  {
   "cell_type": "code",
   "execution_count": 67,
   "metadata": {},
   "outputs": [
    {
     "name": "stdout",
     "output_type": "stream",
     "text": [
      "Parameters: \n",
      " Galbant       -0.173059\n",
      "Cardio        -0.151884\n",
      "Douceur       -0.125543\n",
      "Rapide        -0.117791\n",
      "Bien_etre     -0.110168\n",
      "                 ...   \n",
      "Liberte        0.141106\n",
      "Technicite     0.157583\n",
      "Energie        0.168411\n",
      "Se_defouler    0.185582\n",
      "Intensite      0.190587\n",
      "Length: 71, dtype: float64\n"
     ]
    }
   ],
   "source": [
    "print(\"Parameters: \\n\", results.params.sort_values())"
   ]
  },
  {
   "cell_type": "code",
   "execution_count": 68,
   "metadata": {},
   "outputs": [
    {
     "name": "stdout",
     "output_type": "stream",
     "text": [
      "R2:  0.4640472317331896\n"
     ]
    }
   ],
   "source": [
    "print(\"R2: \", results.rsquared)"
   ]
  },
  {
   "cell_type": "code",
   "execution_count": 69,
   "metadata": {},
   "outputs": [
    {
     "name": "stdout",
     "output_type": "stream",
     "text": [
      "Standard errors:  Stretchcing       0.019852\n",
      "Role              0.022099\n",
      "Individualiste    0.022846\n",
      "detente           0.024643\n",
      "Galbant           0.025180\n",
      "                    ...   \n",
      "Se_defouler       0.048894\n",
      "Puissance         0.050820\n",
      "Muscle            0.050974\n",
      "Energie           0.052358\n",
      "Competition       0.054605\n",
      "Length: 71, dtype: float64\n"
     ]
    }
   ],
   "source": [
    "print(\"Standard errors: \", results.bse.sort_values())"
   ]
  },
  {
   "cell_type": "code",
   "execution_count": null,
   "metadata": {},
   "outputs": [],
   "source": []
  },
  {
   "cell_type": "markdown",
   "metadata": {},
   "source": [
    "cluster 1"
   ]
  },
  {
   "cell_type": "code",
   "execution_count": 70,
   "metadata": {},
   "outputs": [],
   "source": [
    "model = sm.OLS(y_pred_1, df_cluster_const)\n",
    "results = model.fit()\n",
    "# print(results.summary())\n"
   ]
  },
  {
   "cell_type": "code",
   "execution_count": 71,
   "metadata": {},
   "outputs": [
    {
     "name": "stdout",
     "output_type": "stream",
     "text": [
      "Parameters: \n",
      " Muscle        -0.200288\n",
      "Inconfort     -0.170144\n",
      "Technicite    -0.155640\n",
      "Performance   -0.148573\n",
      "Douceur       -0.148017\n",
      "                 ...   \n",
      "Energie        0.161419\n",
      "Difficulte     0.178493\n",
      "Confort        0.280515\n",
      "Force          0.404668\n",
      "Galbant        0.440213\n",
      "Length: 71, dtype: float64\n"
     ]
    }
   ],
   "source": [
    "print(\"Parameters: \\n\", results.params.sort_values())"
   ]
  },
  {
   "cell_type": "code",
   "execution_count": 72,
   "metadata": {},
   "outputs": [
    {
     "name": "stdout",
     "output_type": "stream",
     "text": [
      "R2:  0.1948445385370473\n"
     ]
    }
   ],
   "source": [
    "print(\"R2: \", results.rsquared)"
   ]
  },
  {
   "cell_type": "code",
   "execution_count": 73,
   "metadata": {},
   "outputs": [
    {
     "name": "stdout",
     "output_type": "stream",
     "text": [
      "Standard errors:  Stretchcing       0.044611\n",
      "Role              0.049661\n",
      "Individualiste    0.051340\n",
      "detente           0.055378\n",
      "Galbant           0.056584\n",
      "                    ...   \n",
      "Se_defouler       0.109875\n",
      "Puissance         0.114202\n",
      "Muscle            0.114549\n",
      "Energie           0.117659\n",
      "Competition       0.122708\n",
      "Length: 71, dtype: float64\n"
     ]
    }
   ],
   "source": [
    "print(\"Standard errors: \", results.bse.sort_values())"
   ]
  },
  {
   "cell_type": "code",
   "execution_count": null,
   "metadata": {},
   "outputs": [],
   "source": []
  },
  {
   "cell_type": "markdown",
   "metadata": {},
   "source": [
    "cluster 2"
   ]
  },
  {
   "cell_type": "code",
   "execution_count": 74,
   "metadata": {},
   "outputs": [],
   "source": [
    "\n",
    "model = sm.OLS(y_pred_2, df_cluster_const)\n",
    "results = model.fit()\n",
    "# print(results.summary())\n"
   ]
  },
  {
   "cell_type": "code",
   "execution_count": 75,
   "metadata": {},
   "outputs": [
    {
     "name": "stdout",
     "output_type": "stream",
     "text": [
      "Parameters: \n",
      " Lassitude        -0.104312\n",
      "Ennuyeux         -0.094887\n",
      "Securite         -0.091645\n",
      "Confort          -0.078454\n",
      "Fatigue          -0.077607\n",
      "                    ...   \n",
      "Serenite          0.100596\n",
      "Accompagnement    0.103277\n",
      "Muscultation      0.123254\n",
      "Vital             0.147985\n",
      "Role              0.172097\n",
      "Length: 71, dtype: float64\n"
     ]
    }
   ],
   "source": [
    "print(\"Parameters: \\n\", results.params.sort_values())"
   ]
  },
  {
   "cell_type": "code",
   "execution_count": 76,
   "metadata": {},
   "outputs": [
    {
     "name": "stdout",
     "output_type": "stream",
     "text": [
      "R2:  0.7551976769615474\n"
     ]
    }
   ],
   "source": [
    "print(\"R2: \", results.rsquared)"
   ]
  },
  {
   "cell_type": "code",
   "execution_count": 77,
   "metadata": {},
   "outputs": [
    {
     "name": "stdout",
     "output_type": "stream",
     "text": [
      "Standard errors:  Stretchcing       0.015793\n",
      "Role              0.017581\n",
      "Individualiste    0.018175\n",
      "detente           0.019604\n",
      "Galbant           0.020031\n",
      "                    ...   \n",
      "Se_defouler       0.038897\n",
      "Puissance         0.040429\n",
      "Muscle            0.040551\n",
      "Energie           0.041652\n",
      "Competition       0.043440\n",
      "Length: 71, dtype: float64\n"
     ]
    }
   ],
   "source": [
    "print(\"Standard errors: \", results.bse.sort_values())"
   ]
  },
  {
   "cell_type": "code",
   "execution_count": null,
   "metadata": {},
   "outputs": [],
   "source": []
  },
  {
   "cell_type": "markdown",
   "metadata": {},
   "source": [
    "cluster 3"
   ]
  },
  {
   "cell_type": "code",
   "execution_count": 78,
   "metadata": {},
   "outputs": [],
   "source": [
    "\n",
    "model = sm.OLS(y_pred_3, df_cluster_const)\n",
    "results = model.fit()\n",
    "# print(results.summary())\n"
   ]
  },
  {
   "cell_type": "code",
   "execution_count": 79,
   "metadata": {},
   "outputs": [
    {
     "name": "stdout",
     "output_type": "stream",
     "text": [
      "Parameters: \n",
      " Energie            -0.348405\n",
      "Endurance          -0.289109\n",
      "Rythme             -0.168325\n",
      "Transpiration      -0.161078\n",
      "Confiance en soi   -0.131862\n",
      "                      ...   \n",
      "Legerete            0.202623\n",
      "Culpabilite         0.208921\n",
      "Lent                0.214203\n",
      "Decouragement       0.246750\n",
      "Douceur             0.284697\n",
      "Length: 71, dtype: float64\n"
     ]
    }
   ],
   "source": [
    "print(\"Parameters: \\n\", results.params.sort_values())"
   ]
  },
  {
   "cell_type": "code",
   "execution_count": 80,
   "metadata": {},
   "outputs": [
    {
     "name": "stdout",
     "output_type": "stream",
     "text": [
      "R2:  0.5368012563847044\n"
     ]
    }
   ],
   "source": [
    "print(\"R2: \", results.rsquared)"
   ]
  },
  {
   "cell_type": "code",
   "execution_count": 81,
   "metadata": {},
   "outputs": [
    {
     "name": "stdout",
     "output_type": "stream",
     "text": [
      "Standard errors:  Stretchcing       0.038542\n",
      "Role              0.042906\n",
      "Individualiste    0.044356\n",
      "detente           0.047845\n",
      "Galbant           0.048886\n",
      "                    ...   \n",
      "Se_defouler       0.094928\n",
      "Puissance         0.098667\n",
      "Muscle            0.098966\n",
      "Energie           0.101654\n",
      "Competition       0.106016\n",
      "Length: 71, dtype: float64\n"
     ]
    }
   ],
   "source": [
    "print(\"Standard errors: \", results.bse.sort_values())"
   ]
  },
  {
   "cell_type": "code",
   "execution_count": null,
   "metadata": {},
   "outputs": [],
   "source": []
  },
  {
   "cell_type": "markdown",
   "metadata": {},
   "source": [
    "cluster 4"
   ]
  },
  {
   "cell_type": "code",
   "execution_count": 82,
   "metadata": {},
   "outputs": [],
   "source": [
    "\n",
    "model = sm.OLS(y_pred_4, df_cluster_const)\n",
    "results = model.fit()\n",
    "# print(results.summary())\n"
   ]
  },
  {
   "cell_type": "code",
   "execution_count": 83,
   "metadata": {},
   "outputs": [
    {
     "name": "stdout",
     "output_type": "stream",
     "text": [
      "Parameters: \n",
      " Role             -0.206001\n",
      "Vital            -0.133516\n",
      "Accompagnement   -0.131700\n",
      "Facilite         -0.107071\n",
      "Muscle           -0.105347\n",
      "                    ...   \n",
      "Progression       0.102923\n",
      "Performance       0.117114\n",
      "Plaisir           0.136768\n",
      "Efficacite        0.141978\n",
      "Cardio            0.167603\n",
      "Length: 71, dtype: float64\n"
     ]
    }
   ],
   "source": [
    "print(\"Parameters: \\n\", results.params.sort_values())"
   ]
  },
  {
   "cell_type": "code",
   "execution_count": 84,
   "metadata": {},
   "outputs": [
    {
     "name": "stdout",
     "output_type": "stream",
     "text": [
      "R2:  0.6085637053659643\n"
     ]
    }
   ],
   "source": [
    "print(\"R2: \", results.rsquared)"
   ]
  },
  {
   "cell_type": "code",
   "execution_count": 85,
   "metadata": {},
   "outputs": [
    {
     "name": "stdout",
     "output_type": "stream",
     "text": [
      "Standard errors:  Stretchcing       0.017169\n",
      "Role              0.019112\n",
      "Individualiste    0.019758\n",
      "detente           0.021313\n",
      "Galbant           0.021777\n",
      "                    ...   \n",
      "Se_defouler       0.042286\n",
      "Puissance         0.043951\n",
      "Muscle            0.044085\n",
      "Energie           0.045282\n",
      "Competition       0.047225\n",
      "Length: 71, dtype: float64\n"
     ]
    }
   ],
   "source": [
    "print(\"Standard errors: \", results.bse.sort_values())"
   ]
  },
  {
   "cell_type": "code",
   "execution_count": null,
   "metadata": {},
   "outputs": [],
   "source": []
  },
  {
   "cell_type": "markdown",
   "metadata": {},
   "source": [
    "cluster 5"
   ]
  },
  {
   "cell_type": "code",
   "execution_count": 86,
   "metadata": {},
   "outputs": [],
   "source": [
    "\n",
    "model = sm.OLS(y_pred_5, df_cluster_const)\n",
    "results = model.fit()\n",
    "# print(results.summary())\n"
   ]
  },
  {
   "cell_type": "code",
   "execution_count": 87,
   "metadata": {},
   "outputs": [
    {
     "name": "stdout",
     "output_type": "stream",
     "text": [
      "Parameters: \n",
      " Challenge       -0.076814\n",
      "Equilibre       -0.075134\n",
      "Impact          -0.071404\n",
      "Depassement     -0.070859\n",
      "Acceleration    -0.059588\n",
      "                   ...   \n",
      "Energie          0.122228\n",
      "Securite         0.134931\n",
      "Transpiration    0.139493\n",
      "Endurance        0.239952\n",
      "Competition      0.259605\n",
      "Length: 71, dtype: float64\n"
     ]
    }
   ],
   "source": [
    "print(\"Parameters: \\n\", results.params.sort_values())"
   ]
  },
  {
   "cell_type": "code",
   "execution_count": 88,
   "metadata": {},
   "outputs": [
    {
     "name": "stdout",
     "output_type": "stream",
     "text": [
      "R2:  0.4307375278254667\n"
     ]
    }
   ],
   "source": [
    "print(\"R2: \", results.rsquared)"
   ]
  },
  {
   "cell_type": "code",
   "execution_count": 89,
   "metadata": {},
   "outputs": [
    {
     "name": "stdout",
     "output_type": "stream",
     "text": [
      "Standard errors:  Stretchcing       0.025208\n",
      "Role              0.028062\n",
      "Individualiste    0.029010\n",
      "detente           0.031292\n",
      "Galbant           0.031974\n",
      "                    ...   \n",
      "Se_defouler       0.062087\n",
      "Puissance         0.064532\n",
      "Muscle            0.064728\n",
      "Energie           0.066485\n",
      "Competition       0.069338\n",
      "Length: 71, dtype: float64\n"
     ]
    }
   ],
   "source": [
    "print(\"Standard errors: \", results.bse.sort_values())"
   ]
  },
  {
   "cell_type": "code",
   "execution_count": null,
   "metadata": {},
   "outputs": [],
   "source": []
  },
  {
   "cell_type": "code",
   "execution_count": null,
   "metadata": {},
   "outputs": [],
   "source": []
  },
  {
   "cell_type": "code",
   "execution_count": null,
   "metadata": {},
   "outputs": [],
   "source": []
  },
  {
   "cell_type": "code",
   "execution_count": null,
   "metadata": {},
   "outputs": [],
   "source": []
  },
  {
   "cell_type": "markdown",
   "metadata": {},
   "source": [
    "##                            Statistique Inférentielle sur chaque cluster 2"
   ]
  },
  {
   "cell_type": "markdown",
   "metadata": {},
   "source": [
    "Fval et pval"
   ]
  },
  {
   "cell_type": "code",
   "execution_count": 90,
   "metadata": {},
   "outputs": [
    {
     "name": "stderr",
     "output_type": "stream",
     "text": [
      "/home/congo/.local/lib/python3.8/site-packages/sklearn/feature_selection/_univariate_selection.py:113: RuntimeWarning: divide by zero encountered in true_divide\n",
      "  f = msb / msw\n"
     ]
    }
   ],
   "source": [
    "# quels qualif influence le plus le partitionnement\n",
    "from sklearn.feature_selection import f_classif\n",
    "F,pval = f_classif(df_cluster,y_pred)\n",
    "df_List_qualif = df_cluster.columns\n",
    "\n",
    "df_pval_and_qualif = pd.DataFrame(pval,index = df_List_qualif,columns= ['pval'])\n",
    "# print(df_pval_and_qualif)\n",
    "\n",
    "#trier des valeurs \n",
    "df_pval_and_qualif = df_pval_and_qualif.sort_values(by = 'pval')\n",
    "\n",
    "# print(df_pval_and_qualif[15])\n",
    "\n"
   ]
  },
  {
   "cell_type": "code",
   "execution_count": null,
   "metadata": {},
   "outputs": [],
   "source": []
  },
  {
   "cell_type": "code",
   "execution_count": null,
   "metadata": {},
   "outputs": [],
   "source": [
    "\n"
   ]
  },
  {
   "cell_type": "code",
   "execution_count": null,
   "metadata": {},
   "outputs": [],
   "source": []
  },
  {
   "cell_type": "code",
   "execution_count": 91,
   "metadata": {},
   "outputs": [],
   "source": [
    "# es -ce ca la bonne question : comment evolue les clusters par rapports au qualificatif ??\n",
    "\n",
    "# on cherche a analyser l'influence des qualifiquatif sur chaque cluster"
   ]
  },
  {
   "cell_type": "code",
   "execution_count": null,
   "metadata": {},
   "outputs": [],
   "source": []
  },
  {
   "cell_type": "code",
   "execution_count": null,
   "metadata": {},
   "outputs": [],
   "source": []
  },
  {
   "cell_type": "code",
   "execution_count": 92,
   "metadata": {},
   "outputs": [],
   "source": [
    "# plt.scatter(df_cluster.loc[:,'Galbant'],df_cluster.loc[:,'Stretchcing'],c=df_cluster.loc[:,'cluster'])\n"
   ]
  },
  {
   "cell_type": "code",
   "execution_count": 93,
   "metadata": {},
   "outputs": [],
   "source": [
    "# \"cluster ~ detente + Confort + .... \"\n",
    "\n",
    "List_qualif = column_name[39:]\n",
    "chaine = \"cluster ~ \"\n",
    "for qualif in List_qualif : # pour chaque qualité \n",
    "    chaine += '+'\n",
    "    chaine +=  str(qualif) \n",
    "    model = ols(chaine, data=df_cluster).fit()\n",
    "aov_table = sm.stats.anova_lm(model, typ=3)\n",
    "# print(aov_table)\n",
    "\n"
   ]
  },
  {
   "cell_type": "code",
   "execution_count": null,
   "metadata": {},
   "outputs": [],
   "source": []
  },
  {
   "cell_type": "code",
   "execution_count": 94,
   "metadata": {},
   "outputs": [],
   "source": [
    "# \"cluster ~ detente \"  et conservation de pval <  0.05\n",
    "\n",
    "List_pval_and_qualif = []\n",
    "List_pval = []\n",
    "df_List_qualif = []\n",
    "List_qualif = column_name[39:]\n",
    "chaine = ''\n",
    "for qualif in List_qualif : # pour chaque qualité \n",
    "    chaine = \"cluster ~ \"\n",
    "    chaine +=  str(qualif)\n",
    "    model = ols(chaine, data=df_cluster).fit()\n",
    "    chaine = ''\n",
    "    aov_table = sm.stats.anova_lm(model, typ=3)\n",
    "    # aov_table = aov_table.to_numpy()\n",
    "    pval = aov_table.loc[str(qualif),'PR(>F)']\n",
    "    if pval < 0.05:\n",
    "        List_pval.append(pval)\n",
    "        df_List_qualif.append(qualif)\n",
    "        \n",
    "\n",
    "\n",
    "# on affiche les qualif qui influence le plus le cluster   \n",
    "\n",
    "df_pval_and_qualif = pd.DataFrame(List_pval,index = df_List_qualif,columns= ['pval'])\n",
    "# print(df_pval_and_qualif.sort_values(by = 'pval'))\n",
    "\n",
    "\n",
    "# les variables les moins important\n",
    "#print(len(df_List_qualif), len(List_qualif))\n",
    "\n",
    "# print(set(List_qualif) - set(df_List_qualif))"
   ]
  },
  {
   "cell_type": "code",
   "execution_count": null,
   "metadata": {},
   "outputs": [],
   "source": []
  },
  {
   "cell_type": "code",
   "execution_count": 95,
   "metadata": {},
   "outputs": [
    {
     "name": "stdout",
     "output_type": "stream",
     "text": [
      "(3, 4)\n",
      "                sum_sq      df            F         PR(>F)\n",
      "Intercept  3243.348214     1.0  1571.634460  1.031604e-210\n",
      "Confort      78.336381     1.0    37.959586   1.028258e-09\n",
      "Residual   2162.735047  1048.0          NaN            NaN\n",
      "1.028257966210648e-09\n"
     ]
    }
   ],
   "source": [
    "chaine = \"cluster ~ Confort\"\n",
    "\n",
    "model = ols(chaine, data=df_cluster).fit()\n",
    "\n",
    "aov_table = sm.stats.anova_lm(model, typ=3)\n",
    "print(aov_table.shape)\n",
    "print(aov_table)\n",
    "aov_table = aov_table.to_numpy()\n",
    "print(aov_table[1,3])"
   ]
  },
  {
   "cell_type": "code",
   "execution_count": null,
   "metadata": {},
   "outputs": [],
   "source": []
  },
  {
   "cell_type": "code",
   "execution_count": null,
   "metadata": {},
   "outputs": [],
   "source": []
  },
  {
   "cell_type": "code",
   "execution_count": 96,
   "metadata": {},
   "outputs": [
    {
     "ename": "AttributeError",
     "evalue": "'OLSResults' object has no attribute 'cluster_centers_'",
     "output_type": "error",
     "traceback": [
      "\u001b[0;31m---------------------------------------------------------------------------\u001b[0m",
      "\u001b[0;31mAttributeError\u001b[0m                            Traceback (most recent call last)",
      "\u001b[0;32m<ipython-input-96-0eff84f8becc>\u001b[0m in \u001b[0;36m<module>\u001b[0;34m\u001b[0m\n\u001b[1;32m      1\u001b[0m \u001b[0;31m# utilision uniquement les centres des clusters ici !!!\u001b[0m\u001b[0;34m\u001b[0m\u001b[0;34m\u001b[0m\u001b[0;34m\u001b[0m\u001b[0m\n\u001b[0;32m----> 2\u001b[0;31m \u001b[0mcenter_cluster_0\u001b[0m \u001b[0;34m=\u001b[0m \u001b[0mmodel\u001b[0m\u001b[0;34m.\u001b[0m\u001b[0mcluster_centers_\u001b[0m\u001b[0;34m[\u001b[0m\u001b[0;36m0\u001b[0m\u001b[0;34m,\u001b[0m\u001b[0;34m:\u001b[0m\u001b[0;34m]\u001b[0m\u001b[0;34m\u001b[0m\u001b[0;34m\u001b[0m\u001b[0m\n\u001b[0m\u001b[1;32m      3\u001b[0m \u001b[0mcenter_cluster_1\u001b[0m \u001b[0;34m=\u001b[0m \u001b[0mmodel\u001b[0m\u001b[0;34m.\u001b[0m\u001b[0mcluster_centers_\u001b[0m\u001b[0;34m[\u001b[0m\u001b[0;36m1\u001b[0m\u001b[0;34m,\u001b[0m\u001b[0;34m:\u001b[0m\u001b[0;34m]\u001b[0m\u001b[0;34m\u001b[0m\u001b[0;34m\u001b[0m\u001b[0m\n\u001b[1;32m      4\u001b[0m \u001b[0mcenter_cluster_2\u001b[0m \u001b[0;34m=\u001b[0m \u001b[0mmodel\u001b[0m\u001b[0;34m.\u001b[0m\u001b[0mcluster_centers_\u001b[0m\u001b[0;34m[\u001b[0m\u001b[0;36m2\u001b[0m\u001b[0;34m,\u001b[0m\u001b[0;34m:\u001b[0m\u001b[0;34m]\u001b[0m\u001b[0;34m\u001b[0m\u001b[0;34m\u001b[0m\u001b[0m\n\u001b[1;32m      5\u001b[0m \u001b[0mcenter_cluster_3\u001b[0m \u001b[0;34m=\u001b[0m \u001b[0mmodel\u001b[0m\u001b[0;34m.\u001b[0m\u001b[0mcluster_centers_\u001b[0m\u001b[0;34m[\u001b[0m\u001b[0;36m3\u001b[0m\u001b[0;34m,\u001b[0m\u001b[0;34m:\u001b[0m\u001b[0;34m]\u001b[0m\u001b[0;34m\u001b[0m\u001b[0;34m\u001b[0m\u001b[0m\n",
      "\u001b[0;32m~/.local/lib/python3.8/site-packages/statsmodels/base/wrapper.py\u001b[0m in \u001b[0;36m__getattribute__\u001b[0;34m(self, attr)\u001b[0m\n\u001b[1;32m     32\u001b[0m             \u001b[0;32mpass\u001b[0m\u001b[0;34m\u001b[0m\u001b[0;34m\u001b[0m\u001b[0m\n\u001b[1;32m     33\u001b[0m \u001b[0;34m\u001b[0m\u001b[0m\n\u001b[0;32m---> 34\u001b[0;31m         \u001b[0mobj\u001b[0m \u001b[0;34m=\u001b[0m \u001b[0mgetattr\u001b[0m\u001b[0;34m(\u001b[0m\u001b[0mresults\u001b[0m\u001b[0;34m,\u001b[0m \u001b[0mattr\u001b[0m\u001b[0;34m)\u001b[0m\u001b[0;34m\u001b[0m\u001b[0;34m\u001b[0m\u001b[0m\n\u001b[0m\u001b[1;32m     35\u001b[0m         \u001b[0mdata\u001b[0m \u001b[0;34m=\u001b[0m \u001b[0mresults\u001b[0m\u001b[0;34m.\u001b[0m\u001b[0mmodel\u001b[0m\u001b[0;34m.\u001b[0m\u001b[0mdata\u001b[0m\u001b[0;34m\u001b[0m\u001b[0;34m\u001b[0m\u001b[0m\n\u001b[1;32m     36\u001b[0m         \u001b[0mhow\u001b[0m \u001b[0;34m=\u001b[0m \u001b[0mself\u001b[0m\u001b[0;34m.\u001b[0m\u001b[0m_wrap_attrs\u001b[0m\u001b[0;34m.\u001b[0m\u001b[0mget\u001b[0m\u001b[0;34m(\u001b[0m\u001b[0mattr\u001b[0m\u001b[0;34m)\u001b[0m\u001b[0;34m\u001b[0m\u001b[0;34m\u001b[0m\u001b[0m\n",
      "\u001b[0;31mAttributeError\u001b[0m: 'OLSResults' object has no attribute 'cluster_centers_'"
     ]
    }
   ],
   "source": [
    "# utilision uniquement les centres des clusters ici !!!\n",
    "center_cluster_0 = model.cluster_centers_[0,:]  \n",
    "center_cluster_1 = model.cluster_centers_[1,:]\n",
    "center_cluster_2 = model.cluster_centers_[2,:]\n",
    "center_cluster_3 = model.cluster_centers_[3,:]\n",
    "center_cluster_4 = model.cluster_centers_[4,:]\n",
    "center_cluster_5 = model.cluster_centers_[5,:]\n",
    "df_cluster_center = np.zeros([n_cluster,ncol])\n",
    "\n",
    "df_cluster_center[0,:] = center_cluster_0\n",
    "df_cluster_center[1,:] = center_cluster_1\n",
    "df_cluster_center[2,:] = center_cluster_2\n",
    "df_cluster_center[3,:] = center_cluster_3\n",
    "df_cluster_center[4,:] = center_cluster_4\n",
    "df_cluster_center[5,:] = center_cluster_5\n",
    "\n",
    "def_cluster_center_modif = df_cluster_center[np.where((df_cluster_center < -0.5) | (df_cluster_center > 0.5) )]\n",
    "\n",
    "# matrice = np.array(df_cluster_center)\n",
    "# im1 = plt.matshow(matrice)\n",
    "# plt.colorbar(im1)\n",
    "# plt.show\n",
    "\n"
   ]
  },
  {
   "cell_type": "code",
   "execution_count": null,
   "metadata": {},
   "outputs": [],
   "source": []
  },
  {
   "cell_type": "code",
   "execution_count": null,
   "metadata": {},
   "outputs": [],
   "source": [
    "# regresion logistic"
   ]
  },
  {
   "cell_type": "code",
   "execution_count": 98,
   "metadata": {},
   "outputs": [
    {
     "ename": "PatsyError",
     "evalue": "model is missing required outcome variables",
     "output_type": "error",
     "traceback": [
      "\u001b[0;31m---------------------------------------------------------------------------\u001b[0m",
      "\u001b[0;31mPatsyError\u001b[0m                                Traceback (most recent call last)",
      "\u001b[0;32m<ipython-input-98-95bb10ef1265>\u001b[0m in \u001b[0;36m<module>\u001b[0;34m\u001b[0m\n\u001b[1;32m     10\u001b[0m     \u001b[0mchaine\u001b[0m \u001b[0;34m+=\u001b[0m  \u001b[0mstr\u001b[0m\u001b[0;34m(\u001b[0m\u001b[0mqualif\u001b[0m\u001b[0;34m)\u001b[0m\u001b[0;34m\u001b[0m\u001b[0;34m\u001b[0m\u001b[0m\n\u001b[1;32m     11\u001b[0m     \u001b[0mchaine\u001b[0m \u001b[0;34m=\u001b[0m \u001b[0;34m''\u001b[0m\u001b[0;34m\u001b[0m\u001b[0;34m\u001b[0m\u001b[0m\n\u001b[0;32m---> 12\u001b[0;31m     \u001b[0mmodel\u001b[0m \u001b[0;34m=\u001b[0m \u001b[0msmf\u001b[0m\u001b[0;34m.\u001b[0m\u001b[0mlogit\u001b[0m\u001b[0;34m(\u001b[0m\u001b[0mchaine\u001b[0m\u001b[0;34m,\u001b[0m \u001b[0mdata\u001b[0m \u001b[0;34m=\u001b[0m \u001b[0mdf_cluster\u001b[0m\u001b[0;34m)\u001b[0m\u001b[0;34m.\u001b[0m\u001b[0mfit\u001b[0m\u001b[0;34m(\u001b[0m\u001b[0;34m)\u001b[0m\u001b[0;34m\u001b[0m\u001b[0;34m\u001b[0m\u001b[0m\n\u001b[0m\u001b[1;32m     13\u001b[0m     \u001b[0;31m# aov_table = aov_table.to_numpy()\u001b[0m\u001b[0;34m\u001b[0m\u001b[0;34m\u001b[0m\u001b[0;34m\u001b[0m\u001b[0m\n\u001b[1;32m     14\u001b[0m     \u001b[0mpval\u001b[0m \u001b[0;34m=\u001b[0m \u001b[0mmodel\u001b[0m\u001b[0;34m.\u001b[0m\u001b[0mloc\u001b[0m\u001b[0;34m[\u001b[0m\u001b[0mstr\u001b[0m\u001b[0;34m(\u001b[0m\u001b[0mqualif\u001b[0m\u001b[0;34m)\u001b[0m\u001b[0;34m,\u001b[0m\u001b[0;34m'PR(>F)'\u001b[0m\u001b[0;34m]\u001b[0m\u001b[0;34m\u001b[0m\u001b[0;34m\u001b[0m\u001b[0m\n",
      "\u001b[0;32m~/.local/lib/python3.8/site-packages/statsmodels/base/model.py\u001b[0m in \u001b[0;36mfrom_formula\u001b[0;34m(cls, formula, data, subset, drop_cols, *args, **kwargs)\u001b[0m\n\u001b[1;32m    198\u001b[0m             \u001b[0mmissing\u001b[0m \u001b[0;34m=\u001b[0m \u001b[0;34m'raise'\u001b[0m\u001b[0;34m\u001b[0m\u001b[0;34m\u001b[0m\u001b[0m\n\u001b[1;32m    199\u001b[0m \u001b[0;34m\u001b[0m\u001b[0m\n\u001b[0;32m--> 200\u001b[0;31m         tmp = handle_formula_data(data, None, formula, depth=eval_env,\n\u001b[0m\u001b[1;32m    201\u001b[0m                                   missing=missing)\n\u001b[1;32m    202\u001b[0m         \u001b[0;34m(\u001b[0m\u001b[0;34m(\u001b[0m\u001b[0mendog\u001b[0m\u001b[0;34m,\u001b[0m \u001b[0mexog\u001b[0m\u001b[0;34m)\u001b[0m\u001b[0;34m,\u001b[0m \u001b[0mmissing_idx\u001b[0m\u001b[0;34m,\u001b[0m \u001b[0mdesign_info\u001b[0m\u001b[0;34m)\u001b[0m \u001b[0;34m=\u001b[0m \u001b[0mtmp\u001b[0m\u001b[0;34m\u001b[0m\u001b[0;34m\u001b[0m\u001b[0m\n",
      "\u001b[0;32m~/.local/lib/python3.8/site-packages/statsmodels/formula/formulatools.py\u001b[0m in \u001b[0;36mhandle_formula_data\u001b[0;34m(Y, X, formula, depth, missing)\u001b[0m\n\u001b[1;32m     61\u001b[0m     \u001b[0;32melse\u001b[0m\u001b[0;34m:\u001b[0m\u001b[0;34m\u001b[0m\u001b[0;34m\u001b[0m\u001b[0m\n\u001b[1;32m     62\u001b[0m         \u001b[0;32mif\u001b[0m \u001b[0mdata_util\u001b[0m\u001b[0;34m.\u001b[0m\u001b[0m_is_using_pandas\u001b[0m\u001b[0;34m(\u001b[0m\u001b[0mY\u001b[0m\u001b[0;34m,\u001b[0m \u001b[0;32mNone\u001b[0m\u001b[0;34m)\u001b[0m\u001b[0;34m:\u001b[0m\u001b[0;34m\u001b[0m\u001b[0;34m\u001b[0m\u001b[0m\n\u001b[0;32m---> 63\u001b[0;31m             result = dmatrices(formula, Y, depth, return_type='dataframe',\n\u001b[0m\u001b[1;32m     64\u001b[0m                                NA_action=na_action)\n\u001b[1;32m     65\u001b[0m         \u001b[0;32melse\u001b[0m\u001b[0;34m:\u001b[0m\u001b[0;34m\u001b[0m\u001b[0;34m\u001b[0m\u001b[0m\n",
      "\u001b[0;32m~/.local/lib/python3.8/site-packages/patsy/highlevel.py\u001b[0m in \u001b[0;36mdmatrices\u001b[0;34m(formula_like, data, eval_env, NA_action, return_type)\u001b[0m\n\u001b[1;32m    310\u001b[0m                                       NA_action, return_type)\n\u001b[1;32m    311\u001b[0m     \u001b[0;32mif\u001b[0m \u001b[0mlhs\u001b[0m\u001b[0;34m.\u001b[0m\u001b[0mshape\u001b[0m\u001b[0;34m[\u001b[0m\u001b[0;36m1\u001b[0m\u001b[0;34m]\u001b[0m \u001b[0;34m==\u001b[0m \u001b[0;36m0\u001b[0m\u001b[0;34m:\u001b[0m\u001b[0;34m\u001b[0m\u001b[0;34m\u001b[0m\u001b[0m\n\u001b[0;32m--> 312\u001b[0;31m         \u001b[0;32mraise\u001b[0m \u001b[0mPatsyError\u001b[0m\u001b[0;34m(\u001b[0m\u001b[0;34m\"model is missing required outcome variables\"\u001b[0m\u001b[0;34m)\u001b[0m\u001b[0;34m\u001b[0m\u001b[0;34m\u001b[0m\u001b[0m\n\u001b[0m\u001b[1;32m    313\u001b[0m     \u001b[0;32mreturn\u001b[0m \u001b[0;34m(\u001b[0m\u001b[0mlhs\u001b[0m\u001b[0;34m,\u001b[0m \u001b[0mrhs\u001b[0m\u001b[0;34m)\u001b[0m\u001b[0;34m\u001b[0m\u001b[0;34m\u001b[0m\u001b[0m\n",
      "\u001b[0;31mPatsyError\u001b[0m: model is missing required outcome variables"
     ]
    }
   ],
   "source": [
    "# \"cluster ~ detente \"  et conservation de pval <  0.05\n",
    "\n",
    "List_pval_and_qualif = []\n",
    "List_pval = []\n",
    "df_List_qualif = []\n",
    "List_qualif = column_name[39:]\n",
    "chaine = ''\n",
    "for qualif in List_qualif : # pour chaque qualité \n",
    "    chaine = \"cluster ~ \"\n",
    "    chaine +=  str(qualif)\n",
    "    chaine = ''\n",
    "    model = smf.logit(chaine, data = df_cluster).fit()\n",
    "    # aov_table = aov_table.to_numpy()\n",
    "    pval = model.loc[str(qualif),'PR(>F)']\n",
    "    if pval < 0.05:\n",
    "        List_pval.append(pval)\n",
    "        df_List_qualif.append(qualif)\n",
    "        \n",
    "\n",
    "\n",
    "# on affiche les qualif qui influence le plus le cluster   \n",
    "\n",
    "df_pval_and_qualif = pd.DataFrame(List_pval,index = df_List_qualif,columns= ['pval'])\n",
    "# print(df_pval_and_qualif.sort_values(by = 'pval'))\n",
    "\n",
    "\n",
    "# les variables les moins important\n",
    "#print(len(df_List_qualif), len(List_qualif))\n",
    "\n",
    "# print(set(List_qualif) - set(df_List_qualif))"
   ]
  },
  {
   "cell_type": "code",
   "execution_count": null,
   "metadata": {},
   "outputs": [],
   "source": []
  },
  {
   "cell_type": "code",
   "execution_count": null,
   "metadata": {},
   "outputs": [],
   "source": []
  },
  {
   "cell_type": "code",
   "execution_count": null,
   "metadata": {},
   "outputs": [],
   "source": []
  },
  {
   "cell_type": "code",
   "execution_count": null,
   "metadata": {},
   "outputs": [],
   "source": []
  },
  {
   "cell_type": "markdown",
   "metadata": {},
   "source": [
    "##   autres"
   ]
  },
  {
   "cell_type": "code",
   "execution_count": null,
   "metadata": {},
   "outputs": [
    {
     "name": "stdout",
     "output_type": "stream",
     "text": [
      "Galbant         77.597964\n",
      "Stretchcing     56.566502\n",
      "Confort         51.230303\n",
      "Plaisir         49.113195\n",
      "Repetition      48.192301\n",
      "                  ...    \n",
      "Puissance        28.02486\n",
      "Facilite        27.835805\n",
      "Endurance       27.308292\n",
      "Acceleration    26.996998\n",
      "Rapide          23.132263\n",
      "Length: 71, dtype: object\n"
     ]
    }
   ],
   "source": [
    "#cluster 0\n",
    "indices_cluster_0 = np.where(data[y_pred == 0])\n",
    "cluster_0 = data[y_pred == 0]\n",
    "\n",
    "# retour du df\n",
    "df_0 = pd.DataFrame(cluster_0)\n",
    "# prendre la valeur absolute pour éviter la compensation\n",
    "df_0 = np.absolute(df_0)\n",
    "df_0.columns = column_name[39:]\n",
    "#print(df_0)\n",
    "\n",
    "#statistique inférentielle sur chaque cluster \n",
    "\n",
    "# faire pour chaque cluster une statistique inférentielle \n",
    "\n",
    "# les mots qui caractérise les clusters\n",
    "\n",
    "# trier par somme de toutes les colonnes\n",
    "sum_colonne_0 = df_0.sum()\n",
    "print(sum_colonne_0.sort_values(ascending=False))\n"
   ]
  },
  {
   "cell_type": "code",
   "execution_count": null,
   "metadata": {},
   "outputs": [
    {
     "name": "stdout",
     "output_type": "stream",
     "text": [
      "Galbant           119.751873\n",
      "Repetition        103.062749\n",
      "Ralentissement     95.217556\n",
      "Stretchcing        95.185472\n",
      "Decouragement      90.629534\n",
      "                     ...    \n",
      "Muscultation       45.438831\n",
      "Meilleur           44.530772\n",
      "Cardio             44.392387\n",
      "Rapide             38.159449\n",
      "Energie            37.791284\n",
      "Length: 71, dtype: object\n"
     ]
    }
   ],
   "source": [
    "#cluster 1\n",
    "indices_cluster_1 = np.where(data[y_pred == 1])\n",
    "cluster_1 = data[y_pred == 1]\n",
    "\n",
    "# retour du df\n",
    "df_1 = pd.DataFrame(cluster_1)\n",
    "# prendre la valeur absolute pour éviter la compensation\n",
    "df_1 = np.absolute(df_1)\n",
    "df_1.columns = column_name[39:]\n",
    "#print(df_1)\n",
    "\n",
    "# trier par somme de toutes les colonnes\n",
    "sum_colonne_1 = df_1.sum()\n",
    "print(sum_colonne_1.sort_values(ascending=False))"
   ]
  },
  {
   "cell_type": "code",
   "execution_count": null,
   "metadata": {},
   "outputs": [
    {
     "name": "stdout",
     "output_type": "stream",
     "text": [
      "Performance     56.54923\n",
      "Plaisir        47.258072\n",
      "Efficacite     47.111768\n",
      "Depassement    46.713913\n",
      "Cardio         46.489021\n",
      "                 ...    \n",
      "Beaute          3.015553\n",
      "Douceur         2.721342\n",
      "Securite        2.592479\n",
      "Confort         1.676983\n",
      "Ennuyeux             0.0\n",
      "Length: 71, dtype: object\n"
     ]
    }
   ],
   "source": [
    "#cluster 2\n",
    "indices_cluster_2 = np.where(data[y_pred == 2])\n",
    "cluster_2 = data[y_pred == 2]\n",
    "\n",
    "# retour du df\n",
    "df_2 = pd.DataFrame(cluster_2)\n",
    "# prendre la valeur absolute pour éviter la compensation\n",
    "df_2 = np.absolute(df_2)\n",
    "df_2.columns = column_name[39:]\n",
    "#print(df_2)\n",
    "\n",
    "# trier par somme de toutes les colonnes\n",
    "sum_colonne_2 = df_2.sum()\n",
    "print(sum_colonne_2.sort_values(ascending=False))"
   ]
  },
  {
   "cell_type": "code",
   "execution_count": null,
   "metadata": {},
   "outputs": [
    {
     "name": "stdout",
     "output_type": "stream",
     "text": [
      "Performance    88.980946\n",
      "Partage        83.156963\n",
      "Meilleur       82.966066\n",
      "Plaisir        82.666313\n",
      "Groupe         79.412279\n",
      "                 ...    \n",
      "Force           6.992334\n",
      "Qualite         6.276778\n",
      "Ennuyeux        4.405572\n",
      "Securite        3.421003\n",
      "Confort         2.814457\n",
      "Length: 71, dtype: object\n"
     ]
    }
   ],
   "source": [
    "#cluster 3\n",
    "indices_cluster_3 = np.where(data[y_pred == 3])\n",
    "cluster_3 = data[y_pred == 3]\n",
    "\n",
    "# retour du df\n",
    "df_3 = pd.DataFrame(cluster_3)\n",
    "# prendre la valeur absolute pour éviter la compensation\n",
    "df_3 = np.absolute(df_3)\n",
    "df_3.columns = column_name[39:]\n",
    "#print(df_3)\n",
    "\n",
    "# trier par somme de toutes les colonnes\n",
    "sum_colonne_3 = df_3.sum()\n",
    "print(sum_colonne_3.sort_values(ascending=False))"
   ]
  },
  {
   "cell_type": "code",
   "execution_count": null,
   "metadata": {},
   "outputs": [
    {
     "name": "stdout",
     "output_type": "stream",
     "text": [
      "detente      53.650181\n",
      "Plaisir      49.751437\n",
      "Partage      46.450876\n",
      "Serenite     44.842832\n",
      "Calme        44.226381\n",
      "               ...    \n",
      "Beaute        2.637775\n",
      "Securite      2.520003\n",
      "Confort       2.130858\n",
      "Inconfort     2.113536\n",
      "Ennuyeux      0.150181\n",
      "Length: 71, dtype: object\n"
     ]
    }
   ],
   "source": [
    "#cluster 4\n",
    "indices_cluster_4 = np.where(data[y_pred == 4])\n",
    "cluster_4 = data[y_pred == 4]\n",
    "\n",
    "# retour du df\n",
    "df_4 = pd.DataFrame(cluster_4)\n",
    "# prendre la valeur absolute pour éviter la compensation\n",
    "df_4 = np.absolute(df_4)\n",
    "df_4.columns = column_name[39:]\n",
    "#print(df_4)\n",
    "\n",
    "# trier par somme de toutes les colonnes\n",
    "sum_colonne_4 = df_4.sum()\n",
    "print(sum_colonne_4.sort_values(ascending=False))"
   ]
  },
  {
   "cell_type": "code",
   "execution_count": null,
   "metadata": {},
   "outputs": [
    {
     "name": "stdout",
     "output_type": "stream",
     "text": [
      "Objectif        52.122468\n",
      "Perseverance    51.774973\n",
      "Confort         50.687706\n",
      "Plaisir         50.038861\n",
      "Repetition      49.221591\n",
      "                  ...    \n",
      "Lent            25.405633\n",
      "Sexy            21.990975\n",
      "Lassitude       21.523985\n",
      "Culpabilite     21.160573\n",
      "Ennuyeux        20.867014\n",
      "Length: 71, dtype: object\n"
     ]
    }
   ],
   "source": [
    "#cluster 5\n",
    "indices_cluster_5 = np.where(data[y_pred == 5])\n",
    "cluster_5 = data[y_pred == 5]\n",
    "\n",
    "# retour du df\n",
    "df_5 = pd.DataFrame(cluster_5)\n",
    "# prendre la valeur absolute pour éviter la compensation\n",
    "df_5 = np.absolute(df_5)\n",
    "df_5.columns = column_name[39:]\n",
    "#print(df_5)\n",
    "\n",
    "# trier par somme de toutes les colonnes\n",
    "sum_colonne_5 = df_5.sum()\n",
    "print(sum_colonne_5.sort_values(ascending=False))"
   ]
  },
  {
   "cell_type": "markdown",
   "metadata": {},
   "source": [
    "##                            fuzzy cluster"
   ]
  },
  {
   "cell_type": "code",
   "execution_count": null,
   "metadata": {},
   "outputs": [],
   "source": [
    "from fcmeans import FCM\n"
   ]
  },
  {
   "cell_type": "code",
   "execution_count": null,
   "metadata": {},
   "outputs": [],
   "source": [
    "n_cluster = 4\n",
    "fcm = FCM(n_clusters= n_cluster)\n",
    "# faire ça pour eviter les problemes de shape !!!\n",
    "data = np.array(data, dtype=np.float64)\n",
    "fcm.fit(data)\n",
    "\n",
    "##expliquations :\n",
    "# data = np.array(data)\n",
    "#print(data.dtype)\n",
    "#print(data.shape)\n",
    "#arr = np.ones([1050,71])\n",
    "#print(arr.shape)\n",
    "#fcm.fit(data)"
   ]
  },
  {
   "cell_type": "code",
   "execution_count": null,
   "metadata": {},
   "outputs": [
    {
     "data": {
      "text/plain": [
       "Text(0.5, 0, \" nombre d'étudiant\")"
      ]
     },
     "execution_count": 24,
     "metadata": {},
     "output_type": "execute_result"
    },
    {
     "data": {
      "image/png": "[encoded data removed]",
      "text/plain": [
       "<Figure size 432x288 with 1 Axes>"
      ]
     },
     "metadata": {
      "needs_background": "light"
     },
     "output_type": "display_data"
    }
   ],
   "source": [
    "# outputs \n",
    "y_pred_centers = fcm.centers\n",
    "y_pred = fcm.predict(data)\n",
    "\n",
    "\n",
    "plt.scatter(x_etudiant,y_pred)\n",
    "plt.ylabel(\" nombre de cluster\")\n",
    "plt.xlabel(\" nombre d'étudiant\")"
   ]
  },
  {
   "cell_type": "markdown",
   "metadata": {},
   "source": [
    "uniquement le centre des clusters !!!"
   ]
  },
  {
   "cell_type": "code",
   "execution_count": null,
   "metadata": {},
   "outputs": [
    {
     "name": "stdout",
     "output_type": "stream",
     "text": [
      "(4, 71)\n",
      "[0.17146673 0.15996633 0.14508351 0.1418201  0.15838276 0.1265604\n",
      " 0.12999283 0.12799452 0.12603176 0.18454017 0.1618625  0.12946863\n",
      " 0.1764391  0.14828819 0.16009047 0.16519649 0.15341658 0.16575386\n",
      " 0.18136483 0.16248493 0.17251205 0.13458682 0.21878883 0.19150754\n",
      " 0.15140002 0.16220129 0.19201341 0.1732566  0.16489977 0.20818946\n",
      " 0.17302555 0.15255531 0.23883292 0.23081507 0.11059567 0.15629002\n",
      " 0.21315589 0.21278937 0.21061676 0.22730004 0.15696018 0.1453119\n",
      " 0.18755233 0.11111754 0.24039486 0.22340762 0.11555888 0.25846128\n",
      " 0.26685724 0.21136576 0.10907658 0.26485507 0.25662859 0.15810709\n",
      " 0.28772398 0.23951287 0.20052962 0.24346573 0.21859447 0.2581123\n",
      " 0.2044959  0.2343847  0.15720523 0.32196902 0.28161739 0.25740716\n",
      " 0.18295376 0.28080638 0.23474059 0.20938507 0.25493839]\n"
     ]
    },
    {
     "ename": "ValueError",
     "evalue": "Length mismatch: Expected axis has 1 elements, new values have 71 elements",
     "output_type": "error",
     "traceback": [
      "\u001b[0;31m---------------------------------------------------------------------------\u001b[0m",
      "\u001b[0;31mValueError\u001b[0m                                Traceback (most recent call last)",
      "\u001b[0;32m<ipython-input-25-517553282e83>\u001b[0m in \u001b[0;36m<module>\u001b[0;34m\u001b[0m\n\u001b[1;32m      8\u001b[0m \u001b[0mdf_0\u001b[0m \u001b[0;34m=\u001b[0m \u001b[0mnp\u001b[0m\u001b[0;34m.\u001b[0m\u001b[0mabsolute\u001b[0m\u001b[0;34m(\u001b[0m\u001b[0mdf_0\u001b[0m\u001b[0;34m)\u001b[0m\u001b[0;34m\u001b[0m\u001b[0;34m\u001b[0m\u001b[0m\n\u001b[1;32m      9\u001b[0m \u001b[0;31m# ajouter les noms des colonnes\u001b[0m\u001b[0;34m\u001b[0m\u001b[0;34m\u001b[0m\u001b[0;34m\u001b[0m\u001b[0m\n\u001b[0;32m---> 10\u001b[0;31m \u001b[0mdf_0\u001b[0m\u001b[0;34m.\u001b[0m\u001b[0mcolumns\u001b[0m \u001b[0;34m=\u001b[0m \u001b[0mcolumn_name\u001b[0m\u001b[0;34m[\u001b[0m\u001b[0;36m39\u001b[0m\u001b[0;34m:\u001b[0m\u001b[0;34m]\u001b[0m\u001b[0;34m\u001b[0m\u001b[0;34m\u001b[0m\u001b[0m\n\u001b[0m\u001b[1;32m     11\u001b[0m \u001b[0;34m\u001b[0m\u001b[0m\n\u001b[1;32m     12\u001b[0m \u001b[0;34m\u001b[0m\u001b[0m\n",
      "\u001b[0;32m~/.local/lib/python3.8/site-packages/pandas/core/generic.py\u001b[0m in \u001b[0;36m__setattr__\u001b[0;34m(self, name, value)\u001b[0m\n\u001b[1;32m   5586\u001b[0m         \u001b[0;32mtry\u001b[0m\u001b[0;34m:\u001b[0m\u001b[0;34m\u001b[0m\u001b[0;34m\u001b[0m\u001b[0m\n\u001b[1;32m   5587\u001b[0m             \u001b[0mobject\u001b[0m\u001b[0;34m.\u001b[0m\u001b[0m__getattribute__\u001b[0m\u001b[0;34m(\u001b[0m\u001b[0mself\u001b[0m\u001b[0;34m,\u001b[0m \u001b[0mname\u001b[0m\u001b[0;34m)\u001b[0m\u001b[0;34m\u001b[0m\u001b[0;34m\u001b[0m\u001b[0m\n\u001b[0;32m-> 5588\u001b[0;31m             \u001b[0;32mreturn\u001b[0m \u001b[0mobject\u001b[0m\u001b[0;34m.\u001b[0m\u001b[0m__setattr__\u001b[0m\u001b[0;34m(\u001b[0m\u001b[0mself\u001b[0m\u001b[0;34m,\u001b[0m \u001b[0mname\u001b[0m\u001b[0;34m,\u001b[0m \u001b[0mvalue\u001b[0m\u001b[0;34m)\u001b[0m\u001b[0;34m\u001b[0m\u001b[0;34m\u001b[0m\u001b[0m\n\u001b[0m\u001b[1;32m   5589\u001b[0m         \u001b[0;32mexcept\u001b[0m \u001b[0mAttributeError\u001b[0m\u001b[0;34m:\u001b[0m\u001b[0;34m\u001b[0m\u001b[0;34m\u001b[0m\u001b[0m\n\u001b[1;32m   5590\u001b[0m             \u001b[0;32mpass\u001b[0m\u001b[0;34m\u001b[0m\u001b[0;34m\u001b[0m\u001b[0m\n",
      "\u001b[0;32m~/.local/lib/python3.8/site-packages/pandas/_libs/properties.pyx\u001b[0m in \u001b[0;36mpandas._libs.properties.AxisProperty.__set__\u001b[0;34m()\u001b[0m\n",
      "\u001b[0;32m~/.local/lib/python3.8/site-packages/pandas/core/generic.py\u001b[0m in \u001b[0;36m_set_axis\u001b[0;34m(self, axis, labels)\u001b[0m\n\u001b[1;32m    767\u001b[0m     \u001b[0;32mdef\u001b[0m \u001b[0m_set_axis\u001b[0m\u001b[0;34m(\u001b[0m\u001b[0mself\u001b[0m\u001b[0;34m,\u001b[0m \u001b[0maxis\u001b[0m\u001b[0;34m:\u001b[0m \u001b[0mint\u001b[0m\u001b[0;34m,\u001b[0m \u001b[0mlabels\u001b[0m\u001b[0;34m:\u001b[0m \u001b[0mIndex\u001b[0m\u001b[0;34m)\u001b[0m \u001b[0;34m->\u001b[0m \u001b[0;32mNone\u001b[0m\u001b[0;34m:\u001b[0m\u001b[0;34m\u001b[0m\u001b[0;34m\u001b[0m\u001b[0m\n\u001b[1;32m    768\u001b[0m         \u001b[0mlabels\u001b[0m \u001b[0;34m=\u001b[0m \u001b[0mensure_index\u001b[0m\u001b[0;34m(\u001b[0m\u001b[0mlabels\u001b[0m\u001b[0;34m)\u001b[0m\u001b[0;34m\u001b[0m\u001b[0;34m\u001b[0m\u001b[0m\n\u001b[0;32m--> 769\u001b[0;31m         \u001b[0mself\u001b[0m\u001b[0;34m.\u001b[0m\u001b[0m_mgr\u001b[0m\u001b[0;34m.\u001b[0m\u001b[0mset_axis\u001b[0m\u001b[0;34m(\u001b[0m\u001b[0maxis\u001b[0m\u001b[0;34m,\u001b[0m \u001b[0mlabels\u001b[0m\u001b[0;34m)\u001b[0m\u001b[0;34m\u001b[0m\u001b[0;34m\u001b[0m\u001b[0m\n\u001b[0m\u001b[1;32m    770\u001b[0m         \u001b[0mself\u001b[0m\u001b[0;34m.\u001b[0m\u001b[0m_clear_item_cache\u001b[0m\u001b[0;34m(\u001b[0m\u001b[0;34m)\u001b[0m\u001b[0;34m\u001b[0m\u001b[0;34m\u001b[0m\u001b[0m\n\u001b[1;32m    771\u001b[0m \u001b[0;34m\u001b[0m\u001b[0m\n",
      "\u001b[0;32m~/.local/lib/python3.8/site-packages/pandas/core/internals/managers.py\u001b[0m in \u001b[0;36mset_axis\u001b[0;34m(self, axis, new_labels)\u001b[0m\n\u001b[1;32m    212\u001b[0m     \u001b[0;32mdef\u001b[0m \u001b[0mset_axis\u001b[0m\u001b[0;34m(\u001b[0m\u001b[0mself\u001b[0m\u001b[0;34m,\u001b[0m \u001b[0maxis\u001b[0m\u001b[0;34m:\u001b[0m \u001b[0mint\u001b[0m\u001b[0;34m,\u001b[0m \u001b[0mnew_labels\u001b[0m\u001b[0;34m:\u001b[0m \u001b[0mIndex\u001b[0m\u001b[0;34m)\u001b[0m \u001b[0;34m->\u001b[0m \u001b[0;32mNone\u001b[0m\u001b[0;34m:\u001b[0m\u001b[0;34m\u001b[0m\u001b[0;34m\u001b[0m\u001b[0m\n\u001b[1;32m    213\u001b[0m         \u001b[0;31m# Caller is responsible for ensuring we have an Index object.\u001b[0m\u001b[0;34m\u001b[0m\u001b[0;34m\u001b[0m\u001b[0;34m\u001b[0m\u001b[0m\n\u001b[0;32m--> 214\u001b[0;31m         \u001b[0mself\u001b[0m\u001b[0;34m.\u001b[0m\u001b[0m_validate_set_axis\u001b[0m\u001b[0;34m(\u001b[0m\u001b[0maxis\u001b[0m\u001b[0;34m,\u001b[0m \u001b[0mnew_labels\u001b[0m\u001b[0;34m)\u001b[0m\u001b[0;34m\u001b[0m\u001b[0;34m\u001b[0m\u001b[0m\n\u001b[0m\u001b[1;32m    215\u001b[0m         \u001b[0mself\u001b[0m\u001b[0;34m.\u001b[0m\u001b[0maxes\u001b[0m\u001b[0;34m[\u001b[0m\u001b[0maxis\u001b[0m\u001b[0;34m]\u001b[0m \u001b[0;34m=\u001b[0m \u001b[0mnew_labels\u001b[0m\u001b[0;34m\u001b[0m\u001b[0;34m\u001b[0m\u001b[0m\n\u001b[1;32m    216\u001b[0m \u001b[0;34m\u001b[0m\u001b[0m\n",
      "\u001b[0;32m~/.local/lib/python3.8/site-packages/pandas/core/internals/base.py\u001b[0m in \u001b[0;36m_validate_set_axis\u001b[0;34m(self, axis, new_labels)\u001b[0m\n\u001b[1;32m     67\u001b[0m \u001b[0;34m\u001b[0m\u001b[0m\n\u001b[1;32m     68\u001b[0m         \u001b[0;32melif\u001b[0m \u001b[0mnew_len\u001b[0m \u001b[0;34m!=\u001b[0m \u001b[0mold_len\u001b[0m\u001b[0;34m:\u001b[0m\u001b[0;34m\u001b[0m\u001b[0;34m\u001b[0m\u001b[0m\n\u001b[0;32m---> 69\u001b[0;31m             raise ValueError(\n\u001b[0m\u001b[1;32m     70\u001b[0m                 \u001b[0;34mf\"Length mismatch: Expected axis has {old_len} elements, new \"\u001b[0m\u001b[0;34m\u001b[0m\u001b[0;34m\u001b[0m\u001b[0m\n\u001b[1;32m     71\u001b[0m                 \u001b[0;34mf\"values have {new_len} elements\"\u001b[0m\u001b[0;34m\u001b[0m\u001b[0;34m\u001b[0m\u001b[0m\n",
      "\u001b[0;31mValueError\u001b[0m: Length mismatch: Expected axis has 1 elements, new values have 71 elements"
     ]
    }
   ],
   "source": [
    "#cluster 0\n",
    "print(y_pred_centers.shape)\n",
    "cluster_0 = y_pred_centers[0,:]\n",
    "print(cluster_0)\n",
    "# retour du df\n",
    "df_0 = pd.DataFrame(cluster_0)\n",
    "# prendre la valeur absolute pour éviter la compensation\n",
    "df_0 = np.absolute(df_0)\n",
    "# ajouter les noms des colonnes\n",
    "df_0.columns = column_name[39:]\n",
    "\n",
    "\n",
    "#print(df_0)\n",
    "\n",
    "# trier les valeurs\n",
    "\n",
    "print(df_0)\n"
   ]
  },
  {
   "cell_type": "code",
   "execution_count": null,
   "metadata": {},
   "outputs": [],
   "source": []
  },
  {
   "cell_type": "code",
   "execution_count": null,
   "metadata": {},
   "outputs": [],
   "source": [
    "# setwd(\"C:/Users/cschnitzler/Dropbox/staps/2021 2022/stage/master cmsi/job congo\")\n",
    "# library(readxl)\n",
    "\n",
    "# data_motus <- read_excel(\"data_motus.xlsx\")\n",
    "\n",
    "# library(FactoMineR)\n",
    "# library(Factoshiny)\n",
    "# PCAshiny(data_motus)"
   ]
  },
  {
   "cell_type": "code",
   "execution_count": null,
   "metadata": {},
   "outputs": [],
   "source": []
  },
  {
   "cell_type": "code",
   "execution_count": null,
   "metadata": {},
   "outputs": [
    {
     "name": "stdout",
     "output_type": "stream",
     "text": [
      "Confort            47.892948\n",
      "Securite           47.855751\n",
      "Qualite            55.951500\n",
      "Force              52.341393\n",
      "Maintien           61.158876\n",
      "                     ...    \n",
      "Role              163.989608\n",
      "Performance       229.857031\n",
      "Meilleur          195.859254\n",
      "Individualiste    139.705215\n",
      "detente           183.039019\n",
      "Length: 71, dtype: float64\n"
     ]
    }
   ],
   "source": [
    "#cluster 0\n",
    "indices_cluster_0 = np.where(data[y_pred == 0])\n",
    "cluster_0 = data[y_pred == 0]\n",
    "\n",
    "# retour du df\n",
    "df_0 = pd.DataFrame(cluster_0)\n",
    "# prendre la valeur absolute pour éviter la compensation\n",
    "df_0 = np.absolute(df_0)\n",
    "df_0.columns = column_name[39:]\n",
    "#print(df_0)\n",
    "\n",
    "# trier par somme de toutes les colonnes\n",
    "sum_colonne_0 = df_0.sum()\n",
    "print(sum_colonne_0)"
   ]
  },
  {
   "cell_type": "code",
   "execution_count": null,
   "metadata": {},
   "outputs": [],
   "source": [
    "#cluster 1\n",
    "indices_cluster_1 = np.where(data[y_pred == 1])\n",
    "cluster_1 = data[y_pred == 1]\n",
    "\n",
    "# retour du df\n",
    "df_1 = pd.DataFrame(cluster_1)\n",
    "# prendre la valeur absolute pour éviter la compensation\n",
    "df_1 = np.absolute(df_1)\n",
    "df_1.columns = column_name[39:]\n",
    "#print(df_1)\n",
    "\n",
    "# trier par somme de toutes les colonnes\n",
    "sum_colonne_1 = df_1.sum()\n",
    "print(sum_colonne_1)"
   ]
  },
  {
   "cell_type": "code",
   "execution_count": null,
   "metadata": {},
   "outputs": [],
   "source": [
    "#cluster 2\n",
    "indices_cluster_2 = np.where(data[y_pred == 2])\n",
    "cluster_2 = data[y_pred == 2]\n",
    "\n",
    "# retour du df\n",
    "df_2 = pd.DataFrame(cluster_2)\n",
    "# prendre la valeur absolute pour éviter la compensation\n",
    "df_2 = np.absolute(df_2)\n",
    "df_2.columns = column_name[39:]\n",
    "#print(df_2)\n",
    "\n",
    "# trier par somme de toutes les colonnes\n",
    "sum_colonne_2 = df_2.sum()\n",
    "print(sum_colonne_2)"
   ]
  },
  {
   "cell_type": "code",
   "execution_count": null,
   "metadata": {},
   "outputs": [],
   "source": [
    "#cluster 3\n",
    "indices_cluster_3 = np.where(data[y_pred == 3])\n",
    "cluster_3 = data[y_pred == 3]\n",
    "\n",
    "# retour du df\n",
    "df_3 = pd.DataFrame(cluster_3)\n",
    "# prendre la valeur absolute pour éviter la compensation\n",
    "df_3 = np.absolute(df_3)\n",
    "df_3.columns = column_name[39:]\n",
    "#print(df_3)\n",
    "\n",
    "# trier par somme de toutes les colonnes\n",
    "sum_colonne_3 = df_3.sum()\n",
    "print(sum_colonne_3)"
   ]
  },
  {
   "cell_type": "code",
   "execution_count": null,
   "metadata": {},
   "outputs": [],
   "source": [
    "#cluster 4\n",
    "indices_cluster_4 = np.where(data[y_pred == 4])\n",
    "cluster_4 = data[y_pred == 4]\n",
    "\n",
    "# retour du df\n",
    "df_4 = pd.DataFrame(cluster_4)\n",
    "# prendre la valeur absolute pour éviter la compensation\n",
    "df_4 = np.absolute(df_4)\n",
    "df_4.columns = column_name[39:]\n",
    "#print(df_4)\n",
    "\n",
    "# trier par somme de toutes les colonnes\n",
    "sum_colonne_4 = df_4.sum()\n",
    "print(sum_colonne_4)"
   ]
  },
  {
   "cell_type": "code",
   "execution_count": null,
   "metadata": {},
   "outputs": [],
   "source": [
    "#cluster 5\n",
    "indices_cluster_5 = np.where(data[y_pred == 5])\n",
    "cluster_5 = data[y_pred == 5]\n",
    "\n",
    "# retour du df\n",
    "df_5 = pd.DataFrame(cluster_5)\n",
    "# prendre la valeur absolute pour éviter la compensation\n",
    "df_5 = np.absolute(df_5)\n",
    "df_5.columns = column_name[39:]\n",
    "#print(df_5)\n",
    "\n",
    "# trier par somme de toutes les colonnes\n",
    "sum_colonne_5 = df_5.sum()\n",
    "print(sum_colonne_5)"
   ]
  },
  {
   "cell_type": "code",
   "execution_count": null,
   "metadata": {},
   "outputs": [],
   "source": []
  },
  {
   "cell_type": "code",
   "execution_count": null,
   "metadata": {},
   "outputs": [],
   "source": []
  },
  {
   "cell_type": "code",
   "execution_count": null,
   "metadata": {},
   "outputs": [],
   "source": []
  },
  {
   "cell_type": "markdown",
   "metadata": {},
   "source": [
    "## data_train,data_test,data_validation"
   ]
  },
  {
   "cell_type": "code",
   "execution_count": null,
   "metadata": {},
   "outputs": [],
   "source": [
    "data_train = data[:int(nlin*0.70),:int(ncol*0.70)]\n",
    "data_test = data[int(nlin*0.70):,int(ncol*0.70):]"
   ]
  },
  {
   "cell_type": "code",
   "execution_count": null,
   "metadata": {},
   "outputs": [],
   "source": [
    "\n",
    "#pour construire un pre-processsing\n",
    "\n",
    "class MyStandardScaler:\n",
    "       \n",
    "    def fit(self,X_train):\n",
    "        self.mean_=np.mean(X_train,axis=0)\n",
    "        self.std_=np.std(X_train,axis=0)\n",
    "                \n",
    "    def transform(self,X):\n",
    "        \"\"\"\n",
    "        Cette méthode peut notamment s'appliquer aux données test. \n",
    "        Mais dans ce cas là, c'est le la moyenne et l'écart type des données train qui doit être utiliser. \n",
    "        \"\"\"\n",
    "        assert len(X.shape)==2, \"X must be a matrix\"\n",
    "        \n",
    "        \"res[i,j]=(X[i,j] - mean[j])/std[j]\"\n",
    "        res=(X-self.mean_[np.newaxis,:])/self.std_[np.newaxis,:]\n",
    "        return res\n",
    "\n",
    "    \n",
    "    def fit_transform(self,X_train):\n",
    "        self.fit(X_train)\n",
    "        return self.transform(X_train)"
   ]
  }
 ],
 "metadata": {
  "interpreter": {
   "hash": "31f2aee4e71d21fbe5cf8b01ff0e069b9275f58929596ceb00d14d90e3e16cd6"
  },
  "kernelspec": {
   "display_name": "Python 3.8.10 64-bit",
   "language": "python",
   "name": "python3"
  },
  "language_info": {
   "codemirror_mode": {
    "name": "ipython",
    "version": 3
   },
   "file_extension": ".py",
   "mimetype": "text/x-python",
   "name": "python",
   "nbconvert_exporter": "python",
   "pygments_lexer": "ipython3",
   "version": "3.8.10"
  }
 },
 "nbformat": 4,
 "nbformat_minor": 4
}
