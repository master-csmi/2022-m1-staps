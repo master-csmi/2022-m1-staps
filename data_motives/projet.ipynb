{
 "cells": [
  {
   "cell_type": "code",
   "execution_count": 255,
   "metadata": {},
   "outputs": [],
   "source": [
    "from pydoc import describe\n",
    "import pandas as pd\n",
    "import numpy as np\n",
    "import matplotlib.pyplot as plt\n",
    "from sklearn.linear_model import SGDClassifier\n",
    "from sklearn.impute import SimpleImputer\n",
    "from sklearn import preprocessing"
   ]
  },
  {
   "cell_type": "code",
   "execution_count": 256,
   "metadata": {},
   "outputs": [],
   "source": [
    "#Lecture des données\n",
    "data = pd.read_excel(\"/home/congo/Bureau/2022-m1-staps/data_motives/data_motives_final.xlsx\",\"haller\",) "
   ]
  },
  {
   "cell_type": "code",
   "execution_count": 257,
   "metadata": {},
   "outputs": [],
   "source": [
    "# mise a zero des valeurs manquantes\n",
    "data = data.fillna(0)"
   ]
  },
  {
   "cell_type": "code",
   "execution_count": 258,
   "metadata": {},
   "outputs": [
    {
     "name": "stdout",
     "output_type": "stream",
     "text": [
      "data (1075, 71)\n"
     ]
    }
   ],
   "source": [
    "data = data.to_numpy()\n",
    "data = data[:,39:]\n",
    "nlin ,ncol =data.shape\n",
    "print('data' ,data.shape)"
   ]
  },
  {
   "cell_type": "markdown",
   "metadata": {},
   "source": [
    "Préprosseccing"
   ]
  },
  {
   "cell_type": "code",
   "execution_count": 259,
   "metadata": {},
   "outputs": [],
   "source": [
    "# rendre toute les valeurs positives\n",
    "data_correct = data\n",
    "data = np.absolute(data)"
   ]
  },
  {
   "cell_type": "code",
   "execution_count": 260,
   "metadata": {},
   "outputs": [],
   "source": [
    "#Supression des valeurs abérantes par rapport au seuil\n",
    "seuil = 5*np.std(data,axis=0,dtype = np.float64)\n",
    "#print(seuil)\n",
    "data = np.array(data)\n",
    "data_tmp = np.zeros_like(data)\n",
    "data_tmp[data < seuil] = data[data < seuil]\n",
    "data = data_tmp\n",
    "#print(data)"
   ]
  },
  {
   "cell_type": "code",
   "execution_count": 261,
   "metadata": {},
   "outputs": [],
   "source": [
    "#normalisation par ligne (avec ecartype nul)\n",
    "mean = np.mean(data,axis = 1,dtype = np.float64)\n",
    "std = np.std(data,axis = 1,dtype = np.float64)\n",
    "\n",
    "# question : doit -t-on supprimer les personnes y'ayant un écartype nul ? oui \n",
    "\n",
    "#print(\"data shape before normalisation\",data.shape)\n",
    "indices = [i for i, e in enumerate(std) if e == 0]\n",
    "#print(indices)\n",
    "\n",
    "data_del = np.delete(data,indices,axis = 0)\n",
    "data = data_del\n",
    "\n",
    "#print(\"data shape after normalisation\",data_del.shape)\n",
    "\n",
    "\n",
    "#normalisation par ligne sans ecartype nul\n",
    "mean = np.mean(data,axis = 1,dtype = np.float64)\n",
    "std = np.std(data,axis = 1,dtype = np.float64)\n",
    "data = (data -mean[:,np.newaxis])/std[:,np.newaxis]\n"
   ]
  },
  {
   "cell_type": "code",
   "execution_count": 262,
   "metadata": {},
   "outputs": [],
   "source": [
    "# retour des valeurs négatives\n",
    "\n",
    "#suppression des lignes à ecartype nul\n",
    "data_del = np.delete(data_correct,indices,axis = 0)\n",
    "data_correct = data_del\n",
    "\n",
    "data_correct = np.array(data_correct)\n",
    "data_tmp = np.zeros_like(data_correct)\n",
    "data_tmp[data_correct < 0] = data[data_correct < 0]\n",
    "data = data_tmp\n"
   ]
  },
  {
   "cell_type": "markdown",
   "metadata": {},
   "source": [
    " Cluster Algorithm "
   ]
  },
  {
   "cell_type": "markdown",
   "metadata": {},
   "source": [
    "1) CAH algorithm "
   ]
  },
  {
   "cell_type": "code",
   "execution_count": null,
   "metadata": {},
   "outputs": [],
   "source": []
  },
  {
   "cell_type": "code",
   "execution_count": null,
   "metadata": {},
   "outputs": [],
   "source": []
  },
  {
   "cell_type": "code",
   "execution_count": null,
   "metadata": {},
   "outputs": [],
   "source": []
  },
  {
   "cell_type": "code",
   "execution_count": null,
   "metadata": {},
   "outputs": [],
   "source": []
  },
  {
   "cell_type": "markdown",
   "metadata": {},
   "source": [
    "data_train,data_test,data_validation"
   ]
  },
  {
   "cell_type": "code",
   "execution_count": 263,
   "metadata": {},
   "outputs": [],
   "source": [
    "data_train = data[:int(nlin*0.70),:int(ncol*0.70)]\n",
    "data_test = data[int(nlin*0.70):,int(ncol*0.70):]"
   ]
  },
  {
   "cell_type": "code",
   "execution_count": 264,
   "metadata": {},
   "outputs": [],
   "source": [
    "\n",
    "#pour construire un pre-processsing\n",
    "\n",
    "class MyStandardScaler:\n",
    "       \n",
    "    def fit(self,X_train):\n",
    "        self.mean_=np.mean(X_train,axis=0)\n",
    "        self.std_=np.std(X_train,axis=0)\n",
    "                \n",
    "    def transform(self,X):\n",
    "        \"\"\"\n",
    "        Cette méthode peut notamment s'appliquer aux données test. \n",
    "        Mais dans ce cas là, c'est le la moyenne et l'écart type des données train qui doit être utiliser. \n",
    "        \"\"\"\n",
    "        assert len(X.shape)==2, \"X must be a matrix\"\n",
    "        \n",
    "        \"res[i,j]=(X[i,j] - mean[j])/std[j]\"\n",
    "        res=(X-self.mean_[np.newaxis,:])/self.std_[np.newaxis,:]\n",
    "        return res\n",
    "\n",
    "    \n",
    "    def fit_transform(self,X_train):\n",
    "        self.fit(X_train)\n",
    "        return self.transform(X_train)"
   ]
  }
 ],
 "metadata": {
  "kernelspec": {
   "display_name": "Python 3",
   "language": "python",
   "name": "python3"
  },
  "language_info": {
   "codemirror_mode": {
    "name": "ipython",
    "version": 3
   },
   "file_extension": ".py",
   "mimetype": "text/x-python",
   "name": "python",
   "nbconvert_exporter": "python",
   "pygments_lexer": "ipython3",
   "version": "3.8.10"
  }
 },
 "nbformat": 4,
 "nbformat_minor": 4
}
