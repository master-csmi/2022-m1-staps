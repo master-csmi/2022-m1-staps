{
 "cells": [
  {
   "cell_type": "code",
   "execution_count": 2,
   "metadata": {},
   "outputs": [],
   "source": [
    "from pydoc import describe\n",
    "import pandas as pd\n",
    "import numpy as np\n",
    "import matplotlib.pyplot as plt\n",
    "from sklearn.linear_model import SGDClassifier\n",
    "from sklearn.impute import SimpleImputer\n",
    "from sklearn import preprocessing"
   ]
  },
  {
   "cell_type": "code",
   "execution_count": 3,
   "metadata": {},
   "outputs": [],
   "source": [
    "#Lecture des données\n",
    "data = pd.read_excel(\"/home/congo/Bureau/2022-m1-staps/data_motives/data_motives_final.xlsx\",\"haller\",) "
   ]
  },
  {
   "cell_type": "code",
   "execution_count": 4,
   "metadata": {},
   "outputs": [],
   "source": [
    "# mise a zero des valeurs manquantes\n",
    "data = data.fillna(0)\n",
    "\n",
    "#stoker le nom des colonnes\n",
    "column_name = [c for c in data]"
   ]
  },
  {
   "cell_type": "code",
   "execution_count": 5,
   "metadata": {},
   "outputs": [
    {
     "name": "stdout",
     "output_type": "stream",
     "text": [
      "data (1075, 71)\n"
     ]
    }
   ],
   "source": [
    "data = data.to_numpy()\n",
    "data = data[:,39:]\n",
    "nlin ,ncol =data.shape\n",
    "print('data' ,data.shape)"
   ]
  },
  {
   "cell_type": "markdown",
   "metadata": {},
   "source": [
    "##                            Preprosseccing"
   ]
  },
  {
   "cell_type": "code",
   "execution_count": 6,
   "metadata": {},
   "outputs": [],
   "source": [
    "# rendre toute les valeurs positives\n",
    "data_correct = data\n",
    "data = np.absolute(data)"
   ]
  },
  {
   "cell_type": "code",
   "execution_count": 7,
   "metadata": {},
   "outputs": [],
   "source": [
    "#Supression des valeurs abérantes par rapport au seuil\n",
    "seuil = 5*np.std(data,axis=0,dtype = np.float64)\n",
    "#print(seuil)\n",
    "data = np.array(data)\n",
    "data_tmp = np.zeros_like(data)\n",
    "data_tmp[data < seuil] = data[data < seuil]\n",
    "data = data_tmp\n",
    "#print(data)"
   ]
  },
  {
   "cell_type": "code",
   "execution_count": 8,
   "metadata": {},
   "outputs": [],
   "source": [
    "#normalisation par ligne (avec ecartype nul) our avoir des valeurs entre 0 et 1\n",
    "\n",
    "#indices à suprimer\n",
    "max = np.max(data,axis = 1)\n",
    "indices = [i for i, e in enumerate(max) if e == 0]\n",
    "#print(indices)\n",
    "\n",
    "#suppression des lignes\n",
    "data_del = np.delete(data,indices,axis = 0)\n",
    "data = data_del\n",
    "\n",
    "#normalisation par ligne sans ecartype nul pour avoir des valeurs entre 0 et 1\n",
    "min = np.min(data,axis = 1)\n",
    "max = np.max(data,axis = 1)\n",
    "data = (data-min[:,np.newaxis])/max[:,np.newaxis]\n",
    "\n",
    "#print(data)\n"
   ]
  },
  {
   "cell_type": "code",
   "execution_count": 9,
   "metadata": {},
   "outputs": [],
   "source": [
    "# retour des valeurs négatives\n",
    "\n",
    "#suppression des lignes\n",
    "data_del = np.delete(data_correct,indices,axis = 0)\n",
    "data_correct = data_del\n",
    "\n",
    "#print(\"data before = \", data[data < 0])\n",
    "\n",
    "#indices des valeurs négatives\n",
    "indices_val_neg_i = np.where(data_correct < 0)\n",
    "#print(\"indices_val_neg_i = \",indices_val_neg_i)\n",
    "\n",
    "data[indices_val_neg_i] = -1*data[indices_val_neg_i]\n",
    "\n",
    "\n",
    "#print(\"data after = \", data[data < 0] )\n",
    "nlin ,ncol =data.shape\n"
   ]
  },
  {
   "cell_type": "markdown",
   "metadata": {},
   "source": [
    " Cluster Algorithm "
   ]
  },
  {
   "cell_type": "markdown",
   "metadata": {},
   "source": [
    "## 1) CAH algorithm "
   ]
  },
  {
   "cell_type": "code",
   "execution_count": 10,
   "metadata": {},
   "outputs": [],
   "source": [
    "import scipy.cluster.hierarchy as sch\n",
    "from sklearn.cluster import AgglomerativeClustering\n",
    "import matplotlib.pyplot as plt\n",
    "import pandas as pd \n"
   ]
  },
  {
   "cell_type": "code",
   "execution_count": 11,
   "metadata": {},
   "outputs": [
    {
     "data": {
      "image/png": "[encoded data removed]",
      "text/plain": [
       "<Figure size 432x288 with 1 Axes>"
      ]
     },
     "metadata": {
      "needs_background": "light"
     },
     "output_type": "display_data"
    }
   ],
   "source": [
    "#create a dendrogram\n",
    "dendrogram = sch.dendrogram(sch.linkage(data,method='ward'))"
   ]
  },
  {
   "cell_type": "code",
   "execution_count": 12,
   "metadata": {},
   "outputs": [],
   "source": [
    "hc = AgglomerativeClustering(n_clusters=3,affinity= 'euclidean',linkage='ward' )\n"
   ]
  },
  {
   "cell_type": "code",
   "execution_count": 13,
   "metadata": {},
   "outputs": [
    {
     "data": {
      "text/plain": [
       "<matplotlib.collections.PathCollection at 0x7f5ba0b25970>"
      ]
     },
     "execution_count": 13,
     "metadata": {},
     "output_type": "execute_result"
    },
    {
     "data": {
      "image/png": "[encoded data removed]",
      "text/plain": [
       "<Figure size 432x288 with 1 Axes>"
      ]
     },
     "metadata": {
      "needs_background": "light"
     },
     "output_type": "display_data"
    }
   ],
   "source": [
    "y_hc = hc.fit_predict(data)\n",
    "plt.scatter(data[y_hc == 0,28],data[ y_hc == 0,28],s= 100,c = 'cyan')\n",
    "plt.scatter(data[y_hc == 1,0],data[ y_hc == 1,1],s= 100,c = 'red')\n",
    "plt.scatter(data[y_hc == 2,0],data[ y_hc == 2,1],s= 100,c = 'yellow')\n",
    "plt.scatter(data[y_hc == 3,0],data[ y_hc == 3,1],s= 100,c = 'black')\n",
    "plt.scatter(data[y_hc == 4,0],data[ y_hc == 4,1],s= 100,c = 'green')\n",
    "plt.scatter(data[y_hc == 5,0],data[ y_hc == 5,1],s= 100,c = 'green')\n"
   ]
  },
  {
   "cell_type": "markdown",
   "metadata": {},
   "source": [
    "## K-means"
   ]
  },
  {
   "cell_type": "code",
   "execution_count": 14,
   "metadata": {},
   "outputs": [],
   "source": [
    "from sklearn.cluster import KMeans\n"
   ]
  },
  {
   "cell_type": "code",
   "execution_count": 15,
   "metadata": {},
   "outputs": [
    {
     "data": {
      "text/plain": [
       "Text(0, 0.5, ' Cout du modele inertia')"
      ]
     },
     "execution_count": 15,
     "metadata": {},
     "output_type": "execute_result"
    },
    {
     "data": {
      "image/png": "[encoded data removed]",
      "text/plain": [
       "<Figure size 432x288 with 1 Axes>"
      ]
     },
     "metadata": {
      "needs_background": "light"
     },
     "output_type": "display_data"
    }
   ],
   "source": [
    "#nombre de cluster optimal \n",
    "# inertia calcule le cout (somme des distance entre les points d'un cluster et du centroide )\n",
    "# methode shadow aur=tre indicateur\n",
    "inertia =[]\n",
    "K_range =range(1,20)\n",
    "for k in K_range:\n",
    "    model = KMeans(n_clusters=k).fit(data)\n",
    "    inertia.append(model.inertia_)\n",
    "\n",
    "\n",
    "plt.plot(K_range,inertia)\n",
    "plt.xlabel(\" nombre de cluster\")\n",
    "plt.ylabel(\" Cout du modele inertia\")\n",
    "\n",
    "\n",
    "# 2-6 clusters ? la zone de \"coude\""
   ]
  },
  {
   "cell_type": "code",
   "execution_count": 16,
   "metadata": {},
   "outputs": [
    {
     "data": {
      "text/plain": [
       "Text(0.5, 0, \" nombre d'étudiant\")"
      ]
     },
     "execution_count": 16,
     "metadata": {},
     "output_type": "execute_result"
    },
    {
     "data": {
      "image/png": "[encoded data removed]",
      "text/plain": [
       "<Figure size 432x288 with 1 Axes>"
      ]
     },
     "metadata": {
      "needs_background": "light"
     },
     "output_type": "display_data"
    }
   ],
   "source": [
    "x_etudiant=range(0,nlin)\n",
    "\n",
    "n_cluster = 6\n",
    "model = KMeans(n_clusters= n_cluster)\n",
    "y_pred = model.fit_predict(data)\n",
    "\n",
    "plt.scatter(x_etudiant,y_pred)\n",
    "plt.ylabel(\" nombre de cluster\")\n",
    "plt.xlabel(\" nombre d'étudiant\")"
   ]
  },
  {
   "cell_type": "markdown",
   "metadata": {},
   "source": [
    "                            Statistique Inférentielle sur chaque cluster "
   ]
  },
  {
   "cell_type": "code",
   "execution_count": 17,
   "metadata": {},
   "outputs": [],
   "source": [
    "import scipy.stats as stats"
   ]
  },
  {
   "cell_type": "code",
   "execution_count": 18,
   "metadata": {},
   "outputs": [],
   "source": [
    "import pandas as pd\n",
    "import statsmodels.api as sm\n",
    "from statsmodels.formula.api import ols\n",
    "\n"
   ]
  },
  {
   "cell_type": "code",
   "execution_count": 19,
   "metadata": {},
   "outputs": [],
   "source": [
    "\n",
    "#exemple !!!"
   ]
  },
  {
   "cell_type": "code",
   "execution_count": 20,
   "metadata": {},
   "outputs": [
    {
     "name": "stdout",
     "output_type": "stream",
     "text": [
      "[50.74816155] [0.00569324]\n"
     ]
    }
   ],
   "source": [
    "from sklearn.feature_selection import f_classif\n",
    "import numpy as np\n",
    "X = np.array([5000, 18000, 47500, 45600, 49500]).reshape(-1,1)\n",
    "y = np.array([1,1,0,0,0])\n",
    "F,pval = f_classif(X,y)\n",
    "print(F,pval)"
   ]
  },
  {
   "cell_type": "code",
   "execution_count": null,
   "metadata": {},
   "outputs": [],
   "source": []
  },
  {
   "cell_type": "code",
   "execution_count": null,
   "metadata": {},
   "outputs": [],
   "source": []
  },
  {
   "cell_type": "code",
   "execution_count": null,
   "metadata": {},
   "outputs": [],
   "source": []
  },
  {
   "cell_type": "code",
   "execution_count": null,
   "metadata": {},
   "outputs": [],
   "source": []
  },
  {
   "cell_type": "code",
   "execution_count": 21,
   "metadata": {},
   "outputs": [],
   "source": [
    "\n",
    "# mettre data en df\n",
    "df_cluster = pd.DataFrame(data)\n",
    "# renommer les colonne\n",
    "df_cluster.columns = column_name[39:]\n",
    "#print(df_cluster.shape)\n",
    "\n",
    "# création d'une colonne cluster \n",
    "df_cluster['cluster'] = y_pred\n",
    "#print(df_cluster.shape)\n"
   ]
  },
  {
   "cell_type": "code",
   "execution_count": 22,
   "metadata": {},
   "outputs": [],
   "source": [
    "#stata.info()"
   ]
  },
  {
   "cell_type": "code",
   "execution_count": 23,
   "metadata": {},
   "outputs": [],
   "source": [
    "#df_cluster.info()"
   ]
  },
  {
   "cell_type": "code",
   "execution_count": 24,
   "metadata": {},
   "outputs": [],
   "source": [
    "# probleme de type alors on le change\n",
    "df_cluster = df_cluster.astype(float,errors='raise')\n",
    "# df_cluster.info()"
   ]
  },
  {
   "cell_type": "markdown",
   "metadata": {},
   "source": [
    "renommer les lignes ( remplacer 0 par etudiant0)"
   ]
  },
  {
   "cell_type": "code",
   "execution_count": 25,
   "metadata": {},
   "outputs": [],
   "source": [
    "line_name = ['etudiant' + str(i) for i in range(nlin)]\n",
    "# print(line_name)\n",
    "df_cluster.index = line_name\n",
    "# print(df_cluster)"
   ]
  },
  {
   "cell_type": "markdown",
   "metadata": {},
   "source": [
    "separation des clusters et centres des cluster \n"
   ]
  },
  {
   "cell_type": "code",
   "execution_count": 60,
   "metadata": {},
   "outputs": [],
   "source": [
    "df_cluster_0 = df_cluster.loc[df_cluster.loc[:,'cluster'] == 0]\n",
    "df_cluster_1 = df_cluster.loc[df_cluster.loc[:,'cluster'] == 1]\n",
    "df_cluster_2 = df_cluster.loc[df_cluster.loc[:,'cluster'] == 2]\n",
    "df_cluster_3 = df_cluster.loc[df_cluster.loc[:,'cluster'] == 3]\n",
    "df_cluster_4 = df_cluster.loc[df_cluster.loc[:,'cluster'] == 4]\n",
    "df_cluster_5 = df_cluster.loc[df_cluster.loc[:,'cluster'] == 5]\n",
    "\n",
    "\n",
    "center_cluster_0 = model.cluster_centers_[0,:]  \n",
    "center_cluster_1 = model.cluster_centers_[1,:]\n",
    "center_cluster_2 = model.cluster_centers_[2,:]\n",
    "center_cluster_3 = model.cluster_centers_[3,:]\n",
    "center_cluster_4 = model.cluster_centers_[4,:]\n",
    "center_cluster_5 = model.cluster_centers_[5,:]\n"
   ]
  },
  {
   "cell_type": "code",
   "execution_count": null,
   "metadata": {},
   "outputs": [],
   "source": [
    "#question : nb facteur de variabilité = nb de cluster ?"
   ]
  },
  {
   "cell_type": "code",
   "execution_count": 66,
   "metadata": {},
   "outputs": [
    {
     "name": "stdout",
     "output_type": "stream",
     "text": [
      "(93, 72) 93\n"
     ]
    },
    {
     "name": "stderr",
     "output_type": "stream",
     "text": [
      "/home/congo/.local/lib/python3.8/site-packages/numpy/core/fromnumeric.py:3472: FutureWarning: In a future version, DataFrame.mean(axis=None) will return a scalar mean over the entire DataFrame. To retain the old behavior, use 'frame.mean(axis=0)' or just 'frame.mean()'\n",
      "  return mean(axis=axis, dtype=dtype, out=out, **kwargs)\n"
     ]
    }
   ],
   "source": [
    "mu = np.mean(df_cluster)    # overall mean\n",
    "mu_cluster_0 = np.mean(df_cluster_0)    #   mean of cluster_0\n",
    "mu_cluster_1 = np.mean(df_cluster_1)    #   mean of cluster_1\n",
    "mu_cluster_2 = np.mean(df_cluster_2)    #   mean of cluster_2\n",
    "mu_cluster_3 = np.mean(df_cluster_3)    #   mean of cluster_3\n",
    "mu_cluster_4 = np.mean(df_cluster_4)    #   mean of cluster_4\n",
    "mu_cluster_5 = np.mean(df_cluster_5)    #   mean of cluster_5\n",
    "\n",
    "# nb élément dans les cluster \n",
    "n_cluster_0 = df_cluster_0.shape[0]\n",
    "n_cluster_1 = df_cluster_1.shape[0]\n",
    "n_cluster_2 = df_cluster_2.shape[0]\n",
    "n_cluster_3 = df_cluster_3.shape[0]\n",
    "n_cluster_4 = df_cluster_4.shape[0]\n",
    "n_cluster_5 = df_cluster_5.shape[0]\n",
    "\n",
    "\n",
    "SSm = np.sum(((df_cluster-mu)**2))        # SS(mean) ou SCE(somme des carrés des écarts)\n",
    "\n",
    "# SSf = np.sum((X1-mu1)**2) + np.sum((X2-mu2)**2)   # SS(fit)\n"
   ]
  },
  {
   "cell_type": "code",
   "execution_count": null,
   "metadata": {},
   "outputs": [],
   "source": []
  },
  {
   "cell_type": "markdown",
   "metadata": {},
   "source": [
    "Fval et pval"
   ]
  },
  {
   "cell_type": "code",
   "execution_count": 62,
   "metadata": {},
   "outputs": [],
   "source": [
    "F,pval = f_classif(df_cluster,y_pred)\n",
    "#trier par ordre décroissant de la pval\n",
    "# print(pval)\n",
    "# indices_pval = np.argsort(pval)\n",
    "# print(pval[indices_pval])\n"
   ]
  },
  {
   "cell_type": "code",
   "execution_count": 76,
   "metadata": {},
   "outputs": [],
   "source": []
  },
  {
   "cell_type": "code",
   "execution_count": 86,
   "metadata": {},
   "outputs": [
    {
     "name": "stdout",
     "output_type": "stream",
     "text": [
      "                        sum_sq      df             F        PR(>F)\n",
      "Intercept         8.150097e-31     1.0  4.953786e+01  3.513773e-12\n",
      "Confiance_en_soi  5.019950e-30     1.0  3.051223e+02  3.706428e-60\n",
      "Energie           2.463218e+01     1.0  1.497192e+33  0.000000e+00\n",
      "Residual          1.722551e-29  1047.0           NaN           NaN\n"
     ]
    }
   ],
   "source": [
    "\n",
    "chaine = \"Energie ~ Confiance_en_soi + Energie\"\n",
    "model = ols(chaine, data=df_cluster).fit()\n",
    "aov_table = sm.stats.anova_lm(model, typ=3)\n",
    "print(aov_table)"
   ]
  },
  {
   "cell_type": "code",
   "execution_count": 26,
   "metadata": {},
   "outputs": [],
   "source": [
    "# 'Confiance en soi' par 'Confiance_en_soi'\n",
    "# print(column_name[90])\n",
    "column_name[90] = 'Confiance_en_soi'\n",
    "# print(column_name[90])\n",
    "df_cluster = df_cluster.rename(columns={'Confiance en soi':'Confiance_en_soi'}) \n",
    "\n",
    "# print(df_cluster['Confiance_en_soi'])"
   ]
  },
  {
   "cell_type": "code",
   "execution_count": 39,
   "metadata": {},
   "outputs": [],
   "source": [
    "# List_qualif = column_name[39:]\n",
    "# for qualif in List_qualif : #pour chaque qualité \n",
    "#     chaine =  qualif + \" ~ C(cluster)\"\n",
    "#     model = ols(chaine, data=df_cluster).fit()\n",
    "#     aov_table = sm.stats.anova_lm(model, typ=3)\n",
    "#     print(aov_table)"
   ]
  },
  {
   "cell_type": "code",
   "execution_count": null,
   "metadata": {},
   "outputs": [],
   "source": []
  },
  {
   "cell_type": "code",
   "execution_count": null,
   "metadata": {},
   "outputs": [],
   "source": []
  },
  {
   "cell_type": "code",
   "execution_count": null,
   "metadata": {},
   "outputs": [],
   "source": []
  },
  {
   "cell_type": "code",
   "execution_count": null,
   "metadata": {},
   "outputs": [
    {
     "name": "stdout",
     "output_type": "stream",
     "text": [
      "Galbant         77.597964\n",
      "Stretchcing     56.566502\n",
      "Confort         51.230303\n",
      "Plaisir         49.113195\n",
      "Repetition      48.192301\n",
      "                  ...    \n",
      "Puissance        28.02486\n",
      "Facilite        27.835805\n",
      "Endurance       27.308292\n",
      "Acceleration    26.996998\n",
      "Rapide          23.132263\n",
      "Length: 71, dtype: object\n"
     ]
    }
   ],
   "source": [
    "#cluster 0\n",
    "indices_cluster_0 = np.where(data[y_pred == 0])\n",
    "cluster_0 = data[y_pred == 0]\n",
    "\n",
    "# retour du df\n",
    "df_0 = pd.DataFrame(cluster_0)\n",
    "# prendre la valeur absolute pour éviter la compensation\n",
    "df_0 = np.absolute(df_0)\n",
    "df_0.columns = column_name[39:]\n",
    "#print(df_0)\n",
    "\n",
    "#statistique inférentielle sur chaque cluster \n",
    "\n",
    "# faire pour chaque cluster une statistique inférentielle \n",
    "\n",
    "# les mots qui caractérise les clusters\n",
    "\n",
    "# trier par somme de toutes les colonnes\n",
    "sum_colonne_0 = df_0.sum()\n",
    "print(sum_colonne_0.sort_values(ascending=False))\n"
   ]
  },
  {
   "cell_type": "code",
   "execution_count": null,
   "metadata": {},
   "outputs": [
    {
     "name": "stdout",
     "output_type": "stream",
     "text": [
      "Galbant           119.751873\n",
      "Repetition        103.062749\n",
      "Ralentissement     95.217556\n",
      "Stretchcing        95.185472\n",
      "Decouragement      90.629534\n",
      "                     ...    \n",
      "Muscultation       45.438831\n",
      "Meilleur           44.530772\n",
      "Cardio             44.392387\n",
      "Rapide             38.159449\n",
      "Energie            37.791284\n",
      "Length: 71, dtype: object\n"
     ]
    }
   ],
   "source": [
    "#cluster 1\n",
    "indices_cluster_1 = np.where(data[y_pred == 1])\n",
    "cluster_1 = data[y_pred == 1]\n",
    "\n",
    "# retour du df\n",
    "df_1 = pd.DataFrame(cluster_1)\n",
    "# prendre la valeur absolute pour éviter la compensation\n",
    "df_1 = np.absolute(df_1)\n",
    "df_1.columns = column_name[39:]\n",
    "#print(df_1)\n",
    "\n",
    "# trier par somme de toutes les colonnes\n",
    "sum_colonne_1 = df_1.sum()\n",
    "print(sum_colonne_1.sort_values(ascending=False))"
   ]
  },
  {
   "cell_type": "code",
   "execution_count": null,
   "metadata": {},
   "outputs": [
    {
     "name": "stdout",
     "output_type": "stream",
     "text": [
      "Performance     56.54923\n",
      "Plaisir        47.258072\n",
      "Efficacite     47.111768\n",
      "Depassement    46.713913\n",
      "Cardio         46.489021\n",
      "                 ...    \n",
      "Beaute          3.015553\n",
      "Douceur         2.721342\n",
      "Securite        2.592479\n",
      "Confort         1.676983\n",
      "Ennuyeux             0.0\n",
      "Length: 71, dtype: object\n"
     ]
    }
   ],
   "source": [
    "#cluster 2\n",
    "indices_cluster_2 = np.where(data[y_pred == 2])\n",
    "cluster_2 = data[y_pred == 2]\n",
    "\n",
    "# retour du df\n",
    "df_2 = pd.DataFrame(cluster_2)\n",
    "# prendre la valeur absolute pour éviter la compensation\n",
    "df_2 = np.absolute(df_2)\n",
    "df_2.columns = column_name[39:]\n",
    "#print(df_2)\n",
    "\n",
    "# trier par somme de toutes les colonnes\n",
    "sum_colonne_2 = df_2.sum()\n",
    "print(sum_colonne_2.sort_values(ascending=False))"
   ]
  },
  {
   "cell_type": "code",
   "execution_count": null,
   "metadata": {},
   "outputs": [
    {
     "name": "stdout",
     "output_type": "stream",
     "text": [
      "Performance    88.980946\n",
      "Partage        83.156963\n",
      "Meilleur       82.966066\n",
      "Plaisir        82.666313\n",
      "Groupe         79.412279\n",
      "                 ...    \n",
      "Force           6.992334\n",
      "Qualite         6.276778\n",
      "Ennuyeux        4.405572\n",
      "Securite        3.421003\n",
      "Confort         2.814457\n",
      "Length: 71, dtype: object\n"
     ]
    }
   ],
   "source": [
    "#cluster 3\n",
    "indices_cluster_3 = np.where(data[y_pred == 3])\n",
    "cluster_3 = data[y_pred == 3]\n",
    "\n",
    "# retour du df\n",
    "df_3 = pd.DataFrame(cluster_3)\n",
    "# prendre la valeur absolute pour éviter la compensation\n",
    "df_3 = np.absolute(df_3)\n",
    "df_3.columns = column_name[39:]\n",
    "#print(df_3)\n",
    "\n",
    "# trier par somme de toutes les colonnes\n",
    "sum_colonne_3 = df_3.sum()\n",
    "print(sum_colonne_3.sort_values(ascending=False))"
   ]
  },
  {
   "cell_type": "code",
   "execution_count": null,
   "metadata": {},
   "outputs": [
    {
     "name": "stdout",
     "output_type": "stream",
     "text": [
      "detente      53.650181\n",
      "Plaisir      49.751437\n",
      "Partage      46.450876\n",
      "Serenite     44.842832\n",
      "Calme        44.226381\n",
      "               ...    \n",
      "Beaute        2.637775\n",
      "Securite      2.520003\n",
      "Confort       2.130858\n",
      "Inconfort     2.113536\n",
      "Ennuyeux      0.150181\n",
      "Length: 71, dtype: object\n"
     ]
    }
   ],
   "source": [
    "#cluster 4\n",
    "indices_cluster_4 = np.where(data[y_pred == 4])\n",
    "cluster_4 = data[y_pred == 4]\n",
    "\n",
    "# retour du df\n",
    "df_4 = pd.DataFrame(cluster_4)\n",
    "# prendre la valeur absolute pour éviter la compensation\n",
    "df_4 = np.absolute(df_4)\n",
    "df_4.columns = column_name[39:]\n",
    "#print(df_4)\n",
    "\n",
    "# trier par somme de toutes les colonnes\n",
    "sum_colonne_4 = df_4.sum()\n",
    "print(sum_colonne_4.sort_values(ascending=False))"
   ]
  },
  {
   "cell_type": "code",
   "execution_count": null,
   "metadata": {},
   "outputs": [
    {
     "name": "stdout",
     "output_type": "stream",
     "text": [
      "Objectif        52.122468\n",
      "Perseverance    51.774973\n",
      "Confort         50.687706\n",
      "Plaisir         50.038861\n",
      "Repetition      49.221591\n",
      "                  ...    \n",
      "Lent            25.405633\n",
      "Sexy            21.990975\n",
      "Lassitude       21.523985\n",
      "Culpabilite     21.160573\n",
      "Ennuyeux        20.867014\n",
      "Length: 71, dtype: object\n"
     ]
    }
   ],
   "source": [
    "#cluster 5\n",
    "indices_cluster_5 = np.where(data[y_pred == 5])\n",
    "cluster_5 = data[y_pred == 5]\n",
    "\n",
    "# retour du df\n",
    "df_5 = pd.DataFrame(cluster_5)\n",
    "# prendre la valeur absolute pour éviter la compensation\n",
    "df_5 = np.absolute(df_5)\n",
    "df_5.columns = column_name[39:]\n",
    "#print(df_5)\n",
    "\n",
    "# trier par somme de toutes les colonnes\n",
    "sum_colonne_5 = df_5.sum()\n",
    "print(sum_colonne_5.sort_values(ascending=False))"
   ]
  },
  {
   "cell_type": "markdown",
   "metadata": {},
   "source": [
    "##                            fuzzy cluster"
   ]
  },
  {
   "cell_type": "code",
   "execution_count": null,
   "metadata": {},
   "outputs": [],
   "source": [
    "from fcmeans import FCM\n"
   ]
  },
  {
   "cell_type": "code",
   "execution_count": null,
   "metadata": {},
   "outputs": [],
   "source": [
    "n_cluster = 4\n",
    "fcm = FCM(n_clusters= n_cluster)\n",
    "# faire ça pour eviter les problemes de shape !!!\n",
    "data = np.array(data, dtype=np.float64)\n",
    "fcm.fit(data)\n",
    "\n",
    "##expliquations :\n",
    "# data = np.array(data)\n",
    "#print(data.dtype)\n",
    "#print(data.shape)\n",
    "#arr = np.ones([1050,71])\n",
    "#print(arr.shape)\n",
    "#fcm.fit(data)"
   ]
  },
  {
   "cell_type": "code",
   "execution_count": null,
   "metadata": {},
   "outputs": [
    {
     "data": {
      "text/plain": [
       "Text(0.5, 0, \" nombre d'étudiant\")"
      ]
     },
     "execution_count": 24,
     "metadata": {},
     "output_type": "execute_result"
    },
    {
     "data": {
      "image/png": "[encoded data removed]",
      "text/plain": [
       "<Figure size 432x288 with 1 Axes>"
      ]
     },
     "metadata": {
      "needs_background": "light"
     },
     "output_type": "display_data"
    }
   ],
   "source": [
    "# outputs \n",
    "y_pred_centers = fcm.centers\n",
    "y_pred = fcm.predict(data)\n",
    "\n",
    "\n",
    "plt.scatter(x_etudiant,y_pred)\n",
    "plt.ylabel(\" nombre de cluster\")\n",
    "plt.xlabel(\" nombre d'étudiant\")"
   ]
  },
  {
   "cell_type": "markdown",
   "metadata": {},
   "source": [
    "uniquement le centre des clusters !!!"
   ]
  },
  {
   "cell_type": "code",
   "execution_count": null,
   "metadata": {},
   "outputs": [
    {
     "name": "stdout",
     "output_type": "stream",
     "text": [
      "(4, 71)\n",
      "[0.17146673 0.15996633 0.14508351 0.1418201  0.15838276 0.1265604\n",
      " 0.12999283 0.12799452 0.12603176 0.18454017 0.1618625  0.12946863\n",
      " 0.1764391  0.14828819 0.16009047 0.16519649 0.15341658 0.16575386\n",
      " 0.18136483 0.16248493 0.17251205 0.13458682 0.21878883 0.19150754\n",
      " 0.15140002 0.16220129 0.19201341 0.1732566  0.16489977 0.20818946\n",
      " 0.17302555 0.15255531 0.23883292 0.23081507 0.11059567 0.15629002\n",
      " 0.21315589 0.21278937 0.21061676 0.22730004 0.15696018 0.1453119\n",
      " 0.18755233 0.11111754 0.24039486 0.22340762 0.11555888 0.25846128\n",
      " 0.26685724 0.21136576 0.10907658 0.26485507 0.25662859 0.15810709\n",
      " 0.28772398 0.23951287 0.20052962 0.24346573 0.21859447 0.2581123\n",
      " 0.2044959  0.2343847  0.15720523 0.32196902 0.28161739 0.25740716\n",
      " 0.18295376 0.28080638 0.23474059 0.20938507 0.25493839]\n"
     ]
    },
    {
     "ename": "ValueError",
     "evalue": "Length mismatch: Expected axis has 1 elements, new values have 71 elements",
     "output_type": "error",
     "traceback": [
      "\u001b[0;31m---------------------------------------------------------------------------\u001b[0m",
      "\u001b[0;31mValueError\u001b[0m                                Traceback (most recent call last)",
      "\u001b[0;32m<ipython-input-25-517553282e83>\u001b[0m in \u001b[0;36m<module>\u001b[0;34m\u001b[0m\n\u001b[1;32m      8\u001b[0m \u001b[0mdf_0\u001b[0m \u001b[0;34m=\u001b[0m \u001b[0mnp\u001b[0m\u001b[0;34m.\u001b[0m\u001b[0mabsolute\u001b[0m\u001b[0;34m(\u001b[0m\u001b[0mdf_0\u001b[0m\u001b[0;34m)\u001b[0m\u001b[0;34m\u001b[0m\u001b[0;34m\u001b[0m\u001b[0m\n\u001b[1;32m      9\u001b[0m \u001b[0;31m# ajouter les noms des colonnes\u001b[0m\u001b[0;34m\u001b[0m\u001b[0;34m\u001b[0m\u001b[0;34m\u001b[0m\u001b[0m\n\u001b[0;32m---> 10\u001b[0;31m \u001b[0mdf_0\u001b[0m\u001b[0;34m.\u001b[0m\u001b[0mcolumns\u001b[0m \u001b[0;34m=\u001b[0m \u001b[0mcolumn_name\u001b[0m\u001b[0;34m[\u001b[0m\u001b[0;36m39\u001b[0m\u001b[0;34m:\u001b[0m\u001b[0;34m]\u001b[0m\u001b[0;34m\u001b[0m\u001b[0;34m\u001b[0m\u001b[0m\n\u001b[0m\u001b[1;32m     11\u001b[0m \u001b[0;34m\u001b[0m\u001b[0m\n\u001b[1;32m     12\u001b[0m \u001b[0;34m\u001b[0m\u001b[0m\n",
      "\u001b[0;32m~/.local/lib/python3.8/site-packages/pandas/core/generic.py\u001b[0m in \u001b[0;36m__setattr__\u001b[0;34m(self, name, value)\u001b[0m\n\u001b[1;32m   5586\u001b[0m         \u001b[0;32mtry\u001b[0m\u001b[0;34m:\u001b[0m\u001b[0;34m\u001b[0m\u001b[0;34m\u001b[0m\u001b[0m\n\u001b[1;32m   5587\u001b[0m             \u001b[0mobject\u001b[0m\u001b[0;34m.\u001b[0m\u001b[0m__getattribute__\u001b[0m\u001b[0;34m(\u001b[0m\u001b[0mself\u001b[0m\u001b[0;34m,\u001b[0m \u001b[0mname\u001b[0m\u001b[0;34m)\u001b[0m\u001b[0;34m\u001b[0m\u001b[0;34m\u001b[0m\u001b[0m\n\u001b[0;32m-> 5588\u001b[0;31m             \u001b[0;32mreturn\u001b[0m \u001b[0mobject\u001b[0m\u001b[0;34m.\u001b[0m\u001b[0m__setattr__\u001b[0m\u001b[0;34m(\u001b[0m\u001b[0mself\u001b[0m\u001b[0;34m,\u001b[0m \u001b[0mname\u001b[0m\u001b[0;34m,\u001b[0m \u001b[0mvalue\u001b[0m\u001b[0;34m)\u001b[0m\u001b[0;34m\u001b[0m\u001b[0;34m\u001b[0m\u001b[0m\n\u001b[0m\u001b[1;32m   5589\u001b[0m         \u001b[0;32mexcept\u001b[0m \u001b[0mAttributeError\u001b[0m\u001b[0;34m:\u001b[0m\u001b[0;34m\u001b[0m\u001b[0;34m\u001b[0m\u001b[0m\n\u001b[1;32m   5590\u001b[0m             \u001b[0;32mpass\u001b[0m\u001b[0;34m\u001b[0m\u001b[0;34m\u001b[0m\u001b[0m\n",
      "\u001b[0;32m~/.local/lib/python3.8/site-packages/pandas/_libs/properties.pyx\u001b[0m in \u001b[0;36mpandas._libs.properties.AxisProperty.__set__\u001b[0;34m()\u001b[0m\n",
      "\u001b[0;32m~/.local/lib/python3.8/site-packages/pandas/core/generic.py\u001b[0m in \u001b[0;36m_set_axis\u001b[0;34m(self, axis, labels)\u001b[0m\n\u001b[1;32m    767\u001b[0m     \u001b[0;32mdef\u001b[0m \u001b[0m_set_axis\u001b[0m\u001b[0;34m(\u001b[0m\u001b[0mself\u001b[0m\u001b[0;34m,\u001b[0m \u001b[0maxis\u001b[0m\u001b[0;34m:\u001b[0m \u001b[0mint\u001b[0m\u001b[0;34m,\u001b[0m \u001b[0mlabels\u001b[0m\u001b[0;34m:\u001b[0m \u001b[0mIndex\u001b[0m\u001b[0;34m)\u001b[0m \u001b[0;34m->\u001b[0m \u001b[0;32mNone\u001b[0m\u001b[0;34m:\u001b[0m\u001b[0;34m\u001b[0m\u001b[0;34m\u001b[0m\u001b[0m\n\u001b[1;32m    768\u001b[0m         \u001b[0mlabels\u001b[0m \u001b[0;34m=\u001b[0m \u001b[0mensure_index\u001b[0m\u001b[0;34m(\u001b[0m\u001b[0mlabels\u001b[0m\u001b[0;34m)\u001b[0m\u001b[0;34m\u001b[0m\u001b[0;34m\u001b[0m\u001b[0m\n\u001b[0;32m--> 769\u001b[0;31m         \u001b[0mself\u001b[0m\u001b[0;34m.\u001b[0m\u001b[0m_mgr\u001b[0m\u001b[0;34m.\u001b[0m\u001b[0mset_axis\u001b[0m\u001b[0;34m(\u001b[0m\u001b[0maxis\u001b[0m\u001b[0;34m,\u001b[0m \u001b[0mlabels\u001b[0m\u001b[0;34m)\u001b[0m\u001b[0;34m\u001b[0m\u001b[0;34m\u001b[0m\u001b[0m\n\u001b[0m\u001b[1;32m    770\u001b[0m         \u001b[0mself\u001b[0m\u001b[0;34m.\u001b[0m\u001b[0m_clear_item_cache\u001b[0m\u001b[0;34m(\u001b[0m\u001b[0;34m)\u001b[0m\u001b[0;34m\u001b[0m\u001b[0;34m\u001b[0m\u001b[0m\n\u001b[1;32m    771\u001b[0m \u001b[0;34m\u001b[0m\u001b[0m\n",
      "\u001b[0;32m~/.local/lib/python3.8/site-packages/pandas/core/internals/managers.py\u001b[0m in \u001b[0;36mset_axis\u001b[0;34m(self, axis, new_labels)\u001b[0m\n\u001b[1;32m    212\u001b[0m     \u001b[0;32mdef\u001b[0m \u001b[0mset_axis\u001b[0m\u001b[0;34m(\u001b[0m\u001b[0mself\u001b[0m\u001b[0;34m,\u001b[0m \u001b[0maxis\u001b[0m\u001b[0;34m:\u001b[0m \u001b[0mint\u001b[0m\u001b[0;34m,\u001b[0m \u001b[0mnew_labels\u001b[0m\u001b[0;34m:\u001b[0m \u001b[0mIndex\u001b[0m\u001b[0;34m)\u001b[0m \u001b[0;34m->\u001b[0m \u001b[0;32mNone\u001b[0m\u001b[0;34m:\u001b[0m\u001b[0;34m\u001b[0m\u001b[0;34m\u001b[0m\u001b[0m\n\u001b[1;32m    213\u001b[0m         \u001b[0;31m# Caller is responsible for ensuring we have an Index object.\u001b[0m\u001b[0;34m\u001b[0m\u001b[0;34m\u001b[0m\u001b[0;34m\u001b[0m\u001b[0m\n\u001b[0;32m--> 214\u001b[0;31m         \u001b[0mself\u001b[0m\u001b[0;34m.\u001b[0m\u001b[0m_validate_set_axis\u001b[0m\u001b[0;34m(\u001b[0m\u001b[0maxis\u001b[0m\u001b[0;34m,\u001b[0m \u001b[0mnew_labels\u001b[0m\u001b[0;34m)\u001b[0m\u001b[0;34m\u001b[0m\u001b[0;34m\u001b[0m\u001b[0m\n\u001b[0m\u001b[1;32m    215\u001b[0m         \u001b[0mself\u001b[0m\u001b[0;34m.\u001b[0m\u001b[0maxes\u001b[0m\u001b[0;34m[\u001b[0m\u001b[0maxis\u001b[0m\u001b[0;34m]\u001b[0m \u001b[0;34m=\u001b[0m \u001b[0mnew_labels\u001b[0m\u001b[0;34m\u001b[0m\u001b[0;34m\u001b[0m\u001b[0m\n\u001b[1;32m    216\u001b[0m \u001b[0;34m\u001b[0m\u001b[0m\n",
      "\u001b[0;32m~/.local/lib/python3.8/site-packages/pandas/core/internals/base.py\u001b[0m in \u001b[0;36m_validate_set_axis\u001b[0;34m(self, axis, new_labels)\u001b[0m\n\u001b[1;32m     67\u001b[0m \u001b[0;34m\u001b[0m\u001b[0m\n\u001b[1;32m     68\u001b[0m         \u001b[0;32melif\u001b[0m \u001b[0mnew_len\u001b[0m \u001b[0;34m!=\u001b[0m \u001b[0mold_len\u001b[0m\u001b[0;34m:\u001b[0m\u001b[0;34m\u001b[0m\u001b[0;34m\u001b[0m\u001b[0m\n\u001b[0;32m---> 69\u001b[0;31m             raise ValueError(\n\u001b[0m\u001b[1;32m     70\u001b[0m                 \u001b[0;34mf\"Length mismatch: Expected axis has {old_len} elements, new \"\u001b[0m\u001b[0;34m\u001b[0m\u001b[0;34m\u001b[0m\u001b[0m\n\u001b[1;32m     71\u001b[0m                 \u001b[0;34mf\"values have {new_len} elements\"\u001b[0m\u001b[0;34m\u001b[0m\u001b[0;34m\u001b[0m\u001b[0m\n",
      "\u001b[0;31mValueError\u001b[0m: Length mismatch: Expected axis has 1 elements, new values have 71 elements"
     ]
    }
   ],
   "source": [
    "#cluster 0\n",
    "print(y_pred_centers.shape)\n",
    "cluster_0 = y_pred_centers[0,:]\n",
    "print(cluster_0)\n",
    "# retour du df\n",
    "df_0 = pd.DataFrame(cluster_0)\n",
    "# prendre la valeur absolute pour éviter la compensation\n",
    "df_0 = np.absolute(df_0)\n",
    "# ajouter les noms des colonnes\n",
    "df_0.columns = column_name[39:]\n",
    "\n",
    "\n",
    "#print(df_0)\n",
    "\n",
    "# trier les valeurs\n",
    "\n",
    "print(df_0)\n"
   ]
  },
  {
   "cell_type": "code",
   "execution_count": null,
   "metadata": {},
   "outputs": [],
   "source": []
  },
  {
   "cell_type": "code",
   "execution_count": null,
   "metadata": {},
   "outputs": [],
   "source": []
  },
  {
   "cell_type": "code",
   "execution_count": null,
   "metadata": {},
   "outputs": [],
   "source": []
  },
  {
   "cell_type": "code",
   "execution_count": null,
   "metadata": {},
   "outputs": [
    {
     "name": "stdout",
     "output_type": "stream",
     "text": [
      "Confort            47.892948\n",
      "Securite           47.855751\n",
      "Qualite            55.951500\n",
      "Force              52.341393\n",
      "Maintien           61.158876\n",
      "                     ...    \n",
      "Role              163.989608\n",
      "Performance       229.857031\n",
      "Meilleur          195.859254\n",
      "Individualiste    139.705215\n",
      "detente           183.039019\n",
      "Length: 71, dtype: float64\n"
     ]
    }
   ],
   "source": [
    "#cluster 0\n",
    "indices_cluster_0 = np.where(data[y_pred == 0])\n",
    "cluster_0 = data[y_pred == 0]\n",
    "\n",
    "# retour du df\n",
    "df_0 = pd.DataFrame(cluster_0)\n",
    "# prendre la valeur absolute pour éviter la compensation\n",
    "df_0 = np.absolute(df_0)\n",
    "df_0.columns = column_name[39:]\n",
    "#print(df_0)\n",
    "\n",
    "# trier par somme de toutes les colonnes\n",
    "sum_colonne_0 = df_0.sum()\n",
    "print(sum_colonne_0)"
   ]
  },
  {
   "cell_type": "code",
   "execution_count": null,
   "metadata": {},
   "outputs": [],
   "source": [
    "#cluster 1\n",
    "indices_cluster_1 = np.where(data[y_pred == 1])\n",
    "cluster_1 = data[y_pred == 1]\n",
    "\n",
    "# retour du df\n",
    "df_1 = pd.DataFrame(cluster_1)\n",
    "# prendre la valeur absolute pour éviter la compensation\n",
    "df_1 = np.absolute(df_1)\n",
    "df_1.columns = column_name[39:]\n",
    "#print(df_1)\n",
    "\n",
    "# trier par somme de toutes les colonnes\n",
    "sum_colonne_1 = df_1.sum()\n",
    "print(sum_colonne_1)"
   ]
  },
  {
   "cell_type": "code",
   "execution_count": null,
   "metadata": {},
   "outputs": [],
   "source": [
    "#cluster 2\n",
    "indices_cluster_2 = np.where(data[y_pred == 2])\n",
    "cluster_2 = data[y_pred == 2]\n",
    "\n",
    "# retour du df\n",
    "df_2 = pd.DataFrame(cluster_2)\n",
    "# prendre la valeur absolute pour éviter la compensation\n",
    "df_2 = np.absolute(df_2)\n",
    "df_2.columns = column_name[39:]\n",
    "#print(df_2)\n",
    "\n",
    "# trier par somme de toutes les colonnes\n",
    "sum_colonne_2 = df_2.sum()\n",
    "print(sum_colonne_2)"
   ]
  },
  {
   "cell_type": "code",
   "execution_count": null,
   "metadata": {},
   "outputs": [],
   "source": [
    "#cluster 3\n",
    "indices_cluster_3 = np.where(data[y_pred == 3])\n",
    "cluster_3 = data[y_pred == 3]\n",
    "\n",
    "# retour du df\n",
    "df_3 = pd.DataFrame(cluster_3)\n",
    "# prendre la valeur absolute pour éviter la compensation\n",
    "df_3 = np.absolute(df_3)\n",
    "df_3.columns = column_name[39:]\n",
    "#print(df_3)\n",
    "\n",
    "# trier par somme de toutes les colonnes\n",
    "sum_colonne_3 = df_3.sum()\n",
    "print(sum_colonne_3)"
   ]
  },
  {
   "cell_type": "code",
   "execution_count": null,
   "metadata": {},
   "outputs": [],
   "source": [
    "#cluster 4\n",
    "indices_cluster_4 = np.where(data[y_pred == 4])\n",
    "cluster_4 = data[y_pred == 4]\n",
    "\n",
    "# retour du df\n",
    "df_4 = pd.DataFrame(cluster_4)\n",
    "# prendre la valeur absolute pour éviter la compensation\n",
    "df_4 = np.absolute(df_4)\n",
    "df_4.columns = column_name[39:]\n",
    "#print(df_4)\n",
    "\n",
    "# trier par somme de toutes les colonnes\n",
    "sum_colonne_4 = df_4.sum()\n",
    "print(sum_colonne_4)"
   ]
  },
  {
   "cell_type": "code",
   "execution_count": null,
   "metadata": {},
   "outputs": [],
   "source": [
    "#cluster 5\n",
    "indices_cluster_5 = np.where(data[y_pred == 5])\n",
    "cluster_5 = data[y_pred == 5]\n",
    "\n",
    "# retour du df\n",
    "df_5 = pd.DataFrame(cluster_5)\n",
    "# prendre la valeur absolute pour éviter la compensation\n",
    "df_5 = np.absolute(df_5)\n",
    "df_5.columns = column_name[39:]\n",
    "#print(df_5)\n",
    "\n",
    "# trier par somme de toutes les colonnes\n",
    "sum_colonne_5 = df_5.sum()\n",
    "print(sum_colonne_5)"
   ]
  },
  {
   "cell_type": "code",
   "execution_count": null,
   "metadata": {},
   "outputs": [],
   "source": []
  },
  {
   "cell_type": "code",
   "execution_count": null,
   "metadata": {},
   "outputs": [],
   "source": []
  },
  {
   "cell_type": "code",
   "execution_count": null,
   "metadata": {},
   "outputs": [],
   "source": []
  },
  {
   "cell_type": "markdown",
   "metadata": {},
   "source": [
    "## data_train,data_test,data_validation"
   ]
  },
  {
   "cell_type": "code",
   "execution_count": null,
   "metadata": {},
   "outputs": [],
   "source": [
    "data_train = data[:int(nlin*0.70),:int(ncol*0.70)]\n",
    "data_test = data[int(nlin*0.70):,int(ncol*0.70):]"
   ]
  },
  {
   "cell_type": "code",
   "execution_count": null,
   "metadata": {},
   "outputs": [],
   "source": [
    "\n",
    "#pour construire un pre-processsing\n",
    "\n",
    "class MyStandardScaler:\n",
    "       \n",
    "    def fit(self,X_train):\n",
    "        self.mean_=np.mean(X_train,axis=0)\n",
    "        self.std_=np.std(X_train,axis=0)\n",
    "                \n",
    "    def transform(self,X):\n",
    "        \"\"\"\n",
    "        Cette méthode peut notamment s'appliquer aux données test. \n",
    "        Mais dans ce cas là, c'est le la moyenne et l'écart type des données train qui doit être utiliser. \n",
    "        \"\"\"\n",
    "        assert len(X.shape)==2, \"X must be a matrix\"\n",
    "        \n",
    "        \"res[i,j]=(X[i,j] - mean[j])/std[j]\"\n",
    "        res=(X-self.mean_[np.newaxis,:])/self.std_[np.newaxis,:]\n",
    "        return res\n",
    "\n",
    "    \n",
    "    def fit_transform(self,X_train):\n",
    "        self.fit(X_train)\n",
    "        return self.transform(X_train)"
   ]
  }
 ],
 "metadata": {
  "kernelspec": {
   "display_name": "Python 3",
   "language": "python",
   "name": "python3"
  },
  "language_info": {
   "codemirror_mode": {
    "name": "ipython",
    "version": 3
   },
   "file_extension": ".py",
   "mimetype": "text/x-python",
   "name": "python",
   "nbconvert_exporter": "python",
   "pygments_lexer": "ipython3",
   "version": "3.8.10"
  }
 },
 "nbformat": 4,
 "nbformat_minor": 4
}
