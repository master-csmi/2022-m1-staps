{
 "cells": [
  {
   "cell_type": "code",
   "execution_count": 1,
   "metadata": {},
   "outputs": [],
   "source": [
    "from pydoc import describe\n",
    "import pandas as pd\n",
    "import numpy as np\n",
    "import matplotlib.pyplot as plt\n",
    "from sklearn.linear_model import SGDClassifier\n",
    "from sklearn.impute import SimpleImputer\n",
    "from sklearn import preprocessing\n",
    "\n",
    "\n",
    "import scipy.stats as stats\n",
    "import pandas as pd\n",
    "import statsmodels.api as sm\n",
    "from statsmodels.formula.api import ols\n",
    "\n"
   ]
  },
  {
   "cell_type": "code",
   "execution_count": 2,
   "metadata": {},
   "outputs": [],
   "source": [
    "#Lecture des données\n",
    "data = pd.read_excel(\"/home/congo/Bureau/2022-m1-staps/data_motives/data_motives_final.xlsx\",\"haller\") "
   ]
  },
  {
   "cell_type": "code",
   "execution_count": 3,
   "metadata": {},
   "outputs": [],
   "source": [
    "# mise a zero des valeurs manquantes\n",
    "data = data.fillna(0)\n",
    "\n",
    "#stoker le nom des colonnes\n",
    "column_name = [c for c in data]"
   ]
  },
  {
   "cell_type": "code",
   "execution_count": 4,
   "metadata": {},
   "outputs": [
    {
     "name": "stdout",
     "output_type": "stream",
     "text": [
      "data (1075, 71)\n"
     ]
    }
   ],
   "source": [
    "data = data.to_numpy()\n",
    "data = data[:,39:]\n",
    "nlin ,ncol =data.shape\n",
    "print('data' ,data.shape)"
   ]
  },
  {
   "cell_type": "markdown",
   "metadata": {},
   "source": [
    "##                            Preprosseccing"
   ]
  },
  {
   "cell_type": "code",
   "execution_count": 5,
   "metadata": {},
   "outputs": [],
   "source": [
    "# rendre toute les valeurs positives\n",
    "data_correct = data\n",
    "data = np.absolute(data)"
   ]
  },
  {
   "cell_type": "code",
   "execution_count": 6,
   "metadata": {},
   "outputs": [],
   "source": [
    "#Supression des valeurs abérantes par rapport au seuil\n",
    "seuil = 5*np.std(data,axis=0,dtype = np.float64)\n",
    "#print(seuil)\n",
    "data = np.array(data)\n",
    "data_tmp = np.zeros_like(data)\n",
    "data_tmp[data < seuil] = data[data < seuil]\n",
    "data = data_tmp\n",
    "#print(data)"
   ]
  },
  {
   "cell_type": "code",
   "execution_count": 7,
   "metadata": {},
   "outputs": [],
   "source": [
    "#normalisation par ligne (avec ecartype nul) our avoir des valeurs entre 0 et 1\n",
    "\n",
    "#indices à suprimer\n",
    "max = np.max(data,axis = 1)\n",
    "indices = [i for i, e in enumerate(max) if e == 0]\n",
    "#print(indices)\n",
    "\n",
    "#suppression des lignes\n",
    "data_del = np.delete(data,indices,axis = 0)\n",
    "data = data_del\n",
    "\n",
    "#normalisation par ligne sans ecartype nul pour avoir des valeurs entre 0 et 1\n",
    "min = np.min(data,axis = 1)\n",
    "max = np.max(data,axis = 1)\n",
    "data = (data-min[:,np.newaxis])/max[:,np.newaxis]\n",
    "\n",
    "#print(data)\n"
   ]
  },
  {
   "cell_type": "code",
   "execution_count": 8,
   "metadata": {},
   "outputs": [],
   "source": [
    "import pandas as pd\n",
    "import openpyxl"
   ]
  },
  {
   "cell_type": "code",
   "execution_count": 9,
   "metadata": {},
   "outputs": [],
   "source": [
    "# retour des valeurs négatives\n",
    "\n",
    "#suppression des lignes\n",
    "data_del = np.delete(data_correct,indices,axis = 0)\n",
    "data_correct = data_del\n",
    "\n",
    "#print(\"data before = \", data[data < 0])\n",
    "\n",
    "#indices des valeurs négatives\n",
    "indices_val_neg_i = np.where(data_correct < 0)\n",
    "#print(\"indices_val_neg_i = \",indices_val_neg_i)\n",
    "\n",
    "data[indices_val_neg_i] = -1*data[indices_val_neg_i]\n",
    "\n",
    "\n",
    "#print(\"data after = \", data[data < 0] )\n",
    "nlin ,ncol =data.shape\n",
    "\n"
   ]
  },
  {
   "cell_type": "markdown",
   "metadata": {},
   "source": [
    " Cluster Algorithm "
   ]
  },
  {
   "cell_type": "markdown",
   "metadata": {},
   "source": [
    "## 1) CAH algorithm "
   ]
  },
  {
   "cell_type": "code",
   "execution_count": 10,
   "metadata": {},
   "outputs": [],
   "source": [
    "import scipy.cluster.hierarchy as sch\n",
    "from sklearn.cluster import AgglomerativeClustering\n",
    "import matplotlib.pyplot as plt\n",
    "import pandas as pd \n"
   ]
  },
  {
   "cell_type": "code",
   "execution_count": 11,
   "metadata": {},
   "outputs": [
    {
     "data": {
      "image/png": "[encoded data removed]",
      "text/plain": [
       "<Figure size 432x288 with 1 Axes>"
      ]
     },
     "metadata": {
      "needs_background": "light"
     },
     "output_type": "display_data"
    }
   ],
   "source": [
    "#create a dendrogram\n",
    "dendrogram = sch.dendrogram(sch.linkage(data,method='ward'))"
   ]
  },
  {
   "cell_type": "code",
   "execution_count": 12,
   "metadata": {},
   "outputs": [],
   "source": [
    "hc = AgglomerativeClustering(n_clusters=3,affinity= 'euclidean',linkage='ward' )\n"
   ]
  },
  {
   "cell_type": "code",
   "execution_count": 13,
   "metadata": {},
   "outputs": [
    {
     "data": {
      "text/plain": [
       "<matplotlib.collections.PathCollection at 0x7f7a0a538b20>"
      ]
     },
     "execution_count": 13,
     "metadata": {},
     "output_type": "execute_result"
    },
    {
     "data": {
      "image/png": "[encoded data removed]",
      "text/plain": [
       "<Figure size 432x288 with 1 Axes>"
      ]
     },
     "metadata": {
      "needs_background": "light"
     },
     "output_type": "display_data"
    }
   ],
   "source": [
    "y_hc = hc.fit_predict(data)\n",
    "plt.scatter(data[y_hc == 0,28],data[ y_hc == 0,28],s= 100,c = 'cyan')\n",
    "plt.scatter(data[y_hc == 1,0],data[ y_hc == 1,1],s= 100,c = 'red')\n",
    "plt.scatter(data[y_hc == 2,0],data[ y_hc == 2,1],s= 100,c = 'yellow')\n",
    "plt.scatter(data[y_hc == 3,0],data[ y_hc == 3,1],s= 100,c = 'black')\n",
    "plt.scatter(data[y_hc == 4,0],data[ y_hc == 4,1],s= 100,c = 'green')\n",
    "plt.scatter(data[y_hc == 5,0],data[ y_hc == 5,1],s= 100,c = 'green')\n"
   ]
  },
  {
   "cell_type": "markdown",
   "metadata": {},
   "source": [
    "## K-means"
   ]
  },
  {
   "cell_type": "code",
   "execution_count": 14,
   "metadata": {},
   "outputs": [],
   "source": [
    "from sklearn.cluster import KMeans\n"
   ]
  },
  {
   "cell_type": "code",
   "execution_count": 15,
   "metadata": {},
   "outputs": [
    {
     "data": {
      "text/plain": [
       "Text(0, 0.5, ' Cout du modele inertia')"
      ]
     },
     "execution_count": 15,
     "metadata": {},
     "output_type": "execute_result"
    },
    {
     "data": {
      "image/png": "[encoded data removed]",
      "text/plain": [
       "<Figure size 432x288 with 1 Axes>"
      ]
     },
     "metadata": {
      "needs_background": "light"
     },
     "output_type": "display_data"
    }
   ],
   "source": [
    "#nombre de cluster optimal \n",
    "# inertia calcule le cout (somme des distance entre les points d'un cluster et du centroide )\n",
    "# methode shadow aur=tre indicateur\n",
    "inertia =[]\n",
    "K_range =range(1,20)\n",
    "for k in K_range:\n",
    "    model = KMeans(n_clusters=k).fit(data)\n",
    "    inertia.append(model.inertia_)\n",
    "\n",
    "\n",
    "plt.plot(K_range,inertia)\n",
    "plt.xlabel(\" nombre de cluster\")\n",
    "plt.ylabel(\" Cout du modele inertia\")\n",
    "\n",
    "\n",
    "# 2-6 clusters ? la zone de \"coude\""
   ]
  },
  {
   "cell_type": "code",
   "execution_count": 16,
   "metadata": {},
   "outputs": [
    {
     "data": {
      "text/plain": [
       "Text(0.5, 0, \" nombre d'étudiant\")"
      ]
     },
     "execution_count": 16,
     "metadata": {},
     "output_type": "execute_result"
    },
    {
     "data": {
      "image/png": "[encoded data removed]",
      "text/plain": [
       "<Figure size 432x288 with 1 Axes>"
      ]
     },
     "metadata": {
      "needs_background": "light"
     },
     "output_type": "display_data"
    }
   ],
   "source": [
    "x_etudiant=range(0,nlin)\n",
    "\n",
    "n_cluster = 6\n",
    "model = KMeans(n_clusters= n_cluster)\n",
    "y_pred = model.fit_predict(data)\n",
    "\n",
    "plt.scatter(x_etudiant,y_pred)\n",
    "plt.ylabel(\" nombre de cluster\")\n",
    "plt.xlabel(\" nombre d'étudiant\")"
   ]
  },
  {
   "cell_type": "markdown",
   "metadata": {},
   "source": [
    "##                            Statistique Inférentielle sur chaque cluster 1"
   ]
  },
  {
   "cell_type": "code",
   "execution_count": 17,
   "metadata": {},
   "outputs": [],
   "source": [
    "# mettre data en df\n",
    "df_cluster = pd.DataFrame(data)\n",
    "\n",
    "df_cluster_const = df_cluster.astype(float,errors='raise')\n",
    "# renommer les colonne\n",
    "df_cluster.columns = column_name[39:]\n",
    "df_cluster_const.columns = column_name[39:]\n",
    "#print(df_cluster.shape)\n",
    "\n",
    "# # création d'une colonne cluster \n",
    "df_cluster['cluster'] = y_pred\n",
    "# #print(df_cluster.shape)"
   ]
  },
  {
   "cell_type": "code",
   "execution_count": 18,
   "metadata": {},
   "outputs": [],
   "source": [
    "# df_cluster.groupby('cluster').describe()"
   ]
  },
  {
   "cell_type": "code",
   "execution_count": null,
   "metadata": {},
   "outputs": [],
   "source": []
  },
  {
   "cell_type": "code",
   "execution_count": 19,
   "metadata": {},
   "outputs": [],
   "source": [
    "\n",
    "y_pred_0 = np.zeros(len(y_pred), dtype= int)\n",
    "y_pred_1 = np.zeros(len(y_pred), dtype= int)\n",
    "y_pred_2 = np.zeros(len(y_pred), dtype= int)\n",
    "y_pred_3 = np.zeros(len(y_pred), dtype= int)\n",
    "y_pred_4 = np.zeros(len(y_pred), dtype= int)\n",
    "y_pred_5 = np.zeros(len(y_pred), dtype= int)\n",
    "\n",
    "# print(y_pred[ y_pred == 5])\n",
    "\n",
    "for i in range (len(y_pred)) :\n",
    "    if ( y_pred[i] == 0) :\n",
    "        y_pred_0[i] = 1 \n",
    "    if ( y_pred[i] == 1) :\n",
    "        y_pred_1[i] = 1 \n",
    "\n",
    "    if ( y_pred[i] == 2) :\n",
    "        y_pred_2[i] = 1 \n",
    "\n",
    "    if ( y_pred[i] == 3) :\n",
    "        y_pred_3[i] = 1 \n",
    "\n",
    "    if ( y_pred[i] == 4) :\n",
    "        y_pred_4[i] = 1 \n",
    "\n",
    "    if ( y_pred[i] == 5) :\n",
    "        y_pred_5[i] = 1\n",
    "             \n",
    "        \n",
    "# print(y_pred_5[y_pred_5 == 1])\n",
    "\n",
    "# # création d'une colonne cluster0 ,1 ,2  \n",
    "df_cluster['cluster_0'] = y_pred_0\n",
    "df_cluster['cluster_1'] = y_pred_1\n",
    "df_cluster['cluster_2'] = y_pred_2\n",
    "df_cluster['cluster_3'] = y_pred_3\n",
    "df_cluster['cluster_4'] = y_pred_4\n",
    "df_cluster['cluster_5'] = y_pred_5\n",
    "\n",
    "# print(df_cluster.shape)\n"
   ]
  },
  {
   "cell_type": "code",
   "execution_count": 20,
   "metadata": {},
   "outputs": [],
   "source": [
    "# 'Confiance en soi' par 'Confiance_en_soi'\n",
    "# print(column_name[90])\n",
    "column_name[90] = 'Confiance_en_soi'\n",
    "# print(column_name[90])\n",
    "df_cluster = df_cluster.rename(columns={'Confiance en soi':'Confiance_en_soi'}) \n",
    "\n",
    "# print(df_cluster['Confiance_en_soi'])"
   ]
  },
  {
   "cell_type": "code",
   "execution_count": 21,
   "metadata": {},
   "outputs": [],
   "source": [
    "# df_cluster.info()\n",
    "# probleme de type alors on le change\n",
    "df_cluster = df_cluster.astype(float,errors='raise')\n",
    "# df_cluster.info()"
   ]
  },
  {
   "cell_type": "markdown",
   "metadata": {},
   "source": [
    "renommer les lignes ( remplacer 0 par etudiant0)"
   ]
  },
  {
   "cell_type": "code",
   "execution_count": 22,
   "metadata": {},
   "outputs": [],
   "source": [
    "line_name = ['etudiant' + str(i) for i in range(nlin)]\n",
    "# print(line_name)\n",
    "df_cluster.index = line_name\n",
    "df_cluster_const.index = line_name\n",
    "# print(df_cluster)"
   ]
  },
  {
   "cell_type": "code",
   "execution_count": null,
   "metadata": {},
   "outputs": [],
   "source": []
  },
  {
   "cell_type": "code",
   "execution_count": 23,
   "metadata": {},
   "outputs": [],
   "source": [
    "with pd.ExcelWriter('test.xlsx') as writer:\n",
    "    df_cluster.to_excel(writer, freeze_panes=(1,1))"
   ]
  },
  {
   "cell_type": "code",
   "execution_count": 24,
   "metadata": {},
   "outputs": [],
   "source": [
    "# Çağatay Demiralp <cagatay@cs.stanford.edu>"
   ]
  },
  {
   "cell_type": "code",
   "execution_count": 25,
   "metadata": {},
   "outputs": [],
   "source": [
    "import statsmodels.formula.api as smf\n"
   ]
  },
  {
   "cell_type": "code",
   "execution_count": 26,
   "metadata": {},
   "outputs": [],
   "source": [
    "# \"cluster_0 ~ detente + Confort + .... \"\n",
    "\n",
    "List_qualif = column_name[39:]\n",
    "chaine = \"cluster_0 ~ \"\n",
    "for qualif in List_qualif : # pour chaque qualité \n",
    "    chaine += '+'\n",
    "    chaine +=  str(qualif) \n",
    "\n",
    "# print(chaine)"
   ]
  },
  {
   "cell_type": "code",
   "execution_count": 27,
   "metadata": {},
   "outputs": [
    {
     "name": "stdout",
     "output_type": "stream",
     "text": [
      "                            OLS Regression Results                            \n",
      "==============================================================================\n",
      "Dep. Variable:              cluster_0   R-squared:                       0.399\n",
      "Model:                            OLS   Adj. R-squared:                  0.355\n",
      "Method:                 Least Squares   F-statistic:                     9.132\n",
      "Date:                Wed, 18 May 2022   Prob (F-statistic):           2.15e-68\n",
      "Time:                        17:28:38   Log-Likelihood:                 19.656\n",
      "No. Observations:                1050   AIC:                             104.7\n",
      "Df Residuals:                     978   BIC:                             461.6\n",
      "Df Model:                          71                                         \n",
      "Covariance Type:            nonrobust                                         \n",
      "====================================================================================\n",
      "                       coef    std err          t      P>|t|      [0.025      0.975]\n",
      "------------------------------------------------------------------------------------\n",
      "Intercept           -0.1804      0.021     -8.748      0.000      -0.221      -0.140\n",
      "Confort              0.1704      0.042      4.027      0.000       0.087       0.253\n",
      "Securite             0.1215      0.042      2.894      0.004       0.039       0.204\n",
      "Qualite              0.0458      0.048      0.962      0.336      -0.048       0.139\n",
      "Force                0.0496      0.052      0.960      0.337      -0.052       0.151\n",
      "Maintien             0.0859      0.047      1.812      0.070      -0.007       0.179\n",
      "Puissance            0.0476      0.059      0.811      0.418      -0.068       0.163\n",
      "Competition          0.1498      0.063      2.377      0.018       0.026       0.274\n",
      "Muscle               0.0788      0.059      1.339      0.181      -0.037       0.194\n",
      "Beaute              -0.0238      0.047     -0.502      0.616      -0.117       0.069\n",
      "Galbant             -0.1089      0.030     -3.588      0.000      -0.168      -0.049\n",
      "Silhouette          -0.0398      0.044     -0.898      0.370      -0.127       0.047\n",
      "Douceur             -0.0667      0.052     -1.273      0.203      -0.170       0.036\n",
      "Se_defouler          0.0941      0.057      1.662      0.097      -0.017       0.205\n",
      "Energie              0.2024      0.060      3.349      0.001       0.084       0.321\n",
      "Legerete             0.0202      0.050      0.409      0.683      -0.077       0.117\n",
      "Technicite           0.2347      0.053      4.397      0.000       0.130       0.339\n",
      "Se_relaxer          -0.0105      0.053     -0.196      0.845      -0.115       0.094\n",
      "Bien_etre            0.0869      0.053      1.653      0.099      -0.016       0.190\n",
      "Liberte              0.0728      0.049      1.487      0.137      -0.023       0.169\n",
      "Fluidite             0.0124      0.047      0.264      0.792      -0.080       0.105\n",
      "Resistance           0.0675      0.049      1.382      0.167      -0.028       0.163\n",
      "Inconfort           -0.0498      0.045     -1.100      0.272      -0.139       0.039\n",
      "Repetition           0.0290      0.038      0.769      0.442      -0.045       0.103\n",
      "Intensite            0.0853      0.052      1.655      0.098      -0.016       0.186\n",
      "Ralentissement       0.0145      0.046      0.318      0.750      -0.075       0.104\n",
      "Acceleration        -0.0372      0.056     -0.664      0.507      -0.147       0.073\n",
      "Nouveaute           -0.0862      0.045     -1.898      0.058      -0.175       0.003\n",
      "Endurance            0.0613      0.052      1.189      0.235      -0.040       0.163\n",
      "Impact               0.0337      0.041      0.827      0.408      -0.046       0.114\n",
      "Recuperation         0.0689      0.041      1.697      0.090      -0.011       0.148\n",
      "Tolerance            0.0145      0.037      0.387      0.699      -0.059       0.088\n",
      "Decouragement       -0.0244      0.045     -0.541      0.589      -0.113       0.064\n",
      "Perseverance        -0.0372      0.049     -0.759      0.448      -0.134       0.059\n",
      "Objectif             0.2276      0.051      4.426      0.000       0.127       0.329\n",
      "Passivite            0.0166      0.043      0.388      0.698      -0.067       0.101\n",
      "Brulure             -0.0105      0.039     -0.266      0.790      -0.088       0.067\n",
      "Fatigue              0.0891      0.042      2.096      0.036       0.006       0.172\n",
      "Transpiration        0.0704      0.053      1.324      0.186      -0.034       0.175\n",
      "Rythme              -0.0157      0.041     -0.380      0.704      -0.097       0.065\n",
      "Difficulte           0.0696      0.041      1.699      0.090      -0.011       0.150\n",
      "Facilite             0.0883      0.041      2.169      0.030       0.008       0.168\n",
      "Lent                -0.0422      0.042     -1.010      0.313      -0.124       0.040\n",
      "Rapide              -0.0359      0.048     -0.748      0.455      -0.130       0.058\n",
      "Ennuyeux             0.0162      0.051      0.316      0.752      -0.084       0.116\n",
      "Regulier            -0.0246      0.034     -0.729      0.466      -0.091       0.042\n",
      "Equilibre           -0.0105      0.036     -0.292      0.770      -0.081       0.060\n",
      "Culpabilite         -0.0444      0.046     -0.961      0.337      -0.135       0.046\n",
      "Challenge           -0.0565      0.047     -1.200      0.230      -0.149       0.036\n",
      "Progression         -0.0543      0.046     -1.177      0.239      -0.145       0.036\n",
      "Accompagnement       0.1047      0.031      3.328      0.001       0.043       0.166\n",
      "Lassitude            0.1359      0.048      2.852      0.004       0.042       0.229\n",
      "Confiance_en_soi     0.0337      0.039      0.869      0.385      -0.042       0.110\n",
      "Actif                0.0213      0.044      0.490      0.624      -0.064       0.107\n",
      "Stretchcing          0.0108      0.023      0.469      0.639      -0.034       0.056\n",
      "Efficacite          -0.0375      0.035     -1.056      0.291      -0.107       0.032\n",
      "Discipline          -0.0824      0.034     -2.424      0.016      -0.149      -0.016\n",
      "Muscultation         0.0070      0.033      0.212      0.832      -0.058       0.072\n",
      "Cardio               0.0046      0.041      0.112      0.911      -0.075       0.085\n",
      "Vital               -0.0305      0.034     -0.891      0.373      -0.098       0.037\n",
      "Depassement         -0.0232      0.035     -0.669      0.503      -0.091       0.045\n",
      "Calme                0.0111      0.035      0.315      0.753      -0.058       0.080\n",
      "Serenite             0.0270      0.034      0.799      0.424      -0.039       0.093\n",
      "Sexy                 0.0141      0.031      0.462      0.644      -0.046       0.074\n",
      "Plaisir             -0.0011      0.034     -0.031      0.975      -0.068       0.066\n",
      "Groupe               0.0977      0.035      2.756      0.006       0.028       0.167\n",
      "Partage             -0.0104      0.035     -0.300      0.764      -0.079       0.058\n",
      "Role                 0.0162      0.026      0.634      0.526      -0.034       0.066\n",
      "Performance         -0.1772      0.038     -4.667      0.000      -0.252      -0.103\n",
      "Meilleur            -0.0239      0.029     -0.817      0.414      -0.081       0.033\n",
      "Individualiste       0.0064      0.026      0.242      0.809      -0.045       0.058\n",
      "detente              0.0435      0.028      1.529      0.127      -0.012       0.099\n",
      "==============================================================================\n",
      "Omnibus:                      262.235   Durbin-Watson:                   1.905\n",
      "Prob(Omnibus):                  0.000   Jarque-Bera (JB):              589.416\n",
      "Skew:                           1.367   Prob(JB):                    1.02e-128\n",
      "Kurtosis:                       5.449   Cond. No.                         19.9\n",
      "==============================================================================\n",
      "\n",
      "Notes:\n",
      "[1] Standard Errors assume that the covariance matrix of the errors is correctly specified.\n"
     ]
    }
   ],
   "source": [
    "\n",
    "model = smf.ols(chaine, data=df_cluster).fit()\n",
    "print(model.summary())"
   ]
  },
  {
   "cell_type": "code",
   "execution_count": null,
   "metadata": {},
   "outputs": [],
   "source": []
  },
  {
   "cell_type": "markdown",
   "metadata": {},
   "source": [
    "## OLS with dummy variables"
   ]
  },
  {
   "cell_type": "code",
   "execution_count": 28,
   "metadata": {},
   "outputs": [],
   "source": [
    "import matplotlib.pyplot as plt\n",
    "import numpy as np\n",
    "import pandas as pd\n",
    "import statsmodels.api as sm"
   ]
  },
  {
   "cell_type": "code",
   "execution_count": 29,
   "metadata": {},
   "outputs": [],
   "source": [
    "# rendre y_pred_0 en dummy variables ???\n",
    "\n",
    "dummy = pd.get_dummies(y_pred).values\n",
    "# print(dummy)"
   ]
  },
  {
   "cell_type": "code",
   "execution_count": null,
   "metadata": {},
   "outputs": [],
   "source": []
  },
  {
   "cell_type": "markdown",
   "metadata": {},
   "source": [
    "cluster 0"
   ]
  },
  {
   "cell_type": "code",
   "execution_count": 30,
   "metadata": {},
   "outputs": [
    {
     "name": "stdout",
     "output_type": "stream",
     "text": [
      "                                 OLS Regression Results                                \n",
      "=======================================================================================\n",
      "Dep. Variable:                      y   R-squared (uncentered):                   0.420\n",
      "Model:                            OLS   Adj. R-squared (uncentered):              0.377\n",
      "Method:                 Least Squares   F-statistic:                              9.966\n",
      "Date:                Wed, 18 May 2022   Prob (F-statistic):                    3.07e-75\n",
      "Time:                        17:28:38   Log-Likelihood:                         -19.896\n",
      "No. Observations:                1050   AIC:                                      181.8\n",
      "Df Residuals:                     979   BIC:                                      533.7\n",
      "Df Model:                          71                                                  \n",
      "Covariance Type:            nonrobust                                                  \n",
      "====================================================================================\n",
      "                       coef    std err          t      P>|t|      [0.025      0.975]\n",
      "------------------------------------------------------------------------------------\n",
      "Confort              0.1177      0.043      2.707      0.007       0.032       0.203\n",
      "Securite             0.0913      0.043      2.104      0.036       0.006       0.177\n",
      "Qualite              0.0309      0.049      0.625      0.532      -0.066       0.128\n",
      "Force               -0.0197      0.053     -0.372      0.710      -0.124       0.084\n",
      "Maintien             0.0474      0.049      0.967      0.334      -0.049       0.143\n",
      "Puissance            0.0299      0.061      0.491      0.624      -0.090       0.149\n",
      "Competition          0.1492      0.065      2.280      0.023       0.021       0.278\n",
      "Muscle               0.0991      0.061      1.623      0.105      -0.021       0.219\n",
      "Beaute              -0.0330      0.049     -0.670      0.503      -0.130       0.064\n",
      "Galbant             -0.1852      0.030     -6.140      0.000      -0.244      -0.126\n",
      "Silhouette          -0.0579      0.046     -1.260      0.208      -0.148       0.032\n",
      "Douceur             -0.0723      0.054     -1.328      0.184      -0.179       0.034\n",
      "Se_defouler          0.0599      0.059      1.023      0.306      -0.055       0.175\n",
      "Energie              0.1953      0.063      3.114      0.002       0.072       0.318\n",
      "Legerete            -0.0054      0.051     -0.106      0.916      -0.106       0.095\n",
      "Technicite           0.2340      0.055      4.223      0.000       0.125       0.343\n",
      "Se_relaxer          -0.0286      0.055     -0.517      0.606      -0.137       0.080\n",
      "Bien_etre            0.0896      0.055      1.643      0.101      -0.017       0.197\n",
      "Liberte              0.0496      0.051      0.977      0.329      -0.050       0.149\n",
      "Fluidite             0.0018      0.049      0.036      0.971      -0.094       0.098\n",
      "Resistance           0.0521      0.051      1.028      0.304      -0.047       0.152\n",
      "Inconfort           -0.0537      0.047     -1.142      0.254      -0.146       0.039\n",
      "Repetition          -0.0027      0.039     -0.068      0.945      -0.079       0.074\n",
      "Intensite            0.0605      0.053      1.134      0.257      -0.044       0.165\n",
      "Ralentissement       0.0175      0.047      0.369      0.712      -0.075       0.110\n",
      "Acceleration        -0.0244      0.058     -0.421      0.674      -0.138       0.090\n",
      "Nouveaute           -0.0994      0.047     -2.110      0.035      -0.192      -0.007\n",
      "Endurance            0.0958      0.053      1.795      0.073      -0.009       0.201\n",
      "Impact               0.0369      0.042      0.874      0.382      -0.046       0.120\n",
      "Recuperation         0.0614      0.042      1.459      0.145      -0.021       0.144\n",
      "Tolerance            0.0255      0.039      0.658      0.511      -0.051       0.102\n",
      "Decouragement       -0.0628      0.047     -1.346      0.179      -0.154       0.029\n",
      "Perseverance        -0.0483      0.051     -0.949      0.343      -0.148       0.052\n",
      "Objectif             0.2105      0.053      3.946      0.000       0.106       0.315\n",
      "Passivite            0.0164      0.044      0.369      0.713      -0.071       0.104\n",
      "Brulure             -0.0069      0.041     -0.169      0.866      -0.087       0.073\n",
      "Fatigue              0.0789      0.044      1.791      0.074      -0.008       0.165\n",
      "Transpiration        0.0691      0.055      1.252      0.211      -0.039       0.177\n",
      "Rythme              -0.0120      0.043     -0.280      0.779      -0.096       0.072\n",
      "Difficulte           0.0350      0.042      0.827      0.409      -0.048       0.118\n",
      "Facilite             0.0766      0.042      1.815      0.070      -0.006       0.160\n",
      "Lent                -0.0664      0.043     -1.534      0.125      -0.151       0.019\n",
      "Rapide              -0.0302      0.050     -0.606      0.545      -0.128       0.067\n",
      "Ennuyeux             0.0005      0.053      0.010      0.992      -0.104       0.105\n",
      "Regulier            -0.0354      0.035     -1.012      0.312      -0.104       0.033\n",
      "Equilibre           -0.0212      0.037     -0.571      0.568      -0.094       0.052\n",
      "Culpabilite         -0.0720      0.048     -1.505      0.133      -0.166       0.022\n",
      "Challenge           -0.0947      0.049     -1.948      0.052      -0.190       0.001\n",
      "Progression         -0.0906      0.048     -1.900      0.058      -0.184       0.003\n",
      "Accompagnement       0.1142      0.033      3.500      0.000       0.050       0.178\n",
      "Lassitude            0.1376      0.049      2.784      0.005       0.041       0.235\n",
      "Confiance en soi     0.0442      0.040      1.097      0.273      -0.035       0.123\n",
      "Actif                0.0145      0.045      0.321      0.749      -0.074       0.103\n",
      "Stretchcing       -6.86e-05      0.024     -0.003      0.998      -0.047       0.047\n",
      "Efficacite          -0.0582      0.037     -1.583      0.114      -0.130       0.014\n",
      "Discipline          -0.0762      0.035     -2.161      0.031      -0.145      -0.007\n",
      "Muscultation         0.0259      0.034      0.759      0.448      -0.041       0.093\n",
      "Cardio              -0.0073      0.042     -0.172      0.864      -0.090       0.076\n",
      "Vital               -0.0243      0.036     -0.683      0.495      -0.094       0.045\n",
      "Depassement         -0.0301      0.036     -0.837      0.403      -0.101       0.040\n",
      "Calme                0.0074      0.037      0.202      0.840      -0.064       0.079\n",
      "Serenite             0.0249      0.035      0.710      0.478      -0.044       0.094\n",
      "Sexy                 0.0137      0.032      0.431      0.667      -0.049       0.076\n",
      "Plaisir             -0.0347      0.035     -0.984      0.325      -0.104       0.034\n",
      "Groupe               0.0698      0.037      1.904      0.057      -0.002       0.142\n",
      "Partage             -0.0023      0.036     -0.064      0.949      -0.073       0.069\n",
      "Role                 0.0189      0.026      0.714      0.475      -0.033       0.071\n",
      "Performance         -0.1724      0.039     -4.375      0.000      -0.250      -0.095\n",
      "Meilleur            -0.0199      0.030     -0.658      0.511      -0.079       0.040\n",
      "Individualiste      -0.0078      0.027     -0.286      0.775      -0.062       0.046\n",
      "detente              0.0361      0.030      1.221      0.222      -0.022       0.094\n",
      "==============================================================================\n",
      "Omnibus:                      344.934   Durbin-Watson:                   1.881\n",
      "Prob(Omnibus):                  0.000   Jarque-Bera (JB):              928.476\n",
      "Skew:                           1.714   Prob(JB):                    2.42e-202\n",
      "Kurtosis:                       6.077   Cond. No.                         18.1\n",
      "==============================================================================\n",
      "\n",
      "Notes:\n",
      "[1] R² is computed without centering (uncentered) since the model does not contain a constant.\n",
      "[2] Standard Errors assume that the covariance matrix of the errors is correctly specified.\n"
     ]
    }
   ],
   "source": [
    "\n",
    "model = sm.OLS(y_pred_0, df_cluster_const)\n",
    "results = model.fit()\n",
    "print(results.summary())\n"
   ]
  },
  {
   "cell_type": "code",
   "execution_count": 31,
   "metadata": {},
   "outputs": [
    {
     "name": "stdout",
     "output_type": "stream",
     "text": [
      "Parameters: \n",
      " Galbant       -0.185214\n",
      "Performance   -0.172397\n",
      "Nouveaute     -0.099409\n",
      "Challenge     -0.094728\n",
      "Progression   -0.090627\n",
      "                 ...   \n",
      "Lassitude      0.137649\n",
      "Competition    0.149186\n",
      "Energie        0.195316\n",
      "Objectif       0.210512\n",
      "Technicite     0.233974\n",
      "Length: 71, dtype: float64\n"
     ]
    }
   ],
   "source": [
    "print(\"Parameters: \\n\", results.params.sort_values())"
   ]
  },
  {
   "cell_type": "code",
   "execution_count": 32,
   "metadata": {},
   "outputs": [
    {
     "name": "stdout",
     "output_type": "stream",
     "text": [
      "R2:  0.41952920664769844\n"
     ]
    }
   ],
   "source": [
    "print(\"R2: \", results.rsquared)"
   ]
  },
  {
   "cell_type": "code",
   "execution_count": 33,
   "metadata": {},
   "outputs": [
    {
     "name": "stdout",
     "output_type": "stream",
     "text": [
      "Standard errors:  Stretchcing       0.023784\n",
      "Role              0.026477\n",
      "Individualiste    0.027372\n",
      "detente           0.029524\n",
      "Galbant           0.030167\n",
      "                    ...   \n",
      "Se_defouler       0.058579\n",
      "Puissance         0.060886\n",
      "Muscle            0.061071\n",
      "Energie           0.062729\n",
      "Competition       0.065421\n",
      "Length: 71, dtype: float64\n"
     ]
    }
   ],
   "source": [
    "print(\"Standard errors: \", results.bse.sort_values())"
   ]
  },
  {
   "cell_type": "code",
   "execution_count": null,
   "metadata": {},
   "outputs": [],
   "source": []
  },
  {
   "cell_type": "code",
   "execution_count": null,
   "metadata": {},
   "outputs": [],
   "source": []
  },
  {
   "cell_type": "code",
   "execution_count": null,
   "metadata": {},
   "outputs": [],
   "source": []
  },
  {
   "cell_type": "markdown",
   "metadata": {},
   "source": [
    "##                            Statistique Inférentielle sur chaque cluster 2"
   ]
  },
  {
   "cell_type": "markdown",
   "metadata": {},
   "source": [
    "Fval et pval"
   ]
  },
  {
   "cell_type": "code",
   "execution_count": 54,
   "metadata": {},
   "outputs": [
    {
     "name": "stderr",
     "output_type": "stream",
     "text": [
      "/home/congo/.local/lib/python3.8/site-packages/sklearn/feature_selection/_univariate_selection.py:113: RuntimeWarning: divide by zero encountered in true_divide\n",
      "  f = msb / msw\n"
     ]
    }
   ],
   "source": [
    "# quels qualif influence le plus le partitionnement\n",
    "from sklearn.feature_selection import f_classif\n",
    "F,pval = f_classif(df_cluster,y_pred)\n",
    "df_List_qualif = df_cluster.columns\n",
    "\n",
    "df_pval_and_qualif = pd.DataFrame(pval,index = df_List_qualif,columns= ['pval'])\n",
    "# print(df_pval_and_qualif)\n",
    "\n",
    "#trier des valeurs \n",
    "df_pval_and_qualif = df_pval_and_qualif.sort_values(by = 'pval')\n",
    "\n",
    "# print(df_pval_and_qualif[15])\n",
    "\n"
   ]
  },
  {
   "cell_type": "code",
   "execution_count": null,
   "metadata": {},
   "outputs": [],
   "source": []
  },
  {
   "cell_type": "code",
   "execution_count": null,
   "metadata": {},
   "outputs": [],
   "source": [
    "\n"
   ]
  },
  {
   "cell_type": "code",
   "execution_count": null,
   "metadata": {},
   "outputs": [],
   "source": []
  },
  {
   "cell_type": "code",
   "execution_count": 55,
   "metadata": {},
   "outputs": [],
   "source": [
    "# es -ce ca la bonne question : comment evolue les clusters par rapports au qualificatif ??\n",
    "\n",
    "# on cherche a analyser l'influence des qualifiquatif sur chaque cluster"
   ]
  },
  {
   "cell_type": "code",
   "execution_count": null,
   "metadata": {},
   "outputs": [],
   "source": []
  },
  {
   "cell_type": "code",
   "execution_count": null,
   "metadata": {},
   "outputs": [],
   "source": []
  },
  {
   "cell_type": "code",
   "execution_count": 56,
   "metadata": {},
   "outputs": [],
   "source": [
    "# plt.scatter(df_cluster.loc[:,'Galbant'],df_cluster.loc[:,'Stretchcing'],c=df_cluster.loc[:,'cluster'])\n"
   ]
  },
  {
   "cell_type": "code",
   "execution_count": 57,
   "metadata": {},
   "outputs": [],
   "source": [
    "# \"cluster ~ detente + Confort + .... \"\n",
    "\n",
    "List_qualif = column_name[39:]\n",
    "chaine = \"cluster ~ \"\n",
    "for qualif in List_qualif : # pour chaque qualité \n",
    "    chaine += '+'\n",
    "    chaine +=  str(qualif) \n",
    "    model = ols(chaine, data=df_cluster).fit()\n",
    "aov_table = sm.stats.anova_lm(model, typ=3)\n",
    "# print(aov_table)\n",
    "\n"
   ]
  },
  {
   "cell_type": "code",
   "execution_count": null,
   "metadata": {},
   "outputs": [],
   "source": []
  },
  {
   "cell_type": "code",
   "execution_count": 58,
   "metadata": {},
   "outputs": [],
   "source": [
    "# \"cluster ~ detente \"  et conservation de pval <  0.05\n",
    "\n",
    "List_pval_and_qualif = []\n",
    "List_pval = []\n",
    "df_List_qualif = []\n",
    "List_qualif = column_name[39:]\n",
    "chaine = ''\n",
    "for qualif in List_qualif : # pour chaque qualité \n",
    "    chaine = \"cluster ~ \"\n",
    "    chaine +=  str(qualif)\n",
    "    model = ols(chaine, data=df_cluster).fit()\n",
    "    chaine = ''\n",
    "    aov_table = sm.stats.anova_lm(model, typ=3)\n",
    "    # aov_table = aov_table.to_numpy()\n",
    "    pval = aov_table.loc[str(qualif),'PR(>F)']\n",
    "    if pval < 0.05:\n",
    "        List_pval.append(pval)\n",
    "        df_List_qualif.append(qualif)\n",
    "        \n",
    "\n",
    "\n",
    "# on affiche les qualif qui influence le plus le cluster   \n",
    "\n",
    "df_pval_and_qualif = pd.DataFrame(List_pval,index = df_List_qualif,columns= ['pval'])\n",
    "# print(df_pval_and_qualif.sort_values(by = 'pval'))\n",
    "\n",
    "\n",
    "# les variables les moins important\n",
    "#print(len(df_List_qualif), len(List_qualif))\n",
    "\n",
    "# print(set(List_qualif) - set(df_List_qualif))"
   ]
  },
  {
   "cell_type": "code",
   "execution_count": null,
   "metadata": {},
   "outputs": [],
   "source": []
  },
  {
   "cell_type": "code",
   "execution_count": 59,
   "metadata": {},
   "outputs": [
    {
     "name": "stdout",
     "output_type": "stream",
     "text": [
      "(3, 4)\n",
      "                sum_sq      df            F         PR(>F)\n",
      "Intercept  4890.473649     1.0  3201.778877  7.218299e-321\n",
      "Confort     130.311158     1.0    85.314336   1.374330e-19\n",
      "Residual   1600.740270  1048.0          NaN            NaN\n",
      "1.374330414319179e-19\n"
     ]
    }
   ],
   "source": [
    "chaine = \"cluster ~ Confort\"\n",
    "\n",
    "model = ols(chaine, data=df_cluster).fit()\n",
    "\n",
    "aov_table = sm.stats.anova_lm(model, typ=3)\n",
    "print(aov_table.shape)\n",
    "print(aov_table)\n",
    "aov_table = aov_table.to_numpy()\n",
    "print(aov_table[1,3])"
   ]
  },
  {
   "cell_type": "code",
   "execution_count": null,
   "metadata": {},
   "outputs": [],
   "source": []
  },
  {
   "cell_type": "code",
   "execution_count": null,
   "metadata": {},
   "outputs": [],
   "source": []
  },
  {
   "cell_type": "code",
   "execution_count": null,
   "metadata": {},
   "outputs": [],
   "source": []
  },
  {
   "cell_type": "code",
   "execution_count": 60,
   "metadata": {},
   "outputs": [],
   "source": [
    "# regresion logistic"
   ]
  },
  {
   "cell_type": "code",
   "execution_count": 61,
   "metadata": {},
   "outputs": [],
   "source": [
    "# \"cluster ~ detente \"  et conservation de pval <  0.05\n",
    "\n",
    "# List_pval_and_qualif = []\n",
    "# List_pval = []\n",
    "# df_List_qualif = []\n",
    "# List_qualif = column_name[39:]\n",
    "# chaine = ''\n",
    "# for qualif in List_qualif : # pour chaque qualité \n",
    "#     chaine = \"cluster ~ \"\n",
    "#     chaine +=  str(qualif)\n",
    "#     chaine = ''\n",
    "#     model = smf.logit(chaine, data = df_cluster).fit()\n",
    "#     # aov_table = aov_table.to_numpy()\n",
    "#     pval = model.loc[str(qualif),'PR(>F)']\n",
    "#     if pval < 0.05:\n",
    "#         List_pval.append(pval)\n",
    "#         df_List_qualif.append(qualif)\n",
    "        \n",
    "\n",
    "\n",
    "# on affiche les qualif qui influence le plus le cluster   \n",
    "\n",
    "df_pval_and_qualif = pd.DataFrame(List_pval,index = df_List_qualif,columns= ['pval'])\n",
    "# print(df_pval_and_qualif.sort_values(by = 'pval'))\n",
    "\n",
    "\n",
    "# les variables les moins important\n",
    "#print(len(df_List_qualif), len(List_qualif))\n",
    "\n",
    "# print(set(List_qualif) - set(df_List_qualif))"
   ]
  },
  {
   "cell_type": "code",
   "execution_count": null,
   "metadata": {},
   "outputs": [],
   "source": []
  },
  {
   "cell_type": "code",
   "execution_count": null,
   "metadata": {},
   "outputs": [],
   "source": []
  },
  {
   "cell_type": "code",
   "execution_count": null,
   "metadata": {},
   "outputs": [],
   "source": []
  },
  {
   "cell_type": "code",
   "execution_count": null,
   "metadata": {},
   "outputs": [],
   "source": []
  },
  {
   "cell_type": "markdown",
   "metadata": {},
   "source": [
    "##   autres"
   ]
  },
  {
   "cell_type": "code",
   "execution_count": 62,
   "metadata": {},
   "outputs": [
    {
     "name": "stdout",
     "output_type": "stream",
     "text": [
      "Groupe         45.664533\n",
      "Objectif       44.475991\n",
      "Plaisir        42.653586\n",
      "Partage        42.401593\n",
      "Repetition     40.868134\n",
      "                 ...    \n",
      "Lent           22.880645\n",
      "Douceur        22.388048\n",
      "Lassitude      18.088251\n",
      "Culpabilite    16.797691\n",
      "Ennuyeux       16.220485\n",
      "Length: 71, dtype: object\n"
     ]
    }
   ],
   "source": [
    "#cluster 0\n",
    "indices_cluster_0 = np.where(data[y_pred == 0])\n",
    "cluster_0 = data[y_pred == 0]\n",
    "\n",
    "# retour du df\n",
    "df_0 = pd.DataFrame(cluster_0)\n",
    "# prendre la valeur absolute pour éviter la compensation\n",
    "df_0 = np.absolute(df_0)\n",
    "df_0.columns = column_name[39:]\n",
    "#print(df_0)\n",
    "\n",
    "#statistique inférentielle sur chaque cluster \n",
    "\n",
    "# faire pour chaque cluster une statistique inférentielle \n",
    "\n",
    "# les mots qui caractérise les clusters\n",
    "\n",
    "# trier par somme de toutes les colonnes\n",
    "sum_colonne_0 = df_0.sum()\n",
    "print(sum_colonne_0.sort_values(ascending=False))\n"
   ]
  },
  {
   "cell_type": "code",
   "execution_count": null,
   "metadata": {},
   "outputs": [],
   "source": []
  },
  {
   "cell_type": "code",
   "execution_count": null,
   "metadata": {},
   "outputs": [],
   "source": []
  },
  {
   "cell_type": "markdown",
   "metadata": {},
   "source": [
    "##                            fuzzy cluster"
   ]
  },
  {
   "cell_type": "code",
   "execution_count": 68,
   "metadata": {},
   "outputs": [],
   "source": [
    "from fcmeans import FCM\n"
   ]
  },
  {
   "cell_type": "code",
   "execution_count": 69,
   "metadata": {},
   "outputs": [],
   "source": [
    "n_cluster = 4\n",
    "fcm = FCM(n_clusters= n_cluster)\n",
    "# faire ça pour eviter les problemes de shape !!!\n",
    "data = np.array(data, dtype=np.float64)\n",
    "fcm.fit(data)\n",
    "\n",
    "##expliquations :\n",
    "# data = np.array(data)\n",
    "#print(data.dtype)\n",
    "#print(data.shape)\n",
    "#arr = np.ones([1050,71])\n",
    "#print(arr.shape)\n",
    "#fcm.fit(data)"
   ]
  },
  {
   "cell_type": "code",
   "execution_count": 70,
   "metadata": {},
   "outputs": [
    {
     "data": {
      "text/plain": [
       "Text(0.5, 0, \" nombre d'étudiant\")"
      ]
     },
     "execution_count": 70,
     "metadata": {},
     "output_type": "execute_result"
    },
    {
     "data": {
      "image/png": "[encoded data removed]",
      "text/plain": [
       "<Figure size 432x288 with 1 Axes>"
      ]
     },
     "metadata": {
      "needs_background": "light"
     },
     "output_type": "display_data"
    }
   ],
   "source": [
    "# outputs \n",
    "y_pred_centers = fcm.centers\n",
    "y_pred = fcm.predict(data)\n",
    "\n",
    "\n",
    "plt.scatter(x_etudiant,y_pred)\n",
    "plt.ylabel(\" nombre de cluster\")\n",
    "plt.xlabel(\" nombre d'étudiant\")"
   ]
  },
  {
   "cell_type": "markdown",
   "metadata": {},
   "source": [
    "uniquement le centre des clusters !!!"
   ]
  },
  {
   "cell_type": "code",
   "execution_count": 71,
   "metadata": {},
   "outputs": [
    {
     "name": "stdout",
     "output_type": "stream",
     "text": [
      "(4, 71)\n",
      "[0.17186298 0.16058922 0.14506166 0.14179647 0.15844662 0.12624511\n",
      " 0.12977828 0.12768375 0.12641762 0.18658273 0.16209295 0.1299802\n",
      " 0.1754876  0.14699398 0.16003365 0.16431193 0.15318987 0.16445021\n",
      " 0.18035807 0.16157726 0.17154038 0.1350741  0.21846953 0.19007859\n",
      " 0.15183885 0.16064882 0.19110357 0.17146578 0.16399939 0.20681423\n",
      " 0.17222805 0.15288651 0.2364455  0.22811996 0.1109746  0.15606763\n",
      " 0.21101561 0.21018349 0.20822789 0.22509012 0.155934   0.14534268\n",
      " 0.18469458 0.11161236 0.2380786  0.2209821  0.11605701 0.25502343\n",
      " 0.26313218 0.20966284 0.10935109 0.26136238 0.25271968 0.15887255\n",
      " 0.28401357 0.23637198 0.19764537 0.23965295 0.21542861 0.25446285\n",
      " 0.20209564 0.23151474 0.15646233 0.31765065 0.27805846 0.25336592\n",
      " 0.18107211 0.27599231 0.23109683 0.20773658 0.25189206]\n",
      "           0\n",
      "0   0.171863\n",
      "1   0.160589\n",
      "2   0.145062\n",
      "3   0.141796\n",
      "4   0.158447\n",
      "..       ...\n",
      "66  0.181072\n",
      "67  0.275992\n",
      "68  0.231097\n",
      "69  0.207737\n",
      "70  0.251892\n",
      "\n",
      "[71 rows x 1 columns]\n"
     ]
    }
   ],
   "source": [
    "#cluster 0\n",
    "print(y_pred_centers.shape)\n",
    "cluster_0 = y_pred_centers[0,:]\n",
    "print(cluster_0)\n",
    "# retour du df\n",
    "df_0 = pd.DataFrame(cluster_0)\n",
    "# prendre la valeur absolute pour éviter la compensation\n",
    "df_0 = np.absolute(df_0)\n",
    "# # ajouter les noms des colonnes\n",
    "# df_0.columns = column_name[39:]\n",
    "\n",
    "\n",
    "#print(df_0)\n",
    "\n",
    "# trier les valeurs\n",
    "\n",
    "print(df_0)\n"
   ]
  },
  {
   "cell_type": "code",
   "execution_count": null,
   "metadata": {},
   "outputs": [],
   "source": []
  },
  {
   "cell_type": "code",
   "execution_count": 72,
   "metadata": {},
   "outputs": [],
   "source": [
    "# setwd(\"C:/Users/cschnitzler/Dropbox/staps/2021 2022/stage/master cmsi/job congo\")\n",
    "# library(readxl)\n",
    "\n",
    "# data_motus <- read_excel(\"data_motus.xlsx\")\n",
    "\n",
    "# library(FactoMineR)\n",
    "# library(Factoshiny)\n",
    "# PCAshiny(data_motus)"
   ]
  },
  {
   "cell_type": "code",
   "execution_count": null,
   "metadata": {},
   "outputs": [],
   "source": []
  },
  {
   "cell_type": "code",
   "execution_count": 73,
   "metadata": {},
   "outputs": [
    {
     "name": "stdout",
     "output_type": "stream",
     "text": [
      "Confort           1.976577\n",
      "Securite          2.961201\n",
      "Qualite           2.652902\n",
      "Force             1.853212\n",
      "Maintien          1.847638\n",
      "                    ...   \n",
      "Role              3.036756\n",
      "Performance       2.006535\n",
      "Meilleur          2.626739\n",
      "Individualiste    2.489019\n",
      "detente           2.654854\n",
      "Length: 71, dtype: float64\n"
     ]
    }
   ],
   "source": [
    "#cluster 0\n",
    "indices_cluster_0 = np.where(data[y_pred == 0])\n",
    "cluster_0 = data[y_pred == 0]\n",
    "\n",
    "# retour du df\n",
    "df_0 = pd.DataFrame(cluster_0)\n",
    "# prendre la valeur absolute pour éviter la compensation\n",
    "df_0 = np.absolute(df_0)\n",
    "df_0.columns = column_name[39:]\n",
    "#print(df_0)\n",
    "\n",
    "# trier par somme de toutes les colonnes\n",
    "sum_colonne_0 = df_0.sum()\n",
    "print(sum_colonne_0)"
   ]
  },
  {
   "cell_type": "code",
   "execution_count": null,
   "metadata": {},
   "outputs": [],
   "source": []
  },
  {
   "cell_type": "code",
   "execution_count": null,
   "metadata": {},
   "outputs": [],
   "source": []
  },
  {
   "cell_type": "code",
   "execution_count": null,
   "metadata": {},
   "outputs": [],
   "source": []
  },
  {
   "cell_type": "markdown",
   "metadata": {},
   "source": [
    "## Tester la solidité de chaque cluster"
   ]
  },
  {
   "cell_type": "code",
   "execution_count": 81,
   "metadata": {},
   "outputs": [],
   "source": [
    "df = pd.read_csv(\"/home/congo/Bureau/2022-m1-staps/data_motives/clustering.csv\") "
   ]
  },
  {
   "cell_type": "code",
   "execution_count": 82,
   "metadata": {},
   "outputs": [],
   "source": [
    "df.drop(df.columns[[0]], axis = 1, inplace = True) "
   ]
  },
  {
   "cell_type": "code",
   "execution_count": 83,
   "metadata": {},
   "outputs": [
    {
     "data": {
      "text/html": [
       "<div>\n",
       "<style scoped>\n",
       "    .dataframe tbody tr th:only-of-type {\n",
       "        vertical-align: middle;\n",
       "    }\n",
       "\n",
       "    .dataframe tbody tr th {\n",
       "        vertical-align: top;\n",
       "    }\n",
       "\n",
       "    .dataframe thead th {\n",
       "        text-align: right;\n",
       "    }\n",
       "</style>\n",
       "<table border=\"1\" class=\"dataframe\">\n",
       "  <thead>\n",
       "    <tr style=\"text-align: right;\">\n",
       "      <th></th>\n",
       "      <th>cluster3</th>\n",
       "      <th>cluster4</th>\n",
       "      <th>cluster5</th>\n",
       "      <th>Confort</th>\n",
       "      <th>Securite</th>\n",
       "      <th>Qualite</th>\n",
       "      <th>Force</th>\n",
       "      <th>Maintien</th>\n",
       "      <th>Puissance</th>\n",
       "      <th>Competition</th>\n",
       "      <th>...</th>\n",
       "      <th>Serenite</th>\n",
       "      <th>Sexy</th>\n",
       "      <th>Plaisir</th>\n",
       "      <th>Groupe</th>\n",
       "      <th>Partage</th>\n",
       "      <th>Role</th>\n",
       "      <th>Performance</th>\n",
       "      <th>Meilleur</th>\n",
       "      <th>Individualiste</th>\n",
       "      <th>detente</th>\n",
       "    </tr>\n",
       "  </thead>\n",
       "  <tbody>\n",
       "    <tr>\n",
       "      <th>0</th>\n",
       "      <td>1</td>\n",
       "      <td>1</td>\n",
       "      <td>1</td>\n",
       "      <td>0.072732</td>\n",
       "      <td>0.065028</td>\n",
       "      <td>0.079676</td>\n",
       "      <td>0.098327</td>\n",
       "      <td>0.029093</td>\n",
       "      <td>0.032083</td>\n",
       "      <td>0.030411</td>\n",
       "      <td>...</td>\n",
       "      <td>0.015611</td>\n",
       "      <td>0.079372</td>\n",
       "      <td>0.206386</td>\n",
       "      <td>0.169235</td>\n",
       "      <td>0.004866</td>\n",
       "      <td>0.031171</td>\n",
       "      <td>0.010998</td>\n",
       "      <td>0.035884</td>\n",
       "      <td>0.025494</td>\n",
       "      <td>0.024582</td>\n",
       "    </tr>\n",
       "    <tr>\n",
       "      <th>1</th>\n",
       "      <td>2</td>\n",
       "      <td>3</td>\n",
       "      <td>4</td>\n",
       "      <td>0.978229</td>\n",
       "      <td>0.256652</td>\n",
       "      <td>0.370343</td>\n",
       "      <td>0.252782</td>\n",
       "      <td>0.323174</td>\n",
       "      <td>0.327528</td>\n",
       "      <td>0.252540</td>\n",
       "      <td>...</td>\n",
       "      <td>0.017417</td>\n",
       "      <td>0.015723</td>\n",
       "      <td>0.019110</td>\n",
       "      <td>0.021287</td>\n",
       "      <td>0.021529</td>\n",
       "      <td>0.018868</td>\n",
       "      <td>0.021287</td>\n",
       "      <td>0.017900</td>\n",
       "      <td>0.024432</td>\n",
       "      <td>0.017658</td>\n",
       "    </tr>\n",
       "    <tr>\n",
       "      <th>2</th>\n",
       "      <td>1</td>\n",
       "      <td>1</td>\n",
       "      <td>1</td>\n",
       "      <td>0.070048</td>\n",
       "      <td>0.054323</td>\n",
       "      <td>0.062636</td>\n",
       "      <td>0.087573</td>\n",
       "      <td>0.090062</td>\n",
       "      <td>0.152751</td>\n",
       "      <td>0.101287</td>\n",
       "      <td>...</td>\n",
       "      <td>0.013713</td>\n",
       "      <td>0.285805</td>\n",
       "      <td>0.022343</td>\n",
       "      <td>0.007677</td>\n",
       "      <td>0.103828</td>\n",
       "      <td>0.133054</td>\n",
       "      <td>0.031556</td>\n",
       "      <td>0.070207</td>\n",
       "      <td>0.135014</td>\n",
       "      <td>0.175676</td>\n",
       "    </tr>\n",
       "    <tr>\n",
       "      <th>3</th>\n",
       "      <td>1</td>\n",
       "      <td>2</td>\n",
       "      <td>2</td>\n",
       "      <td>0.290419</td>\n",
       "      <td>0.741154</td>\n",
       "      <td>0.153511</td>\n",
       "      <td>0.216930</td>\n",
       "      <td>0.167392</td>\n",
       "      <td>0.185084</td>\n",
       "      <td>0.305117</td>\n",
       "      <td>...</td>\n",
       "      <td>0.136636</td>\n",
       "      <td>0.339412</td>\n",
       "      <td>0.185084</td>\n",
       "      <td>0.300490</td>\n",
       "      <td>0.092270</td>\n",
       "      <td>0.079750</td>\n",
       "      <td>0.236255</td>\n",
       "      <td>0.249864</td>\n",
       "      <td>0.272183</td>\n",
       "      <td>0.333696</td>\n",
       "    </tr>\n",
       "    <tr>\n",
       "      <th>4</th>\n",
       "      <td>1</td>\n",
       "      <td>1</td>\n",
       "      <td>1</td>\n",
       "      <td>0.029809</td>\n",
       "      <td>0.098887</td>\n",
       "      <td>0.045072</td>\n",
       "      <td>0.158585</td>\n",
       "      <td>0.116455</td>\n",
       "      <td>0.067727</td>\n",
       "      <td>0.050238</td>\n",
       "      <td>...</td>\n",
       "      <td>0.121065</td>\n",
       "      <td>0.029650</td>\n",
       "      <td>0.045072</td>\n",
       "      <td>0.216773</td>\n",
       "      <td>0.060254</td>\n",
       "      <td>0.059221</td>\n",
       "      <td>0.069078</td>\n",
       "      <td>0.077822</td>\n",
       "      <td>0.063037</td>\n",
       "      <td>0.159777</td>\n",
       "    </tr>\n",
       "  </tbody>\n",
       "</table>\n",
       "<p>5 rows × 74 columns</p>\n",
       "</div>"
      ],
      "text/plain": [
       "   cluster3  cluster4  cluster5   Confort  Securite   Qualite     Force  \\\n",
       "0         1         1         1  0.072732  0.065028  0.079676  0.098327   \n",
       "1         2         3         4  0.978229  0.256652  0.370343  0.252782   \n",
       "2         1         1         1  0.070048  0.054323  0.062636  0.087573   \n",
       "3         1         2         2  0.290419  0.741154  0.153511  0.216930   \n",
       "4         1         1         1  0.029809  0.098887  0.045072  0.158585   \n",
       "\n",
       "   Maintien  Puissance  Competition  ...  Serenite      Sexy   Plaisir  \\\n",
       "0  0.029093   0.032083     0.030411  ...  0.015611  0.079372  0.206386   \n",
       "1  0.323174   0.327528     0.252540  ...  0.017417  0.015723  0.019110   \n",
       "2  0.090062   0.152751     0.101287  ...  0.013713  0.285805  0.022343   \n",
       "3  0.167392   0.185084     0.305117  ...  0.136636  0.339412  0.185084   \n",
       "4  0.116455   0.067727     0.050238  ...  0.121065  0.029650  0.045072   \n",
       "\n",
       "     Groupe   Partage      Role  Performance  Meilleur  Individualiste  \\\n",
       "0  0.169235  0.004866  0.031171     0.010998  0.035884        0.025494   \n",
       "1  0.021287  0.021529  0.018868     0.021287  0.017900        0.024432   \n",
       "2  0.007677  0.103828  0.133054     0.031556  0.070207        0.135014   \n",
       "3  0.300490  0.092270  0.079750     0.236255  0.249864        0.272183   \n",
       "4  0.216773  0.060254  0.059221     0.069078  0.077822        0.063037   \n",
       "\n",
       "    detente  \n",
       "0  0.024582  \n",
       "1  0.017658  \n",
       "2  0.175676  \n",
       "3  0.333696  \n",
       "4  0.159777  \n",
       "\n",
       "[5 rows x 74 columns]"
      ]
     },
     "execution_count": 83,
     "metadata": {},
     "output_type": "execute_result"
    }
   ],
   "source": [
    "df.head()"
   ]
  },
  {
   "cell_type": "code",
   "execution_count": 84,
   "metadata": {},
   "outputs": [],
   "source": [
    "df_colonne = df.columns[ 3:]"
   ]
  },
  {
   "cell_type": "markdown",
   "metadata": {},
   "source": [
    "données Train et validation"
   ]
  },
  {
   "cell_type": "code",
   "execution_count": 85,
   "metadata": {},
   "outputs": [],
   "source": [
    "y_3 = df.loc[:,'cluster3']\n",
    "y_4 = df.loc[:,'cluster4']\n",
    "y_5 = df.loc[:,'cluster5']"
   ]
  },
  {
   "cell_type": "code",
   "execution_count": 86,
   "metadata": {},
   "outputs": [],
   "source": [
    "X = df\n",
    "X.drop(df.columns[[0,1,2]], axis = 1, inplace = True) \n",
    "\n",
    "# print(X)\n",
    "# print(y_3)"
   ]
  },
  {
   "cell_type": "code",
   "execution_count": 94,
   "metadata": {},
   "outputs": [],
   "source": [
    "from sklearn.model_selection import train_test_split\n",
    "nelem = len(df)\n",
    "X_train, X_test , y_train_3, y_test_3 = train_test_split (X,y_3, train_size = int(nelem*(2/3)), test_size = int(nelem*(1/3)),random_state = 0)\n",
    "X_train_4, X_test_4 , y_train_4, y_test_4 = train_test_split (X,y_4, train_size = int(nelem*(2/3)), test_size = int(nelem*(1/3)),random_state = 0)\n",
    "X_train_5, X_test_5 , y_train_5, y_test_5 = train_test_split (X,y_5, train_size = int(nelem*(2/3)), test_size = int(nelem*(1/3)),random_state = 0)\n",
    "\n",
    "\n"
   ]
  },
  {
   "cell_type": "code",
   "execution_count": null,
   "metadata": {},
   "outputs": [],
   "source": []
  },
  {
   "cell_type": "code",
   "execution_count": 98,
   "metadata": {},
   "outputs": [],
   "source": [
    "train_ratio = 0.80\n",
    "test_ratio = 0.10\n",
    "validation_ratio = 0.10\n",
    "\n",
    "X_train_3, X_test_3, y_train_3, y_test_3 = train_test_split(X, y_3, test_size=test_ratio)\n",
    "X_train_3, X_valid_3, y_train_3, y_valid_3 = train_test_split(X_train_3, y_train_3, test_size=validation_ratio/(train_ratio+test_ratio))\n",
    "\n",
    "\n",
    "X_train_4, X_test_4, y_train_4, y_test_4 = train_test_split(X, y_4, test_size=test_ratio)\n",
    "X_train_4, X_valid_4, y_train_4, y_valid_4 = train_test_split(X_train_4, y_train_4, test_size=validation_ratio/(train_ratio+test_ratio))\n",
    "\n",
    "X_train_5, X_test_5, y_train_5, y_test_5 = train_test_split(X, y_5, test_size=test_ratio)\n",
    "X_train_5, X_valid_5, y_train_5, y_valid_5 = train_test_split(X_train_5, y_train_5, test_size=validation_ratio/(train_ratio+test_ratio))\n",
    "\n",
    "\n"
   ]
  },
  {
   "cell_type": "code",
   "execution_count": null,
   "metadata": {},
   "outputs": [],
   "source": []
  },
  {
   "cell_type": "code",
   "execution_count": 88,
   "metadata": {},
   "outputs": [],
   "source": [
    "# regresion logistic sur le train set\n",
    "from sklearn.linear_model import LogisticRegression"
   ]
  },
  {
   "cell_type": "code",
   "execution_count": 89,
   "metadata": {},
   "outputs": [
    {
     "data": {
      "text/plain": [
       "LogisticRegression()"
      ]
     },
     "execution_count": 89,
     "metadata": {},
     "output_type": "execute_result"
    }
   ],
   "source": [
    "logreg = LogisticRegression()\n",
    "logreg_4 = LogisticRegression()\n",
    "logreg_5 = LogisticRegression()\n",
    "logreg.fit(X_train,y_train_3)\n",
    "logreg_4.fit(X_train_4,y_train_4)\n",
    "logreg_5.fit(X_train_5,y_train_5)"
   ]
  },
  {
   "cell_type": "code",
   "execution_count": 90,
   "metadata": {},
   "outputs": [
    {
     "ename": "NameError",
     "evalue": "name 'metrics' is not defined",
     "output_type": "error",
     "traceback": [
      "\u001b[0;31m---------------------------------------------------------------------------\u001b[0m",
      "\u001b[0;31mNameError\u001b[0m                                 Traceback (most recent call last)",
      "\u001b[0;32m<ipython-input-90-3ad9ceb11585>\u001b[0m in \u001b[0;36m<module>\u001b[0;34m\u001b[0m\n\u001b[1;32m      3\u001b[0m \u001b[0mknn\u001b[0m\u001b[0;34m.\u001b[0m\u001b[0mfit\u001b[0m\u001b[0;34m(\u001b[0m\u001b[0mX_train\u001b[0m\u001b[0;34m,\u001b[0m\u001b[0my_train_3\u001b[0m\u001b[0;34m)\u001b[0m\u001b[0;34m\u001b[0m\u001b[0;34m\u001b[0m\u001b[0m\n\u001b[1;32m      4\u001b[0m \u001b[0my_pred_3_knn\u001b[0m \u001b[0;34m=\u001b[0m \u001b[0mknn\u001b[0m\u001b[0;34m.\u001b[0m\u001b[0mpredict\u001b[0m\u001b[0;34m(\u001b[0m\u001b[0mX_test\u001b[0m\u001b[0;34m)\u001b[0m\u001b[0;34m\u001b[0m\u001b[0;34m\u001b[0m\u001b[0m\n\u001b[0;32m----> 5\u001b[0;31m \u001b[0mprint\u001b[0m\u001b[0;34m(\u001b[0m \u001b[0mmetrics\u001b[0m\u001b[0;34m.\u001b[0m\u001b[0maccuracy_score\u001b[0m\u001b[0;34m(\u001b[0m\u001b[0my_test_3\u001b[0m\u001b[0;34m,\u001b[0m\u001b[0my_pred_3_knn\u001b[0m\u001b[0;34m)\u001b[0m\u001b[0;34m)\u001b[0m\u001b[0;34m\u001b[0m\u001b[0;34m\u001b[0m\u001b[0m\n\u001b[0m\u001b[1;32m      6\u001b[0m \u001b[0;34m\u001b[0m\u001b[0m\n\u001b[1;32m      7\u001b[0m \u001b[0mconfusion\u001b[0m \u001b[0;34m=\u001b[0m \u001b[0mmetrics\u001b[0m\u001b[0;34m.\u001b[0m\u001b[0mconfusion_matrix\u001b[0m\u001b[0;34m(\u001b[0m\u001b[0my_test_3\u001b[0m\u001b[0;34m,\u001b[0m \u001b[0my_pred_3_knn\u001b[0m\u001b[0;34m)\u001b[0m\u001b[0;34m\u001b[0m\u001b[0;34m\u001b[0m\u001b[0m\n",
      "\u001b[0;31mNameError\u001b[0m: name 'metrics' is not defined"
     ]
    }
   ],
   "source": [
    "from sklearn import neighbors\n",
    "knn = neighbors.KNeighborsClassifier()\n",
    "knn.fit(X_train,y_train_3)\n",
    "y_pred_3_knn = knn.predict(X_test)\n",
    "print( metrics.accuracy_score(y_test_3,y_pred_3_knn))\n",
    "\n",
    "confusion = metrics.confusion_matrix(y_test_3, y_pred_3_knn)\n",
    "print('confusion  \\n' ,confusion)"
   ]
  },
  {
   "cell_type": "code",
   "execution_count": null,
   "metadata": {},
   "outputs": [],
   "source": [
    "# prediction pour le donner val\n",
    "y_pred_3_class = logreg.predict(X_test)\n",
    "y_pred_4_class = logreg.predict(X_test_4)\n",
    "y_pred_5_class = logreg.predict(X_test_5)"
   ]
  },
  {
   "cell_type": "markdown",
   "metadata": {},
   "source": [
    "calcul de l'accuracy"
   ]
  },
  {
   "cell_type": "code",
   "execution_count": null,
   "metadata": {},
   "outputs": [
    {
     "name": "stdout",
     "output_type": "stream",
     "text": [
      "0.9657142857142857\n",
      "0.31142857142857144\n",
      "0.2542857142857143\n"
     ]
    }
   ],
   "source": [
    "from sklearn import metrics\n",
    "print( metrics.accuracy_score(y_test_3,y_pred_3_class))\n",
    "print( metrics.accuracy_score(y_test_4,y_pred_4_class))\n",
    "print( metrics.accuracy_score(y_test_5,y_pred_5_class))"
   ]
  },
  {
   "cell_type": "code",
   "execution_count": null,
   "metadata": {},
   "outputs": [
    {
     "name": "stdout",
     "output_type": "stream",
     "text": [
      "True [1 3 1 1 3 1 1 1 1 3 1 3 2 1 1 1 3 1 1 2 1 1 1 1 1]\n",
      "True 4 [2 4 1 1 4 1 1 2 1 4 2 4 3 2 1 1 4 1 2 3 2 2 2 1 2]\n",
      "True 5  [2 5 1 1 5 1 1 2 1 5 2 5 4 2 1 1 5 1 2 4 2 2 2 1 2]\n",
      "Pred [1 3 1 1 3 1 1 1 1 3 1 3 2 1 1 1 3 1 1 2 1 1 1 1 1]\n",
      "Pred 4  [1 3 1 1 3 1 1 1 1 3 1 3 2 1 1 1 3 1 1 2 1 1 1 1 1]\n",
      "Pred 5  [1 3 1 1 3 1 1 1 1 3 1 3 2 1 1 1 3 1 1 2 1 1 1 1 1]\n"
     ]
    }
   ],
   "source": [
    "# comparer true and predicted response values\n",
    "print('True' , y_test_3.values[0:25])\n",
    "print('True 4' , y_test_4.values[0:25])\n",
    "print('True 5 ' , y_test_5.values[0:25])\n",
    "# y_pred_3_class  = y_pred_3_class.to_numpy()\n",
    "\n",
    "print('Pred' , y_pred_3_class[0:25])\n",
    "print('Pred 4 ' , y_pred_4_class[0:25])\n",
    "print('Pred 5 ' , y_pred_5_class[0:25])"
   ]
  },
  {
   "cell_type": "code",
   "execution_count": null,
   "metadata": {},
   "outputs": [
    {
     "name": "stdout",
     "output_type": "stream",
     "text": [
      "confusion  \n",
      " [[237   5   1]\n",
      " [  4  32   0]\n",
      " [  2   0  69]]\n",
      "confusion 4 \n",
      " [[106   2   0   0]\n",
      " [131   3   1   0]\n",
      " [  4  32   0   0]\n",
      " [  2   0  69   0]]\n",
      "confusion 5 \n",
      " [[ 86   0   0   0   0]\n",
      " [131   3   1   0   0]\n",
      " [ 20   2   0   0   0]\n",
      " [  4  32   0   0   0]\n",
      " [  2   0  69   0   0]]\n"
     ]
    }
   ],
   "source": [
    "confusion = metrics.confusion_matrix(y_test_3, y_pred_3_class)\n",
    "confusion_4 = metrics.confusion_matrix(y_test_4, y_pred_4_class)\n",
    "confusion_5  = metrics.confusion_matrix(y_test_5, y_pred_5_class)\n",
    "print('confusion  \\n' ,confusion)\n",
    "print('confusion 4 \\n' ,confusion_4)\n",
    "print('confusion 5 \\n' ,confusion_5)"
   ]
  },
  {
   "cell_type": "code",
   "execution_count": null,
   "metadata": {},
   "outputs": [],
   "source": [
    "plt.matshow(confusion, cmap=plt.cm.gray)\n",
    "plt.show()"
   ]
  },
  {
   "cell_type": "code",
   "execution_count": null,
   "metadata": {},
   "outputs": [],
   "source": [
    "plt.matshow(confusion_4, cmap=plt.cm.gray)\n",
    "plt.show()"
   ]
  },
  {
   "cell_type": "code",
   "execution_count": null,
   "metadata": {},
   "outputs": [],
   "source": [
    "plt.matshow(confusion_5, cmap=plt.cm.gray)\n",
    "plt.show()"
   ]
  },
  {
   "cell_type": "code",
   "execution_count": null,
   "metadata": {},
   "outputs": [],
   "source": []
  },
  {
   "cell_type": "code",
   "execution_count": 191,
   "metadata": {},
   "outputs": [
    {
     "name": "stdout",
     "output_type": "stream",
     "text": [
      "recall_score :  [0.97530864 0.88888889 0.97183099]\n",
      "recall_score 4 :  [0.98148148 0.02222222 0.         0.        ]\n",
      "recall_score 5 :  [1.         0.02222222 0.         0.         0.        ]\n"
     ]
    }
   ],
   "source": [
    "print( 'recall_score : ',metrics.recall_score(y_test_3, y_pred_3_class,average=None))\n",
    "print( 'recall_score 4 : ' ,metrics.recall_score(y_test_4, y_pred_4_class,average=None))\n",
    "print( 'recall_score 5 : ' ,metrics.recall_score(y_test_5, y_pred_5_class,average=None))"
   ]
  },
  {
   "cell_type": "code",
   "execution_count": 192,
   "metadata": {},
   "outputs": [
    {
     "name": "stdout",
     "output_type": "stream",
     "text": [
      "precision_score : [0.97530864 0.86486486 0.98571429]\n",
      "precision_score 4: [0.43621399 0.08108108 0.         0.        ]\n",
      "precision_score 5: [0.35390947 0.08108108 0.         0.         0.        ]\n"
     ]
    },
    {
     "name": "stderr",
     "output_type": "stream",
     "text": [
      "/home/congo/.local/lib/python3.8/site-packages/sklearn/metrics/_classification.py:1318: UndefinedMetricWarning: Precision is ill-defined and being set to 0.0 in labels with no predicted samples. Use `zero_division` parameter to control this behavior.\n",
      "  _warn_prf(average, modifier, msg_start, len(result))\n",
      "/home/congo/.local/lib/python3.8/site-packages/sklearn/metrics/_classification.py:1318: UndefinedMetricWarning: Precision is ill-defined and being set to 0.0 in labels with no predicted samples. Use `zero_division` parameter to control this behavior.\n",
      "  _warn_prf(average, modifier, msg_start, len(result))\n"
     ]
    }
   ],
   "source": [
    "print('precision_score :' ,metrics.precision_score(y_test_3, y_pred_3_class,average=None))\n",
    "print('precision_score 4:' ,metrics.precision_score(y_test_4, y_pred_4_class,average=None))\n",
    "print('precision_score 5:' ,metrics.precision_score(y_test_5, y_pred_5_class,average=None))"
   ]
  },
  {
   "cell_type": "code",
   "execution_count": null,
   "metadata": {},
   "outputs": [],
   "source": []
  },
  {
   "cell_type": "markdown",
   "metadata": {},
   "source": [
    "Explorator factor analysis"
   ]
  },
  {
   "cell_type": "code",
   "execution_count": 193,
   "metadata": {},
   "outputs": [],
   "source": [
    "from factor_analyzer import FactorAnalyzer"
   ]
  },
  {
   "cell_type": "code",
   "execution_count": 194,
   "metadata": {},
   "outputs": [
    {
     "data": {
      "text/plain": [
       "FactorAnalyzer(rotation=None, rotation_kwargs={})"
      ]
     },
     "execution_count": 194,
     "metadata": {},
     "output_type": "execute_result"
    }
   ],
   "source": [
    "fa = FactorAnalyzer(rotation=None)\n",
    "fa.fit(df)"
   ]
  },
  {
   "cell_type": "code",
   "execution_count": 195,
   "metadata": {},
   "outputs": [
    {
     "data": {
      "text/plain": [
       "array([[-1.72040126e-01,  4.30265763e-01, -1.65384610e-01],\n",
       "       [-2.03713300e-01,  4.25257186e-01,  3.92747500e-03],\n",
       "       [-5.77606442e-02,  4.07784671e-01, -2.14257776e-01],\n",
       "       [-8.43186518e-02,  3.66473529e-01, -3.38550796e-01],\n",
       "       [-1.00162047e-01,  4.13818217e-01, -2.21536483e-01],\n",
       "       [ 4.17927278e-02,  4.12134464e-01, -3.87560071e-01],\n",
       "       [ 6.14448158e-03,  4.94674108e-01, -2.81570561e-01],\n",
       "       [ 7.13253699e-02,  4.53006032e-01, -2.90254006e-01],\n",
       "       [-1.27728095e-01,  4.41209092e-01,  6.78577768e-02],\n",
       "       [-3.37994076e-01,  2.50633954e-01,  2.33800169e-01],\n",
       "       [-5.96556212e-02,  4.39802486e-01,  1.12029325e-02],\n",
       "       [-1.84122524e-01,  5.11488007e-01,  1.10001027e-01],\n",
       "       [ 2.81113774e-01,  3.66797021e-01, -2.96716312e-01],\n",
       "       [ 4.26834816e-01,  2.29734882e-01, -3.69283407e-01],\n",
       "       [ 7.02808527e-05,  4.47135208e-01, -6.35559311e-03],\n",
       "       [ 2.52521868e-01,  3.99462621e-01, -2.56957933e-01],\n",
       "       [ 6.43933156e-02,  4.56972257e-01,  2.36570339e-02],\n",
       "       [ 4.10330945e-01,  2.70131502e-01, -1.81545116e-01],\n",
       "       [ 2.92693618e-01,  3.21353591e-01, -1.50948332e-01],\n",
       "       [ 2.72881503e-01,  3.23161239e-01, -5.43556441e-02],\n",
       "       [ 3.04682042e-01,  3.26017125e-01, -1.82930248e-01],\n",
       "       [-1.51752923e-01,  4.52111288e-01,  1.55856233e-01],\n",
       "       [ 6.71490271e-02,  3.92235310e-01, -2.22459480e-02],\n",
       "       [ 4.57527600e-01,  2.48080573e-01, -2.31241215e-01],\n",
       "       [-1.28294732e-01,  4.86524729e-01,  2.56774307e-01],\n",
       "       [ 5.30030904e-01,  2.10390417e-01, -1.42925573e-01],\n",
       "       [ 2.85117663e-01,  3.39788219e-01,  5.35924280e-02],\n",
       "       [ 5.55527673e-01,  2.20012118e-01, -1.88656090e-01],\n",
       "       [ 2.55370649e-01,  3.16420911e-01,  4.80578186e-02],\n",
       "       [ 3.62672463e-01,  2.85007726e-01,  7.01221511e-03],\n",
       "       [ 2.29676330e-01,  3.07730509e-01,  1.93185222e-01],\n",
       "       [-1.13580260e-01,  4.26847768e-01,  2.36391839e-01],\n",
       "       [ 6.40480415e-01,  1.10061474e-01, -1.17438390e-01],\n",
       "       [ 7.02484207e-01,  3.25963843e-02, -1.39203493e-01],\n",
       "       [-1.19890124e-01,  4.02703351e-01,  2.96731515e-01],\n",
       "       [ 8.15438729e-02,  3.82705720e-01,  1.94631532e-01],\n",
       "       [ 5.21358867e-01,  1.02522879e-01, -4.37195957e-02],\n",
       "       [ 6.89081124e-01,  1.19675873e-03, -8.50158964e-02],\n",
       "       [ 5.90859548e-01,  7.42870027e-02, -5.80233208e-02],\n",
       "       [ 5.40681709e-01,  4.06987296e-02, -3.05434188e-02],\n",
       "       [ 2.87823694e-01,  1.99284747e-01,  1.62502028e-01],\n",
       "       [-1.70391346e-02,  3.44485500e-01,  2.98422118e-01],\n",
       "       [ 7.35679446e-01, -6.75376800e-02,  2.16428818e-02],\n",
       "       [-1.53688309e-01,  4.14380919e-01,  3.16811781e-01],\n",
       "       [ 5.11658547e-01,  7.05594755e-02,  9.46481438e-02],\n",
       "       [ 5.45521337e-01,  7.21638028e-02,  7.79346291e-02],\n",
       "       [-1.43270286e-01,  3.47017139e-01,  3.26974814e-01],\n",
       "       [ 7.76271376e-01, -1.21632588e-01, -5.41029309e-03],\n",
       "       [ 7.91971366e-01, -1.42375968e-01, -1.87330857e-02],\n",
       "       [ 3.79958996e-01,  1.80399314e-01,  2.77841631e-01],\n",
       "       [-7.29609385e-02,  3.44822311e-01,  4.08603500e-01],\n",
       "       [ 7.09975442e-01, -3.83662309e-02,  5.43436895e-02],\n",
       "       [ 7.82949399e-01, -1.53818411e-01,  9.13204507e-03],\n",
       "       [-6.76947627e-02,  1.87559013e-01,  3.00130960e-01],\n",
       "       [ 7.02597057e-01, -9.40661462e-02, -4.23035324e-03],\n",
       "       [ 6.32333478e-01, -2.32224963e-02,  8.67070098e-02],\n",
       "       [ 5.99861097e-01,  7.79502324e-03,  1.03081088e-01],\n",
       "       [ 7.53688826e-01, -1.55384984e-01, -3.11842754e-02],\n",
       "       [ 6.51238892e-01, -4.10198687e-02,  1.72925639e-01],\n",
       "       [ 6.94441503e-01, -9.72998974e-02,  3.02811351e-02],\n",
       "       [ 5.05823652e-01,  1.35133573e-02,  2.64290867e-01],\n",
       "       [ 5.79721083e-01, -5.95748291e-02,  2.12017601e-01],\n",
       "       [ 1.96981619e-01,  1.66037439e-01,  3.59174252e-01],\n",
       "       [ 7.31406656e-01, -1.63208081e-01,  4.65650394e-02],\n",
       "       [ 6.34335750e-01, -8.83126615e-02,  1.07817234e-01],\n",
       "       [ 6.81094090e-01, -1.00426387e-01,  1.01214666e-01],\n",
       "       [ 3.28519301e-01,  9.92714197e-02,  2.05648481e-01],\n",
       "       [ 7.98826062e-01, -1.60974723e-01, -5.68570956e-02],\n",
       "       [ 6.36354121e-01, -7.99899903e-02,  1.35716307e-01],\n",
       "       [ 3.18216214e-01,  1.15202900e-01,  2.14585356e-01],\n",
       "       [ 5.17101374e-01, -7.64401519e-03,  2.65574473e-01]])"
      ]
     },
     "execution_count": 195,
     "metadata": {},
     "output_type": "execute_result"
    }
   ],
   "source": [
    "fa.loadings_"
   ]
  },
  {
   "cell_type": "code",
   "execution_count": 196,
   "metadata": {},
   "outputs": [
    {
     "data": {
      "text/plain": [
       "array([0.2420785 , 0.22235821, 0.21553102, 0.25602912, 0.23035637,\n",
       "       0.32180426, 0.32402221, 0.29454916, 0.21558461, 0.23171989,\n",
       "       0.19711053, 0.30762131, 0.30160558, 0.37133631, 0.19997029,\n",
       "       0.28936506, 0.2135298 , 0.27430114, 0.21172308, 0.18185204,\n",
       "       0.23258179, 0.25172473, 0.15885241, 0.32434798, 0.3190989 ,\n",
       "       0.34562461, 0.19962026, 0.39260745, 0.16764591, 0.21280989,\n",
       "       0.18476981, 0.25098059, 0.43612046, 0.5139242 , 0.26459322,\n",
       "       0.1909945 , 0.28423741, 0.48206193, 0.35800027, 0.294926  ,\n",
       "       0.1489638 , 0.20801635, 0.546254  , 0.29570135, 0.27573138,\n",
       "       0.30887495, 0.2478598 , 0.61742101, 0.64784049, 0.25410872,\n",
       "       0.29118255, 0.50849033, 0.63675326, 0.12983956, 0.50250896,\n",
       "       0.40790302, 0.37051981, 0.5931638 , 0.455698  , 0.49263322,\n",
       "       0.32588984, 0.38457716, 0.19537633, 0.56376088, 0.42180553,\n",
       "       0.48421903, 0.16007104, 0.66726867, 0.42976388, 0.16058014,\n",
       "       0.33798206])"
      ]
     },
     "execution_count": 196,
     "metadata": {},
     "output_type": "execute_result"
    }
   ],
   "source": [
    "fa.get_communalities()"
   ]
  },
  {
   "cell_type": "code",
   "execution_count": 197,
   "metadata": {},
   "outputs": [
    {
     "data": {
      "text/plain": [
       "(array([15.07883139,  6.60317633,  3.37269706,  1.76706103,  1.43453072,\n",
       "         1.3576969 ,  1.24584163,  1.21210404,  1.18221844,  1.15281707,\n",
       "         1.11546613,  1.07285709,  1.06345965,  1.01698068,  0.97506109,\n",
       "         0.94454868,  0.92228821,  0.90921103,  0.88176209,  0.84095758,\n",
       "         0.83531549,  0.82400614,  0.80872249,  0.79085948,  0.7733423 ,\n",
       "         0.76663289,  0.75173521,  0.74137944,  0.72127184,  0.71062078,\n",
       "         0.69930473,  0.67174191,  0.66622143,  0.66027775,  0.64734811,\n",
       "         0.6388641 ,  0.62448777,  0.61341921,  0.61096832,  0.5703731 ,\n",
       "         0.5688225 ,  0.56139714,  0.55836626,  0.54140061,  0.5317796 ,\n",
       "         0.51824302,  0.51027165,  0.49748702,  0.49408489,  0.48497059,\n",
       "         0.46932566,  0.4670407 ,  0.45876123,  0.44228228,  0.43533728,\n",
       "         0.41764437,  0.40580738,  0.39064907,  0.38723807,  0.36390903,\n",
       "         0.36126083,  0.35083553,  0.33576442,  0.31909244,  0.30354728,\n",
       "         0.29414409,  0.28837106,  0.27493067,  0.24419144,  0.22723731,\n",
       "         0.21934725]),\n",
       " array([ 1.45247075e+01,  5.86323372e+00,  2.65078855e+00,  1.05933612e+00,\n",
       "         7.31851405e-01,  6.72642932e-01,  4.99992717e-01,  4.96794418e-01,\n",
       "         4.81690813e-01,  4.29083354e-01,  4.06810067e-01,  3.40957421e-01,\n",
       "         3.14752955e-01,  2.89196282e-01,  2.40845648e-01,  2.35500233e-01,\n",
       "         2.01225156e-01,  1.83112816e-01,  1.74131504e-01,  1.58179461e-01,\n",
       "         1.44325085e-01,  1.36852498e-01,  1.05078780e-01,  1.03756607e-01,\n",
       "         9.30807621e-02,  6.87708224e-02,  5.45560022e-02,  4.59836345e-02,\n",
       "         4.28100766e-02,  5.79512897e-03, -4.60915090e-03, -1.76034382e-02,\n",
       "        -3.07647284e-02, -3.44530316e-02, -4.12952807e-02, -5.33782582e-02,\n",
       "        -6.46254373e-02, -7.22270065e-02, -7.50235871e-02, -9.48093901e-02,\n",
       "        -9.86064387e-02, -1.08881493e-01, -1.23343457e-01, -1.28545373e-01,\n",
       "        -1.36985359e-01, -1.41207235e-01, -1.57416711e-01, -1.61072931e-01,\n",
       "        -1.67156501e-01, -1.74117000e-01, -1.79806731e-01, -1.86122629e-01,\n",
       "        -2.00898625e-01, -2.09990378e-01, -2.22679513e-01, -2.27283030e-01,\n",
       "        -2.41018110e-01, -2.45090284e-01, -2.69856090e-01, -2.80956346e-01,\n",
       "        -2.87398947e-01, -2.93259497e-01, -2.95454693e-01, -3.08014316e-01,\n",
       "        -3.11588152e-01, -3.27789601e-01, -3.31107876e-01, -3.39417044e-01,\n",
       "        -3.44395764e-01, -3.59920473e-01, -3.68942803e-01]))"
      ]
     },
     "execution_count": 197,
     "metadata": {},
     "output_type": "execute_result"
    }
   ],
   "source": [
    "fa.get_eigenvalues()"
   ]
  },
  {
   "cell_type": "code",
   "execution_count": 198,
   "metadata": {},
   "outputs": [
    {
     "data": {
      "text/plain": [
       "(array([14.52470747,  5.86323371,  2.65078854]),\n",
       " array([0.20457334, 0.08258076, 0.03733505]),\n",
       " array([0.20457334, 0.2871541 , 0.32448915]))"
      ]
     },
     "execution_count": 198,
     "metadata": {},
     "output_type": "execute_result"
    }
   ],
   "source": [
    "fa.get_factor_variance()"
   ]
  },
  {
   "cell_type": "code",
   "execution_count": 199,
   "metadata": {},
   "outputs": [
    {
     "data": {
      "text/plain": [
       "array([0.7579215 , 0.77764179, 0.78446898, 0.74397088, 0.76964363,\n",
       "       0.67819574, 0.67597779, 0.70545084, 0.78441539, 0.76828011,\n",
       "       0.80288947, 0.69237869, 0.69839442, 0.62866369, 0.80002971,\n",
       "       0.71063494, 0.7864702 , 0.72569886, 0.78827692, 0.81814796,\n",
       "       0.76741821, 0.74827527, 0.84114759, 0.67565202, 0.6809011 ,\n",
       "       0.65437539, 0.80037974, 0.60739255, 0.83235409, 0.78719011,\n",
       "       0.81523019, 0.74901941, 0.56387954, 0.4860758 , 0.73540678,\n",
       "       0.8090055 , 0.71576259, 0.51793807, 0.64199973, 0.705074  ,\n",
       "       0.8510362 , 0.79198365, 0.453746  , 0.70429865, 0.72426862,\n",
       "       0.69112505, 0.7521402 , 0.38257899, 0.35215951, 0.74589128,\n",
       "       0.70881745, 0.49150967, 0.36324674, 0.87016044, 0.49749104,\n",
       "       0.59209698, 0.62948019, 0.4068362 , 0.544302  , 0.50736678,\n",
       "       0.67411016, 0.61542284, 0.80462367, 0.43623912, 0.57819447,\n",
       "       0.51578097, 0.83992896, 0.33273133, 0.57023612, 0.83941986,\n",
       "       0.66201794])"
      ]
     },
     "execution_count": 199,
     "metadata": {},
     "output_type": "execute_result"
    }
   ],
   "source": [
    "fa.get_uniquenesses()"
   ]
  },
  {
   "cell_type": "code",
   "execution_count": 200,
   "metadata": {},
   "outputs": [
    {
     "data": {
      "text/plain": [
       "array([[-0.84658138, -0.63774373,  0.6718043 ],\n",
       "       [-0.42172088,  1.82885576, -1.28767399],\n",
       "       [-0.83556218, -0.38872034,  0.51801644],\n",
       "       ...,\n",
       "       [-1.02824439, -1.4546841 ,  0.15264943],\n",
       "       [-1.28291015, -1.32895779, -0.35202618],\n",
       "       [-1.26608038, -1.33849808, -0.61924854]])"
      ]
     },
     "execution_count": 200,
     "metadata": {},
     "output_type": "execute_result"
    }
   ],
   "source": [
    "fa.transform(df)"
   ]
  },
  {
   "cell_type": "code",
   "execution_count": 97,
   "metadata": {},
   "outputs": [],
   "source": [
    "from sklearn.decomposition import FactorAnalysis"
   ]
  },
  {
   "cell_type": "code",
   "execution_count": 201,
   "metadata": {},
   "outputs": [],
   "source": [
    "transformer = FactorAnalysis(n_components=7, random_state=0)"
   ]
  },
  {
   "cell_type": "code",
   "execution_count": 202,
   "metadata": {},
   "outputs": [],
   "source": [
    "X_transformed = transformer.fit_transform(df)"
   ]
  },
  {
   "cell_type": "code",
   "execution_count": 203,
   "metadata": {},
   "outputs": [
    {
     "data": {
      "text/plain": [
       "(1050, 7)"
      ]
     },
     "execution_count": 203,
     "metadata": {},
     "output_type": "execute_result"
    }
   ],
   "source": [
    "X_transformed.shape"
   ]
  },
  {
   "cell_type": "code",
   "execution_count": 204,
   "metadata": {},
   "outputs": [
    {
     "name": "stdout",
     "output_type": "stream",
     "text": [
      "[[-0.79554068  0.71388429 -0.68603275 ... -0.26628517 -0.21669969\n",
      "   1.03458313]\n",
      " [-0.56856629 -1.86766076  1.23551392 ... -0.53804254  0.59487823\n",
      "   0.73986794]\n",
      " [-0.82899799  0.45381716 -0.45932097 ... -0.16145882 -0.68107514\n",
      "   0.53715128]\n",
      " ...\n",
      " [-0.96095925  1.51475705 -0.17401336 ...  0.52473368  0.31641366\n",
      "   0.60378369]\n",
      " [-1.20786543  1.39916614  0.36775475 ...  0.39296838 -0.38383429\n",
      "   0.29034298]\n",
      " [-1.19639066  1.38504308  0.59505594 ...  0.22405142 -0.46931379\n",
      "   0.38945735]]\n"
     ]
    }
   ],
   "source": [
    "print(X_transformed)"
   ]
  },
  {
   "cell_type": "code",
   "execution_count": null,
   "metadata": {},
   "outputs": [],
   "source": []
  },
  {
   "cell_type": "markdown",
   "metadata": {},
   "source": [
    "Confirmatory factor analysis\n"
   ]
  },
  {
   "cell_type": "code",
   "execution_count": 229,
   "metadata": {},
   "outputs": [],
   "source": [
    "from factor_analyzer import (ConfirmatoryFactorAnalyzer,ModelSpecificationParser)"
   ]
  },
  {
   "cell_type": "code",
   "execution_count": 230,
   "metadata": {},
   "outputs": [
    {
     "name": "stdout",
     "output_type": "stream",
     "text": [
      "Index(['Confort', 'Securite', 'Qualite', 'Force', 'Maintien', 'Puissance',\n",
      "       'Competition', 'Muscle', 'Beaute', 'Galbant', 'Silhouette', 'Douceur',\n",
      "       'Se_defouler', 'Energie', 'Legerete', 'Technicite', 'Se_relaxer',\n",
      "       'Bien_etre', 'Liberte', 'Fluidite', 'Resistance', 'Inconfort',\n",
      "       'Repetition', 'Intensite', 'Ralentissement', 'Acceleration',\n",
      "       'Nouveaute', 'Endurance', 'Impact', 'Recuperation', 'Tolerance',\n",
      "       'Decouragement', 'Perseverance', 'Objectif', 'Passivite', 'Brulure',\n",
      "       'Fatigue', 'Transpiration', 'Rythme', 'Difficulte', 'Facilite', 'Lent',\n",
      "       'Rapide', 'Ennuyeux', 'Regulier', 'Equilibre', 'Culpabilite',\n",
      "       'Challenge', 'Progression', 'Accompagnement', 'Lassitude',\n",
      "       'Confiance_en_soi', 'Actif', 'Stretchcing', 'Efficacite', 'Discipline',\n",
      "       'Muscultation', 'Cardio', 'Vital', 'Depassement', 'Calme', 'Serenite',\n",
      "       'Sexy', 'Plaisir', 'Groupe', 'Partage', 'Role', 'Performance',\n",
      "       'Meilleur', 'Individualiste', 'detente'],\n",
      "      dtype='object')\n"
     ]
    }
   ],
   "source": [
    "print(df.columns)"
   ]
  },
  {
   "cell_type": "code",
   "execution_count": 238,
   "metadata": {},
   "outputs": [],
   "source": [
    "model_dict = {\"F1\": df.columns ,\"F2\":df.columns ,\"F3\":df.columns}\n",
    "model_spec = ModelSpecificationParser.parse_model_specification_from_dict(df, model_dict)\n",
    "cfa = ConfirmatoryFactorAnalyzer(model_spec, disp=False)"
   ]
  },
  {
   "cell_type": "code",
   "execution_count": 239,
   "metadata": {},
   "outputs": [
    {
     "name": "stderr",
     "output_type": "stream",
     "text": [
      "/home/congo/.local/lib/python3.8/site-packages/factor_analyzer/confirmatory_factor_analyzer.py:732: UserWarning: The optimization routine failed to converge: b'ABNORMAL_TERMINATION_IN_LNSRCH'\n",
      "  warnings.warn('The optimization routine failed '\n"
     ]
    },
    {
     "data": {
      "text/plain": [
       "ConfirmatoryFactorAnalyzer(disp=False, n_obs=1050,\n",
       "                           specification=<factor_analyzer.confirmatory_factor_analyzer.ModelSpecification object at 0x7f3a0b1c43a0>)"
      ]
     },
     "execution_count": 239,
     "metadata": {},
     "output_type": "execute_result"
    }
   ],
   "source": [
    "cfa.fit(df.values)"
   ]
  },
  {
   "cell_type": "code",
   "execution_count": 240,
   "metadata": {},
   "outputs": [
    {
     "ename": "LinAlgError",
     "evalue": "Singular matrix",
     "output_type": "error",
     "traceback": [
      "\u001b[0;31m---------------------------------------------------------------------------\u001b[0m",
      "\u001b[0;31mLinAlgError\u001b[0m                               Traceback (most recent call last)",
      "\u001b[0;32m<ipython-input-240-d7b4e7385b96>\u001b[0m in \u001b[0;36m<module>\u001b[0;34m\u001b[0m\n\u001b[0;32m----> 1\u001b[0;31m \u001b[0mcfa\u001b[0m\u001b[0;34m.\u001b[0m\u001b[0mget_standard_errors\u001b[0m\u001b[0;34m(\u001b[0m\u001b[0;34m)\u001b[0m\u001b[0;34m\u001b[0m\u001b[0;34m\u001b[0m\u001b[0m\n\u001b[0m",
      "\u001b[0;32m~/.local/lib/python3.8/site-packages/factor_analyzer/confirmatory_factor_analyzer.py\u001b[0m in \u001b[0;36mget_standard_errors\u001b[0;34m(self)\u001b[0m\n\u001b[1;32m   1073\u001b[0m         \u001b[0;31m# calculate the fisher information matrix\u001b[0m\u001b[0;34m\u001b[0m\u001b[0;34m\u001b[0m\u001b[0;34m\u001b[0m\u001b[0m\n\u001b[1;32m   1074\u001b[0m         \u001b[0minformation\u001b[0m \u001b[0;34m=\u001b[0m \u001b[0mdelta\u001b[0m\u001b[0;34m.\u001b[0m\u001b[0mT\u001b[0m\u001b[0;34m.\u001b[0m\u001b[0mdot\u001b[0m\u001b[0;34m(\u001b[0m\u001b[0mh1_information\u001b[0m\u001b[0;34m)\u001b[0m\u001b[0;34m.\u001b[0m\u001b[0mdot\u001b[0m\u001b[0;34m(\u001b[0m\u001b[0mdelta\u001b[0m\u001b[0;34m)\u001b[0m\u001b[0;34m\u001b[0m\u001b[0;34m\u001b[0m\u001b[0m\n\u001b[0;32m-> 1075\u001b[0;31m         \u001b[0minformation\u001b[0m \u001b[0;34m=\u001b[0m \u001b[0;34m(\u001b[0m\u001b[0;36m1\u001b[0m \u001b[0;34m/\u001b[0m \u001b[0mself\u001b[0m\u001b[0;34m.\u001b[0m\u001b[0mn_obs\u001b[0m\u001b[0;34m)\u001b[0m \u001b[0;34m*\u001b[0m \u001b[0mnp\u001b[0m\u001b[0;34m.\u001b[0m\u001b[0mlinalg\u001b[0m\u001b[0;34m.\u001b[0m\u001b[0minv\u001b[0m\u001b[0;34m(\u001b[0m\u001b[0minformation\u001b[0m\u001b[0;34m)\u001b[0m\u001b[0;34m\u001b[0m\u001b[0;34m\u001b[0m\u001b[0m\n\u001b[0m\u001b[1;32m   1076\u001b[0m \u001b[0;34m\u001b[0m\u001b[0m\n\u001b[1;32m   1077\u001b[0m         \u001b[0;31m# calculate the standard errors from the diagonal of the\u001b[0m\u001b[0;34m\u001b[0m\u001b[0;34m\u001b[0m\u001b[0;34m\u001b[0m\u001b[0m\n",
      "\u001b[0;32m~/.local/lib/python3.8/site-packages/numpy/core/overrides.py\u001b[0m in \u001b[0;36minv\u001b[0;34m(*args, **kwargs)\u001b[0m\n",
      "\u001b[0;32m~/.local/lib/python3.8/site-packages/numpy/linalg/linalg.py\u001b[0m in \u001b[0;36minv\u001b[0;34m(a)\u001b[0m\n\u001b[1;32m    543\u001b[0m     \u001b[0msignature\u001b[0m \u001b[0;34m=\u001b[0m \u001b[0;34m'D->D'\u001b[0m \u001b[0;32mif\u001b[0m \u001b[0misComplexType\u001b[0m\u001b[0;34m(\u001b[0m\u001b[0mt\u001b[0m\u001b[0;34m)\u001b[0m \u001b[0;32melse\u001b[0m \u001b[0;34m'd->d'\u001b[0m\u001b[0;34m\u001b[0m\u001b[0;34m\u001b[0m\u001b[0m\n\u001b[1;32m    544\u001b[0m     \u001b[0mextobj\u001b[0m \u001b[0;34m=\u001b[0m \u001b[0mget_linalg_error_extobj\u001b[0m\u001b[0;34m(\u001b[0m\u001b[0m_raise_linalgerror_singular\u001b[0m\u001b[0;34m)\u001b[0m\u001b[0;34m\u001b[0m\u001b[0;34m\u001b[0m\u001b[0m\n\u001b[0;32m--> 545\u001b[0;31m     \u001b[0mainv\u001b[0m \u001b[0;34m=\u001b[0m \u001b[0m_umath_linalg\u001b[0m\u001b[0;34m.\u001b[0m\u001b[0minv\u001b[0m\u001b[0;34m(\u001b[0m\u001b[0ma\u001b[0m\u001b[0;34m,\u001b[0m \u001b[0msignature\u001b[0m\u001b[0;34m=\u001b[0m\u001b[0msignature\u001b[0m\u001b[0;34m,\u001b[0m \u001b[0mextobj\u001b[0m\u001b[0;34m=\u001b[0m\u001b[0mextobj\u001b[0m\u001b[0;34m)\u001b[0m\u001b[0;34m\u001b[0m\u001b[0;34m\u001b[0m\u001b[0m\n\u001b[0m\u001b[1;32m    546\u001b[0m     \u001b[0;32mreturn\u001b[0m \u001b[0mwrap\u001b[0m\u001b[0;34m(\u001b[0m\u001b[0mainv\u001b[0m\u001b[0;34m.\u001b[0m\u001b[0mastype\u001b[0m\u001b[0;34m(\u001b[0m\u001b[0mresult_t\u001b[0m\u001b[0;34m,\u001b[0m \u001b[0mcopy\u001b[0m\u001b[0;34m=\u001b[0m\u001b[0;32mFalse\u001b[0m\u001b[0;34m)\u001b[0m\u001b[0;34m)\u001b[0m\u001b[0;34m\u001b[0m\u001b[0;34m\u001b[0m\u001b[0m\n\u001b[1;32m    547\u001b[0m \u001b[0;34m\u001b[0m\u001b[0m\n",
      "\u001b[0;32m~/.local/lib/python3.8/site-packages/numpy/linalg/linalg.py\u001b[0m in \u001b[0;36m_raise_linalgerror_singular\u001b[0;34m(err, flag)\u001b[0m\n\u001b[1;32m     86\u001b[0m \u001b[0;34m\u001b[0m\u001b[0m\n\u001b[1;32m     87\u001b[0m \u001b[0;32mdef\u001b[0m \u001b[0m_raise_linalgerror_singular\u001b[0m\u001b[0;34m(\u001b[0m\u001b[0merr\u001b[0m\u001b[0;34m,\u001b[0m \u001b[0mflag\u001b[0m\u001b[0;34m)\u001b[0m\u001b[0;34m:\u001b[0m\u001b[0;34m\u001b[0m\u001b[0;34m\u001b[0m\u001b[0m\n\u001b[0;32m---> 88\u001b[0;31m     \u001b[0;32mraise\u001b[0m \u001b[0mLinAlgError\u001b[0m\u001b[0;34m(\u001b[0m\u001b[0;34m\"Singular matrix\"\u001b[0m\u001b[0;34m)\u001b[0m\u001b[0;34m\u001b[0m\u001b[0;34m\u001b[0m\u001b[0m\n\u001b[0m\u001b[1;32m     89\u001b[0m \u001b[0;34m\u001b[0m\u001b[0m\n\u001b[1;32m     90\u001b[0m \u001b[0;32mdef\u001b[0m \u001b[0m_raise_linalgerror_nonposdef\u001b[0m\u001b[0;34m(\u001b[0m\u001b[0merr\u001b[0m\u001b[0;34m,\u001b[0m \u001b[0mflag\u001b[0m\u001b[0;34m)\u001b[0m\u001b[0;34m:\u001b[0m\u001b[0;34m\u001b[0m\u001b[0;34m\u001b[0m\u001b[0m\n",
      "\u001b[0;31mLinAlgError\u001b[0m: Singular matrix"
     ]
    }
   ],
   "source": [
    "cfa.get_standard_errors()"
   ]
  },
  {
   "cell_type": "code",
   "execution_count": 234,
   "metadata": {},
   "outputs": [
    {
     "ename": "AttributeError",
     "evalue": "'NoneType' object has no attribute 'copy'",
     "output_type": "error",
     "traceback": [
      "\u001b[0;31m---------------------------------------------------------------------------\u001b[0m",
      "\u001b[0;31mAttributeError\u001b[0m                            Traceback (most recent call last)",
      "\u001b[0;32m<ipython-input-234-49bef1dc334d>\u001b[0m in \u001b[0;36m<module>\u001b[0;34m\u001b[0m\n\u001b[0;32m----> 1\u001b[0;31m \u001b[0mcfa\u001b[0m\u001b[0;34m.\u001b[0m\u001b[0mtransform\u001b[0m\u001b[0;34m(\u001b[0m\u001b[0mdf\u001b[0m\u001b[0;34m.\u001b[0m\u001b[0mvalues\u001b[0m\u001b[0;34m)\u001b[0m\u001b[0;34m\u001b[0m\u001b[0;34m\u001b[0m\u001b[0m\n\u001b[0m",
      "\u001b[0;32m~/.local/lib/python3.8/site-packages/factor_analyzer/confirmatory_factor_analyzer.py\u001b[0m in \u001b[0;36mtransform\u001b[0;34m(self, X)\u001b[0m\n\u001b[1;32m    826\u001b[0m \u001b[0;34m\u001b[0m\u001b[0m\n\u001b[1;32m    827\u001b[0m         \u001b[0;31m# get the loadings and error variances\u001b[0m\u001b[0;34m\u001b[0m\u001b[0;34m\u001b[0m\u001b[0;34m\u001b[0m\u001b[0m\n\u001b[0;32m--> 828\u001b[0;31m         \u001b[0mloadings\u001b[0m \u001b[0;34m=\u001b[0m \u001b[0mself\u001b[0m\u001b[0;34m.\u001b[0m\u001b[0mloadings_\u001b[0m\u001b[0;34m.\u001b[0m\u001b[0mcopy\u001b[0m\u001b[0;34m(\u001b[0m\u001b[0;34m)\u001b[0m\u001b[0;34m\u001b[0m\u001b[0;34m\u001b[0m\u001b[0m\n\u001b[0m\u001b[1;32m    829\u001b[0m         \u001b[0merror_vars\u001b[0m \u001b[0;34m=\u001b[0m \u001b[0mself\u001b[0m\u001b[0;34m.\u001b[0m\u001b[0merror_vars_\u001b[0m\u001b[0;34m.\u001b[0m\u001b[0mcopy\u001b[0m\u001b[0;34m(\u001b[0m\u001b[0;34m)\u001b[0m\u001b[0;34m\u001b[0m\u001b[0;34m\u001b[0m\u001b[0m\n\u001b[1;32m    830\u001b[0m \u001b[0;34m\u001b[0m\u001b[0m\n",
      "\u001b[0;31mAttributeError\u001b[0m: 'NoneType' object has no attribute 'copy'"
     ]
    }
   ],
   "source": [
    "cfa.transform(df.values)"
   ]
  },
  {
   "cell_type": "code",
   "execution_count": null,
   "metadata": {},
   "outputs": [],
   "source": []
  },
  {
   "cell_type": "code",
   "execution_count": null,
   "metadata": {},
   "outputs": [],
   "source": []
  },
  {
   "cell_type": "code",
   "execution_count": null,
   "metadata": {},
   "outputs": [],
   "source": [
    "# setwd(\"C:/Users/cschnitzler/Dropbox/staps/2021 2022/stage/master cmsi/job congo\")\n",
    "# library(readxl)\n",
    "\n",
    "# data_motus <- read_excel(\"data_motus.xlsx\")\n",
    "\n",
    "# library(FactoMineR)\n",
    "# library(Factoshiny)\n",
    "# PCAshiny(data_motus) "
   ]
  }
 ],
 "metadata": {
  "interpreter": {
   "hash": "31f2aee4e71d21fbe5cf8b01ff0e069b9275f58929596ceb00d14d90e3e16cd6"
  },
  "kernelspec": {
   "display_name": "Python 3.8.10 64-bit",
   "language": "python",
   "name": "python3"
  },
  "language_info": {
   "codemirror_mode": {
    "name": "ipython",
    "version": 3
   },
   "file_extension": ".py",
   "mimetype": "text/x-python",
   "name": "python",
   "nbconvert_exporter": "python",
   "pygments_lexer": "ipython3",
   "version": "3.8.10"
  }
 },
 "nbformat": 4,
 "nbformat_minor": 4
}
