{
 "cells": [
  {
   "cell_type": "code",
   "execution_count": 3,
   "metadata": {},
   "outputs": [],
   "source": [
    "from pydoc import describe\n",
    "import pandas as pd\n",
    "import numpy as np\n",
    "import matplotlib.pyplot as plt\n",
    "from sklearn.linear_model import SGDClassifier\n",
    "from sklearn.impute import SimpleImputer\n",
    "from sklearn import preprocessing"
   ]
  },
  {
   "cell_type": "code",
   "execution_count": 4,
   "metadata": {},
   "outputs": [],
   "source": [
    "#Lecture des données\n",
    "data = pd.read_excel(\"/home/congo/Bureau/2022-m1-staps/data_motives/data_motives_final.xlsx\",\"haller\",) "
   ]
  },
  {
   "cell_type": "code",
   "execution_count": 5,
   "metadata": {},
   "outputs": [],
   "source": [
    "# mise a zero des valeurs manquantes\n",
    "data = data.fillna(0)\n",
    "\n",
    "#stoker le nom des colonnes\n",
    "column_name = [c for c in data]"
   ]
  },
  {
   "cell_type": "code",
   "execution_count": 6,
   "metadata": {},
   "outputs": [
    {
     "name": "stdout",
     "output_type": "stream",
     "text": [
      "data (1075, 71)\n"
     ]
    }
   ],
   "source": [
    "data = data.to_numpy()\n",
    "data = data[:,39:]\n",
    "nlin ,ncol =data.shape\n",
    "print('data' ,data.shape)"
   ]
  },
  {
   "cell_type": "markdown",
   "metadata": {},
   "source": [
    "Préprosseccing"
   ]
  },
  {
   "cell_type": "code",
   "execution_count": 7,
   "metadata": {},
   "outputs": [],
   "source": [
    "# rendre toute les valeurs positives\n",
    "data_correct = data\n",
    "data = np.absolute(data)"
   ]
  },
  {
   "cell_type": "code",
   "execution_count": 8,
   "metadata": {},
   "outputs": [],
   "source": [
    "#Supression des valeurs abérantes par rapport au seuil\n",
    "seuil = 5*np.std(data,axis=0,dtype = np.float64)\n",
    "#print(seuil)\n",
    "data = np.array(data)\n",
    "data_tmp = np.zeros_like(data)\n",
    "data_tmp[data < seuil] = data[data < seuil]\n",
    "data = data_tmp\n",
    "#print(data)"
   ]
  },
  {
   "cell_type": "code",
   "execution_count": 9,
   "metadata": {},
   "outputs": [],
   "source": [
    "#normalisation par ligne (avec ecartype nul) our avoir des valeurs entre 0 et 1\n",
    "\n",
    "#indices à suprimer\n",
    "max = np.max(data,axis = 1)\n",
    "indices = [i for i, e in enumerate(max) if e == 0]\n",
    "#print(indices)\n",
    "\n",
    "#suppression des lignes\n",
    "data_del = np.delete(data,indices,axis = 0)\n",
    "data = data_del\n",
    "\n",
    "#normalisation par ligne sans ecartype nul pour avoir des valeurs entre 0 et 1\n",
    "min = np.min(data,axis = 1)\n",
    "max = np.max(data,axis = 1)\n",
    "data = (data-min[:,np.newaxis])/max[:,np.newaxis]\n",
    "\n",
    "#print(data)\n"
   ]
  },
  {
   "cell_type": "code",
   "execution_count": 10,
   "metadata": {},
   "outputs": [],
   "source": [
    "# retour des valeurs négatives\n",
    "\n",
    "#suppression des lignes\n",
    "data_del = np.delete(data_correct,indices,axis = 0)\n",
    "data_correct = data_del\n",
    "\n",
    "#print(\"data before = \", data[data < 0])\n",
    "\n",
    "#indices des valeurs négatives\n",
    "indices_val_neg_i = np.where(data_correct < 0)\n",
    "#print(\"indices_val_neg_i = \",indices_val_neg_i)\n",
    "\n",
    "data[indices_val_neg_i] = -1*data[indices_val_neg_i]\n",
    "\n",
    "\n",
    "#print(\"data after = \", data[data < 0] )\n",
    "nlin ,ncol =data.shape\n"
   ]
  },
  {
   "cell_type": "markdown",
   "metadata": {},
   "source": [
    " Cluster Algorithm "
   ]
  },
  {
   "cell_type": "markdown",
   "metadata": {},
   "source": [
    "1) CAH algorithm "
   ]
  },
  {
   "cell_type": "code",
   "execution_count": 12,
   "metadata": {},
   "outputs": [],
   "source": [
    "import scipy.cluster.hierarchy as sch\n",
    "from sklearn.cluster import AgglomerativeClustering\n",
    "import matplotlib.pyplot as plt\n",
    "import pandas as pd \n"
   ]
  },
  {
   "cell_type": "code",
   "execution_count": 13,
   "metadata": {},
   "outputs": [
    {
     "data": {
      "image/png": "[encoded data removed]",
      "text/plain": [
       "<Figure size 432x288 with 1 Axes>"
      ]
     },
     "metadata": {
      "needs_background": "light"
     },
     "output_type": "display_data"
    }
   ],
   "source": [
    "#create a dendrogram\n",
    "dendrogram = sch.dendrogram(sch.linkage(data,method='ward'))"
   ]
  },
  {
   "cell_type": "code",
   "execution_count": 14,
   "metadata": {},
   "outputs": [],
   "source": [
    "hc = AgglomerativeClustering(n_clusters=3,affinity= 'euclidean',linkage='ward' )\n"
   ]
  },
  {
   "cell_type": "code",
   "execution_count": 15,
   "metadata": {},
   "outputs": [
    {
     "data": {
      "text/plain": [
       "<matplotlib.collections.PathCollection at 0x7f1ee2939b20>"
      ]
     },
     "execution_count": 15,
     "metadata": {},
     "output_type": "execute_result"
    },
    {
     "data": {
      "image/png": "[encoded data removed]",
      "text/plain": [
       "<Figure size 432x288 with 1 Axes>"
      ]
     },
     "metadata": {
      "needs_background": "light"
     },
     "output_type": "display_data"
    }
   ],
   "source": [
    "y_hc = hc.fit_predict(data)\n",
    "plt.scatter(data[y_hc == 0,28],data[ y_hc == 0,28],s= 100,c = 'cyan')\n",
    "plt.scatter(data[y_hc == 1,0],data[ y_hc == 1,1],s= 100,c = 'red')\n",
    "plt.scatter(data[y_hc == 2,0],data[ y_hc == 2,1],s= 100,c = 'yellow')\n",
    "plt.scatter(data[y_hc == 3,0],data[ y_hc == 3,1],s= 100,c = 'black')\n",
    "plt.scatter(data[y_hc == 4,0],data[ y_hc == 4,1],s= 100,c = 'green')\n",
    "plt.scatter(data[y_hc == 5,0],data[ y_hc == 5,1],s= 100,c = 'green')\n"
   ]
  },
  {
   "cell_type": "markdown",
   "metadata": {},
   "source": [
    "K-means"
   ]
  },
  {
   "cell_type": "code",
   "execution_count": 16,
   "metadata": {},
   "outputs": [],
   "source": [
    "from sklearn.cluster import KMeans\n"
   ]
  },
  {
   "cell_type": "code",
   "execution_count": 17,
   "metadata": {},
   "outputs": [
    {
     "data": {
      "text/plain": [
       "Text(0, 0.5, ' Cout du modele inertia')"
      ]
     },
     "execution_count": 17,
     "metadata": {},
     "output_type": "execute_result"
    },
    {
     "data": {
      "image/png": "[encoded data removed]",
      "text/plain": [
       "<Figure size 432x288 with 1 Axes>"
      ]
     },
     "metadata": {
      "needs_background": "light"
     },
     "output_type": "display_data"
    }
   ],
   "source": [
    "#nombre de cluster optimal \n",
    "# inertia calcule le cout (somme des distance entre les points d'un cluster et du centroide )\n",
    "inertia =[]\n",
    "K_range =range(1,20)\n",
    "for k in K_range:\n",
    "    model = KMeans(n_clusters=k).fit(data)\n",
    "    inertia.append(model.inertia_)\n",
    "\n",
    "\n",
    "plt.plot(K_range,inertia)\n",
    "plt.xlabel(\" nombre de cluster\")\n",
    "plt.ylabel(\" Cout du modele inertia\")\n",
    "\n",
    "\n",
    "# 2-6 clusters ? la zone de \"coude\""
   ]
  },
  {
   "cell_type": "code",
   "execution_count": 18,
   "metadata": {},
   "outputs": [
    {
     "data": {
      "text/plain": [
       "Text(0.5, 0, \" nombre d'étudiant\")"
      ]
     },
     "execution_count": 18,
     "metadata": {},
     "output_type": "execute_result"
    },
    {
     "data": {
      "image/png": "[encoded data removed]",
      "text/plain": [
       "<Figure size 432x288 with 1 Axes>"
      ]
     },
     "metadata": {
      "needs_background": "light"
     },
     "output_type": "display_data"
    }
   ],
   "source": [
    "n_cluster = 4\n",
    "\n",
    "model = KMeans(n_clusters= n_cluster)\n",
    "model.fit(data)\n",
    "\n",
    "y_pred = model.predict(data)\n",
    "x_etudiant=range(0,nlin)\n",
    "\n",
    "plt.scatter(x_etudiant,y_pred)\n",
    "plt.ylabel(\" nombre de cluster\")\n",
    "plt.xlabel(\" nombre d'étudiant\")"
   ]
  },
  {
   "cell_type": "code",
   "execution_count": 19,
   "metadata": {},
   "outputs": [
    {
     "name": "stdout",
     "output_type": "stream",
     "text": [
      "Confort            9.869337\n",
      "Securite           4.934278\n",
      "Qualite           14.082122\n",
      "Force             12.164871\n",
      "Maintien          11.459589\n",
      "                    ...    \n",
      "Role                0.71396\n",
      "Performance       72.704679\n",
      "Meilleur          35.487471\n",
      "Individualiste    26.075965\n",
      "detente           30.233541\n",
      "Length: 71, dtype: object\n"
     ]
    }
   ],
   "source": [
    "#cluster 0\n",
    "indices_cluster_0 = np.where(data[y_pred == 0])\n",
    "cluster_0 = data[y_pred == 0]\n",
    "\n",
    "# retour du df\n",
    "df_0 = pd.DataFrame(cluster_0)\n",
    "df_0.columns = column_name[39:]\n",
    "#print(df_0)\n",
    "\n",
    "# trier par somme de toutes les colonnes\n",
    "sum_colonne_0 = df_0.sum()\n",
    "print(sum_colonne_0)"
   ]
  },
  {
   "cell_type": "code",
   "execution_count": 20,
   "metadata": {},
   "outputs": [
    {
     "name": "stdout",
     "output_type": "stream",
     "text": [
      "Confort           80.844109\n",
      "Securite          80.443325\n",
      "Qualite           67.625472\n",
      "Force             60.333416\n",
      "Maintien          71.705501\n",
      "                    ...    \n",
      "Role              58.858482\n",
      "Performance       52.679568\n",
      "Meilleur          49.508842\n",
      "Individualiste    64.587758\n",
      "detente           69.038406\n",
      "Length: 71, dtype: object\n"
     ]
    }
   ],
   "source": [
    "#cluster 1\n",
    "indices_cluster_1 = np.where(data[y_pred == 1])\n",
    "cluster_1 = data[y_pred == 1]\n",
    "\n",
    "# retour du df\n",
    "df_1 = pd.DataFrame(cluster_1)\n",
    "df_1.columns = column_name[39:]\n",
    "#print(df_1)\n",
    "\n",
    "# trier par somme de toutes les colonnes\n",
    "sum_colonne_1 = df_1.sum()\n",
    "print(sum_colonne_1)"
   ]
  },
  {
   "cell_type": "code",
   "execution_count": 21,
   "metadata": {},
   "outputs": [
    {
     "name": "stdout",
     "output_type": "stream",
     "text": [
      "Confort           85.463125\n",
      "Securite          79.805145\n",
      "Qualite           61.818352\n",
      "Force              67.66106\n",
      "Maintien          72.705889\n",
      "                    ...    \n",
      "Role              55.307393\n",
      "Performance       42.850163\n",
      "Meilleur          44.070459\n",
      "Individualiste    64.189784\n",
      "detente           62.208717\n",
      "Length: 71, dtype: object\n"
     ]
    }
   ],
   "source": [
    "#cluster 2\n",
    "indices_cluster_2 = np.where(data[y_pred == 2])\n",
    "cluster_2 = data[y_pred == 2]\n",
    "\n",
    "# retour du df\n",
    "df_2 = pd.DataFrame(cluster_2)\n",
    "df_2.columns = column_name[39:]\n",
    "#print(df_2)\n",
    "\n",
    "# trier par somme de toutes les colonnes\n",
    "sum_colonne_2 = df_2.sum()\n",
    "print(sum_colonne_2)"
   ]
  },
  {
   "cell_type": "code",
   "execution_count": 22,
   "metadata": {},
   "outputs": [
    {
     "name": "stdout",
     "output_type": "stream",
     "text": [
      "Confort             3.779253\n",
      "Securite            2.645647\n",
      "Qualite             8.822367\n",
      "Force               8.761379\n",
      "Maintien           10.421686\n",
      "                     ...    \n",
      "Role               77.653981\n",
      "Performance       127.712743\n",
      "Meilleur          118.242917\n",
      "Individualiste     65.381878\n",
      "detente           106.902577\n",
      "Length: 71, dtype: object\n"
     ]
    }
   ],
   "source": [
    "#cluster 3\n",
    "indices_cluster_3 = np.where(data[y_pred == 3])\n",
    "cluster_3 = data[y_pred == 3]\n",
    "\n",
    "# retour du df\n",
    "df_3 = pd.DataFrame(cluster_3)\n",
    "df_3.columns = column_name[39:]\n",
    "#print(df_3)\n",
    "\n",
    "# trier par somme de toutes les colonnes\n",
    "sum_colonne_3 = df_3.sum()\n",
    "print(sum_colonne_3)"
   ]
  },
  {
   "cell_type": "code",
   "execution_count": 23,
   "metadata": {},
   "outputs": [
    {
     "name": "stdout",
     "output_type": "stream",
     "text": [
      "Confort           0.0\n",
      "Securite          0.0\n",
      "Qualite           0.0\n",
      "Force             0.0\n",
      "Maintien          0.0\n",
      "                 ... \n",
      "Role              0.0\n",
      "Performance       0.0\n",
      "Meilleur          0.0\n",
      "Individualiste    0.0\n",
      "detente           0.0\n",
      "Length: 71, dtype: float64\n"
     ]
    }
   ],
   "source": [
    "#cluster 4\n",
    "indices_cluster_4 = np.where(data[y_pred == 4])\n",
    "cluster_4 = data[y_pred == 4]\n",
    "\n",
    "# retour du df\n",
    "df_4 = pd.DataFrame(cluster_4)\n",
    "df_4.columns = column_name[39:]\n",
    "#print(df_4)\n",
    "\n",
    "# trier par somme de toutes les colonnes\n",
    "sum_colonne_4 = df_4.sum()\n",
    "print(sum_colonne_4)"
   ]
  },
  {
   "cell_type": "code",
   "execution_count": 24,
   "metadata": {},
   "outputs": [
    {
     "name": "stdout",
     "output_type": "stream",
     "text": [
      "Confort           0.0\n",
      "Securite          0.0\n",
      "Qualite           0.0\n",
      "Force             0.0\n",
      "Maintien          0.0\n",
      "                 ... \n",
      "Role              0.0\n",
      "Performance       0.0\n",
      "Meilleur          0.0\n",
      "Individualiste    0.0\n",
      "detente           0.0\n",
      "Length: 71, dtype: float64\n"
     ]
    }
   ],
   "source": [
    "#cluster 5\n",
    "indices_cluster_5 = np.where(data[y_pred == 5])\n",
    "cluster_5 = data[y_pred == 5]\n",
    "\n",
    "# retour du df\n",
    "df_5 = pd.DataFrame(cluster_5)\n",
    "df_5.columns = column_name[39:]\n",
    "#print(df_5)\n",
    "\n",
    "# trier par somme de toutes les colonnes\n",
    "sum_colonne_5 = df_5.sum()\n",
    "print(sum_colonne_5)"
   ]
  },
  {
   "cell_type": "markdown",
   "metadata": {},
   "source": [
    "fuzzy cluster"
   ]
  },
  {
   "cell_type": "code",
   "execution_count": 25,
   "metadata": {},
   "outputs": [],
   "source": [
    "from fcmeans import FCM\n"
   ]
  },
  {
   "cell_type": "code",
   "execution_count": 30,
   "metadata": {},
   "outputs": [
    {
     "name": "stdout",
     "output_type": "stream",
     "text": [
      "(1050, 71)\n"
     ]
    },
    {
     "ename": "TypeError",
     "evalue": "invalid data type for einsum",
     "output_type": "error",
     "traceback": [
      "\u001b[0;31m---------------------------------------------------------------------------\u001b[0m",
      "\u001b[0;31mTypeError\u001b[0m                                 Traceback (most recent call last)",
      "\u001b[0;32m<ipython-input-30-80ce34615b49>\u001b[0m in \u001b[0;36m<module>\u001b[0;34m\u001b[0m\n\u001b[1;32m      2\u001b[0m \u001b[0mfcm\u001b[0m \u001b[0;34m=\u001b[0m \u001b[0mFCM\u001b[0m\u001b[0;34m(\u001b[0m\u001b[0mn_clusters\u001b[0m\u001b[0;34m=\u001b[0m \u001b[0mn_cluster\u001b[0m\u001b[0;34m)\u001b[0m\u001b[0;34m\u001b[0m\u001b[0;34m\u001b[0m\u001b[0m\n\u001b[1;32m      3\u001b[0m \u001b[0mprint\u001b[0m\u001b[0;34m(\u001b[0m\u001b[0mdata\u001b[0m\u001b[0;34m.\u001b[0m\u001b[0mshape\u001b[0m\u001b[0;34m)\u001b[0m\u001b[0;34m\u001b[0m\u001b[0;34m\u001b[0m\u001b[0m\n\u001b[0;32m----> 4\u001b[0;31m \u001b[0mfcm\u001b[0m\u001b[0;34m.\u001b[0m\u001b[0mfit\u001b[0m\u001b[0;34m(\u001b[0m\u001b[0mdata\u001b[0m\u001b[0;34m)\u001b[0m\u001b[0;34m\u001b[0m\u001b[0;34m\u001b[0m\u001b[0m\n\u001b[0m",
      "\u001b[0;32m~/.local/lib/python3.8/site-packages/pydantic/decorator.cpython-38-x86_64-linux-gnu.so\u001b[0m in \u001b[0;36mpydantic.decorator.validate_arguments.validate.wrapper_function\u001b[0;34m()\u001b[0m\n",
      "\u001b[0;32m~/.local/lib/python3.8/site-packages/pydantic/decorator.cpython-38-x86_64-linux-gnu.so\u001b[0m in \u001b[0;36mpydantic.decorator.ValidatedFunction.call\u001b[0;34m()\u001b[0m\n",
      "\u001b[0;32m~/.local/lib/python3.8/site-packages/pydantic/decorator.cpython-38-x86_64-linux-gnu.so\u001b[0m in \u001b[0;36mpydantic.decorator.ValidatedFunction.execute\u001b[0;34m()\u001b[0m\n",
      "\u001b[0;32m~/.local/lib/python3.8/site-packages/fcmeans/main.py\u001b[0m in \u001b[0;36mfit\u001b[0;34m(self, X)\u001b[0m\n\u001b[1;32m     36\u001b[0m             \u001b[0mu_old\u001b[0m \u001b[0;34m=\u001b[0m \u001b[0mself\u001b[0m\u001b[0;34m.\u001b[0m\u001b[0mu\u001b[0m\u001b[0;34m.\u001b[0m\u001b[0mcopy\u001b[0m\u001b[0;34m(\u001b[0m\u001b[0;34m)\u001b[0m\u001b[0;34m\u001b[0m\u001b[0;34m\u001b[0m\u001b[0m\n\u001b[1;32m     37\u001b[0m             \u001b[0mself\u001b[0m\u001b[0;34m.\u001b[0m\u001b[0m_centers\u001b[0m \u001b[0;34m=\u001b[0m \u001b[0mFCM\u001b[0m\u001b[0;34m.\u001b[0m\u001b[0m_next_centers\u001b[0m\u001b[0;34m(\u001b[0m\u001b[0mX\u001b[0m\u001b[0;34m,\u001b[0m \u001b[0mself\u001b[0m\u001b[0;34m.\u001b[0m\u001b[0mu\u001b[0m\u001b[0;34m,\u001b[0m \u001b[0mself\u001b[0m\u001b[0;34m.\u001b[0m\u001b[0mm\u001b[0m\u001b[0;34m)\u001b[0m\u001b[0;34m\u001b[0m\u001b[0;34m\u001b[0m\u001b[0m\n\u001b[0;32m---> 38\u001b[0;31m             \u001b[0mself\u001b[0m\u001b[0;34m.\u001b[0m\u001b[0mu\u001b[0m \u001b[0;34m=\u001b[0m \u001b[0mself\u001b[0m\u001b[0;34m.\u001b[0m\u001b[0msoft_predict\u001b[0m\u001b[0;34m(\u001b[0m\u001b[0mX\u001b[0m\u001b[0;34m)\u001b[0m\u001b[0;34m\u001b[0m\u001b[0;34m\u001b[0m\u001b[0m\n\u001b[0m\u001b[1;32m     39\u001b[0m             \u001b[0;31m# Stopping rule\u001b[0m\u001b[0;34m\u001b[0m\u001b[0;34m\u001b[0m\u001b[0;34m\u001b[0m\u001b[0m\n\u001b[1;32m     40\u001b[0m             \u001b[0;32mif\u001b[0m \u001b[0mnp\u001b[0m\u001b[0;34m.\u001b[0m\u001b[0mlinalg\u001b[0m\u001b[0;34m.\u001b[0m\u001b[0mnorm\u001b[0m\u001b[0;34m(\u001b[0m\u001b[0mself\u001b[0m\u001b[0;34m.\u001b[0m\u001b[0mu\u001b[0m \u001b[0;34m-\u001b[0m \u001b[0mu_old\u001b[0m\u001b[0;34m)\u001b[0m \u001b[0;34m<\u001b[0m \u001b[0mself\u001b[0m\u001b[0;34m.\u001b[0m\u001b[0merror\u001b[0m\u001b[0;34m:\u001b[0m\u001b[0;34m\u001b[0m\u001b[0;34m\u001b[0m\u001b[0m\n",
      "\u001b[0;32m~/.local/lib/python3.8/site-packages/fcmeans/main.py\u001b[0m in \u001b[0;36msoft_predict\u001b[0;34m(self, X)\u001b[0m\n\u001b[1;32m     56\u001b[0m             \u001b[0;32mand\u001b[0m \u001b[0mn_clusters\u001b[0m \u001b[0mcolumns\u001b[0m\u001b[0;34m.\u001b[0m\u001b[0;34m\u001b[0m\u001b[0;34m\u001b[0m\u001b[0m\n\u001b[1;32m     57\u001b[0m         \"\"\"\n\u001b[0;32m---> 58\u001b[0;31m         \u001b[0mtemp\u001b[0m \u001b[0;34m=\u001b[0m \u001b[0mFCM\u001b[0m\u001b[0;34m.\u001b[0m\u001b[0m_dist\u001b[0m\u001b[0;34m(\u001b[0m\u001b[0mX\u001b[0m\u001b[0;34m,\u001b[0m \u001b[0mself\u001b[0m\u001b[0;34m.\u001b[0m\u001b[0m_centers\u001b[0m\u001b[0;34m)\u001b[0m \u001b[0;34m**\u001b[0m \u001b[0mfloat\u001b[0m\u001b[0;34m(\u001b[0m\u001b[0;36m2\u001b[0m \u001b[0;34m/\u001b[0m \u001b[0;34m(\u001b[0m\u001b[0mself\u001b[0m\u001b[0;34m.\u001b[0m\u001b[0mm\u001b[0m \u001b[0;34m-\u001b[0m \u001b[0;36m1\u001b[0m\u001b[0;34m)\u001b[0m\u001b[0;34m)\u001b[0m\u001b[0;34m\u001b[0m\u001b[0;34m\u001b[0m\u001b[0m\n\u001b[0m\u001b[1;32m     59\u001b[0m         denominator_ = temp.reshape(\n\u001b[1;32m     60\u001b[0m             (X.shape[0], 1, -1)).repeat(temp.shape[-1], axis=1)\n",
      "\u001b[0;32m~/.local/lib/python3.8/site-packages/fcmeans/main.py\u001b[0m in \u001b[0;36m_dist\u001b[0;34m(A, B)\u001b[0m\n\u001b[1;32m     90\u001b[0m     \u001b[0;32mdef\u001b[0m \u001b[0m_dist\u001b[0m\u001b[0;34m(\u001b[0m\u001b[0mA\u001b[0m\u001b[0;34m,\u001b[0m \u001b[0mB\u001b[0m\u001b[0;34m)\u001b[0m\u001b[0;34m:\u001b[0m\u001b[0;34m\u001b[0m\u001b[0;34m\u001b[0m\u001b[0m\n\u001b[1;32m     91\u001b[0m         \u001b[0;34m\"\"\"Compute the euclidean distance two matrices\"\"\"\u001b[0m\u001b[0;34m\u001b[0m\u001b[0;34m\u001b[0m\u001b[0m\n\u001b[0;32m---> 92\u001b[0;31m         \u001b[0;32mreturn\u001b[0m \u001b[0mnp\u001b[0m\u001b[0;34m.\u001b[0m\u001b[0msqrt\u001b[0m\u001b[0;34m(\u001b[0m\u001b[0mnp\u001b[0m\u001b[0;34m.\u001b[0m\u001b[0meinsum\u001b[0m\u001b[0;34m(\u001b[0m\u001b[0;34m\"ijk->ij\"\u001b[0m\u001b[0;34m,\u001b[0m \u001b[0;34m(\u001b[0m\u001b[0mA\u001b[0m\u001b[0;34m[\u001b[0m\u001b[0;34m:\u001b[0m\u001b[0;34m,\u001b[0m \u001b[0;32mNone\u001b[0m\u001b[0;34m,\u001b[0m \u001b[0;34m:\u001b[0m\u001b[0;34m]\u001b[0m \u001b[0;34m-\u001b[0m \u001b[0mB\u001b[0m\u001b[0;34m)\u001b[0m \u001b[0;34m**\u001b[0m \u001b[0;36m2\u001b[0m\u001b[0;34m)\u001b[0m\u001b[0;34m)\u001b[0m\u001b[0;34m\u001b[0m\u001b[0;34m\u001b[0m\u001b[0m\n\u001b[0m\u001b[1;32m     93\u001b[0m \u001b[0;34m\u001b[0m\u001b[0m\n\u001b[1;32m     94\u001b[0m     \u001b[0;34m@\u001b[0m\u001b[0mstaticmethod\u001b[0m\u001b[0;34m\u001b[0m\u001b[0;34m\u001b[0m\u001b[0m\n",
      "\u001b[0;32m~/.local/lib/python3.8/site-packages/numpy/core/overrides.py\u001b[0m in \u001b[0;36meinsum\u001b[0;34m(*args, **kwargs)\u001b[0m\n",
      "\u001b[0;32m~/.local/lib/python3.8/site-packages/numpy/core/einsumfunc.py\u001b[0m in \u001b[0;36meinsum\u001b[0;34m(out, optimize, *operands, **kwargs)\u001b[0m\n\u001b[1;32m   1357\u001b[0m         \u001b[0;32mif\u001b[0m \u001b[0mspecified_out\u001b[0m\u001b[0;34m:\u001b[0m\u001b[0;34m\u001b[0m\u001b[0;34m\u001b[0m\u001b[0m\n\u001b[1;32m   1358\u001b[0m             \u001b[0mkwargs\u001b[0m\u001b[0;34m[\u001b[0m\u001b[0;34m'out'\u001b[0m\u001b[0;34m]\u001b[0m \u001b[0;34m=\u001b[0m \u001b[0mout\u001b[0m\u001b[0;34m\u001b[0m\u001b[0;34m\u001b[0m\u001b[0m\n\u001b[0;32m-> 1359\u001b[0;31m         \u001b[0;32mreturn\u001b[0m \u001b[0mc_einsum\u001b[0m\u001b[0;34m(\u001b[0m\u001b[0;34m*\u001b[0m\u001b[0moperands\u001b[0m\u001b[0;34m,\u001b[0m \u001b[0;34m**\u001b[0m\u001b[0mkwargs\u001b[0m\u001b[0;34m)\u001b[0m\u001b[0;34m\u001b[0m\u001b[0;34m\u001b[0m\u001b[0m\n\u001b[0m\u001b[1;32m   1360\u001b[0m \u001b[0;34m\u001b[0m\u001b[0m\n\u001b[1;32m   1361\u001b[0m     \u001b[0;31m# Check the kwargs to avoid a more cryptic error later, without having to\u001b[0m\u001b[0;34m\u001b[0m\u001b[0;34m\u001b[0m\u001b[0;34m\u001b[0m\u001b[0m\n",
      "\u001b[0;31mTypeError\u001b[0m: invalid data type for einsum"
     ]
    }
   ],
   "source": [
    "n_cluster = 2\n",
    "fcm = FCM(n_clusters= n_cluster)\n",
    "print(data.shape)\n",
    "fcm.fit(data)"
   ]
  },
  {
   "cell_type": "code",
   "execution_count": null,
   "metadata": {},
   "outputs": [],
   "source": [
    "# outputs \n",
    "fcm_centers = fcm.centers\n",
    "fcm_labels = fcm.predit(data)"
   ]
  },
  {
   "cell_type": "markdown",
   "metadata": {},
   "source": [
    "data_train,data_test,data_validation"
   ]
  },
  {
   "cell_type": "code",
   "execution_count": null,
   "metadata": {},
   "outputs": [],
   "source": [
    "data_train = data[:int(nlin*0.70),:int(ncol*0.70)]\n",
    "data_test = data[int(nlin*0.70):,int(ncol*0.70):]"
   ]
  },
  {
   "cell_type": "code",
   "execution_count": null,
   "metadata": {},
   "outputs": [],
   "source": [
    "\n",
    "#pour construire un pre-processsing\n",
    "\n",
    "class MyStandardScaler:\n",
    "       \n",
    "    def fit(self,X_train):\n",
    "        self.mean_=np.mean(X_train,axis=0)\n",
    "        self.std_=np.std(X_train,axis=0)\n",
    "                \n",
    "    def transform(self,X):\n",
    "        \"\"\"\n",
    "        Cette méthode peut notamment s'appliquer aux données test. \n",
    "        Mais dans ce cas là, c'est le la moyenne et l'écart type des données train qui doit être utiliser. \n",
    "        \"\"\"\n",
    "        assert len(X.shape)==2, \"X must be a matrix\"\n",
    "        \n",
    "        \"res[i,j]=(X[i,j] - mean[j])/std[j]\"\n",
    "        res=(X-self.mean_[np.newaxis,:])/self.std_[np.newaxis,:]\n",
    "        return res\n",
    "\n",
    "    \n",
    "    def fit_transform(self,X_train):\n",
    "        self.fit(X_train)\n",
    "        return self.transform(X_train)"
   ]
  }
 ],
 "metadata": {
  "kernelspec": {
   "display_name": "Python 3",
   "language": "python",
   "name": "python3"
  },
  "language_info": {
   "codemirror_mode": {
    "name": "ipython",
    "version": 3
   },
   "file_extension": ".py",
   "mimetype": "text/x-python",
   "name": "python",
   "nbconvert_exporter": "python",
   "pygments_lexer": "ipython3",
   "version": "3.8.10"
  }
 },
 "nbformat": 4,
 "nbformat_minor": 4
}
